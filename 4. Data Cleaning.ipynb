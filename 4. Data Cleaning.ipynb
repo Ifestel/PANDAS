{
 "cells": [
  {
   "cell_type": "markdown",
   "id": "d1e81653-291f-483c-bac7-71754148e42d",
   "metadata": {},
   "source": [
    "### Pandas Utility Functions"
   ]
  },
  {
   "cell_type": "markdown",
   "id": "1ed32f5b-11ea-4bcc-a8eb-4e9fe5102d62",
   "metadata": {},
   "source": [
    "##### Similar to numpy, pandas also has a few utility function to identify and detect null values"
   ]
  },
  {
   "cell_type": "code",
   "execution_count": 1,
   "id": "db52de19-b2f2-43f9-ae4c-bf12d647da9e",
   "metadata": {},
   "outputs": [],
   "source": [
    "import numpy as np\n",
    "import pandas as pd"
   ]
  },
  {
   "cell_type": "code",
   "execution_count": 2,
   "id": "bdd03d94-6bb0-4a39-b269-b022bf5717aa",
   "metadata": {},
   "outputs": [
    {
     "data": {
      "text/plain": [
       "True"
      ]
     },
     "execution_count": 2,
     "metadata": {},
     "output_type": "execute_result"
    }
   ],
   "source": [
    "pd.isnull(np.nan)"
   ]
  },
  {
   "cell_type": "code",
   "execution_count": 3,
   "id": "1bd7022b-c1b8-4a3f-8a7e-575be9187eda",
   "metadata": {},
   "outputs": [
    {
     "data": {
      "text/plain": [
       "True"
      ]
     },
     "execution_count": 3,
     "metadata": {},
     "output_type": "execute_result"
    }
   ],
   "source": [
    "pd.isnull(None)"
   ]
  },
  {
   "cell_type": "code",
   "execution_count": 4,
   "id": "f703de58-485a-4107-ab66-1555f72c7741",
   "metadata": {},
   "outputs": [
    {
     "data": {
      "text/plain": [
       "True"
      ]
     },
     "execution_count": 4,
     "metadata": {},
     "output_type": "execute_result"
    }
   ],
   "source": [
    "pd.isna(np.nan)"
   ]
  },
  {
   "cell_type": "code",
   "execution_count": 5,
   "id": "7f277e77-b3d9-4734-9d70-569d4ae0aed1",
   "metadata": {},
   "outputs": [
    {
     "data": {
      "text/plain": [
       "True"
      ]
     },
     "execution_count": 5,
     "metadata": {},
     "output_type": "execute_result"
    }
   ],
   "source": [
    "pd.isna(None)"
   ]
  },
  {
   "cell_type": "markdown",
   "id": "9bb0696d-ea8a-48cc-a611-6e377a39e3c0",
   "metadata": {},
   "source": [
    "##### The opposite ones also exist"
   ]
  },
  {
   "cell_type": "code",
   "execution_count": 6,
   "id": "03d903bd-b9cb-4fc7-aed0-98e8caf538c5",
   "metadata": {},
   "outputs": [
    {
     "data": {
      "text/plain": [
       "False"
      ]
     },
     "execution_count": 6,
     "metadata": {},
     "output_type": "execute_result"
    }
   ],
   "source": [
    "pd.notnull(None)"
   ]
  },
  {
   "cell_type": "code",
   "execution_count": 7,
   "id": "7d710713-bbd8-4cb4-89b4-f683e7c7133a",
   "metadata": {},
   "outputs": [
    {
     "data": {
      "text/plain": [
       "False"
      ]
     },
     "execution_count": 7,
     "metadata": {},
     "output_type": "execute_result"
    }
   ],
   "source": [
    "pd.notnull(np.nan)"
   ]
  },
  {
   "cell_type": "code",
   "execution_count": 8,
   "id": "891bc3bc-bfb0-4415-8234-c896ca6a660e",
   "metadata": {},
   "outputs": [
    {
     "data": {
      "text/plain": [
       "True"
      ]
     },
     "execution_count": 8,
     "metadata": {},
     "output_type": "execute_result"
    }
   ],
   "source": [
    "pd.notnull(3)"
   ]
  },
  {
   "cell_type": "markdown",
   "id": "6bc04cc0-a53f-4c4f-9373-ebd4803d3f1f",
   "metadata": {},
   "source": [
    "##### These functions also work with Series and DataFrame"
   ]
  },
  {
   "cell_type": "code",
   "execution_count": 9,
   "id": "87ccc752-f99c-4457-a67b-af8b65ab14c4",
   "metadata": {},
   "outputs": [
    {
     "data": {
      "text/plain": [
       "0    False\n",
       "1     True\n",
       "2    False\n",
       "dtype: bool"
      ]
     },
     "execution_count": 9,
     "metadata": {},
     "output_type": "execute_result"
    }
   ],
   "source": [
    "pd.isnull(pd.Series([1, np.nan,7]))"
   ]
  },
  {
   "cell_type": "code",
   "execution_count": 10,
   "id": "db69b358-3bdd-4326-bca2-9f65d5ff2f4a",
   "metadata": {},
   "outputs": [
    {
     "data": {
      "text/plain": [
       "0     True\n",
       "1    False\n",
       "2     True\n",
       "dtype: bool"
      ]
     },
     "execution_count": 10,
     "metadata": {},
     "output_type": "execute_result"
    }
   ],
   "source": [
    "pd.notnull(pd.Series([1, np.nan, 7]))"
   ]
  },
  {
   "cell_type": "code",
   "execution_count": 11,
   "id": "50b68890-5517-4f7e-ae85-ed7350853715",
   "metadata": {},
   "outputs": [
    {
     "data": {
      "text/html": [
       "<div>\n",
       "<style scoped>\n",
       "    .dataframe tbody tr th:only-of-type {\n",
       "        vertical-align: middle;\n",
       "    }\n",
       "\n",
       "    .dataframe tbody tr th {\n",
       "        vertical-align: top;\n",
       "    }\n",
       "\n",
       "    .dataframe thead th {\n",
       "        text-align: right;\n",
       "    }\n",
       "</style>\n",
       "<table border=\"1\" class=\"dataframe\">\n",
       "  <thead>\n",
       "    <tr style=\"text-align: right;\">\n",
       "      <th></th>\n",
       "      <th>column A</th>\n",
       "      <th>column B</th>\n",
       "      <th>column C</th>\n",
       "    </tr>\n",
       "  </thead>\n",
       "  <tbody>\n",
       "    <tr>\n",
       "      <th>0</th>\n",
       "      <td>False</td>\n",
       "      <td>True</td>\n",
       "      <td>True</td>\n",
       "    </tr>\n",
       "    <tr>\n",
       "      <th>1</th>\n",
       "      <td>True</td>\n",
       "      <td>False</td>\n",
       "      <td>False</td>\n",
       "    </tr>\n",
       "    <tr>\n",
       "      <th>2</th>\n",
       "      <td>False</td>\n",
       "      <td>False</td>\n",
       "      <td>True</td>\n",
       "    </tr>\n",
       "  </tbody>\n",
       "</table>\n",
       "</div>"
      ],
      "text/plain": [
       "   column A  column B  column C\n",
       "0     False      True      True\n",
       "1      True     False     False\n",
       "2     False     False      True"
      ]
     },
     "execution_count": 11,
     "metadata": {},
     "output_type": "execute_result"
    }
   ],
   "source": [
    "pd.isnull(pd.DataFrame({\n",
    "    'column A': [1, np.nan, 7],\n",
    "    'column B': [np.nan, 2, 3],\n",
    "    'column C': [np.nan, 2, np.nan]}))"
   ]
  },
  {
   "cell_type": "markdown",
   "id": "6de8d66b-8ea3-48a4-9ab7-f857ec6b3bcc",
   "metadata": {},
   "source": [
    "## Pandas Operations with Missing Values"
   ]
  },
  {
   "cell_type": "markdown",
   "id": "4b34f300-c808-4413-80cc-ee0e89adf7f6",
   "metadata": {},
   "source": [
    "##### Pandas manages missing values more gracefully than numpy . 'NaN' will no longer behave as 'viruses' and operations\n",
    "##### will hust ignore them completely"
   ]
  },
  {
   "cell_type": "code",
   "execution_count": 12,
   "id": "c8aafb1d-fa7a-4e19-af2f-798232e1f775",
   "metadata": {},
   "outputs": [
    {
     "data": {
      "text/plain": [
       "2"
      ]
     },
     "execution_count": 12,
     "metadata": {},
     "output_type": "execute_result"
    }
   ],
   "source": [
    "pd.Series([1,2,np.nan]).count()"
   ]
  },
  {
   "cell_type": "code",
   "execution_count": 13,
   "id": "031e1a0a-9f79-4b2a-a959-71b31b3f1fb8",
   "metadata": {},
   "outputs": [
    {
     "data": {
      "text/plain": [
       "3.0"
      ]
     },
     "execution_count": 13,
     "metadata": {},
     "output_type": "execute_result"
    }
   ],
   "source": [
    "pd.Series([1,2,np.nan]).sum()"
   ]
  },
  {
   "cell_type": "code",
   "execution_count": 14,
   "id": "3c74e9c9-d6f4-4844-9e6a-9e107b12c33f",
   "metadata": {},
   "outputs": [
    {
     "data": {
      "text/plain": [
       "2.0"
      ]
     },
     "execution_count": 14,
     "metadata": {},
     "output_type": "execute_result"
    }
   ],
   "source": [
    "pd.Series ([2, 2, np.nan]).mean()"
   ]
  },
  {
   "cell_type": "markdown",
   "id": "88da772f-ff7e-474a-be42-c738dbbca6f7",
   "metadata": {},
   "source": [
    "## Filtering missing Data"
   ]
  },
  {
   "cell_type": "markdown",
   "id": "d72a8762-3226-4b97-a640-6f68781daf8a",
   "metadata": {},
   "source": [
    "##### As we saw with numpy, we could combine boolean selection + 'pd.isnull' to filter out those 'nan' s and null values"
   ]
  },
  {
   "cell_type": "code",
   "execution_count": 15,
   "id": "2b63c50f-c08f-41d1-9c5e-90a86fc5f180",
   "metadata": {},
   "outputs": [],
   "source": [
    "s=pd.Series([1, 2, 3, np.nan, np.nan, 4])"
   ]
  },
  {
   "cell_type": "code",
   "execution_count": 16,
   "id": "fb6e21c4-c5c3-485d-98b4-9bba9c899ebb",
   "metadata": {},
   "outputs": [
    {
     "data": {
      "text/plain": [
       "0     True\n",
       "1     True\n",
       "2     True\n",
       "3    False\n",
       "4    False\n",
       "5     True\n",
       "dtype: bool"
      ]
     },
     "execution_count": 16,
     "metadata": {},
     "output_type": "execute_result"
    }
   ],
   "source": [
    "pd.notnull(s)"
   ]
  },
  {
   "cell_type": "code",
   "execution_count": 17,
   "id": "315ce138-f812-4673-8a87-87b312a6c088",
   "metadata": {},
   "outputs": [
    {
     "data": {
      "text/plain": [
       "4"
      ]
     },
     "execution_count": 17,
     "metadata": {},
     "output_type": "execute_result"
    }
   ],
   "source": [
    "pd.notnull(s).sum()"
   ]
  },
  {
   "cell_type": "code",
   "execution_count": 18,
   "id": "ce431966-4b3b-493b-b11f-1c2cbf4658ce",
   "metadata": {},
   "outputs": [
    {
     "data": {
      "text/plain": [
       "2"
      ]
     },
     "execution_count": 18,
     "metadata": {},
     "output_type": "execute_result"
    }
   ],
   "source": [
    "pd.isnull(s).sum()"
   ]
  },
  {
   "cell_type": "code",
   "execution_count": 19,
   "id": "4755bcea-d1b5-4014-9f5c-9fa26ede7cef",
   "metadata": {},
   "outputs": [
    {
     "data": {
      "text/plain": [
       "6"
      ]
     },
     "execution_count": 19,
     "metadata": {},
     "output_type": "execute_result"
    }
   ],
   "source": [
    "pd.notnull(s).count()"
   ]
  },
  {
   "cell_type": "code",
   "execution_count": 20,
   "id": "60957a3f-d8be-47f2-af74-9d9ea8d8b0ec",
   "metadata": {},
   "outputs": [
    {
     "data": {
      "text/plain": [
       "0    1.0\n",
       "1    2.0\n",
       "2    3.0\n",
       "5    4.0\n",
       "dtype: float64"
      ]
     },
     "execution_count": 20,
     "metadata": {},
     "output_type": "execute_result"
    }
   ],
   "source": [
    "s[pd.notnull(s)]"
   ]
  },
  {
   "cell_type": "markdown",
   "id": "51f08be4-8015-4871-863a-30a19d35cafc",
   "metadata": {},
   "source": [
    "##### But both 'notnull' and 'isnull' are also methods of 'Series' and 'DataFrame' s, so we could use it that way:"
   ]
  },
  {
   "cell_type": "code",
   "execution_count": 21,
   "id": "d08879eb-3535-4662-b36b-1e3462363bfb",
   "metadata": {},
   "outputs": [
    {
     "data": {
      "text/plain": [
       "0    False\n",
       "1    False\n",
       "2    False\n",
       "3     True\n",
       "4     True\n",
       "5    False\n",
       "dtype: bool"
      ]
     },
     "execution_count": 21,
     "metadata": {},
     "output_type": "execute_result"
    }
   ],
   "source": [
    "s.isnull()"
   ]
  },
  {
   "cell_type": "code",
   "execution_count": 22,
   "id": "680ad10a-5d15-4df7-91c0-134b2fb58721",
   "metadata": {},
   "outputs": [
    {
     "data": {
      "text/plain": [
       "0     True\n",
       "1     True\n",
       "2     True\n",
       "3    False\n",
       "4    False\n",
       "5     True\n",
       "dtype: bool"
      ]
     },
     "execution_count": 22,
     "metadata": {},
     "output_type": "execute_result"
    }
   ],
   "source": [
    "s.notnull()"
   ]
  },
  {
   "cell_type": "code",
   "execution_count": 23,
   "id": "22bf6945-b5ea-4b76-b2d7-c5b087666751",
   "metadata": {},
   "outputs": [
    {
     "data": {
      "text/plain": [
       "0    1.0\n",
       "1    2.0\n",
       "2    3.0\n",
       "5    4.0\n",
       "dtype: float64"
      ]
     },
     "execution_count": 23,
     "metadata": {},
     "output_type": "execute_result"
    }
   ],
   "source": [
    "s[s.notnull()]"
   ]
  },
  {
   "cell_type": "markdown",
   "id": "9065f5cf-8828-4e26-aa44-db3d18cf3c48",
   "metadata": {},
   "source": [
    "## Dropping null values"
   ]
  },
  {
   "cell_type": "markdown",
   "id": "16b6128f-4180-4ff3-ab37-6bf5c49f773a",
   "metadata": {},
   "source": [
    "##### Boolean selection + 'notnull()' seeems a little bit verbose and repetitive. And as we said before, any repetitive task will probably have a better more DRY way, In this case, we can use the 'droona' method."
   ]
  },
  {
   "cell_type": "code",
   "execution_count": 24,
   "id": "9616ecec-7e76-4289-8561-49f9a30c6ca7",
   "metadata": {},
   "outputs": [
    {
     "data": {
      "text/plain": [
       "0    1.0\n",
       "1    2.0\n",
       "2    3.0\n",
       "3    NaN\n",
       "4    NaN\n",
       "5    4.0\n",
       "dtype: float64"
      ]
     },
     "execution_count": 24,
     "metadata": {},
     "output_type": "execute_result"
    }
   ],
   "source": [
    "s"
   ]
  },
  {
   "cell_type": "code",
   "execution_count": 25,
   "id": "423a5e05-08ed-4b9a-8f0b-f005443f7303",
   "metadata": {},
   "outputs": [
    {
     "data": {
      "text/plain": [
       "0    1.0\n",
       "1    2.0\n",
       "2    3.0\n",
       "5    4.0\n",
       "dtype: float64"
      ]
     },
     "execution_count": 25,
     "metadata": {},
     "output_type": "execute_result"
    }
   ],
   "source": [
    "s.dropna()"
   ]
  },
  {
   "cell_type": "markdown",
   "id": "6d52eff9-da78-4ff0-95e8-646ae04f07f6",
   "metadata": {},
   "source": [
    "## Dropping null values on DataFrames"
   ]
  },
  {
   "cell_type": "markdown",
   "id": "59d8891e-a46d-4572-b6dd-cc774f863403",
   "metadata": {},
   "source": [
    "##### You saw how easy it is to drop 'na' s with a Series. But with DataFrames, there will be a few more things to consider because you can't drop single values. You can only drop entire colums or rows. Let's start with a simple DataFrame:"
   ]
  },
  {
   "cell_type": "code",
   "execution_count": 26,
   "id": "380ac33b-e4fc-45a3-8117-393339279659",
   "metadata": {},
   "outputs": [],
   "source": [
    "df = pd.DataFrame({\n",
    "    'Column A':[1, np.nan, 30, np.nan],\n",
    "    'Column B':[2, 8, 31, np.nan],\n",
    "    'Column C':[np.nan, 9, 32, 100],\n",
    "    'Column D':[5, 8, 34, 110],})"
   ]
  },
  {
   "cell_type": "code",
   "execution_count": 27,
   "id": "bd88b868-cf40-4f98-9e66-0d5d946aa583",
   "metadata": {},
   "outputs": [
    {
     "data": {
      "text/html": [
       "<div>\n",
       "<style scoped>\n",
       "    .dataframe tbody tr th:only-of-type {\n",
       "        vertical-align: middle;\n",
       "    }\n",
       "\n",
       "    .dataframe tbody tr th {\n",
       "        vertical-align: top;\n",
       "    }\n",
       "\n",
       "    .dataframe thead th {\n",
       "        text-align: right;\n",
       "    }\n",
       "</style>\n",
       "<table border=\"1\" class=\"dataframe\">\n",
       "  <thead>\n",
       "    <tr style=\"text-align: right;\">\n",
       "      <th></th>\n",
       "      <th>Column A</th>\n",
       "      <th>Column B</th>\n",
       "      <th>Column C</th>\n",
       "      <th>Column D</th>\n",
       "    </tr>\n",
       "  </thead>\n",
       "  <tbody>\n",
       "    <tr>\n",
       "      <th>0</th>\n",
       "      <td>1.0</td>\n",
       "      <td>2.0</td>\n",
       "      <td>NaN</td>\n",
       "      <td>5</td>\n",
       "    </tr>\n",
       "    <tr>\n",
       "      <th>1</th>\n",
       "      <td>NaN</td>\n",
       "      <td>8.0</td>\n",
       "      <td>9.0</td>\n",
       "      <td>8</td>\n",
       "    </tr>\n",
       "    <tr>\n",
       "      <th>2</th>\n",
       "      <td>30.0</td>\n",
       "      <td>31.0</td>\n",
       "      <td>32.0</td>\n",
       "      <td>34</td>\n",
       "    </tr>\n",
       "    <tr>\n",
       "      <th>3</th>\n",
       "      <td>NaN</td>\n",
       "      <td>NaN</td>\n",
       "      <td>100.0</td>\n",
       "      <td>110</td>\n",
       "    </tr>\n",
       "  </tbody>\n",
       "</table>\n",
       "</div>"
      ],
      "text/plain": [
       "   Column A  Column B  Column C  Column D\n",
       "0       1.0       2.0       NaN         5\n",
       "1       NaN       8.0       9.0         8\n",
       "2      30.0      31.0      32.0        34\n",
       "3       NaN       NaN     100.0       110"
      ]
     },
     "execution_count": 27,
     "metadata": {},
     "output_type": "execute_result"
    }
   ],
   "source": [
    "df"
   ]
  },
  {
   "cell_type": "code",
   "execution_count": 28,
   "id": "8928438c-90da-41c0-b417-05dbb9413e49",
   "metadata": {},
   "outputs": [
    {
     "name": "stdout",
     "output_type": "stream",
     "text": [
      "<class 'pandas.core.frame.DataFrame'>\n",
      "RangeIndex: 4 entries, 0 to 3\n",
      "Data columns (total 4 columns):\n",
      " #   Column    Non-Null Count  Dtype  \n",
      "---  ------    --------------  -----  \n",
      " 0   Column A  2 non-null      float64\n",
      " 1   Column B  3 non-null      float64\n",
      " 2   Column C  3 non-null      float64\n",
      " 3   Column D  4 non-null      int64  \n",
      "dtypes: float64(3), int64(1)\n",
      "memory usage: 256.0 bytes\n"
     ]
    }
   ],
   "source": [
    "df.info()"
   ]
  },
  {
   "cell_type": "code",
   "execution_count": 29,
   "id": "477de35e-7b8c-412b-a1ee-45f2182c340a",
   "metadata": {},
   "outputs": [
    {
     "data": {
      "text/html": [
       "<div>\n",
       "<style scoped>\n",
       "    .dataframe tbody tr th:only-of-type {\n",
       "        vertical-align: middle;\n",
       "    }\n",
       "\n",
       "    .dataframe tbody tr th {\n",
       "        vertical-align: top;\n",
       "    }\n",
       "\n",
       "    .dataframe thead th {\n",
       "        text-align: right;\n",
       "    }\n",
       "</style>\n",
       "<table border=\"1\" class=\"dataframe\">\n",
       "  <thead>\n",
       "    <tr style=\"text-align: right;\">\n",
       "      <th></th>\n",
       "      <th>Column A</th>\n",
       "      <th>Column B</th>\n",
       "      <th>Column C</th>\n",
       "      <th>Column D</th>\n",
       "    </tr>\n",
       "  </thead>\n",
       "  <tbody>\n",
       "    <tr>\n",
       "      <th>0</th>\n",
       "      <td>False</td>\n",
       "      <td>False</td>\n",
       "      <td>True</td>\n",
       "      <td>False</td>\n",
       "    </tr>\n",
       "    <tr>\n",
       "      <th>1</th>\n",
       "      <td>True</td>\n",
       "      <td>False</td>\n",
       "      <td>False</td>\n",
       "      <td>False</td>\n",
       "    </tr>\n",
       "    <tr>\n",
       "      <th>2</th>\n",
       "      <td>False</td>\n",
       "      <td>False</td>\n",
       "      <td>False</td>\n",
       "      <td>False</td>\n",
       "    </tr>\n",
       "    <tr>\n",
       "      <th>3</th>\n",
       "      <td>True</td>\n",
       "      <td>True</td>\n",
       "      <td>False</td>\n",
       "      <td>False</td>\n",
       "    </tr>\n",
       "  </tbody>\n",
       "</table>\n",
       "</div>"
      ],
      "text/plain": [
       "   Column A  Column B  Column C  Column D\n",
       "0     False     False      True     False\n",
       "1      True     False     False     False\n",
       "2     False     False     False     False\n",
       "3      True      True     False     False"
      ]
     },
     "execution_count": 29,
     "metadata": {},
     "output_type": "execute_result"
    }
   ],
   "source": [
    "df.isnull()"
   ]
  },
  {
   "cell_type": "code",
   "execution_count": 30,
   "id": "d769c81d-3255-499f-92d1-9933a9465b43",
   "metadata": {},
   "outputs": [
    {
     "data": {
      "text/plain": [
       "Column A    2\n",
       "Column B    1\n",
       "Column C    1\n",
       "Column D    0\n",
       "dtype: int64"
      ]
     },
     "execution_count": 30,
     "metadata": {},
     "output_type": "execute_result"
    }
   ],
   "source": [
    "df.isnull().sum()"
   ]
  },
  {
   "cell_type": "code",
   "execution_count": 31,
   "id": "b3560f7c-147e-4896-8f7f-ecd672eb2ba6",
   "metadata": {},
   "outputs": [
    {
     "data": {
      "text/plain": [
       "(4, 4)"
      ]
     },
     "execution_count": 31,
     "metadata": {},
     "output_type": "execute_result"
    }
   ],
   "source": [
    "df.shape"
   ]
  },
  {
   "cell_type": "markdown",
   "id": "18e7aa15-f542-421e-b5d4-50d75e8ba285",
   "metadata": {},
   "source": [
    "##### The default 'dropna' behaviour will drop all the rows in which any null value is present:"
   ]
  },
  {
   "cell_type": "code",
   "execution_count": 32,
   "id": "07d21b04-4362-4d2f-b06e-d64d2c35938a",
   "metadata": {},
   "outputs": [
    {
     "data": {
      "text/html": [
       "<div>\n",
       "<style scoped>\n",
       "    .dataframe tbody tr th:only-of-type {\n",
       "        vertical-align: middle;\n",
       "    }\n",
       "\n",
       "    .dataframe tbody tr th {\n",
       "        vertical-align: top;\n",
       "    }\n",
       "\n",
       "    .dataframe thead th {\n",
       "        text-align: right;\n",
       "    }\n",
       "</style>\n",
       "<table border=\"1\" class=\"dataframe\">\n",
       "  <thead>\n",
       "    <tr style=\"text-align: right;\">\n",
       "      <th></th>\n",
       "      <th>Column A</th>\n",
       "      <th>Column B</th>\n",
       "      <th>Column C</th>\n",
       "      <th>Column D</th>\n",
       "    </tr>\n",
       "  </thead>\n",
       "  <tbody>\n",
       "    <tr>\n",
       "      <th>2</th>\n",
       "      <td>30.0</td>\n",
       "      <td>31.0</td>\n",
       "      <td>32.0</td>\n",
       "      <td>34</td>\n",
       "    </tr>\n",
       "  </tbody>\n",
       "</table>\n",
       "</div>"
      ],
      "text/plain": [
       "   Column A  Column B  Column C  Column D\n",
       "2      30.0      31.0      32.0        34"
      ]
     },
     "execution_count": 32,
     "metadata": {},
     "output_type": "execute_result"
    }
   ],
   "source": [
    "df.dropna()"
   ]
  },
  {
   "cell_type": "markdown",
   "id": "590bdc3f-601c-4051-96fa-e55e43a9c1e0",
   "metadata": {},
   "source": [
    "##### In this case, we're dropping 'rows'. Rows containing null values are dropped from the DF. You can also use the 'axis' parameter to drop columns containing null values "
   ]
  },
  {
   "cell_type": "code",
   "execution_count": 33,
   "id": "f4c6776f-2135-499b-800e-d25e648b9717",
   "metadata": {},
   "outputs": [
    {
     "data": {
      "text/html": [
       "<div>\n",
       "<style scoped>\n",
       "    .dataframe tbody tr th:only-of-type {\n",
       "        vertical-align: middle;\n",
       "    }\n",
       "\n",
       "    .dataframe tbody tr th {\n",
       "        vertical-align: top;\n",
       "    }\n",
       "\n",
       "    .dataframe thead th {\n",
       "        text-align: right;\n",
       "    }\n",
       "</style>\n",
       "<table border=\"1\" class=\"dataframe\">\n",
       "  <thead>\n",
       "    <tr style=\"text-align: right;\">\n",
       "      <th></th>\n",
       "      <th>Column D</th>\n",
       "    </tr>\n",
       "  </thead>\n",
       "  <tbody>\n",
       "    <tr>\n",
       "      <th>0</th>\n",
       "      <td>5</td>\n",
       "    </tr>\n",
       "    <tr>\n",
       "      <th>1</th>\n",
       "      <td>8</td>\n",
       "    </tr>\n",
       "    <tr>\n",
       "      <th>2</th>\n",
       "      <td>34</td>\n",
       "    </tr>\n",
       "    <tr>\n",
       "      <th>3</th>\n",
       "      <td>110</td>\n",
       "    </tr>\n",
       "  </tbody>\n",
       "</table>\n",
       "</div>"
      ],
      "text/plain": [
       "   Column D\n",
       "0         5\n",
       "1         8\n",
       "2        34\n",
       "3       110"
      ]
     },
     "execution_count": 33,
     "metadata": {},
     "output_type": "execute_result"
    }
   ],
   "source": [
    "df.dropna(axis=1)   # axis = 1 refers to 'columns' also works"
   ]
  },
  {
   "cell_type": "markdown",
   "id": "ea11d228-3ca7-4f17-bb4c-706065128a9e",
   "metadata": {},
   "source": [
    "##### In this case, any row or column that contains at least one nyll value will ne dropped. Which can be, depending on the case, too extreme. You can control this behaviour with the 'how' parameter. Can be either 'any' or 'all'"
   ]
  },
  {
   "cell_type": "code",
   "execution_count": 34,
   "id": "7d514f1f-6066-4a7d-abd3-ee8b7003e533",
   "metadata": {},
   "outputs": [],
   "source": [
    "df2 = pd.DataFrame({\n",
    "    'Column A':[1, np.nan, 30],\n",
    "    'Column B':[2, 8, 31],\n",
    "    'Column C':[np.nan, np.nan, 100]})"
   ]
  },
  {
   "cell_type": "code",
   "execution_count": 35,
   "id": "b2c0003b-08f1-4e9e-96f0-095d7d0515f0",
   "metadata": {},
   "outputs": [
    {
     "data": {
      "text/html": [
       "<div>\n",
       "<style scoped>\n",
       "    .dataframe tbody tr th:only-of-type {\n",
       "        vertical-align: middle;\n",
       "    }\n",
       "\n",
       "    .dataframe tbody tr th {\n",
       "        vertical-align: top;\n",
       "    }\n",
       "\n",
       "    .dataframe thead th {\n",
       "        text-align: right;\n",
       "    }\n",
       "</style>\n",
       "<table border=\"1\" class=\"dataframe\">\n",
       "  <thead>\n",
       "    <tr style=\"text-align: right;\">\n",
       "      <th></th>\n",
       "      <th>Column A</th>\n",
       "      <th>Column B</th>\n",
       "      <th>Column C</th>\n",
       "      <th>Column D</th>\n",
       "    </tr>\n",
       "  </thead>\n",
       "  <tbody>\n",
       "    <tr>\n",
       "      <th>0</th>\n",
       "      <td>1.0</td>\n",
       "      <td>2.0</td>\n",
       "      <td>NaN</td>\n",
       "      <td>5</td>\n",
       "    </tr>\n",
       "    <tr>\n",
       "      <th>1</th>\n",
       "      <td>NaN</td>\n",
       "      <td>8.0</td>\n",
       "      <td>9.0</td>\n",
       "      <td>8</td>\n",
       "    </tr>\n",
       "    <tr>\n",
       "      <th>2</th>\n",
       "      <td>30.0</td>\n",
       "      <td>31.0</td>\n",
       "      <td>32.0</td>\n",
       "      <td>34</td>\n",
       "    </tr>\n",
       "    <tr>\n",
       "      <th>3</th>\n",
       "      <td>NaN</td>\n",
       "      <td>NaN</td>\n",
       "      <td>100.0</td>\n",
       "      <td>110</td>\n",
       "    </tr>\n",
       "  </tbody>\n",
       "</table>\n",
       "</div>"
      ],
      "text/plain": [
       "   Column A  Column B  Column C  Column D\n",
       "0       1.0       2.0       NaN         5\n",
       "1       NaN       8.0       9.0         8\n",
       "2      30.0      31.0      32.0        34\n",
       "3       NaN       NaN     100.0       110"
      ]
     },
     "execution_count": 35,
     "metadata": {},
     "output_type": "execute_result"
    }
   ],
   "source": [
    "df"
   ]
  },
  {
   "cell_type": "code",
   "execution_count": 36,
   "id": "2779c8cb-1288-4965-bd84-d0275c0b68df",
   "metadata": {},
   "outputs": [
    {
     "data": {
      "text/html": [
       "<div>\n",
       "<style scoped>\n",
       "    .dataframe tbody tr th:only-of-type {\n",
       "        vertical-align: middle;\n",
       "    }\n",
       "\n",
       "    .dataframe tbody tr th {\n",
       "        vertical-align: top;\n",
       "    }\n",
       "\n",
       "    .dataframe thead th {\n",
       "        text-align: right;\n",
       "    }\n",
       "</style>\n",
       "<table border=\"1\" class=\"dataframe\">\n",
       "  <thead>\n",
       "    <tr style=\"text-align: right;\">\n",
       "      <th></th>\n",
       "      <th>Column A</th>\n",
       "      <th>Column B</th>\n",
       "      <th>Column C</th>\n",
       "      <th>Column D</th>\n",
       "    </tr>\n",
       "  </thead>\n",
       "  <tbody>\n",
       "    <tr>\n",
       "      <th>0</th>\n",
       "      <td>1.0</td>\n",
       "      <td>2.0</td>\n",
       "      <td>NaN</td>\n",
       "      <td>5</td>\n",
       "    </tr>\n",
       "    <tr>\n",
       "      <th>1</th>\n",
       "      <td>NaN</td>\n",
       "      <td>8.0</td>\n",
       "      <td>9.0</td>\n",
       "      <td>8</td>\n",
       "    </tr>\n",
       "    <tr>\n",
       "      <th>2</th>\n",
       "      <td>30.0</td>\n",
       "      <td>31.0</td>\n",
       "      <td>32.0</td>\n",
       "      <td>34</td>\n",
       "    </tr>\n",
       "    <tr>\n",
       "      <th>3</th>\n",
       "      <td>NaN</td>\n",
       "      <td>NaN</td>\n",
       "      <td>100.0</td>\n",
       "      <td>110</td>\n",
       "    </tr>\n",
       "  </tbody>\n",
       "</table>\n",
       "</div>"
      ],
      "text/plain": [
       "   Column A  Column B  Column C  Column D\n",
       "0       1.0       2.0       NaN         5\n",
       "1       NaN       8.0       9.0         8\n",
       "2      30.0      31.0      32.0        34\n",
       "3       NaN       NaN     100.0       110"
      ]
     },
     "execution_count": 36,
     "metadata": {},
     "output_type": "execute_result"
    }
   ],
   "source": [
    "df.dropna(how='all')   # drop the 'column' that have all the value null   "
   ]
  },
  {
   "cell_type": "code",
   "execution_count": 37,
   "id": "0791b13f-0e2d-46f5-817d-90db032c9224",
   "metadata": {},
   "outputs": [
    {
     "data": {
      "text/html": [
       "<div>\n",
       "<style scoped>\n",
       "    .dataframe tbody tr th:only-of-type {\n",
       "        vertical-align: middle;\n",
       "    }\n",
       "\n",
       "    .dataframe tbody tr th {\n",
       "        vertical-align: top;\n",
       "    }\n",
       "\n",
       "    .dataframe thead th {\n",
       "        text-align: right;\n",
       "    }\n",
       "</style>\n",
       "<table border=\"1\" class=\"dataframe\">\n",
       "  <thead>\n",
       "    <tr style=\"text-align: right;\">\n",
       "      <th></th>\n",
       "      <th>Column A</th>\n",
       "      <th>Column B</th>\n",
       "      <th>Column C</th>\n",
       "      <th>Column D</th>\n",
       "    </tr>\n",
       "  </thead>\n",
       "  <tbody>\n",
       "    <tr>\n",
       "      <th>2</th>\n",
       "      <td>30.0</td>\n",
       "      <td>31.0</td>\n",
       "      <td>32.0</td>\n",
       "      <td>34</td>\n",
       "    </tr>\n",
       "  </tbody>\n",
       "</table>\n",
       "</div>"
      ],
      "text/plain": [
       "   Column A  Column B  Column C  Column D\n",
       "2      30.0      31.0      32.0        34"
      ]
     },
     "execution_count": 37,
     "metadata": {},
     "output_type": "execute_result"
    }
   ],
   "source": [
    "df.dropna(how='any')   # default behaviour. Drop the rows that have any 'nan'"
   ]
  },
  {
   "cell_type": "markdown",
   "id": "ab0a3e80-4dc7-4914-9c8e-9691b2536d0b",
   "metadata": {},
   "source": [
    "##### You can also use the 'thresh' parameter to indicate a threshold (a minimum number) of non-null values for the row/column to be kept:"
   ]
  },
  {
   "cell_type": "code",
   "execution_count": 38,
   "id": "7f9b2395-f611-4096-991b-93d751cfecf7",
   "metadata": {},
   "outputs": [
    {
     "data": {
      "text/html": [
       "<div>\n",
       "<style scoped>\n",
       "    .dataframe tbody tr th:only-of-type {\n",
       "        vertical-align: middle;\n",
       "    }\n",
       "\n",
       "    .dataframe tbody tr th {\n",
       "        vertical-align: top;\n",
       "    }\n",
       "\n",
       "    .dataframe thead th {\n",
       "        text-align: right;\n",
       "    }\n",
       "</style>\n",
       "<table border=\"1\" class=\"dataframe\">\n",
       "  <thead>\n",
       "    <tr style=\"text-align: right;\">\n",
       "      <th></th>\n",
       "      <th>Column A</th>\n",
       "      <th>Column B</th>\n",
       "      <th>Column C</th>\n",
       "      <th>Column D</th>\n",
       "    </tr>\n",
       "  </thead>\n",
       "  <tbody>\n",
       "    <tr>\n",
       "      <th>0</th>\n",
       "      <td>1.0</td>\n",
       "      <td>2.0</td>\n",
       "      <td>NaN</td>\n",
       "      <td>5</td>\n",
       "    </tr>\n",
       "    <tr>\n",
       "      <th>1</th>\n",
       "      <td>NaN</td>\n",
       "      <td>8.0</td>\n",
       "      <td>9.0</td>\n",
       "      <td>8</td>\n",
       "    </tr>\n",
       "    <tr>\n",
       "      <th>2</th>\n",
       "      <td>30.0</td>\n",
       "      <td>31.0</td>\n",
       "      <td>32.0</td>\n",
       "      <td>34</td>\n",
       "    </tr>\n",
       "    <tr>\n",
       "      <th>3</th>\n",
       "      <td>NaN</td>\n",
       "      <td>NaN</td>\n",
       "      <td>100.0</td>\n",
       "      <td>110</td>\n",
       "    </tr>\n",
       "  </tbody>\n",
       "</table>\n",
       "</div>"
      ],
      "text/plain": [
       "   Column A  Column B  Column C  Column D\n",
       "0       1.0       2.0       NaN         5\n",
       "1       NaN       8.0       9.0         8\n",
       "2      30.0      31.0      32.0        34\n",
       "3       NaN       NaN     100.0       110"
      ]
     },
     "execution_count": 38,
     "metadata": {},
     "output_type": "execute_result"
    }
   ],
   "source": [
    "df "
   ]
  },
  {
   "cell_type": "code",
   "execution_count": 39,
   "id": "2c8891d1-b709-4d8c-b729-66e09f37f961",
   "metadata": {},
   "outputs": [
    {
     "data": {
      "text/html": [
       "<div>\n",
       "<style scoped>\n",
       "    .dataframe tbody tr th:only-of-type {\n",
       "        vertical-align: middle;\n",
       "    }\n",
       "\n",
       "    .dataframe tbody tr th {\n",
       "        vertical-align: top;\n",
       "    }\n",
       "\n",
       "    .dataframe thead th {\n",
       "        text-align: right;\n",
       "    }\n",
       "</style>\n",
       "<table border=\"1\" class=\"dataframe\">\n",
       "  <thead>\n",
       "    <tr style=\"text-align: right;\">\n",
       "      <th></th>\n",
       "      <th>Column A</th>\n",
       "      <th>Column B</th>\n",
       "      <th>Column C</th>\n",
       "      <th>Column D</th>\n",
       "    </tr>\n",
       "  </thead>\n",
       "  <tbody>\n",
       "    <tr>\n",
       "      <th>0</th>\n",
       "      <td>1.0</td>\n",
       "      <td>2.0</td>\n",
       "      <td>NaN</td>\n",
       "      <td>5</td>\n",
       "    </tr>\n",
       "    <tr>\n",
       "      <th>1</th>\n",
       "      <td>NaN</td>\n",
       "      <td>8.0</td>\n",
       "      <td>9.0</td>\n",
       "      <td>8</td>\n",
       "    </tr>\n",
       "    <tr>\n",
       "      <th>2</th>\n",
       "      <td>30.0</td>\n",
       "      <td>31.0</td>\n",
       "      <td>32.0</td>\n",
       "      <td>34</td>\n",
       "    </tr>\n",
       "  </tbody>\n",
       "</table>\n",
       "</div>"
      ],
      "text/plain": [
       "   Column A  Column B  Column C  Column D\n",
       "0       1.0       2.0       NaN         5\n",
       "1       NaN       8.0       9.0         8\n",
       "2      30.0      31.0      32.0        34"
      ]
     },
     "execution_count": 39,
     "metadata": {},
     "output_type": "execute_result"
    }
   ],
   "source": [
    "df.dropna(thresh=3)"
   ]
  },
  {
   "cell_type": "code",
   "execution_count": 40,
   "id": "2f165f9e-9e6c-42cb-bc6d-820760b15c22",
   "metadata": {},
   "outputs": [
    {
     "data": {
      "text/html": [
       "<div>\n",
       "<style scoped>\n",
       "    .dataframe tbody tr th:only-of-type {\n",
       "        vertical-align: middle;\n",
       "    }\n",
       "\n",
       "    .dataframe tbody tr th {\n",
       "        vertical-align: top;\n",
       "    }\n",
       "\n",
       "    .dataframe thead th {\n",
       "        text-align: right;\n",
       "    }\n",
       "</style>\n",
       "<table border=\"1\" class=\"dataframe\">\n",
       "  <thead>\n",
       "    <tr style=\"text-align: right;\">\n",
       "      <th></th>\n",
       "      <th>Column B</th>\n",
       "      <th>Column C</th>\n",
       "      <th>Column D</th>\n",
       "    </tr>\n",
       "  </thead>\n",
       "  <tbody>\n",
       "    <tr>\n",
       "      <th>0</th>\n",
       "      <td>2.0</td>\n",
       "      <td>NaN</td>\n",
       "      <td>5</td>\n",
       "    </tr>\n",
       "    <tr>\n",
       "      <th>1</th>\n",
       "      <td>8.0</td>\n",
       "      <td>9.0</td>\n",
       "      <td>8</td>\n",
       "    </tr>\n",
       "    <tr>\n",
       "      <th>2</th>\n",
       "      <td>31.0</td>\n",
       "      <td>32.0</td>\n",
       "      <td>34</td>\n",
       "    </tr>\n",
       "    <tr>\n",
       "      <th>3</th>\n",
       "      <td>NaN</td>\n",
       "      <td>100.0</td>\n",
       "      <td>110</td>\n",
       "    </tr>\n",
       "  </tbody>\n",
       "</table>\n",
       "</div>"
      ],
      "text/plain": [
       "   Column B  Column C  Column D\n",
       "0       2.0       NaN         5\n",
       "1       8.0       9.0         8\n",
       "2      31.0      32.0        34\n",
       "3       NaN     100.0       110"
      ]
     },
     "execution_count": 40,
     "metadata": {},
     "output_type": "execute_result"
    }
   ],
   "source": [
    "df.dropna(thresh=3, axis = 'columns')"
   ]
  },
  {
   "cell_type": "markdown",
   "id": "ead64025-f819-4892-bdcc-7a0483558fd0",
   "metadata": {},
   "source": [
    "## Filling null values"
   ]
  },
  {
   "cell_type": "markdown",
   "id": "7c35f58a-39d7-4ff5-9d3a-6e440a116d5d",
   "metadata": {},
   "source": [
    "##### Sometimes instead of dropping 'null' values, we might need to replace them with some value. This highly depends on your context and the dataset you're currently working on. Sometimes a 'nan' can be replaced with a '0'; sometimes it can be replaced with 'mean' of the sample, and some other times, you can take the 'closet' value. Again, it depends on the context. We'll show you the different methods and mechanisms and you can then apply them to your own problem."
   ]
  },
  {
   "cell_type": "code",
   "execution_count": 41,
   "id": "74e76694-df44-4e48-b0a0-eb15b7dfc6e2",
   "metadata": {},
   "outputs": [
    {
     "data": {
      "text/plain": [
       "0    1.0\n",
       "1    2.0\n",
       "2    3.0\n",
       "3    NaN\n",
       "4    NaN\n",
       "5    4.0\n",
       "dtype: float64"
      ]
     },
     "execution_count": 41,
     "metadata": {},
     "output_type": "execute_result"
    }
   ],
   "source": [
    "s"
   ]
  },
  {
   "cell_type": "markdown",
   "id": "a3edb435-d530-48e3-94e5-d549c3d4f3c9",
   "metadata": {},
   "source": [
    "##### Filling nulls with arbitary value"
   ]
  },
  {
   "cell_type": "code",
   "execution_count": 42,
   "id": "18ca2391-4f12-4986-a325-1a047384460f",
   "metadata": {},
   "outputs": [
    {
     "data": {
      "text/plain": [
       "0    1.0\n",
       "1    2.0\n",
       "2    3.0\n",
       "3    0.0\n",
       "4    0.0\n",
       "5    4.0\n",
       "dtype: float64"
      ]
     },
     "execution_count": 42,
     "metadata": {},
     "output_type": "execute_result"
    }
   ],
   "source": [
    "s.fillna(0)"
   ]
  },
  {
   "cell_type": "code",
   "execution_count": 43,
   "id": "47293068-d7cd-4558-b1f0-28a19ca0d8b7",
   "metadata": {},
   "outputs": [
    {
     "data": {
      "text/plain": [
       "0    1.0\n",
       "1    2.0\n",
       "2    3.0\n",
       "3    2.5\n",
       "4    2.5\n",
       "5    4.0\n",
       "dtype: float64"
      ]
     },
     "execution_count": 43,
     "metadata": {},
     "output_type": "execute_result"
    }
   ],
   "source": [
    "s.fillna(s.mean())"
   ]
  },
  {
   "cell_type": "code",
   "execution_count": 44,
   "id": "50dc3051-35f3-4b39-921e-a7edb46c65b0",
   "metadata": {},
   "outputs": [
    {
     "data": {
      "text/plain": [
       "0    1.0\n",
       "1    2.0\n",
       "2    3.0\n",
       "3    NaN\n",
       "4    NaN\n",
       "5    4.0\n",
       "dtype: float64"
      ]
     },
     "execution_count": 44,
     "metadata": {},
     "output_type": "execute_result"
    }
   ],
   "source": [
    "s     # original Series is still the same. it doesn't alter it"
   ]
  },
  {
   "cell_type": "markdown",
   "id": "e0c5d846-3760-4448-a551-03f6b754515a",
   "metadata": {},
   "source": [
    "##### Filling nulls with contigous (close) values"
   ]
  },
  {
   "cell_type": "markdown",
   "id": "ba4a99f0-6eef-4a70-84c1-c008e91fdbc7",
   "metadata": {},
   "source": [
    "##### The 'method' arguments is used to fill null values with other values close to that null one:"
   ]
  },
  {
   "cell_type": "code",
   "execution_count": 45,
   "id": "b842e7f5-6148-493c-991d-a14fa1a7b42e",
   "metadata": {},
   "outputs": [
    {
     "data": {
      "text/plain": [
       "0    1.0\n",
       "1    2.0\n",
       "2    3.0\n",
       "3    3.0\n",
       "4    3.0\n",
       "5    4.0\n",
       "dtype: float64"
      ]
     },
     "execution_count": 45,
     "metadata": {},
     "output_type": "execute_result"
    }
   ],
   "source": [
    "s.fillna(method='ffill')    #forward fill"
   ]
  },
  {
   "cell_type": "code",
   "execution_count": 46,
   "id": "60eedb0e-c827-4721-86de-b595093f4ed3",
   "metadata": {},
   "outputs": [
    {
     "data": {
      "text/plain": [
       "0    1.0\n",
       "1    2.0\n",
       "2    3.0\n",
       "3    4.0\n",
       "4    4.0\n",
       "5    4.0\n",
       "dtype: float64"
      ]
     },
     "execution_count": 46,
     "metadata": {},
     "output_type": "execute_result"
    }
   ],
   "source": [
    "s.fillna(method='bfill')    # backward fill"
   ]
  },
  {
   "cell_type": "markdown",
   "id": "03683fd6-cf19-4dfc-af65-57dfa5e3d215",
   "metadata": {},
   "source": [
    "##### This can still leave null values at the extremes of the Series/DataFrame:"
   ]
  },
  {
   "cell_type": "code",
   "execution_count": 47,
   "id": "8774252a-7adb-410a-a4cd-134a4139ce67",
   "metadata": {},
   "outputs": [
    {
     "data": {
      "text/plain": [
       "0    NaN\n",
       "1    3.0\n",
       "2    3.0\n",
       "3    9.0\n",
       "dtype: float64"
      ]
     },
     "execution_count": 47,
     "metadata": {},
     "output_type": "execute_result"
    }
   ],
   "source": [
    "pd.Series([np.nan, 3, np.nan, 9]).fillna(method='ffill')"
   ]
  },
  {
   "cell_type": "code",
   "execution_count": 48,
   "id": "b1136825-0b00-4050-953c-b8e8e876b908",
   "metadata": {},
   "outputs": [
    {
     "data": {
      "text/plain": [
       "0    1.0\n",
       "1    3.0\n",
       "2    3.0\n",
       "3    9.0\n",
       "4    9.0\n",
       "dtype: float64"
      ]
     },
     "execution_count": 48,
     "metadata": {},
     "output_type": "execute_result"
    }
   ],
   "source": [
    "pd.Series([1, np.nan, 3, np.nan, 9]).fillna(method='bfill')"
   ]
  },
  {
   "cell_type": "markdown",
   "id": "425455eb-e4e0-4fcb-9b08-45eee034293c",
   "metadata": {},
   "source": [
    "## Filling null values on DataFrames"
   ]
  },
  {
   "cell_type": "markdown",
   "id": "8a7b40ec-b592-47c2-bcf5-01185111a667",
   "metadata": {},
   "source": [
    "##### The f\\'fillna' method also works on 'DataFrame's and it works similarly. The main differences areas that you can specify the'axis' (as usual rows or columns) to use to fill the values (especially for methods) and that you have more control on the values passed "
   ]
  },
  {
   "cell_type": "code",
   "execution_count": 49,
   "id": "88e2fece-c558-490c-a9c4-bed05b239473",
   "metadata": {},
   "outputs": [
    {
     "data": {
      "text/html": [
       "<div>\n",
       "<style scoped>\n",
       "    .dataframe tbody tr th:only-of-type {\n",
       "        vertical-align: middle;\n",
       "    }\n",
       "\n",
       "    .dataframe tbody tr th {\n",
       "        vertical-align: top;\n",
       "    }\n",
       "\n",
       "    .dataframe thead th {\n",
       "        text-align: right;\n",
       "    }\n",
       "</style>\n",
       "<table border=\"1\" class=\"dataframe\">\n",
       "  <thead>\n",
       "    <tr style=\"text-align: right;\">\n",
       "      <th></th>\n",
       "      <th>Column A</th>\n",
       "      <th>Column B</th>\n",
       "      <th>Column C</th>\n",
       "      <th>Column D</th>\n",
       "    </tr>\n",
       "  </thead>\n",
       "  <tbody>\n",
       "    <tr>\n",
       "      <th>0</th>\n",
       "      <td>1.0</td>\n",
       "      <td>2.0</td>\n",
       "      <td>NaN</td>\n",
       "      <td>5</td>\n",
       "    </tr>\n",
       "    <tr>\n",
       "      <th>1</th>\n",
       "      <td>NaN</td>\n",
       "      <td>8.0</td>\n",
       "      <td>9.0</td>\n",
       "      <td>8</td>\n",
       "    </tr>\n",
       "    <tr>\n",
       "      <th>2</th>\n",
       "      <td>30.0</td>\n",
       "      <td>31.0</td>\n",
       "      <td>32.0</td>\n",
       "      <td>34</td>\n",
       "    </tr>\n",
       "    <tr>\n",
       "      <th>3</th>\n",
       "      <td>NaN</td>\n",
       "      <td>NaN</td>\n",
       "      <td>100.0</td>\n",
       "      <td>110</td>\n",
       "    </tr>\n",
       "  </tbody>\n",
       "</table>\n",
       "</div>"
      ],
      "text/plain": [
       "   Column A  Column B  Column C  Column D\n",
       "0       1.0       2.0       NaN         5\n",
       "1       NaN       8.0       9.0         8\n",
       "2      30.0      31.0      32.0        34\n",
       "3       NaN       NaN     100.0       110"
      ]
     },
     "execution_count": 49,
     "metadata": {},
     "output_type": "execute_result"
    }
   ],
   "source": [
    "df"
   ]
  },
  {
   "cell_type": "code",
   "execution_count": 50,
   "id": "7a1e0ba9-58f9-4d4c-8914-b7f474013c25",
   "metadata": {},
   "outputs": [
    {
     "data": {
      "text/html": [
       "<div>\n",
       "<style scoped>\n",
       "    .dataframe tbody tr th:only-of-type {\n",
       "        vertical-align: middle;\n",
       "    }\n",
       "\n",
       "    .dataframe tbody tr th {\n",
       "        vertical-align: top;\n",
       "    }\n",
       "\n",
       "    .dataframe thead th {\n",
       "        text-align: right;\n",
       "    }\n",
       "</style>\n",
       "<table border=\"1\" class=\"dataframe\">\n",
       "  <thead>\n",
       "    <tr style=\"text-align: right;\">\n",
       "      <th></th>\n",
       "      <th>Column A</th>\n",
       "      <th>Column B</th>\n",
       "      <th>Column C</th>\n",
       "      <th>Column D</th>\n",
       "    </tr>\n",
       "  </thead>\n",
       "  <tbody>\n",
       "    <tr>\n",
       "      <th>0</th>\n",
       "      <td>1.0</td>\n",
       "      <td>2.0</td>\n",
       "      <td>47.0</td>\n",
       "      <td>5</td>\n",
       "    </tr>\n",
       "    <tr>\n",
       "      <th>1</th>\n",
       "      <td>0.0</td>\n",
       "      <td>8.0</td>\n",
       "      <td>9.0</td>\n",
       "      <td>8</td>\n",
       "    </tr>\n",
       "    <tr>\n",
       "      <th>2</th>\n",
       "      <td>30.0</td>\n",
       "      <td>31.0</td>\n",
       "      <td>32.0</td>\n",
       "      <td>34</td>\n",
       "    </tr>\n",
       "    <tr>\n",
       "      <th>3</th>\n",
       "      <td>0.0</td>\n",
       "      <td>99.0</td>\n",
       "      <td>100.0</td>\n",
       "      <td>110</td>\n",
       "    </tr>\n",
       "  </tbody>\n",
       "</table>\n",
       "</div>"
      ],
      "text/plain": [
       "   Column A  Column B  Column C  Column D\n",
       "0       1.0       2.0      47.0         5\n",
       "1       0.0       8.0       9.0         8\n",
       "2      30.0      31.0      32.0        34\n",
       "3       0.0      99.0     100.0       110"
      ]
     },
     "execution_count": 50,
     "metadata": {},
     "output_type": "execute_result"
    }
   ],
   "source": [
    "df.fillna({'Column A': 0, 'Column B': 99, 'Column C': df['Column C'].mean()})"
   ]
  },
  {
   "cell_type": "code",
   "execution_count": 51,
   "id": "fbd49fec-fe09-4c1e-a11c-e31da7b58bd6",
   "metadata": {},
   "outputs": [
    {
     "data": {
      "text/html": [
       "<div>\n",
       "<style scoped>\n",
       "    .dataframe tbody tr th:only-of-type {\n",
       "        vertical-align: middle;\n",
       "    }\n",
       "\n",
       "    .dataframe tbody tr th {\n",
       "        vertical-align: top;\n",
       "    }\n",
       "\n",
       "    .dataframe thead th {\n",
       "        text-align: right;\n",
       "    }\n",
       "</style>\n",
       "<table border=\"1\" class=\"dataframe\">\n",
       "  <thead>\n",
       "    <tr style=\"text-align: right;\">\n",
       "      <th></th>\n",
       "      <th>Column A</th>\n",
       "      <th>Column B</th>\n",
       "      <th>Column C</th>\n",
       "      <th>Column D</th>\n",
       "    </tr>\n",
       "  </thead>\n",
       "  <tbody>\n",
       "    <tr>\n",
       "      <th>0</th>\n",
       "      <td>1.0</td>\n",
       "      <td>2.0</td>\n",
       "      <td>NaN</td>\n",
       "      <td>5</td>\n",
       "    </tr>\n",
       "    <tr>\n",
       "      <th>1</th>\n",
       "      <td>1.0</td>\n",
       "      <td>8.0</td>\n",
       "      <td>9.0</td>\n",
       "      <td>8</td>\n",
       "    </tr>\n",
       "    <tr>\n",
       "      <th>2</th>\n",
       "      <td>30.0</td>\n",
       "      <td>31.0</td>\n",
       "      <td>32.0</td>\n",
       "      <td>34</td>\n",
       "    </tr>\n",
       "    <tr>\n",
       "      <th>3</th>\n",
       "      <td>30.0</td>\n",
       "      <td>31.0</td>\n",
       "      <td>100.0</td>\n",
       "      <td>110</td>\n",
       "    </tr>\n",
       "  </tbody>\n",
       "</table>\n",
       "</div>"
      ],
      "text/plain": [
       "   Column A  Column B  Column C  Column D\n",
       "0       1.0       2.0       NaN         5\n",
       "1       1.0       8.0       9.0         8\n",
       "2      30.0      31.0      32.0        34\n",
       "3      30.0      31.0     100.0       110"
      ]
     },
     "execution_count": 51,
     "metadata": {},
     "output_type": "execute_result"
    }
   ],
   "source": [
    "df.fillna(method = 'ffill', axis = 0)   # column"
   ]
  },
  {
   "cell_type": "code",
   "execution_count": 52,
   "id": "d6a4ec35-fea6-461f-bb25-aebb2d4e7ef2",
   "metadata": {},
   "outputs": [
    {
     "data": {
      "text/html": [
       "<div>\n",
       "<style scoped>\n",
       "    .dataframe tbody tr th:only-of-type {\n",
       "        vertical-align: middle;\n",
       "    }\n",
       "\n",
       "    .dataframe tbody tr th {\n",
       "        vertical-align: top;\n",
       "    }\n",
       "\n",
       "    .dataframe thead th {\n",
       "        text-align: right;\n",
       "    }\n",
       "</style>\n",
       "<table border=\"1\" class=\"dataframe\">\n",
       "  <thead>\n",
       "    <tr style=\"text-align: right;\">\n",
       "      <th></th>\n",
       "      <th>Column A</th>\n",
       "      <th>Column B</th>\n",
       "      <th>Column C</th>\n",
       "      <th>Column D</th>\n",
       "    </tr>\n",
       "  </thead>\n",
       "  <tbody>\n",
       "    <tr>\n",
       "      <th>0</th>\n",
       "      <td>1.0</td>\n",
       "      <td>2.0</td>\n",
       "      <td>2.0</td>\n",
       "      <td>5.0</td>\n",
       "    </tr>\n",
       "    <tr>\n",
       "      <th>1</th>\n",
       "      <td>NaN</td>\n",
       "      <td>8.0</td>\n",
       "      <td>9.0</td>\n",
       "      <td>8.0</td>\n",
       "    </tr>\n",
       "    <tr>\n",
       "      <th>2</th>\n",
       "      <td>30.0</td>\n",
       "      <td>31.0</td>\n",
       "      <td>32.0</td>\n",
       "      <td>34.0</td>\n",
       "    </tr>\n",
       "    <tr>\n",
       "      <th>3</th>\n",
       "      <td>NaN</td>\n",
       "      <td>NaN</td>\n",
       "      <td>100.0</td>\n",
       "      <td>110.0</td>\n",
       "    </tr>\n",
       "  </tbody>\n",
       "</table>\n",
       "</div>"
      ],
      "text/plain": [
       "   Column A  Column B  Column C  Column D\n",
       "0       1.0       2.0       2.0       5.0\n",
       "1       NaN       8.0       9.0       8.0\n",
       "2      30.0      31.0      32.0      34.0\n",
       "3       NaN       NaN     100.0     110.0"
      ]
     },
     "execution_count": 52,
     "metadata": {},
     "output_type": "execute_result"
    }
   ],
   "source": [
    "df.fillna(method = 'ffill', axis = 1)     # rows"
   ]
  },
  {
   "cell_type": "code",
   "execution_count": 53,
   "id": "34709467-72cd-4ac1-ba80-c1ca573ec86f",
   "metadata": {},
   "outputs": [
    {
     "data": {
      "text/html": [
       "<div>\n",
       "<style scoped>\n",
       "    .dataframe tbody tr th:only-of-type {\n",
       "        vertical-align: middle;\n",
       "    }\n",
       "\n",
       "    .dataframe tbody tr th {\n",
       "        vertical-align: top;\n",
       "    }\n",
       "\n",
       "    .dataframe thead th {\n",
       "        text-align: right;\n",
       "    }\n",
       "</style>\n",
       "<table border=\"1\" class=\"dataframe\">\n",
       "  <thead>\n",
       "    <tr style=\"text-align: right;\">\n",
       "      <th></th>\n",
       "      <th>Column A</th>\n",
       "      <th>Column B</th>\n",
       "      <th>Column C</th>\n",
       "      <th>Column D</th>\n",
       "    </tr>\n",
       "  </thead>\n",
       "  <tbody>\n",
       "    <tr>\n",
       "      <th>0</th>\n",
       "      <td>1.0</td>\n",
       "      <td>2.0</td>\n",
       "      <td>9.0</td>\n",
       "      <td>5</td>\n",
       "    </tr>\n",
       "    <tr>\n",
       "      <th>1</th>\n",
       "      <td>30.0</td>\n",
       "      <td>8.0</td>\n",
       "      <td>9.0</td>\n",
       "      <td>8</td>\n",
       "    </tr>\n",
       "    <tr>\n",
       "      <th>2</th>\n",
       "      <td>30.0</td>\n",
       "      <td>31.0</td>\n",
       "      <td>32.0</td>\n",
       "      <td>34</td>\n",
       "    </tr>\n",
       "    <tr>\n",
       "      <th>3</th>\n",
       "      <td>NaN</td>\n",
       "      <td>NaN</td>\n",
       "      <td>100.0</td>\n",
       "      <td>110</td>\n",
       "    </tr>\n",
       "  </tbody>\n",
       "</table>\n",
       "</div>"
      ],
      "text/plain": [
       "   Column A  Column B  Column C  Column D\n",
       "0       1.0       2.0       9.0         5\n",
       "1      30.0       8.0       9.0         8\n",
       "2      30.0      31.0      32.0        34\n",
       "3       NaN       NaN     100.0       110"
      ]
     },
     "execution_count": 53,
     "metadata": {},
     "output_type": "execute_result"
    }
   ],
   "source": [
    "df.fillna(method = 'bfill', axis = 0)"
   ]
  },
  {
   "cell_type": "code",
   "execution_count": 54,
   "id": "4b12fd91-3501-441f-bdc3-6fdf223e8edb",
   "metadata": {},
   "outputs": [
    {
     "data": {
      "text/html": [
       "<div>\n",
       "<style scoped>\n",
       "    .dataframe tbody tr th:only-of-type {\n",
       "        vertical-align: middle;\n",
       "    }\n",
       "\n",
       "    .dataframe tbody tr th {\n",
       "        vertical-align: top;\n",
       "    }\n",
       "\n",
       "    .dataframe thead th {\n",
       "        text-align: right;\n",
       "    }\n",
       "</style>\n",
       "<table border=\"1\" class=\"dataframe\">\n",
       "  <thead>\n",
       "    <tr style=\"text-align: right;\">\n",
       "      <th></th>\n",
       "      <th>Column A</th>\n",
       "      <th>Column B</th>\n",
       "      <th>Column C</th>\n",
       "      <th>Column D</th>\n",
       "    </tr>\n",
       "  </thead>\n",
       "  <tbody>\n",
       "    <tr>\n",
       "      <th>0</th>\n",
       "      <td>1.0</td>\n",
       "      <td>2.0</td>\n",
       "      <td>5.0</td>\n",
       "      <td>5.0</td>\n",
       "    </tr>\n",
       "    <tr>\n",
       "      <th>1</th>\n",
       "      <td>8.0</td>\n",
       "      <td>8.0</td>\n",
       "      <td>9.0</td>\n",
       "      <td>8.0</td>\n",
       "    </tr>\n",
       "    <tr>\n",
       "      <th>2</th>\n",
       "      <td>30.0</td>\n",
       "      <td>31.0</td>\n",
       "      <td>32.0</td>\n",
       "      <td>34.0</td>\n",
       "    </tr>\n",
       "    <tr>\n",
       "      <th>3</th>\n",
       "      <td>100.0</td>\n",
       "      <td>100.0</td>\n",
       "      <td>100.0</td>\n",
       "      <td>110.0</td>\n",
       "    </tr>\n",
       "  </tbody>\n",
       "</table>\n",
       "</div>"
      ],
      "text/plain": [
       "   Column A  Column B  Column C  Column D\n",
       "0       1.0       2.0       5.0       5.0\n",
       "1       8.0       8.0       9.0       8.0\n",
       "2      30.0      31.0      32.0      34.0\n",
       "3     100.0     100.0     100.0     110.0"
      ]
     },
     "execution_count": 54,
     "metadata": {},
     "output_type": "execute_result"
    }
   ],
   "source": [
    "df.fillna(method = 'bfill', axis = 1)"
   ]
  },
  {
   "cell_type": "markdown",
   "id": "ad4a5375-60c2-4986-abc2-ab42040226fe",
   "metadata": {},
   "source": [
    "## Checking if there are 'NA's"
   ]
  },
  {
   "cell_type": "markdown",
   "id": "06e9d30b-5ac4-469e-9aa5-82b84aadd056",
   "metadata": {},
   "source": [
    "##### The question is, Does this 'Series' or 'DataFrame' contain any missing values? The answer should be yes or no: 'True' or 'False'. How can you verify it?\n",
    "\n",
    "##### Example 1: Checking the length\n",
    "\n",
    "##### If there are missing values, 's.dropna()' will have less elements than 's':"
   ]
  },
  {
   "cell_type": "code",
   "execution_count": 55,
   "id": "42978d11-608e-403b-b7a7-0a3be167e1d4",
   "metadata": {},
   "outputs": [
    {
     "data": {
      "text/plain": [
       "4"
      ]
     },
     "execution_count": 55,
     "metadata": {},
     "output_type": "execute_result"
    }
   ],
   "source": [
    "s.dropna().count()"
   ]
  },
  {
   "cell_type": "code",
   "execution_count": 56,
   "id": "fe53da7b-81c7-454e-aab9-7801ce006b01",
   "metadata": {},
   "outputs": [
    {
     "data": {
      "text/plain": [
       "True"
      ]
     },
     "execution_count": 56,
     "metadata": {},
     "output_type": "execute_result"
    }
   ],
   "source": [
    "missing_values = len(s.dropna()) != len(s)\n",
    "missing_values"
   ]
  },
  {
   "cell_type": "markdown",
   "id": "e92f280e-d2b9-4f73-bff1-e2c88d1afa71",
   "metadata": {},
   "source": [
    "##### There's also a 'count' method that excludes 'nan's from its result:"
   ]
  },
  {
   "cell_type": "code",
   "execution_count": 57,
   "id": "fd1ff649-8c86-40aa-8118-e81de2034bdc",
   "metadata": {},
   "outputs": [
    {
     "data": {
      "text/plain": [
       "6"
      ]
     },
     "execution_count": 57,
     "metadata": {},
     "output_type": "execute_result"
    }
   ],
   "source": [
    "len(s)"
   ]
  },
  {
   "cell_type": "code",
   "execution_count": 58,
   "id": "8a4258d1-cc29-47b0-8873-a8fbbbc87b7d",
   "metadata": {},
   "outputs": [
    {
     "data": {
      "text/plain": [
       "4"
      ]
     },
     "execution_count": 58,
     "metadata": {},
     "output_type": "execute_result"
    }
   ],
   "source": [
    "s.count()"
   ]
  },
  {
   "cell_type": "markdown",
   "id": "a58f9de1-82ee-4566-8896-33ac2ed8c881",
   "metadata": {},
   "source": [
    "##### So we could just do:"
   ]
  },
  {
   "cell_type": "code",
   "execution_count": 59,
   "id": "ba04eb0f-b8c9-49b1-8776-febacbd6cb9d",
   "metadata": {},
   "outputs": [
    {
     "data": {
      "text/plain": [
       "True"
      ]
     },
     "execution_count": 59,
     "metadata": {},
     "output_type": "execute_result"
    }
   ],
   "source": [
    "missing_values = s.count() != len(s)\n",
    "missing_values"
   ]
  },
  {
   "cell_type": "markdown",
   "id": "b1be4fa0-3d37-4921-b7cc-727fdb472b56",
   "metadata": {},
   "source": [
    "##### More Pythonic solution 'any'\n",
    "\n",
    "##### The methods 'any' and 'all' check if either there's 'any' True value in a Series or 'all' the values are 'True'. They work inthe same way as in Python:"
   ]
  },
  {
   "cell_type": "code",
   "execution_count": 60,
   "id": "1dda07e9-6849-4779-b7e3-1856012694a0",
   "metadata": {},
   "outputs": [
    {
     "data": {
      "text/plain": [
       "True"
      ]
     },
     "execution_count": 60,
     "metadata": {},
     "output_type": "execute_result"
    }
   ],
   "source": [
    "pd.Series([True, False, False]).any()"
   ]
  },
  {
   "cell_type": "code",
   "execution_count": 61,
   "id": "af9b7f04-a374-439a-86a5-2dc3cf3b4565",
   "metadata": {},
   "outputs": [
    {
     "data": {
      "text/plain": [
       "False"
      ]
     },
     "execution_count": 61,
     "metadata": {},
     "output_type": "execute_result"
    }
   ],
   "source": [
    "pd.Series([True, False, False]).all()"
   ]
  },
  {
   "cell_type": "code",
   "execution_count": 62,
   "id": "fe7139eb-d478-4562-ba94-8e76ef6ddb2c",
   "metadata": {},
   "outputs": [
    {
     "data": {
      "text/plain": [
       "True"
      ]
     },
     "execution_count": 62,
     "metadata": {},
     "output_type": "execute_result"
    }
   ],
   "source": [
    "pd.Series([True, True, True]).all()"
   ]
  },
  {
   "cell_type": "markdown",
   "id": "bd3082b7-7972-49d0-bb40-691ca9a62e83",
   "metadata": {},
   "source": [
    "##### The 'isnull()' method returned a Boolean Series with 'True'values wherever there was a 'nan':"
   ]
  },
  {
   "cell_type": "code",
   "execution_count": 63,
   "id": "5d433c4a-bc77-481c-a518-7c65780f178a",
   "metadata": {},
   "outputs": [
    {
     "data": {
      "text/plain": [
       "0    False\n",
       "1    False\n",
       "2    False\n",
       "3     True\n",
       "4     True\n",
       "5    False\n",
       "dtype: bool"
      ]
     },
     "execution_count": 63,
     "metadata": {},
     "output_type": "execute_result"
    }
   ],
   "source": [
    "s.isnull()"
   ]
  },
  {
   "cell_type": "code",
   "execution_count": 64,
   "id": "78450441-114f-472b-babf-99c310b0355f",
   "metadata": {},
   "outputs": [
    {
     "data": {
      "text/plain": [
       "0    1.0\n",
       "1    2.0\n",
       "2    3.0\n",
       "3    NaN\n",
       "4    NaN\n",
       "5    4.0\n",
       "dtype: float64"
      ]
     },
     "execution_count": 64,
     "metadata": {},
     "output_type": "execute_result"
    }
   ],
   "source": [
    "s"
   ]
  },
  {
   "cell_type": "markdown",
   "id": "29acdabc-c8d4-4879-9659-a9f30f1a6955",
   "metadata": {},
   "source": [
    "##### So we can just use the 'any' method with the boolean array returned:"
   ]
  },
  {
   "cell_type": "code",
   "execution_count": 65,
   "id": "9effc950-be84-4a8d-b8a3-e57c094bf137",
   "metadata": {},
   "outputs": [
    {
     "data": {
      "text/plain": [
       "True"
      ]
     },
     "execution_count": 65,
     "metadata": {},
     "output_type": "execute_result"
    }
   ],
   "source": [
    "pd.Series([1, np.nan]).isnull().any()"
   ]
  },
  {
   "cell_type": "code",
   "execution_count": 66,
   "id": "efa292a1-ca72-4198-bb96-b5b0db866ee6",
   "metadata": {},
   "outputs": [
    {
     "data": {
      "text/plain": [
       "False"
      ]
     },
     "execution_count": 66,
     "metadata": {},
     "output_type": "execute_result"
    }
   ],
   "source": [
    "pd.Series([1, 2]).isnull().any()"
   ]
  },
  {
   "cell_type": "code",
   "execution_count": 67,
   "id": "ed3c2cd1-72fd-4d9b-978d-b223727b19f4",
   "metadata": {},
   "outputs": [
    {
     "data": {
      "text/plain": [
       "True"
      ]
     },
     "execution_count": 67,
     "metadata": {},
     "output_type": "execute_result"
    }
   ],
   "source": [
    "s.isnull().any()"
   ]
  },
  {
   "cell_type": "markdown",
   "id": "b5cc66b7-36d4-4c6a-934e-b669a7da907b",
   "metadata": {},
   "source": [
    "##### A more strict version would check only the 'values' of the Series:"
   ]
  },
  {
   "cell_type": "code",
   "execution_count": 68,
   "id": "d7430e99-b98f-4cd4-bd55-831f919a25c8",
   "metadata": {},
   "outputs": [
    {
     "data": {
      "text/plain": [
       "array([False, False, False,  True,  True, False])"
      ]
     },
     "execution_count": 68,
     "metadata": {},
     "output_type": "execute_result"
    }
   ],
   "source": [
    "s.isnull().values"
   ]
  },
  {
   "cell_type": "code",
   "execution_count": 69,
   "id": "c17b52bf-ac1e-4056-87e7-f9c5eef86359",
   "metadata": {},
   "outputs": [
    {
     "data": {
      "text/plain": [
       "True"
      ]
     },
     "execution_count": 69,
     "metadata": {},
     "output_type": "execute_result"
    }
   ],
   "source": [
    "s.isnull().values.any()"
   ]
  },
  {
   "cell_type": "markdown",
   "id": "f1ad5530-1d72-4487-b8f5-72795cbebd9b",
   "metadata": {},
   "source": [
    "## Cleaning Not-Null Values"
   ]
  },
  {
   "cell_type": "markdown",
   "id": "8d8147ca-7510-430d-9c9c-0545a673dbe6",
   "metadata": {},
   "source": [
    "##### After dealing with many datasets Ican tell you that 'missing data' is not such a big deal. The best thing that can happen is to clearly see values like 'np.nan'. The only thing you need to do is just use method like 'isnull' abd 'fillna'/'dropna' and pandas will take care of the rest.\n",
    "\n",
    "##### But sometimes, you can have invalid values that are not just 'missing data' ('None' or nan') for example"
   ]
  },
  {
   "cell_type": "code",
   "execution_count": 70,
   "id": "f7fb8750-2e18-4cb0-9792-16db9d3a79b2",
   "metadata": {},
   "outputs": [
    {
     "data": {
      "text/html": [
       "<div>\n",
       "<style scoped>\n",
       "    .dataframe tbody tr th:only-of-type {\n",
       "        vertical-align: middle;\n",
       "    }\n",
       "\n",
       "    .dataframe tbody tr th {\n",
       "        vertical-align: top;\n",
       "    }\n",
       "\n",
       "    .dataframe thead th {\n",
       "        text-align: right;\n",
       "    }\n",
       "</style>\n",
       "<table border=\"1\" class=\"dataframe\">\n",
       "  <thead>\n",
       "    <tr style=\"text-align: right;\">\n",
       "      <th></th>\n",
       "      <th>Sex</th>\n",
       "      <th>Age</th>\n",
       "    </tr>\n",
       "  </thead>\n",
       "  <tbody>\n",
       "    <tr>\n",
       "      <th>0</th>\n",
       "      <td>M</td>\n",
       "      <td>29</td>\n",
       "    </tr>\n",
       "    <tr>\n",
       "      <th>1</th>\n",
       "      <td>F</td>\n",
       "      <td>30</td>\n",
       "    </tr>\n",
       "    <tr>\n",
       "      <th>2</th>\n",
       "      <td>F</td>\n",
       "      <td>24</td>\n",
       "    </tr>\n",
       "    <tr>\n",
       "      <th>3</th>\n",
       "      <td>D</td>\n",
       "      <td>290</td>\n",
       "    </tr>\n",
       "    <tr>\n",
       "      <th>4</th>\n",
       "      <td>?</td>\n",
       "      <td>25</td>\n",
       "    </tr>\n",
       "  </tbody>\n",
       "</table>\n",
       "</div>"
      ],
      "text/plain": [
       "  Sex  Age\n",
       "0   M   29\n",
       "1   F   30\n",
       "2   F   24\n",
       "3   D  290\n",
       "4   ?   25"
      ]
     },
     "execution_count": 70,
     "metadata": {},
     "output_type": "execute_result"
    }
   ],
   "source": [
    "df = pd.DataFrame({\n",
    "    'Sex': ['M', 'F', 'F', 'D', '?'],\n",
    "    'Age': [29, 30, 24, 290, 25],})\n",
    "df"
   ]
  },
  {
   "cell_type": "markdown",
   "id": "48098d55-9764-4b8d-8223-6d65df99646a",
   "metadata": {},
   "source": [
    "##### The previous 'DataFrame' doesn't have any 'missing value', but clearly has invalid data. '290 doesn't seem like a calid age and 'D' and '?' do not correspond with any known sex category. How can you clean these not-missing but clearly invalid values then?"
   ]
  },
  {
   "cell_type": "markdown",
   "id": "e1d71667-1374-4599-995d-0ce361cae4a8",
   "metadata": {},
   "source": [
    "## Finding Unique Values"
   ]
  },
  {
   "cell_type": "markdown",
   "id": "d1d119f6-cf44-4f09-a61c-3c5fc61e4518",
   "metadata": {},
   "source": [
    "##### The first step to clean invalid values is to notice them, then identify them and finally handle them appropriately (remove them, replace them, etc). Usually, for a 'categorical' type of field (like Sex, which only takes values of a discrete set ('M', 'F'), we start by analyzing the variety of values present for that, we use the 'unique()' method:"
   ]
  },
  {
   "cell_type": "code",
   "execution_count": 71,
   "id": "f844f887-6529-4c7a-bb40-525b48c327e2",
   "metadata": {},
   "outputs": [
    {
     "data": {
      "text/plain": [
       "array(['M', 'F', 'D', '?'], dtype=object)"
      ]
     },
     "execution_count": 71,
     "metadata": {},
     "output_type": "execute_result"
    }
   ],
   "source": [
    "df['Sex'].unique()"
   ]
  },
  {
   "cell_type": "code",
   "execution_count": 72,
   "id": "a5401972-0089-4eca-be0b-de5888e3511d",
   "metadata": {},
   "outputs": [
    {
     "data": {
      "text/plain": [
       "F    2\n",
       "M    1\n",
       "D    1\n",
       "?    1\n",
       "Name: Sex, dtype: int64"
      ]
     },
     "execution_count": 72,
     "metadata": {},
     "output_type": "execute_result"
    }
   ],
   "source": [
    "df['Sex'].value_counts()"
   ]
  },
  {
   "cell_type": "markdown",
   "id": "78f9e3e4-a230-436c-bfb1-24ce02693333",
   "metadata": {},
   "source": [
    "##### Clearly, if you see values like 'D' or '?', it'll immediatel raise your attention. Now, what to do with them? Let's say you picked up the phone, called the survey company and they told you that 'D' was a typo and it should actually be 'F'. You can use the 'replace' function to replace these values:"
   ]
  },
  {
   "cell_type": "code",
   "execution_count": 73,
   "id": "cf3f0ef1-9c96-48df-965f-1490349ee99c",
   "metadata": {},
   "outputs": [
    {
     "data": {
      "text/plain": [
       "0    M\n",
       "1    F\n",
       "2    F\n",
       "3    F\n",
       "4    ?\n",
       "Name: Sex, dtype: object"
      ]
     },
     "execution_count": 73,
     "metadata": {},
     "output_type": "execute_result"
    }
   ],
   "source": [
    "df['Sex'].replace('D', 'F')"
   ]
  },
  {
   "cell_type": "markdown",
   "id": "237ca431-4a00-4598-9932-57b2e5cbfe76",
   "metadata": {},
   "source": [
    "##### It can accept a dictionary of values to replace. For example, they also told you that there might be a few 'N's, that should actually be 'M's:"
   ]
  },
  {
   "cell_type": "code",
   "execution_count": 74,
   "id": "90b83eb6-117d-4a59-b433-09b789aef11c",
   "metadata": {},
   "outputs": [
    {
     "data": {
      "text/plain": [
       "0    M\n",
       "1    F\n",
       "2    F\n",
       "3    F\n",
       "4    ?\n",
       "Name: Sex, dtype: object"
      ]
     },
     "execution_count": 74,
     "metadata": {},
     "output_type": "execute_result"
    }
   ],
   "source": [
    "df['Sex'].replace({'D': 'F', 'N' : 'M'})"
   ]
  },
  {
   "cell_type": "markdown",
   "id": "7378c945-63db-4408-9324-64ac0145e392",
   "metadata": {},
   "source": [
    "##### If you have columns to replace, you could apply it at 'DataFrame level':"
   ]
  },
  {
   "cell_type": "code",
   "execution_count": 75,
   "id": "1d2d8d88-9796-4a29-88ba-52da09e7ad99",
   "metadata": {},
   "outputs": [
    {
     "data": {
      "text/html": [
       "<div>\n",
       "<style scoped>\n",
       "    .dataframe tbody tr th:only-of-type {\n",
       "        vertical-align: middle;\n",
       "    }\n",
       "\n",
       "    .dataframe tbody tr th {\n",
       "        vertical-align: top;\n",
       "    }\n",
       "\n",
       "    .dataframe thead th {\n",
       "        text-align: right;\n",
       "    }\n",
       "</style>\n",
       "<table border=\"1\" class=\"dataframe\">\n",
       "  <thead>\n",
       "    <tr style=\"text-align: right;\">\n",
       "      <th></th>\n",
       "      <th>Sex</th>\n",
       "      <th>Age</th>\n",
       "    </tr>\n",
       "  </thead>\n",
       "  <tbody>\n",
       "    <tr>\n",
       "      <th>0</th>\n",
       "      <td>M</td>\n",
       "      <td>29</td>\n",
       "    </tr>\n",
       "    <tr>\n",
       "      <th>1</th>\n",
       "      <td>F</td>\n",
       "      <td>30</td>\n",
       "    </tr>\n",
       "    <tr>\n",
       "      <th>2</th>\n",
       "      <td>F</td>\n",
       "      <td>24</td>\n",
       "    </tr>\n",
       "    <tr>\n",
       "      <th>3</th>\n",
       "      <td>F</td>\n",
       "      <td>29</td>\n",
       "    </tr>\n",
       "    <tr>\n",
       "      <th>4</th>\n",
       "      <td>?</td>\n",
       "      <td>25</td>\n",
       "    </tr>\n",
       "  </tbody>\n",
       "</table>\n",
       "</div>"
      ],
      "text/plain": [
       "  Sex  Age\n",
       "0   M   29\n",
       "1   F   30\n",
       "2   F   24\n",
       "3   F   29\n",
       "4   ?   25"
      ]
     },
     "execution_count": 75,
     "metadata": {},
     "output_type": "execute_result"
    }
   ],
   "source": [
    "df.replace({'Sex': {'D' : 'F','N' :'M'},\n",
    "            'Age' : {290: 29}})"
   ]
  },
  {
   "cell_type": "markdown",
   "id": "d3a8f48d-15e8-4ba5-81e9-4d1ab65d0d6e",
   "metadata": {},
   "source": [
    "##### In the previous example, I explicitly replaced 290 with 29 (assuming it was just an extra 0 entered at data-entry phase). But what if you'd like to remove all the extra 0s from the ages columns? (example '150 > 15', '490 > 49').\n",
    "\n",
    "##### The first step would be to just set the limit of the 'not possible' age. Is it 100?, 200? Let's say that anything above 100 isn't credible for our dataset. we can then combine boolean selection with the operation:"
   ]
  },
  {
   "cell_type": "code",
   "execution_count": 76,
   "id": "cadcfd50-9a49-468a-95fa-7affc97cfbc1",
   "metadata": {},
   "outputs": [
    {
     "data": {
      "text/html": [
       "<div>\n",
       "<style scoped>\n",
       "    .dataframe tbody tr th:only-of-type {\n",
       "        vertical-align: middle;\n",
       "    }\n",
       "\n",
       "    .dataframe tbody tr th {\n",
       "        vertical-align: top;\n",
       "    }\n",
       "\n",
       "    .dataframe thead th {\n",
       "        text-align: right;\n",
       "    }\n",
       "</style>\n",
       "<table border=\"1\" class=\"dataframe\">\n",
       "  <thead>\n",
       "    <tr style=\"text-align: right;\">\n",
       "      <th></th>\n",
       "      <th>Sex</th>\n",
       "      <th>Age</th>\n",
       "    </tr>\n",
       "  </thead>\n",
       "  <tbody>\n",
       "    <tr>\n",
       "      <th>3</th>\n",
       "      <td>D</td>\n",
       "      <td>290</td>\n",
       "    </tr>\n",
       "  </tbody>\n",
       "</table>\n",
       "</div>"
      ],
      "text/plain": [
       "  Sex  Age\n",
       "3   D  290"
      ]
     },
     "execution_count": 76,
     "metadata": {},
     "output_type": "execute_result"
    }
   ],
   "source": [
    "df[df['Age'] > 100]"
   ]
  },
  {
   "cell_type": "markdown",
   "id": "610f1767-81f4-410f-955e-5be83a79b363",
   "metadata": {},
   "source": [
    "##### And we can now just divide by 10 "
   ]
  },
  {
   "cell_type": "code",
   "execution_count": 77,
   "id": "798e51fd-1a54-4025-9b12-59826b7e732f",
   "metadata": {},
   "outputs": [],
   "source": [
    "df.loc[df['Age'] > 100, 'Age'] = df.loc[df['Age'] > 100, 'Age'] / 10"
   ]
  },
  {
   "cell_type": "code",
   "execution_count": 78,
   "id": "7a2acca0-8d3f-47e8-91fa-094acea22539",
   "metadata": {},
   "outputs": [
    {
     "data": {
      "text/html": [
       "<div>\n",
       "<style scoped>\n",
       "    .dataframe tbody tr th:only-of-type {\n",
       "        vertical-align: middle;\n",
       "    }\n",
       "\n",
       "    .dataframe tbody tr th {\n",
       "        vertical-align: top;\n",
       "    }\n",
       "\n",
       "    .dataframe thead th {\n",
       "        text-align: right;\n",
       "    }\n",
       "</style>\n",
       "<table border=\"1\" class=\"dataframe\">\n",
       "  <thead>\n",
       "    <tr style=\"text-align: right;\">\n",
       "      <th></th>\n",
       "      <th>Sex</th>\n",
       "      <th>Age</th>\n",
       "    </tr>\n",
       "  </thead>\n",
       "  <tbody>\n",
       "    <tr>\n",
       "      <th>0</th>\n",
       "      <td>M</td>\n",
       "      <td>29.0</td>\n",
       "    </tr>\n",
       "    <tr>\n",
       "      <th>1</th>\n",
       "      <td>F</td>\n",
       "      <td>30.0</td>\n",
       "    </tr>\n",
       "    <tr>\n",
       "      <th>2</th>\n",
       "      <td>F</td>\n",
       "      <td>24.0</td>\n",
       "    </tr>\n",
       "    <tr>\n",
       "      <th>3</th>\n",
       "      <td>D</td>\n",
       "      <td>29.0</td>\n",
       "    </tr>\n",
       "    <tr>\n",
       "      <th>4</th>\n",
       "      <td>?</td>\n",
       "      <td>25.0</td>\n",
       "    </tr>\n",
       "  </tbody>\n",
       "</table>\n",
       "</div>"
      ],
      "text/plain": [
       "  Sex   Age\n",
       "0   M  29.0\n",
       "1   F  30.0\n",
       "2   F  24.0\n",
       "3   D  29.0\n",
       "4   ?  25.0"
      ]
     },
     "execution_count": 78,
     "metadata": {},
     "output_type": "execute_result"
    }
   ],
   "source": [
    "df"
   ]
  },
  {
   "cell_type": "markdown",
   "id": "2a8411b6-a6af-46ad-a1c4-550d54d08383",
   "metadata": {},
   "source": [
    "## Duplicates"
   ]
  },
  {
   "cell_type": "markdown",
   "id": "4648beb1-02e0-472c-b5b5-0f3bc22b18a9",
   "metadata": {},
   "source": [
    "##### Checking duplicates values is extremelu simple. it'll behave differently between Series and DataFrames. Let's start with Series. As an example, let's say we're throwing a fancy party and we're inviting Ambassadors from Europe. But can only invite onw Ambassador per country. This is our original list and as you can see, both the UK and Germany have duplicate ambassadors"
   ]
  },
  {
   "cell_type": "code",
   "execution_count": 79,
   "id": "3df02124-92e7-4733-b2d6-78bf889ea8c6",
   "metadata": {},
   "outputs": [],
   "source": [
    "ambassadors = pd. Series (['France', 'United Kingdom', 'United Kingdom', 'Italy', 'Germany', 'Germany', 'Germany',],\n",
    "                          index = ['Gerard Araud', 'Kim Darroch', 'Peter Westmacott', 'Armando Varricchio', 'Peter Wittig', 'Peter Ammon', 'Kalus Scharioth'])"
   ]
  },
  {
   "cell_type": "code",
   "execution_count": 80,
   "id": "7cebd179-e678-4f3d-88c2-a0d985195fa2",
   "metadata": {},
   "outputs": [
    {
     "data": {
      "text/plain": [
       "Gerard Araud                  France\n",
       "Kim Darroch           United Kingdom\n",
       "Peter Westmacott      United Kingdom\n",
       "Armando Varricchio             Italy\n",
       "Peter Wittig                 Germany\n",
       "Peter Ammon                  Germany\n",
       "Kalus Scharioth              Germany\n",
       "dtype: object"
      ]
     },
     "execution_count": 80,
     "metadata": {},
     "output_type": "execute_result"
    }
   ],
   "source": [
    "ambassadors"
   ]
  },
  {
   "cell_type": "markdown",
   "id": "1080fa1a-d592-48bb-9851-8b36cf4efd9a",
   "metadata": {},
   "source": [
    "##### The two most imprtant methods to deal with duplicates are 'duplicated' (that will tell you which values are duplicated) and 'drop_duplicates' (which will just get rid of duplicates):"
   ]
  },
  {
   "cell_type": "code",
   "execution_count": 81,
   "id": "ab7b0215-c775-432b-8415-4a49ef41cabd",
   "metadata": {},
   "outputs": [
    {
     "data": {
      "text/plain": [
       "Gerard Araud          False\n",
       "Kim Darroch           False\n",
       "Peter Westmacott       True\n",
       "Armando Varricchio    False\n",
       "Peter Wittig          False\n",
       "Peter Ammon            True\n",
       "Kalus Scharioth        True\n",
       "dtype: bool"
      ]
     },
     "execution_count": 81,
     "metadata": {},
     "output_type": "execute_result"
    }
   ],
   "source": [
    "ambassadors.duplicated()    # returns True from the second occurance"
   ]
  },
  {
   "cell_type": "markdown",
   "id": "25880dd6-a395-4602-9b8d-cc004d70be25",
   "metadata": {},
   "source": [
    "##### In this case 'duplicated' didn't consider 'Kim Darroch', the first instance of the United Kingdom or 'Peter Wittig' as duplicates. That's because, by default, it'll consider the first occurrence of the value as not duplicate. You can change this behaviour with the 'keep parameter'"
   ]
  },
  {
   "cell_type": "code",
   "execution_count": 82,
   "id": "c3758b82-ee87-4755-a635-547c7b3aee03",
   "metadata": {},
   "outputs": [
    {
     "data": {
      "text/plain": [
       "Gerard Araud          False\n",
       "Kim Darroch            True\n",
       "Peter Westmacott      False\n",
       "Armando Varricchio    False\n",
       "Peter Wittig           True\n",
       "Peter Ammon            True\n",
       "Kalus Scharioth       False\n",
       "dtype: bool"
      ]
     },
     "execution_count": 82,
     "metadata": {},
     "output_type": "execute_result"
    }
   ],
   "source": [
    "ambassadors.duplicated(keep='last')"
   ]
  },
  {
   "cell_type": "markdown",
   "id": "c5bb4166-734c-4d72-a6de-9111263ee41f",
   "metadata": {},
   "source": [
    "##### In this case, the result is 'flipped', 'Kim Darroch' and 'Peter Wittig' (the first ambassadors of theri countries) are not considered duplicates, but 'Peter Westmacott' and Klaus Scharioth' are not duplicates. You can also choose to mark all of them as duplicates with the 'keep parameter'"
   ]
  },
  {
   "cell_type": "code",
   "execution_count": 83,
   "id": "de3c4b3d-d0d0-4609-8ece-747cb7ece075",
   "metadata": {},
   "outputs": [
    {
     "data": {
      "text/plain": [
       "Gerard Araud          False\n",
       "Kim Darroch            True\n",
       "Peter Westmacott       True\n",
       "Armando Varricchio    False\n",
       "Peter Wittig           True\n",
       "Peter Ammon            True\n",
       "Kalus Scharioth        True\n",
       "dtype: bool"
      ]
     },
     "execution_count": 83,
     "metadata": {},
     "output_type": "execute_result"
    }
   ],
   "source": [
    "ambassadors.duplicated(keep =False)"
   ]
  },
  {
   "cell_type": "markdown",
   "id": "1974cecf-1d91-4f17-be75-89e818fb06c1",
   "metadata": {},
   "source": [
    "##### A similar method is 'drop_duplicates, which just executes the duplicated values and also accepts the 'keep' parameter:"
   ]
  },
  {
   "cell_type": "code",
   "execution_count": 84,
   "id": "02c0d75e-62c3-492b-9cb9-f36365bba3d2",
   "metadata": {},
   "outputs": [
    {
     "data": {
      "text/plain": [
       "Gerard Araud                  France\n",
       "Kim Darroch           United Kingdom\n",
       "Armando Varricchio             Italy\n",
       "Peter Wittig                 Germany\n",
       "dtype: object"
      ]
     },
     "execution_count": 84,
     "metadata": {},
     "output_type": "execute_result"
    }
   ],
   "source": [
    "ambassadors.drop_duplicates()"
   ]
  },
  {
   "cell_type": "code",
   "execution_count": 85,
   "id": "7b0896fb-b309-41b8-be4b-7b025060c215",
   "metadata": {},
   "outputs": [
    {
     "data": {
      "text/plain": [
       "Gerard Araud                  France\n",
       "Peter Westmacott      United Kingdom\n",
       "Armando Varricchio             Italy\n",
       "Kalus Scharioth              Germany\n",
       "dtype: object"
      ]
     },
     "execution_count": 85,
     "metadata": {},
     "output_type": "execute_result"
    }
   ],
   "source": [
    "ambassadors.drop_duplicates(keep='last')"
   ]
  },
  {
   "cell_type": "code",
   "execution_count": 86,
   "id": "0c6346f3-0d52-4247-b529-00638f9a324a",
   "metadata": {},
   "outputs": [
    {
     "data": {
      "text/plain": [
       "Gerard Araud          France\n",
       "Armando Varricchio     Italy\n",
       "dtype: object"
      ]
     },
     "execution_count": 86,
     "metadata": {},
     "output_type": "execute_result"
    }
   ],
   "source": [
    "ambassadors.drop_duplicates(keep=False)"
   ]
  },
  {
   "cell_type": "markdown",
   "id": "79bfcddb-3af5-4229-b7b8-460fa1995557",
   "metadata": {},
   "source": [
    "## Duplicates in DataFrame"
   ]
  },
  {
   "cell_type": "markdown",
   "id": "8fd5cc02-52e4-4311-a1c1-70311bbe3e87",
   "metadata": {},
   "source": [
    "##### Conceptually speaking, duplicates in DataFrame happen at 'row' level. Two rows with exactly the same values are considered to be duplicates:"
   ]
  },
  {
   "cell_type": "code",
   "execution_count": 87,
   "id": "05dc9639-ca08-41f8-9f91-4a8890064dde",
   "metadata": {},
   "outputs": [],
   "source": [
    "players=pd.DataFrame({'Name': ['Kobe Bryant', 'LeBron James','Kobe Bryant', 'Carmelo Anthony', 'Kobe Bryant'],\n",
    "                      'Pos': ['SG', 'SF', 'SG', 'SF', 'SF',]})"
   ]
  },
  {
   "cell_type": "code",
   "execution_count": 88,
   "id": "48e6962c-4823-42fd-8976-12d082dc5acf",
   "metadata": {},
   "outputs": [
    {
     "data": {
      "text/html": [
       "<div>\n",
       "<style scoped>\n",
       "    .dataframe tbody tr th:only-of-type {\n",
       "        vertical-align: middle;\n",
       "    }\n",
       "\n",
       "    .dataframe tbody tr th {\n",
       "        vertical-align: top;\n",
       "    }\n",
       "\n",
       "    .dataframe thead th {\n",
       "        text-align: right;\n",
       "    }\n",
       "</style>\n",
       "<table border=\"1\" class=\"dataframe\">\n",
       "  <thead>\n",
       "    <tr style=\"text-align: right;\">\n",
       "      <th></th>\n",
       "      <th>Name</th>\n",
       "      <th>Pos</th>\n",
       "    </tr>\n",
       "  </thead>\n",
       "  <tbody>\n",
       "    <tr>\n",
       "      <th>0</th>\n",
       "      <td>Kobe Bryant</td>\n",
       "      <td>SG</td>\n",
       "    </tr>\n",
       "    <tr>\n",
       "      <th>1</th>\n",
       "      <td>LeBron James</td>\n",
       "      <td>SF</td>\n",
       "    </tr>\n",
       "    <tr>\n",
       "      <th>2</th>\n",
       "      <td>Kobe Bryant</td>\n",
       "      <td>SG</td>\n",
       "    </tr>\n",
       "    <tr>\n",
       "      <th>3</th>\n",
       "      <td>Carmelo Anthony</td>\n",
       "      <td>SF</td>\n",
       "    </tr>\n",
       "    <tr>\n",
       "      <th>4</th>\n",
       "      <td>Kobe Bryant</td>\n",
       "      <td>SF</td>\n",
       "    </tr>\n",
       "  </tbody>\n",
       "</table>\n",
       "</div>"
      ],
      "text/plain": [
       "              Name Pos\n",
       "0      Kobe Bryant  SG\n",
       "1     LeBron James  SF\n",
       "2      Kobe Bryant  SG\n",
       "3  Carmelo Anthony  SF\n",
       "4      Kobe Bryant  SF"
      ]
     },
     "execution_count": 88,
     "metadata": {},
     "output_type": "execute_result"
    }
   ],
   "source": [
    "players"
   ]
  },
  {
   "cell_type": "markdown",
   "id": "58ecb16a-c943-4be0-8e28-4398ca5f9f32",
   "metadata": {},
   "source": [
    "##### In the previous DataFrame, we clearly see that Kobe is duplicated, but he appears with two different positions. What does 'duplicated' say?"
   ]
  },
  {
   "cell_type": "code",
   "execution_count": 89,
   "id": "e694a3fb-296a-4876-b135-49ccb515eea2",
   "metadata": {},
   "outputs": [
    {
     "data": {
      "text/plain": [
       "0    False\n",
       "1    False\n",
       "2     True\n",
       "3    False\n",
       "4    False\n",
       "dtype: bool"
      ]
     },
     "execution_count": 89,
     "metadata": {},
     "output_type": "execute_result"
    }
   ],
   "source": [
    "players.duplicated()"
   ]
  },
  {
   "cell_type": "markdown",
   "id": "edc321f4-8ee3-4ed3-bdc9-0dedd1029cf4",
   "metadata": {},
   "source": [
    "##### Again, conceptually, 'duplicated' means 'all the column values should be duplicated'. We can customise this with the 'subset' parameter:"
   ]
  },
  {
   "cell_type": "code",
   "execution_count": 90,
   "id": "8c5b8e93-7820-4d61-a062-f18048076065",
   "metadata": {},
   "outputs": [
    {
     "data": {
      "text/plain": [
       "0    False\n",
       "1    False\n",
       "2     True\n",
       "3    False\n",
       "4     True\n",
       "dtype: bool"
      ]
     },
     "execution_count": 90,
     "metadata": {},
     "output_type": "execute_result"
    }
   ],
   "source": [
    "players.duplicated(subset=['Name'])"
   ]
  },
  {
   "cell_type": "markdown",
   "id": "e877be68-c37f-4c22-b272-3fcd71b33345",
   "metadata": {},
   "source": [
    "##### And the same rules of 'keep' still apply\""
   ]
  },
  {
   "cell_type": "code",
   "execution_count": 91,
   "id": "424d4d5a-fedd-48ee-949e-1913ca37d3e6",
   "metadata": {},
   "outputs": [
    {
     "data": {
      "text/plain": [
       "0     True\n",
       "1    False\n",
       "2     True\n",
       "3    False\n",
       "4    False\n",
       "dtype: bool"
      ]
     },
     "execution_count": 91,
     "metadata": {},
     "output_type": "execute_result"
    }
   ],
   "source": [
    "players.duplicated(subset=['Name'], keep='last')"
   ]
  },
  {
   "cell_type": "markdown",
   "id": "7ba95a00-6d97-4727-bc0e-6a4ae493c6b3",
   "metadata": {},
   "source": [
    "##### 'drop_duplicates' takes the same parameter"
   ]
  },
  {
   "cell_type": "code",
   "execution_count": 92,
   "id": "c30a6e92-7c36-415c-8639-9f420d585424",
   "metadata": {},
   "outputs": [
    {
     "data": {
      "text/html": [
       "<div>\n",
       "<style scoped>\n",
       "    .dataframe tbody tr th:only-of-type {\n",
       "        vertical-align: middle;\n",
       "    }\n",
       "\n",
       "    .dataframe tbody tr th {\n",
       "        vertical-align: top;\n",
       "    }\n",
       "\n",
       "    .dataframe thead th {\n",
       "        text-align: right;\n",
       "    }\n",
       "</style>\n",
       "<table border=\"1\" class=\"dataframe\">\n",
       "  <thead>\n",
       "    <tr style=\"text-align: right;\">\n",
       "      <th></th>\n",
       "      <th>Name</th>\n",
       "      <th>Pos</th>\n",
       "    </tr>\n",
       "  </thead>\n",
       "  <tbody>\n",
       "    <tr>\n",
       "      <th>0</th>\n",
       "      <td>Kobe Bryant</td>\n",
       "      <td>SG</td>\n",
       "    </tr>\n",
       "    <tr>\n",
       "      <th>1</th>\n",
       "      <td>LeBron James</td>\n",
       "      <td>SF</td>\n",
       "    </tr>\n",
       "    <tr>\n",
       "      <th>3</th>\n",
       "      <td>Carmelo Anthony</td>\n",
       "      <td>SF</td>\n",
       "    </tr>\n",
       "    <tr>\n",
       "      <th>4</th>\n",
       "      <td>Kobe Bryant</td>\n",
       "      <td>SF</td>\n",
       "    </tr>\n",
       "  </tbody>\n",
       "</table>\n",
       "</div>"
      ],
      "text/plain": [
       "              Name Pos\n",
       "0      Kobe Bryant  SG\n",
       "1     LeBron James  SF\n",
       "3  Carmelo Anthony  SF\n",
       "4      Kobe Bryant  SF"
      ]
     },
     "execution_count": 92,
     "metadata": {},
     "output_type": "execute_result"
    }
   ],
   "source": [
    "players.drop_duplicates()"
   ]
  },
  {
   "cell_type": "code",
   "execution_count": 93,
   "id": "8318be9d-de42-46e7-ac31-798cc9299171",
   "metadata": {},
   "outputs": [
    {
     "data": {
      "text/plain": [
       "0    False\n",
       "1    False\n",
       "2     True\n",
       "3    False\n",
       "4     True\n",
       "dtype: bool"
      ]
     },
     "execution_count": 93,
     "metadata": {},
     "output_type": "execute_result"
    }
   ],
   "source": [
    "players.duplicated(subset=['Name'])"
   ]
  },
  {
   "cell_type": "code",
   "execution_count": 94,
   "id": "8b111fc3-df55-42b4-a3a9-7c89435d958d",
   "metadata": {},
   "outputs": [
    {
     "data": {
      "text/plain": [
       "0     True\n",
       "1    False\n",
       "2     True\n",
       "3    False\n",
       "4    False\n",
       "dtype: bool"
      ]
     },
     "execution_count": 94,
     "metadata": {},
     "output_type": "execute_result"
    }
   ],
   "source": [
    "players.duplicated(subset=['Name'], keep='last')"
   ]
  },
  {
   "cell_type": "markdown",
   "id": "5c7227da-cf8f-4e31-a556-58a58e534cdd",
   "metadata": {},
   "source": [
    "## Text Handling"
   ]
  },
  {
   "cell_type": "markdown",
   "id": "e105153f-ee61-46f6-8036-2a2aa55b58e6",
   "metadata": {},
   "source": [
    "##### Clearing text values can be incredinly hard. Invalid text values involves 99% of the time, mistyping, which is comletely unpredictable and doesn't follow any pattern. Thankfully, it's not so common these days, where data-entry tasks have been replaced by machines. Still let's explore the most common cases:"
   ]
  },
  {
   "cell_type": "markdown",
   "id": "53bb45dc-6ac8-49cb-8a4a-cd70c366a2a0",
   "metadata": {},
   "source": [
    "## Splitting Columns"
   ]
  },
  {
   "cell_type": "markdown",
   "id": "0570c7c0-90ba-47d7-aaa7-687662056c81",
   "metadata": {},
   "source": [
    "##### The result of a survey is loaded and this is what you get:"
   ]
  },
  {
   "cell_type": "code",
   "execution_count": 95,
   "id": "fdef0637-0488-479e-952b-424998edf608",
   "metadata": {},
   "outputs": [],
   "source": [
    "df=pd.DataFrame({'Data': ['1987_M_US_1', '1998_M_UK_1', '1992_F_US_2', '1970_M_  IT_1', '1985_F_I  T_2']})"
   ]
  },
  {
   "cell_type": "code",
   "execution_count": 96,
   "id": "591403d1-b9d6-48cb-9322-8a60c4d839f2",
   "metadata": {},
   "outputs": [
    {
     "data": {
      "text/html": [
       "<div>\n",
       "<style scoped>\n",
       "    .dataframe tbody tr th:only-of-type {\n",
       "        vertical-align: middle;\n",
       "    }\n",
       "\n",
       "    .dataframe tbody tr th {\n",
       "        vertical-align: top;\n",
       "    }\n",
       "\n",
       "    .dataframe thead th {\n",
       "        text-align: right;\n",
       "    }\n",
       "</style>\n",
       "<table border=\"1\" class=\"dataframe\">\n",
       "  <thead>\n",
       "    <tr style=\"text-align: right;\">\n",
       "      <th></th>\n",
       "      <th>Data</th>\n",
       "    </tr>\n",
       "  </thead>\n",
       "  <tbody>\n",
       "    <tr>\n",
       "      <th>0</th>\n",
       "      <td>1987_M_US_1</td>\n",
       "    </tr>\n",
       "    <tr>\n",
       "      <th>1</th>\n",
       "      <td>1998_M_UK_1</td>\n",
       "    </tr>\n",
       "    <tr>\n",
       "      <th>2</th>\n",
       "      <td>1992_F_US_2</td>\n",
       "    </tr>\n",
       "    <tr>\n",
       "      <th>3</th>\n",
       "      <td>1970_M_  IT_1</td>\n",
       "    </tr>\n",
       "    <tr>\n",
       "      <th>4</th>\n",
       "      <td>1985_F_I  T_2</td>\n",
       "    </tr>\n",
       "  </tbody>\n",
       "</table>\n",
       "</div>"
      ],
      "text/plain": [
       "            Data\n",
       "0    1987_M_US_1\n",
       "1    1998_M_UK_1\n",
       "2    1992_F_US_2\n",
       "3  1970_M_  IT_1\n",
       "4  1985_F_I  T_2"
      ]
     },
     "execution_count": 96,
     "metadata": {},
     "output_type": "execute_result"
    }
   ],
   "source": [
    "df"
   ]
  },
  {
   "cell_type": "code",
   "execution_count": 97,
   "id": "1b2d0e37-c648-4acf-8e39-7640a658529e",
   "metadata": {},
   "outputs": [
    {
     "data": {
      "text/plain": [
       "<bound method DataFrame.info of             Data\n",
       "0    1987_M_US_1\n",
       "1    1998_M_UK_1\n",
       "2    1992_F_US_2\n",
       "3  1970_M_  IT_1\n",
       "4  1985_F_I  T_2>"
      ]
     },
     "execution_count": 97,
     "metadata": {},
     "output_type": "execute_result"
    }
   ],
   "source": [
    "df.info"
   ]
  },
  {
   "cell_type": "markdown",
   "id": "c98ebb2f-405d-4461-a730-2b46261413cc",
   "metadata": {},
   "source": [
    "##### You know that the single columns represented the values 'year, Sex, Country and number of children', but it's all been grouped in the same column and separated by an underscore. Pandas has a convenient method named 'split' that can be used in these situations:"
   ]
  },
  {
   "cell_type": "code",
   "execution_count": 98,
   "id": "97993a33-17c2-45e1-a3cf-7fd214a963aa",
   "metadata": {},
   "outputs": [
    {
     "data": {
      "text/plain": [
       "0      [1987, M, US, 1]\n",
       "1      [1998, M, UK, 1]\n",
       "2      [1992, F, US, 2]\n",
       "3    [1970, M,   IT, 1]\n",
       "4    [1985, F, I  T, 2]\n",
       "Name: Data, dtype: object"
      ]
     },
     "execution_count": 98,
     "metadata": {},
     "output_type": "execute_result"
    }
   ],
   "source": [
    "df['Data'].str.split('_')"
   ]
  },
  {
   "cell_type": "code",
   "execution_count": 99,
   "id": "12614223-d2fb-4355-b90e-1d52ed61e646",
   "metadata": {},
   "outputs": [
    {
     "data": {
      "text/html": [
       "<div>\n",
       "<style scoped>\n",
       "    .dataframe tbody tr th:only-of-type {\n",
       "        vertical-align: middle;\n",
       "    }\n",
       "\n",
       "    .dataframe tbody tr th {\n",
       "        vertical-align: top;\n",
       "    }\n",
       "\n",
       "    .dataframe thead th {\n",
       "        text-align: right;\n",
       "    }\n",
       "</style>\n",
       "<table border=\"1\" class=\"dataframe\">\n",
       "  <thead>\n",
       "    <tr style=\"text-align: right;\">\n",
       "      <th></th>\n",
       "      <th>0</th>\n",
       "      <th>1</th>\n",
       "      <th>2</th>\n",
       "      <th>3</th>\n",
       "    </tr>\n",
       "  </thead>\n",
       "  <tbody>\n",
       "    <tr>\n",
       "      <th>0</th>\n",
       "      <td>1987</td>\n",
       "      <td>M</td>\n",
       "      <td>US</td>\n",
       "      <td>1</td>\n",
       "    </tr>\n",
       "    <tr>\n",
       "      <th>1</th>\n",
       "      <td>1998</td>\n",
       "      <td>M</td>\n",
       "      <td>UK</td>\n",
       "      <td>1</td>\n",
       "    </tr>\n",
       "    <tr>\n",
       "      <th>2</th>\n",
       "      <td>1992</td>\n",
       "      <td>F</td>\n",
       "      <td>US</td>\n",
       "      <td>2</td>\n",
       "    </tr>\n",
       "    <tr>\n",
       "      <th>3</th>\n",
       "      <td>1970</td>\n",
       "      <td>M</td>\n",
       "      <td>IT</td>\n",
       "      <td>1</td>\n",
       "    </tr>\n",
       "    <tr>\n",
       "      <th>4</th>\n",
       "      <td>1985</td>\n",
       "      <td>F</td>\n",
       "      <td>I  T</td>\n",
       "      <td>2</td>\n",
       "    </tr>\n",
       "  </tbody>\n",
       "</table>\n",
       "</div>"
      ],
      "text/plain": [
       "      0  1     2  3\n",
       "0  1987  M    US  1\n",
       "1  1998  M    UK  1\n",
       "2  1992  F    US  2\n",
       "3  1970  M    IT  1\n",
       "4  1985  F  I  T  2"
      ]
     },
     "execution_count": 99,
     "metadata": {},
     "output_type": "execute_result"
    }
   ],
   "source": [
    "df['Data'].str.split('_', expand = True)"
   ]
  },
  {
   "cell_type": "code",
   "execution_count": 100,
   "id": "8073a51a-db41-4e59-8421-331a7a040350",
   "metadata": {},
   "outputs": [],
   "source": [
    "df = df['Data'].str.split('_', expand = True)"
   ]
  },
  {
   "cell_type": "code",
   "execution_count": 101,
   "id": "cb6f0378-2c8f-4abe-8a52-11e7fa980929",
   "metadata": {},
   "outputs": [],
   "source": [
    "df.columns = ['Year', 'Sex', 'Country', 'No Children']"
   ]
  },
  {
   "cell_type": "markdown",
   "id": "0a551fca-8808-468f-bbe5-b680467937b8",
   "metadata": {},
   "source": [
    "##### You can also check which columns contains a given value with the 'contains' method."
   ]
  },
  {
   "cell_type": "code",
   "execution_count": 102,
   "id": "06cfbdf8-14d4-42b8-b2fc-1ab8bcb3075f",
   "metadata": {},
   "outputs": [
    {
     "data": {
      "text/html": [
       "<div>\n",
       "<style scoped>\n",
       "    .dataframe tbody tr th:only-of-type {\n",
       "        vertical-align: middle;\n",
       "    }\n",
       "\n",
       "    .dataframe tbody tr th {\n",
       "        vertical-align: top;\n",
       "    }\n",
       "\n",
       "    .dataframe thead th {\n",
       "        text-align: right;\n",
       "    }\n",
       "</style>\n",
       "<table border=\"1\" class=\"dataframe\">\n",
       "  <thead>\n",
       "    <tr style=\"text-align: right;\">\n",
       "      <th></th>\n",
       "      <th>Year</th>\n",
       "      <th>Sex</th>\n",
       "      <th>Country</th>\n",
       "      <th>No Children</th>\n",
       "    </tr>\n",
       "  </thead>\n",
       "  <tbody>\n",
       "    <tr>\n",
       "      <th>0</th>\n",
       "      <td>1987</td>\n",
       "      <td>M</td>\n",
       "      <td>US</td>\n",
       "      <td>1</td>\n",
       "    </tr>\n",
       "    <tr>\n",
       "      <th>1</th>\n",
       "      <td>1998</td>\n",
       "      <td>M</td>\n",
       "      <td>UK</td>\n",
       "      <td>1</td>\n",
       "    </tr>\n",
       "    <tr>\n",
       "      <th>2</th>\n",
       "      <td>1992</td>\n",
       "      <td>F</td>\n",
       "      <td>US</td>\n",
       "      <td>2</td>\n",
       "    </tr>\n",
       "    <tr>\n",
       "      <th>3</th>\n",
       "      <td>1970</td>\n",
       "      <td>M</td>\n",
       "      <td>IT</td>\n",
       "      <td>1</td>\n",
       "    </tr>\n",
       "    <tr>\n",
       "      <th>4</th>\n",
       "      <td>1985</td>\n",
       "      <td>F</td>\n",
       "      <td>I  T</td>\n",
       "      <td>2</td>\n",
       "    </tr>\n",
       "  </tbody>\n",
       "</table>\n",
       "</div>"
      ],
      "text/plain": [
       "   Year Sex Country No Children\n",
       "0  1987   M      US           1\n",
       "1  1998   M      UK           1\n",
       "2  1992   F      US           2\n",
       "3  1970   M      IT           1\n",
       "4  1985   F    I  T           2"
      ]
     },
     "execution_count": 102,
     "metadata": {},
     "output_type": "execute_result"
    }
   ],
   "source": [
    "df"
   ]
  },
  {
   "cell_type": "code",
   "execution_count": 103,
   "id": "b5a13d0d-f12f-4cee-9755-f60da1743d8c",
   "metadata": {},
   "outputs": [
    {
     "data": {
      "text/plain": [
       "0    False\n",
       "1    False\n",
       "2    False\n",
       "3    False\n",
       "4    False\n",
       "Name: Year, dtype: bool"
      ]
     },
     "execution_count": 103,
     "metadata": {},
     "output_type": "execute_result"
    }
   ],
   "source": [
    "df['Year'].str.contains('\\?')"
   ]
  },
  {
   "cell_type": "markdown",
   "id": "e506a0d2-7f86-43b4-a12c-f4a051524c27",
   "metadata": {},
   "source": [
    "##### Contains takes a regex/pattern as first values, so we need to escape the '?' symbol as it has a specual meaning for these patterns. Regular letters don't need escaping"
   ]
  },
  {
   "cell_type": "code",
   "execution_count": 104,
   "id": "d45dbdd1-93be-4bd7-b82e-283b1bf38fd5",
   "metadata": {},
   "outputs": [
    {
     "data": {
      "text/plain": [
       "0     True\n",
       "1     True\n",
       "2     True\n",
       "3    False\n",
       "4    False\n",
       "Name: Country, dtype: bool"
      ]
     },
     "execution_count": 104,
     "metadata": {},
     "output_type": "execute_result"
    }
   ],
   "source": [
    "df['Country'].str.contains('U')"
   ]
  },
  {
   "cell_type": "markdown",
   "id": "5258c77c-61fb-4cde-8169-261e930c28a1",
   "metadata": {},
   "source": [
    "##### Removing blank spaces like in 'US' or 'I   T' can be achieved with 'strip' ('lstirp' and 'rstrip' also exist) or just 'replace'"
   ]
  },
  {
   "cell_type": "code",
   "execution_count": 105,
   "id": "5f4122c3-f8d7-4e13-be48-94c2e2ca154e",
   "metadata": {},
   "outputs": [
    {
     "data": {
      "text/plain": [
       "0      US\n",
       "1      UK\n",
       "2      US\n",
       "3      IT\n",
       "4    I  T\n",
       "Name: Country, dtype: object"
      ]
     },
     "execution_count": 105,
     "metadata": {},
     "output_type": "execute_result"
    }
   ],
   "source": [
    "df['Country'].str.strip()"
   ]
  },
  {
   "cell_type": "code",
   "execution_count": 106,
   "id": "7f5287bd-d65b-4867-8579-63874262977f",
   "metadata": {},
   "outputs": [
    {
     "data": {
      "text/plain": [
       "0      US\n",
       "1      UK\n",
       "2      US\n",
       "3      IT\n",
       "4    I  T\n",
       "Name: Country, dtype: object"
      ]
     },
     "execution_count": 106,
     "metadata": {},
     "output_type": "execute_result"
    }
   ],
   "source": [
    "df['Country'].str.replace('','')"
   ]
  },
  {
   "cell_type": "markdown",
   "id": "9b6c43de-afac-4f46-993b-0d1a04b4b411",
   "metadata": {},
   "source": [
    "##### As we said, 'replace' and 'contains' take regex patterns, which can make it easier to replace values in bulk:"
   ]
  },
  {
   "cell_type": "code",
   "execution_count": 107,
   "id": "b93a39ac-f38e-4100-bbbd-c502b93c57d9",
   "metadata": {},
   "outputs": [
    {
     "name": "stderr",
     "output_type": "stream",
     "text": [
      "C:\\Users\\ifybe\\AppData\\Local\\Temp/ipykernel_140/2331653364.py:1: FutureWarning: The default value of regex will change from True to False in a future version.\n",
      "  df['Year'].str.replace(r'(?P<year>\\d{4})\\?', lambda m: m.group('year'))\n"
     ]
    },
    {
     "data": {
      "text/plain": [
       "0    1987\n",
       "1    1998\n",
       "2    1992\n",
       "3    1970\n",
       "4    1985\n",
       "Name: Year, dtype: object"
      ]
     },
     "execution_count": 107,
     "metadata": {},
     "output_type": "execute_result"
    }
   ],
   "source": [
    "df['Year'].str.replace(r'(?P<year>\\d{4})\\?', lambda m: m.group('year'))"
   ]
  },
  {
   "cell_type": "markdown",
   "id": "faff3d65-09e7-4563-bcee-4945236665ff",
   "metadata": {},
   "source": [
    "##### But be warned:\n",
    "\n",
    "#####     Some people, when confronted with a problem, think 'I know, i'll use regular expressions'. Now they have two        problems.\n",
    "\n",
    "##### As you can see, all these sting/text-related operatons are applied over the 'str' attribute of the series. That's because they have a special place in Series handling and you can read more about it"
   ]
  },
  {
   "cell_type": "markdown",
   "id": "1ca8c68d-9092-42be-b2c9-7f50062229a7",
   "metadata": {},
   "source": [
    "## Data Cleaning in Python Practical Examples"
   ]
  },
  {
   "cell_type": "markdown",
   "id": "e00bd55c-3f75-4fe5-9cc6-533967b83dbb",
   "metadata": {},
   "source": [
    "### Loading or RReading the File\n",
    "\n",
    "##### *Encoding Error\n",
    "##### *Inconsistent rows"
   ]
  },
  {
   "cell_type": "code",
   "execution_count": 108,
   "id": "4e010aeb-6cb3-418f-b41b-6f6d62ff1a39",
   "metadata": {},
   "outputs": [],
   "source": [
    "df = pd.read_csv(\"C:\\\\Users\\\\ifybe\\\\OneDrive\\\\Desktop\\\\Data Science\\\\Class Downloads for Data Science\\\\Unclean+data+set.csv\")"
   ]
  },
  {
   "cell_type": "markdown",
   "id": "c3f0553d-c79e-406d-82b4-a8c1cbc33c4e",
   "metadata": {},
   "source": [
    "###### UTC Encoding "
   ]
  },
  {
   "cell_type": "code",
   "execution_count": 109,
   "id": "834238cc-7f7f-49cb-b864-770ad7037a34",
   "metadata": {},
   "outputs": [],
   "source": [
    "df1 = pd.read_csv((\"C:\\\\Users\\\\ifybe\\\\OneDrive\\\\Desktop\\\\Data Science\\\\Class Downloads for Data Science\\\\Unclean+data+set.csv\"), encoding = 'latin1')"
   ]
  },
  {
   "cell_type": "code",
   "execution_count": 110,
   "id": "99931649-d7ab-432d-bad6-c2059947209c",
   "metadata": {},
   "outputs": [
    {
     "data": {
      "text/html": [
       "<div>\n",
       "<style scoped>\n",
       "    .dataframe tbody tr th:only-of-type {\n",
       "        vertical-align: middle;\n",
       "    }\n",
       "\n",
       "    .dataframe tbody tr th {\n",
       "        vertical-align: top;\n",
       "    }\n",
       "\n",
       "    .dataframe thead th {\n",
       "        text-align: right;\n",
       "    }\n",
       "</style>\n",
       "<table border=\"1\" class=\"dataframe\">\n",
       "  <thead>\n",
       "    <tr style=\"text-align: right;\">\n",
       "      <th></th>\n",
       "      <th>movie_title</th>\n",
       "      <th>num_critic_for_reviews</th>\n",
       "      <th>duration</th>\n",
       "      <th>DIRECTOR_facebook_likes</th>\n",
       "      <th>actor_3_facebook_likes</th>\n",
       "      <th>ACTOR_1_facebook_likes</th>\n",
       "      <th>gross</th>\n",
       "      <th>num_voted_users</th>\n",
       "      <th>Cast_Total_facebook_likes</th>\n",
       "      <th>facenumber_in_poster</th>\n",
       "      <th>num_user_for_reviews</th>\n",
       "      <th>budget</th>\n",
       "      <th>title_year</th>\n",
       "      <th>ACTOR_2_facebook_likes</th>\n",
       "      <th>imdb_score</th>\n",
       "      <th>title_year.1</th>\n",
       "    </tr>\n",
       "  </thead>\n",
       "  <tbody>\n",
       "    <tr>\n",
       "      <th>0</th>\n",
       "      <td>Avatar?ï¿½</td>\n",
       "      <td>723</td>\n",
       "      <td>178.0</td>\n",
       "      <td>10</td>\n",
       "      <td>855</td>\n",
       "      <td>1000</td>\n",
       "      <td>760505847</td>\n",
       "      <td>886204.0</td>\n",
       "      <td>4834.0</td>\n",
       "      <td>NaN</td>\n",
       "      <td>3054</td>\n",
       "      <td>237000000</td>\n",
       "      <td>2009</td>\n",
       "      <td>936.0</td>\n",
       "      <td>7.9</td>\n",
       "      <td>2009.0</td>\n",
       "    </tr>\n",
       "    <tr>\n",
       "      <th>1</th>\n",
       "      <td>Pirates of the Caribbean: At World's End?ï¿½</td>\n",
       "      <td>302</td>\n",
       "      <td>NaN</td>\n",
       "      <td>563</td>\n",
       "      <td>1000</td>\n",
       "      <td>40000</td>\n",
       "      <td>309404152</td>\n",
       "      <td>471220.0</td>\n",
       "      <td>48350.0</td>\n",
       "      <td>NaN</td>\n",
       "      <td>1238</td>\n",
       "      <td>300000000</td>\n",
       "      <td>2007</td>\n",
       "      <td>5000.0</td>\n",
       "      <td>7.1</td>\n",
       "      <td>NaN</td>\n",
       "    </tr>\n",
       "    <tr>\n",
       "      <th>2</th>\n",
       "      <td>Spectre?ï¿½</td>\n",
       "      <td>602</td>\n",
       "      <td>148.0</td>\n",
       "      <td>20</td>\n",
       "      <td>161</td>\n",
       "      <td>11000</td>\n",
       "      <td>200074175</td>\n",
       "      <td>275868.0</td>\n",
       "      <td>11700.0</td>\n",
       "      <td>1.0</td>\n",
       "      <td>994</td>\n",
       "      <td>245000000</td>\n",
       "      <td>2015</td>\n",
       "      <td>393.0</td>\n",
       "      <td>6.8</td>\n",
       "      <td>2015.0</td>\n",
       "    </tr>\n",
       "    <tr>\n",
       "      <th>3</th>\n",
       "      <td>The Dark Knight Rises?ï¿½</td>\n",
       "      <td>813</td>\n",
       "      <td>NaN</td>\n",
       "      <td>22000</td>\n",
       "      <td>23000</td>\n",
       "      <td>27000</td>\n",
       "      <td>448130642</td>\n",
       "      <td>1144337.0</td>\n",
       "      <td>106759.0</td>\n",
       "      <td>NaN</td>\n",
       "      <td>2701</td>\n",
       "      <td>250000000</td>\n",
       "      <td>2012</td>\n",
       "      <td>23000.0</td>\n",
       "      <td>8.5</td>\n",
       "      <td>NaN</td>\n",
       "    </tr>\n",
       "    <tr>\n",
       "      <th>4</th>\n",
       "      <td>John Carter?ï¿½</td>\n",
       "      <td>462</td>\n",
       "      <td>132.0</td>\n",
       "      <td>\"475\"</td>\n",
       "      <td>530</td>\n",
       "      <td>640</td>\n",
       "      <td>73058679</td>\n",
       "      <td>212204.0</td>\n",
       "      <td>1873.0</td>\n",
       "      <td>1.0</td>\n",
       "      <td>738</td>\n",
       "      <td>263700000</td>\n",
       "      <td>2012</td>\n",
       "      <td>632.0</td>\n",
       "      <td>6.6</td>\n",
       "      <td>NaN</td>\n",
       "    </tr>\n",
       "  </tbody>\n",
       "</table>\n",
       "</div>"
      ],
      "text/plain": [
       "                                    movie_title  num_critic_for_reviews  \\\n",
       "0                                    Avatar?ï¿½                     723   \n",
       "1  Pirates of the Caribbean: At World's End?ï¿½                     302   \n",
       "2                                   Spectre?ï¿½                     602   \n",
       "3                     The Dark Knight Rises?ï¿½                     813   \n",
       "4                               John Carter?ï¿½                     462   \n",
       "\n",
       "   duration DIRECTOR_facebook_likes  actor_3_facebook_likes  \\\n",
       "0     178.0                      10                     855   \n",
       "1       NaN                     563                    1000   \n",
       "2     148.0                      20                     161   \n",
       "3       NaN                   22000                   23000   \n",
       "4     132.0                   \"475\"                     530   \n",
       "\n",
       "   ACTOR_1_facebook_likes      gross  num_voted_users  \\\n",
       "0                    1000  760505847         886204.0   \n",
       "1                   40000  309404152         471220.0   \n",
       "2                   11000  200074175         275868.0   \n",
       "3                   27000  448130642        1144337.0   \n",
       "4                     640   73058679         212204.0   \n",
       "\n",
       "   Cast_Total_facebook_likes  facenumber_in_poster  num_user_for_reviews  \\\n",
       "0                     4834.0                   NaN                  3054   \n",
       "1                    48350.0                   NaN                  1238   \n",
       "2                    11700.0                   1.0                   994   \n",
       "3                   106759.0                   NaN                  2701   \n",
       "4                     1873.0                   1.0                   738   \n",
       "\n",
       "      budget  title_year  ACTOR_2_facebook_likes  imdb_score  title_year.1  \n",
       "0  237000000        2009                   936.0         7.9        2009.0  \n",
       "1  300000000        2007                  5000.0         7.1           NaN  \n",
       "2  245000000        2015                   393.0         6.8        2015.0  \n",
       "3  250000000        2012                 23000.0         8.5           NaN  \n",
       "4  263700000        2012                   632.0         6.6           NaN  "
      ]
     },
     "execution_count": 110,
     "metadata": {},
     "output_type": "execute_result"
    }
   ],
   "source": [
    "df1.head()"
   ]
  },
  {
   "cell_type": "code",
   "execution_count": 111,
   "id": "62efc0bc-f7d3-4fd8-a479-0988d07e3c62",
   "metadata": {},
   "outputs": [],
   "source": [
    "# Use Text Editor and Save it as Utf-8, ISO-8859-1, Latin1"
   ]
  },
  {
   "cell_type": "markdown",
   "id": "be079791-af45-44e0-afed-dbddd30fc242",
   "metadata": {},
   "source": [
    "## How to Change the Case to Upper"
   ]
  },
  {
   "cell_type": "code",
   "execution_count": 112,
   "id": "cd92ad92-43b4-4dcd-8637-62e76ae0b8e1",
   "metadata": {},
   "outputs": [
    {
     "data": {
      "text/plain": [
       "Index(['movie_title', 'num_critic_for_reviews', 'duration',\n",
       "       'DIRECTOR_facebook_likes', 'actor_3_facebook_likes',\n",
       "       'ACTOR_1_facebook_likes', 'gross', 'num_voted_users',\n",
       "       'Cast_Total_facebook_likes', 'facenumber_in_poster',\n",
       "       'num_user_for_reviews', 'budget', 'title_year',\n",
       "       'ACTOR_2_facebook_likes', 'imdb_score', 'title_year.1'],\n",
       "      dtype='object')"
      ]
     },
     "execution_count": 112,
     "metadata": {},
     "output_type": "execute_result"
    }
   ],
   "source": [
    "df.columns"
   ]
  },
  {
   "cell_type": "code",
   "execution_count": 113,
   "id": "13f0e373-9ce8-4c11-a805-3485324c4468",
   "metadata": {},
   "outputs": [
    {
     "data": {
      "text/plain": [
       "Index(['MOVIE_TITLE', 'NUM_CRITIC_FOR_REVIEWS', 'DURATION',\n",
       "       'DIRECTOR_FACEBOOK_LIKES', 'ACTOR_3_FACEBOOK_LIKES',\n",
       "       'ACTOR_1_FACEBOOK_LIKES', 'GROSS', 'NUM_VOTED_USERS',\n",
       "       'CAST_TOTAL_FACEBOOK_LIKES', 'FACENUMBER_IN_POSTER',\n",
       "       'NUM_USER_FOR_REVIEWS', 'BUDGET', 'TITLE_YEAR',\n",
       "       'ACTOR_2_FACEBOOK_LIKES', 'IMDB_SCORE', 'TITLE_YEAR.1'],\n",
       "      dtype='object')"
      ]
     },
     "execution_count": 113,
     "metadata": {},
     "output_type": "execute_result"
    }
   ],
   "source": [
    "df.columns.str.upper()"
   ]
  },
  {
   "cell_type": "code",
   "execution_count": 114,
   "id": "396a4ec7-e527-4024-b906-1b6e05600eba",
   "metadata": {},
   "outputs": [
    {
     "data": {
      "text/plain": [
       "Index(['movie_title', 'num_critic_for_reviews', 'duration',\n",
       "       'director_facebook_likes', 'actor_3_facebook_likes',\n",
       "       'actor_1_facebook_likes', 'gross', 'num_voted_users',\n",
       "       'cast_total_facebook_likes', 'facenumber_in_poster',\n",
       "       'num_user_for_reviews', 'budget', 'title_year',\n",
       "       'actor_2_facebook_likes', 'imdb_score', 'title_year.1'],\n",
       "      dtype='object')"
      ]
     },
     "execution_count": 114,
     "metadata": {},
     "output_type": "execute_result"
    }
   ],
   "source": [
    "df.columns.str.lower()"
   ]
  },
  {
   "cell_type": "code",
   "execution_count": 115,
   "id": "5ddac9f4-29d7-4506-bea9-f10dd99fd9bc",
   "metadata": {},
   "outputs": [],
   "source": [
    "df.columns= df.columns.str.upper()"
   ]
  },
  {
   "cell_type": "code",
   "execution_count": 116,
   "id": "65d1ea9a-62b6-47fb-8af6-446aa015225b",
   "metadata": {},
   "outputs": [
    {
     "data": {
      "text/plain": [
       "Index(['MOVIE_TITLE', 'NUM_CRITIC_FOR_REVIEWS', 'DURATION',\n",
       "       'DIRECTOR_FACEBOOK_LIKES', 'ACTOR_3_FACEBOOK_LIKES',\n",
       "       'ACTOR_1_FACEBOOK_LIKES', 'GROSS', 'NUM_VOTED_USERS',\n",
       "       'CAST_TOTAL_FACEBOOK_LIKES', 'FACENUMBER_IN_POSTER',\n",
       "       'NUM_USER_FOR_REVIEWS', 'BUDGET', 'TITLE_YEAR',\n",
       "       'ACTOR_2_FACEBOOK_LIKES', 'IMDB_SCORE', 'TITLE_YEAR.1'],\n",
       "      dtype='object')"
      ]
     },
     "execution_count": 116,
     "metadata": {},
     "output_type": "execute_result"
    }
   ],
   "source": [
    "df.columns"
   ]
  },
  {
   "cell_type": "markdown",
   "id": "f7c5a5ff-f600-4419-ad47-23b5b9d9c16e",
   "metadata": {},
   "source": [
    "## Renaming Columns"
   ]
  },
  {
   "cell_type": "code",
   "execution_count": 117,
   "id": "9e7d730f-cc8c-40e2-958d-dfa8621c5a97",
   "metadata": {},
   "outputs": [
    {
     "data": {
      "text/html": [
       "<div>\n",
       "<style scoped>\n",
       "    .dataframe tbody tr th:only-of-type {\n",
       "        vertical-align: middle;\n",
       "    }\n",
       "\n",
       "    .dataframe tbody tr th {\n",
       "        vertical-align: top;\n",
       "    }\n",
       "\n",
       "    .dataframe thead th {\n",
       "        text-align: right;\n",
       "    }\n",
       "</style>\n",
       "<table border=\"1\" class=\"dataframe\">\n",
       "  <thead>\n",
       "    <tr style=\"text-align: right;\">\n",
       "      <th></th>\n",
       "      <th>MOVIE_TITLE</th>\n",
       "      <th>NUM_CRITIC_FOR_REVIEWS</th>\n",
       "      <th>TIME</th>\n",
       "      <th>DIRECTOR_FACEBOOK_LIKES</th>\n",
       "      <th>ACTOR_3_FACEBOOK_LIKES</th>\n",
       "      <th>ACTOR_1_FACEBOOK_LIKES</th>\n",
       "      <th>GROSS</th>\n",
       "      <th>NUM_VOTED_USERS</th>\n",
       "      <th>CAST_TOTAL_FACEBOOK_LIKES</th>\n",
       "      <th>FACENUMBER_IN_POSTER</th>\n",
       "      <th>NUM_USER_FOR_REVIEWS</th>\n",
       "      <th>BUDGET</th>\n",
       "      <th>TITLE_YEAR</th>\n",
       "      <th>ACTOR_2_FACEBOOK_LIKES</th>\n",
       "      <th>IMDB_SCORE</th>\n",
       "      <th>TITLE_YEAR.1</th>\n",
       "    </tr>\n",
       "  </thead>\n",
       "  <tbody>\n",
       "    <tr>\n",
       "      <th>0</th>\n",
       "      <td>Avatar?�</td>\n",
       "      <td>723</td>\n",
       "      <td>178.0</td>\n",
       "      <td>10</td>\n",
       "      <td>855</td>\n",
       "      <td>1000</td>\n",
       "      <td>760505847</td>\n",
       "      <td>886204.0</td>\n",
       "      <td>4834.0</td>\n",
       "      <td>NaN</td>\n",
       "      <td>3054</td>\n",
       "      <td>237000000</td>\n",
       "      <td>2009</td>\n",
       "      <td>936.0</td>\n",
       "      <td>7.9</td>\n",
       "      <td>2009.0</td>\n",
       "    </tr>\n",
       "    <tr>\n",
       "      <th>1</th>\n",
       "      <td>Pirates of the Caribbean: At World's End?�</td>\n",
       "      <td>302</td>\n",
       "      <td>NaN</td>\n",
       "      <td>563</td>\n",
       "      <td>1000</td>\n",
       "      <td>40000</td>\n",
       "      <td>309404152</td>\n",
       "      <td>471220.0</td>\n",
       "      <td>48350.0</td>\n",
       "      <td>NaN</td>\n",
       "      <td>1238</td>\n",
       "      <td>300000000</td>\n",
       "      <td>2007</td>\n",
       "      <td>5000.0</td>\n",
       "      <td>7.1</td>\n",
       "      <td>NaN</td>\n",
       "    </tr>\n",
       "    <tr>\n",
       "      <th>2</th>\n",
       "      <td>Spectre?�</td>\n",
       "      <td>602</td>\n",
       "      <td>148.0</td>\n",
       "      <td>20</td>\n",
       "      <td>161</td>\n",
       "      <td>11000</td>\n",
       "      <td>200074175</td>\n",
       "      <td>275868.0</td>\n",
       "      <td>11700.0</td>\n",
       "      <td>1.0</td>\n",
       "      <td>994</td>\n",
       "      <td>245000000</td>\n",
       "      <td>2015</td>\n",
       "      <td>393.0</td>\n",
       "      <td>6.8</td>\n",
       "      <td>2015.0</td>\n",
       "    </tr>\n",
       "    <tr>\n",
       "      <th>3</th>\n",
       "      <td>The Dark Knight Rises?�</td>\n",
       "      <td>813</td>\n",
       "      <td>NaN</td>\n",
       "      <td>22000</td>\n",
       "      <td>23000</td>\n",
       "      <td>27000</td>\n",
       "      <td>448130642</td>\n",
       "      <td>1144337.0</td>\n",
       "      <td>106759.0</td>\n",
       "      <td>NaN</td>\n",
       "      <td>2701</td>\n",
       "      <td>250000000</td>\n",
       "      <td>2012</td>\n",
       "      <td>23000.0</td>\n",
       "      <td>8.5</td>\n",
       "      <td>NaN</td>\n",
       "    </tr>\n",
       "    <tr>\n",
       "      <th>4</th>\n",
       "      <td>John Carter?�</td>\n",
       "      <td>462</td>\n",
       "      <td>132.0</td>\n",
       "      <td>\"475\"</td>\n",
       "      <td>530</td>\n",
       "      <td>640</td>\n",
       "      <td>73058679</td>\n",
       "      <td>212204.0</td>\n",
       "      <td>1873.0</td>\n",
       "      <td>1.0</td>\n",
       "      <td>738</td>\n",
       "      <td>263700000</td>\n",
       "      <td>2012</td>\n",
       "      <td>632.0</td>\n",
       "      <td>6.6</td>\n",
       "      <td>NaN</td>\n",
       "    </tr>\n",
       "    <tr>\n",
       "      <th>5</th>\n",
       "      <td>Spider-Man 3?�</td>\n",
       "      <td>392</td>\n",
       "      <td>156.0</td>\n",
       "      <td>23</td>\n",
       "      <td>4000</td>\n",
       "      <td>24000</td>\n",
       "      <td>336530303</td>\n",
       "      <td>383056.0</td>\n",
       "      <td>46055.0</td>\n",
       "      <td>NaN</td>\n",
       "      <td>1902</td>\n",
       "      <td>258000000</td>\n",
       "      <td>2007</td>\n",
       "      <td>11000.0</td>\n",
       "      <td>6.2</td>\n",
       "      <td>2007.0</td>\n",
       "    </tr>\n",
       "    <tr>\n",
       "      <th>6</th>\n",
       "      <td>Tangled?�</td>\n",
       "      <td>324</td>\n",
       "      <td>NaN</td>\n",
       "      <td>15</td>\n",
       "      <td>284</td>\n",
       "      <td>799</td>\n",
       "      <td>200807262</td>\n",
       "      <td>294810.0</td>\n",
       "      <td>NaN</td>\n",
       "      <td>1.0</td>\n",
       "      <td>387</td>\n",
       "      <td>260000000</td>\n",
       "      <td>2010</td>\n",
       "      <td>553.0</td>\n",
       "      <td>7.8</td>\n",
       "      <td>NaN</td>\n",
       "    </tr>\n",
       "    <tr>\n",
       "      <th>7</th>\n",
       "      <td>Avengers: Age of Ultron?�</td>\n",
       "      <td>635</td>\n",
       "      <td>141.0</td>\n",
       "      <td>10</td>\n",
       "      <td>19000</td>\n",
       "      <td>26000</td>\n",
       "      <td>458991599</td>\n",
       "      <td>462669.0</td>\n",
       "      <td>92000.0</td>\n",
       "      <td>4.0</td>\n",
       "      <td>1117</td>\n",
       "      <td>250000000</td>\n",
       "      <td>2015</td>\n",
       "      <td>21000.0</td>\n",
       "      <td>7.5</td>\n",
       "      <td>NaN</td>\n",
       "    </tr>\n",
       "    <tr>\n",
       "      <th>8</th>\n",
       "      <td>Avengers: Age of Ultron?�</td>\n",
       "      <td>635</td>\n",
       "      <td>141.0</td>\n",
       "      <td>10</td>\n",
       "      <td>19000</td>\n",
       "      <td>26000</td>\n",
       "      <td>458991599</td>\n",
       "      <td>462669.0</td>\n",
       "      <td>92000.0</td>\n",
       "      <td>4.0</td>\n",
       "      <td>1117</td>\n",
       "      <td>250000000</td>\n",
       "      <td>2015</td>\n",
       "      <td>21000.0</td>\n",
       "      <td>7.5</td>\n",
       "      <td>2015.0</td>\n",
       "    </tr>\n",
       "    <tr>\n",
       "      <th>9</th>\n",
       "      <td>Harry Potter and the Half-Blood Prince?�</td>\n",
       "      <td>375</td>\n",
       "      <td>153.0</td>\n",
       "      <td>282</td>\n",
       "      <td>10000</td>\n",
       "      <td>25000</td>\n",
       "      <td>301956980</td>\n",
       "      <td>321795.0</td>\n",
       "      <td>58753.0</td>\n",
       "      <td>3.0</td>\n",
       "      <td>973</td>\n",
       "      <td>250000000</td>\n",
       "      <td>2009</td>\n",
       "      <td>11000.0</td>\n",
       "      <td>7.5</td>\n",
       "      <td>NaN</td>\n",
       "    </tr>\n",
       "    <tr>\n",
       "      <th>10</th>\n",
       "      <td>Batman v Superman: Dawn of Justice?�</td>\n",
       "      <td>673</td>\n",
       "      <td>183.0</td>\n",
       "      <td>NaN</td>\n",
       "      <td>2000</td>\n",
       "      <td>15000</td>\n",
       "      <td>330249062</td>\n",
       "      <td>NaN</td>\n",
       "      <td>24450.0</td>\n",
       "      <td>NaN</td>\n",
       "      <td>3018</td>\n",
       "      <td>250000000</td>\n",
       "      <td>2016</td>\n",
       "      <td>NaN</td>\n",
       "      <td>6.9</td>\n",
       "      <td>2016.0</td>\n",
       "    </tr>\n",
       "    <tr>\n",
       "      <th>11</th>\n",
       "      <td>Superman Returns?�</td>\n",
       "      <td>434</td>\n",
       "      <td>169.0</td>\n",
       "      <td>NaN</td>\n",
       "      <td>903</td>\n",
       "      <td>18000</td>\n",
       "      <td>200069408</td>\n",
       "      <td>240396.0</td>\n",
       "      <td>NaN</td>\n",
       "      <td>2.0</td>\n",
       "      <td>2367</td>\n",
       "      <td>209000000</td>\n",
       "      <td>2006</td>\n",
       "      <td>10000.0</td>\n",
       "      <td>6.1</td>\n",
       "      <td>NaN</td>\n",
       "    </tr>\n",
       "    <tr>\n",
       "      <th>12</th>\n",
       "      <td>Quantum of Solace?�</td>\n",
       "      <td>403</td>\n",
       "      <td>106.0</td>\n",
       "      <td>395</td>\n",
       "      <td>393</td>\n",
       "      <td>451</td>\n",
       "      <td>168368427</td>\n",
       "      <td>330784.0</td>\n",
       "      <td>2023.0</td>\n",
       "      <td>1.0</td>\n",
       "      <td>1243</td>\n",
       "      <td>200000000</td>\n",
       "      <td>2008</td>\n",
       "      <td>412.0</td>\n",
       "      <td>6.7</td>\n",
       "      <td>2008.0</td>\n",
       "    </tr>\n",
       "    <tr>\n",
       "      <th>13</th>\n",
       "      <td>Pirates of the Caribbean: Dead Man's Chest?�</td>\n",
       "      <td>313</td>\n",
       "      <td>151.0</td>\n",
       "      <td>563</td>\n",
       "      <td>1000</td>\n",
       "      <td>40000</td>\n",
       "      <td>423032628</td>\n",
       "      <td>522040.0</td>\n",
       "      <td>48486.0</td>\n",
       "      <td>2.0</td>\n",
       "      <td>1832</td>\n",
       "      <td>225000000</td>\n",
       "      <td>2006</td>\n",
       "      <td>5000.0</td>\n",
       "      <td>7.3</td>\n",
       "      <td>2008.0</td>\n",
       "    </tr>\n",
       "  </tbody>\n",
       "</table>\n",
       "</div>"
      ],
      "text/plain": [
       "                                     MOVIE_TITLE  NUM_CRITIC_FOR_REVIEWS  \\\n",
       "0                                       Avatar?�                     723   \n",
       "1     Pirates of the Caribbean: At World's End?�                     302   \n",
       "2                                      Spectre?�                     602   \n",
       "3                        The Dark Knight Rises?�                     813   \n",
       "4                                  John Carter?�                     462   \n",
       "5                                 Spider-Man 3?�                     392   \n",
       "6                                      Tangled?�                     324   \n",
       "7                      Avengers: Age of Ultron?�                     635   \n",
       "8                      Avengers: Age of Ultron?�                     635   \n",
       "9       Harry Potter and the Half-Blood Prince?�                     375   \n",
       "10          Batman v Superman: Dawn of Justice?�                     673   \n",
       "11                            Superman Returns?�                     434   \n",
       "12                           Quantum of Solace?�                     403   \n",
       "13  Pirates of the Caribbean: Dead Man's Chest?�                     313   \n",
       "\n",
       "     TIME DIRECTOR_FACEBOOK_LIKES  ACTOR_3_FACEBOOK_LIKES  \\\n",
       "0   178.0                      10                     855   \n",
       "1     NaN                     563                    1000   \n",
       "2   148.0                      20                     161   \n",
       "3     NaN                   22000                   23000   \n",
       "4   132.0                   \"475\"                     530   \n",
       "5   156.0                      23                    4000   \n",
       "6     NaN                      15                     284   \n",
       "7   141.0                      10                   19000   \n",
       "8   141.0                      10                   19000   \n",
       "9   153.0                     282                   10000   \n",
       "10  183.0                     NaN                    2000   \n",
       "11  169.0                     NaN                     903   \n",
       "12  106.0                     395                     393   \n",
       "13  151.0                     563                    1000   \n",
       "\n",
       "    ACTOR_1_FACEBOOK_LIKES      GROSS  NUM_VOTED_USERS  \\\n",
       "0                     1000  760505847         886204.0   \n",
       "1                    40000  309404152         471220.0   \n",
       "2                    11000  200074175         275868.0   \n",
       "3                    27000  448130642        1144337.0   \n",
       "4                      640   73058679         212204.0   \n",
       "5                    24000  336530303         383056.0   \n",
       "6                      799  200807262         294810.0   \n",
       "7                    26000  458991599         462669.0   \n",
       "8                    26000  458991599         462669.0   \n",
       "9                    25000  301956980         321795.0   \n",
       "10                   15000  330249062              NaN   \n",
       "11                   18000  200069408         240396.0   \n",
       "12                     451  168368427         330784.0   \n",
       "13                   40000  423032628         522040.0   \n",
       "\n",
       "    CAST_TOTAL_FACEBOOK_LIKES  FACENUMBER_IN_POSTER  NUM_USER_FOR_REVIEWS  \\\n",
       "0                      4834.0                   NaN                  3054   \n",
       "1                     48350.0                   NaN                  1238   \n",
       "2                     11700.0                   1.0                   994   \n",
       "3                    106759.0                   NaN                  2701   \n",
       "4                      1873.0                   1.0                   738   \n",
       "5                     46055.0                   NaN                  1902   \n",
       "6                         NaN                   1.0                   387   \n",
       "7                     92000.0                   4.0                  1117   \n",
       "8                     92000.0                   4.0                  1117   \n",
       "9                     58753.0                   3.0                   973   \n",
       "10                    24450.0                   NaN                  3018   \n",
       "11                        NaN                   2.0                  2367   \n",
       "12                     2023.0                   1.0                  1243   \n",
       "13                    48486.0                   2.0                  1832   \n",
       "\n",
       "       BUDGET  TITLE_YEAR  ACTOR_2_FACEBOOK_LIKES  IMDB_SCORE  TITLE_YEAR.1  \n",
       "0   237000000        2009                   936.0         7.9        2009.0  \n",
       "1   300000000        2007                  5000.0         7.1           NaN  \n",
       "2   245000000        2015                   393.0         6.8        2015.0  \n",
       "3   250000000        2012                 23000.0         8.5           NaN  \n",
       "4   263700000        2012                   632.0         6.6           NaN  \n",
       "5   258000000        2007                 11000.0         6.2        2007.0  \n",
       "6   260000000        2010                   553.0         7.8           NaN  \n",
       "7   250000000        2015                 21000.0         7.5           NaN  \n",
       "8   250000000        2015                 21000.0         7.5        2015.0  \n",
       "9   250000000        2009                 11000.0         7.5           NaN  \n",
       "10  250000000        2016                     NaN         6.9        2016.0  \n",
       "11  209000000        2006                 10000.0         6.1           NaN  \n",
       "12  200000000        2008                   412.0         6.7        2008.0  \n",
       "13  225000000        2006                  5000.0         7.3        2008.0  "
      ]
     },
     "execution_count": 117,
     "metadata": {},
     "output_type": "execute_result"
    }
   ],
   "source": [
    "df.rename(columns = {'DURATION' : 'TIME'})"
   ]
  },
  {
   "cell_type": "markdown",
   "id": "574d8b55-a712-414a-9361-a5803054417d",
   "metadata": {},
   "source": [
    "## Missing Data"
   ]
  },
  {
   "cell_type": "markdown",
   "id": "be8cb518-2b56-4a9a-ac6f-8a81c6ab8018",
   "metadata": {},
   "source": [
    "###### *Add a default value for missing data or use mean to fill it\n",
    "###### *Delete the row/column with missing data\n",
    "###### *Interpolate the rows\n",
    "###### *Replace"
   ]
  },
  {
   "cell_type": "markdown",
   "id": "c9bdab7e-5867-494f-9676-31279dd7d6ab",
   "metadata": {},
   "source": [
    "### To Check for Missing Data\n",
    "\n",
    "##### False means no missing data\n",
    "\n",
    "###### *df.isnull().sum()int\n",
    "###### *df.isnull().any() boolean"
   ]
  },
  {
   "cell_type": "code",
   "execution_count": 118,
   "id": "e91fd424-a179-43a8-901b-a58ccc215e99",
   "metadata": {},
   "outputs": [
    {
     "data": {
      "text/html": [
       "<div>\n",
       "<style scoped>\n",
       "    .dataframe tbody tr th:only-of-type {\n",
       "        vertical-align: middle;\n",
       "    }\n",
       "\n",
       "    .dataframe tbody tr th {\n",
       "        vertical-align: top;\n",
       "    }\n",
       "\n",
       "    .dataframe thead th {\n",
       "        text-align: right;\n",
       "    }\n",
       "</style>\n",
       "<table border=\"1\" class=\"dataframe\">\n",
       "  <thead>\n",
       "    <tr style=\"text-align: right;\">\n",
       "      <th></th>\n",
       "      <th>MOVIE_TITLE</th>\n",
       "      <th>NUM_CRITIC_FOR_REVIEWS</th>\n",
       "      <th>DURATION</th>\n",
       "      <th>DIRECTOR_FACEBOOK_LIKES</th>\n",
       "      <th>ACTOR_3_FACEBOOK_LIKES</th>\n",
       "      <th>ACTOR_1_FACEBOOK_LIKES</th>\n",
       "      <th>GROSS</th>\n",
       "      <th>NUM_VOTED_USERS</th>\n",
       "      <th>CAST_TOTAL_FACEBOOK_LIKES</th>\n",
       "      <th>FACENUMBER_IN_POSTER</th>\n",
       "      <th>NUM_USER_FOR_REVIEWS</th>\n",
       "      <th>BUDGET</th>\n",
       "      <th>TITLE_YEAR</th>\n",
       "      <th>ACTOR_2_FACEBOOK_LIKES</th>\n",
       "      <th>IMDB_SCORE</th>\n",
       "      <th>TITLE_YEAR.1</th>\n",
       "    </tr>\n",
       "  </thead>\n",
       "  <tbody>\n",
       "    <tr>\n",
       "      <th>0</th>\n",
       "      <td>False</td>\n",
       "      <td>False</td>\n",
       "      <td>False</td>\n",
       "      <td>False</td>\n",
       "      <td>False</td>\n",
       "      <td>False</td>\n",
       "      <td>False</td>\n",
       "      <td>False</td>\n",
       "      <td>False</td>\n",
       "      <td>True</td>\n",
       "      <td>False</td>\n",
       "      <td>False</td>\n",
       "      <td>False</td>\n",
       "      <td>False</td>\n",
       "      <td>False</td>\n",
       "      <td>False</td>\n",
       "    </tr>\n",
       "    <tr>\n",
       "      <th>1</th>\n",
       "      <td>False</td>\n",
       "      <td>False</td>\n",
       "      <td>True</td>\n",
       "      <td>False</td>\n",
       "      <td>False</td>\n",
       "      <td>False</td>\n",
       "      <td>False</td>\n",
       "      <td>False</td>\n",
       "      <td>False</td>\n",
       "      <td>True</td>\n",
       "      <td>False</td>\n",
       "      <td>False</td>\n",
       "      <td>False</td>\n",
       "      <td>False</td>\n",
       "      <td>False</td>\n",
       "      <td>True</td>\n",
       "    </tr>\n",
       "    <tr>\n",
       "      <th>2</th>\n",
       "      <td>False</td>\n",
       "      <td>False</td>\n",
       "      <td>False</td>\n",
       "      <td>False</td>\n",
       "      <td>False</td>\n",
       "      <td>False</td>\n",
       "      <td>False</td>\n",
       "      <td>False</td>\n",
       "      <td>False</td>\n",
       "      <td>False</td>\n",
       "      <td>False</td>\n",
       "      <td>False</td>\n",
       "      <td>False</td>\n",
       "      <td>False</td>\n",
       "      <td>False</td>\n",
       "      <td>False</td>\n",
       "    </tr>\n",
       "    <tr>\n",
       "      <th>3</th>\n",
       "      <td>False</td>\n",
       "      <td>False</td>\n",
       "      <td>True</td>\n",
       "      <td>False</td>\n",
       "      <td>False</td>\n",
       "      <td>False</td>\n",
       "      <td>False</td>\n",
       "      <td>False</td>\n",
       "      <td>False</td>\n",
       "      <td>True</td>\n",
       "      <td>False</td>\n",
       "      <td>False</td>\n",
       "      <td>False</td>\n",
       "      <td>False</td>\n",
       "      <td>False</td>\n",
       "      <td>True</td>\n",
       "    </tr>\n",
       "    <tr>\n",
       "      <th>4</th>\n",
       "      <td>False</td>\n",
       "      <td>False</td>\n",
       "      <td>False</td>\n",
       "      <td>False</td>\n",
       "      <td>False</td>\n",
       "      <td>False</td>\n",
       "      <td>False</td>\n",
       "      <td>False</td>\n",
       "      <td>False</td>\n",
       "      <td>False</td>\n",
       "      <td>False</td>\n",
       "      <td>False</td>\n",
       "      <td>False</td>\n",
       "      <td>False</td>\n",
       "      <td>False</td>\n",
       "      <td>True</td>\n",
       "    </tr>\n",
       "    <tr>\n",
       "      <th>5</th>\n",
       "      <td>False</td>\n",
       "      <td>False</td>\n",
       "      <td>False</td>\n",
       "      <td>False</td>\n",
       "      <td>False</td>\n",
       "      <td>False</td>\n",
       "      <td>False</td>\n",
       "      <td>False</td>\n",
       "      <td>False</td>\n",
       "      <td>True</td>\n",
       "      <td>False</td>\n",
       "      <td>False</td>\n",
       "      <td>False</td>\n",
       "      <td>False</td>\n",
       "      <td>False</td>\n",
       "      <td>False</td>\n",
       "    </tr>\n",
       "    <tr>\n",
       "      <th>6</th>\n",
       "      <td>False</td>\n",
       "      <td>False</td>\n",
       "      <td>True</td>\n",
       "      <td>False</td>\n",
       "      <td>False</td>\n",
       "      <td>False</td>\n",
       "      <td>False</td>\n",
       "      <td>False</td>\n",
       "      <td>True</td>\n",
       "      <td>False</td>\n",
       "      <td>False</td>\n",
       "      <td>False</td>\n",
       "      <td>False</td>\n",
       "      <td>False</td>\n",
       "      <td>False</td>\n",
       "      <td>True</td>\n",
       "    </tr>\n",
       "    <tr>\n",
       "      <th>7</th>\n",
       "      <td>False</td>\n",
       "      <td>False</td>\n",
       "      <td>False</td>\n",
       "      <td>False</td>\n",
       "      <td>False</td>\n",
       "      <td>False</td>\n",
       "      <td>False</td>\n",
       "      <td>False</td>\n",
       "      <td>False</td>\n",
       "      <td>False</td>\n",
       "      <td>False</td>\n",
       "      <td>False</td>\n",
       "      <td>False</td>\n",
       "      <td>False</td>\n",
       "      <td>False</td>\n",
       "      <td>True</td>\n",
       "    </tr>\n",
       "    <tr>\n",
       "      <th>8</th>\n",
       "      <td>False</td>\n",
       "      <td>False</td>\n",
       "      <td>False</td>\n",
       "      <td>False</td>\n",
       "      <td>False</td>\n",
       "      <td>False</td>\n",
       "      <td>False</td>\n",
       "      <td>False</td>\n",
       "      <td>False</td>\n",
       "      <td>False</td>\n",
       "      <td>False</td>\n",
       "      <td>False</td>\n",
       "      <td>False</td>\n",
       "      <td>False</td>\n",
       "      <td>False</td>\n",
       "      <td>False</td>\n",
       "    </tr>\n",
       "    <tr>\n",
       "      <th>9</th>\n",
       "      <td>False</td>\n",
       "      <td>False</td>\n",
       "      <td>False</td>\n",
       "      <td>False</td>\n",
       "      <td>False</td>\n",
       "      <td>False</td>\n",
       "      <td>False</td>\n",
       "      <td>False</td>\n",
       "      <td>False</td>\n",
       "      <td>False</td>\n",
       "      <td>False</td>\n",
       "      <td>False</td>\n",
       "      <td>False</td>\n",
       "      <td>False</td>\n",
       "      <td>False</td>\n",
       "      <td>True</td>\n",
       "    </tr>\n",
       "    <tr>\n",
       "      <th>10</th>\n",
       "      <td>False</td>\n",
       "      <td>False</td>\n",
       "      <td>False</td>\n",
       "      <td>True</td>\n",
       "      <td>False</td>\n",
       "      <td>False</td>\n",
       "      <td>False</td>\n",
       "      <td>True</td>\n",
       "      <td>False</td>\n",
       "      <td>True</td>\n",
       "      <td>False</td>\n",
       "      <td>False</td>\n",
       "      <td>False</td>\n",
       "      <td>True</td>\n",
       "      <td>False</td>\n",
       "      <td>False</td>\n",
       "    </tr>\n",
       "    <tr>\n",
       "      <th>11</th>\n",
       "      <td>False</td>\n",
       "      <td>False</td>\n",
       "      <td>False</td>\n",
       "      <td>True</td>\n",
       "      <td>False</td>\n",
       "      <td>False</td>\n",
       "      <td>False</td>\n",
       "      <td>False</td>\n",
       "      <td>True</td>\n",
       "      <td>False</td>\n",
       "      <td>False</td>\n",
       "      <td>False</td>\n",
       "      <td>False</td>\n",
       "      <td>False</td>\n",
       "      <td>False</td>\n",
       "      <td>True</td>\n",
       "    </tr>\n",
       "    <tr>\n",
       "      <th>12</th>\n",
       "      <td>False</td>\n",
       "      <td>False</td>\n",
       "      <td>False</td>\n",
       "      <td>False</td>\n",
       "      <td>False</td>\n",
       "      <td>False</td>\n",
       "      <td>False</td>\n",
       "      <td>False</td>\n",
       "      <td>False</td>\n",
       "      <td>False</td>\n",
       "      <td>False</td>\n",
       "      <td>False</td>\n",
       "      <td>False</td>\n",
       "      <td>False</td>\n",
       "      <td>False</td>\n",
       "      <td>False</td>\n",
       "    </tr>\n",
       "    <tr>\n",
       "      <th>13</th>\n",
       "      <td>False</td>\n",
       "      <td>False</td>\n",
       "      <td>False</td>\n",
       "      <td>False</td>\n",
       "      <td>False</td>\n",
       "      <td>False</td>\n",
       "      <td>False</td>\n",
       "      <td>False</td>\n",
       "      <td>False</td>\n",
       "      <td>False</td>\n",
       "      <td>False</td>\n",
       "      <td>False</td>\n",
       "      <td>False</td>\n",
       "      <td>False</td>\n",
       "      <td>False</td>\n",
       "      <td>False</td>\n",
       "    </tr>\n",
       "  </tbody>\n",
       "</table>\n",
       "</div>"
      ],
      "text/plain": [
       "    MOVIE_TITLE  NUM_CRITIC_FOR_REVIEWS  DURATION  DIRECTOR_FACEBOOK_LIKES  \\\n",
       "0         False                   False     False                    False   \n",
       "1         False                   False      True                    False   \n",
       "2         False                   False     False                    False   \n",
       "3         False                   False      True                    False   \n",
       "4         False                   False     False                    False   \n",
       "5         False                   False     False                    False   \n",
       "6         False                   False      True                    False   \n",
       "7         False                   False     False                    False   \n",
       "8         False                   False     False                    False   \n",
       "9         False                   False     False                    False   \n",
       "10        False                   False     False                     True   \n",
       "11        False                   False     False                     True   \n",
       "12        False                   False     False                    False   \n",
       "13        False                   False     False                    False   \n",
       "\n",
       "    ACTOR_3_FACEBOOK_LIKES  ACTOR_1_FACEBOOK_LIKES  GROSS  NUM_VOTED_USERS  \\\n",
       "0                    False                   False  False            False   \n",
       "1                    False                   False  False            False   \n",
       "2                    False                   False  False            False   \n",
       "3                    False                   False  False            False   \n",
       "4                    False                   False  False            False   \n",
       "5                    False                   False  False            False   \n",
       "6                    False                   False  False            False   \n",
       "7                    False                   False  False            False   \n",
       "8                    False                   False  False            False   \n",
       "9                    False                   False  False            False   \n",
       "10                   False                   False  False             True   \n",
       "11                   False                   False  False            False   \n",
       "12                   False                   False  False            False   \n",
       "13                   False                   False  False            False   \n",
       "\n",
       "    CAST_TOTAL_FACEBOOK_LIKES  FACENUMBER_IN_POSTER  NUM_USER_FOR_REVIEWS  \\\n",
       "0                       False                  True                 False   \n",
       "1                       False                  True                 False   \n",
       "2                       False                 False                 False   \n",
       "3                       False                  True                 False   \n",
       "4                       False                 False                 False   \n",
       "5                       False                  True                 False   \n",
       "6                        True                 False                 False   \n",
       "7                       False                 False                 False   \n",
       "8                       False                 False                 False   \n",
       "9                       False                 False                 False   \n",
       "10                      False                  True                 False   \n",
       "11                       True                 False                 False   \n",
       "12                      False                 False                 False   \n",
       "13                      False                 False                 False   \n",
       "\n",
       "    BUDGET  TITLE_YEAR  ACTOR_2_FACEBOOK_LIKES  IMDB_SCORE  TITLE_YEAR.1  \n",
       "0    False       False                   False       False         False  \n",
       "1    False       False                   False       False          True  \n",
       "2    False       False                   False       False         False  \n",
       "3    False       False                   False       False          True  \n",
       "4    False       False                   False       False          True  \n",
       "5    False       False                   False       False         False  \n",
       "6    False       False                   False       False          True  \n",
       "7    False       False                   False       False          True  \n",
       "8    False       False                   False       False         False  \n",
       "9    False       False                   False       False          True  \n",
       "10   False       False                    True       False         False  \n",
       "11   False       False                   False       False          True  \n",
       "12   False       False                   False       False         False  \n",
       "13   False       False                   False       False         False  "
      ]
     },
     "execution_count": 118,
     "metadata": {},
     "output_type": "execute_result"
    }
   ],
   "source": [
    "df.isnull()"
   ]
  },
  {
   "cell_type": "code",
   "execution_count": 119,
   "id": "81e3ef3b-45ee-4358-92ec-77d01897ca89",
   "metadata": {},
   "outputs": [
    {
     "data": {
      "text/plain": [
       "MOVIE_TITLE                  False\n",
       "NUM_CRITIC_FOR_REVIEWS       False\n",
       "DURATION                      True\n",
       "DIRECTOR_FACEBOOK_LIKES       True\n",
       "ACTOR_3_FACEBOOK_LIKES       False\n",
       "ACTOR_1_FACEBOOK_LIKES       False\n",
       "GROSS                        False\n",
       "NUM_VOTED_USERS               True\n",
       "CAST_TOTAL_FACEBOOK_LIKES     True\n",
       "FACENUMBER_IN_POSTER          True\n",
       "NUM_USER_FOR_REVIEWS         False\n",
       "BUDGET                       False\n",
       "TITLE_YEAR                   False\n",
       "ACTOR_2_FACEBOOK_LIKES        True\n",
       "IMDB_SCORE                   False\n",
       "TITLE_YEAR.1                  True\n",
       "dtype: bool"
      ]
     },
     "execution_count": 119,
     "metadata": {},
     "output_type": "execute_result"
    }
   ],
   "source": [
    "df.isnull().any()"
   ]
  },
  {
   "cell_type": "code",
   "execution_count": 120,
   "id": "87b0e53b-17c4-4ebf-866f-e267017ec3eb",
   "metadata": {},
   "outputs": [
    {
     "data": {
      "text/plain": [
       "True"
      ]
     },
     "execution_count": 120,
     "metadata": {},
     "output_type": "execute_result"
    }
   ],
   "source": [
    "# Columns with NAN using True/False\n",
    "# False means it doesn't have a NAN\n",
    "# For entire DataFrame\n",
    "df.isnull().any().any()"
   ]
  },
  {
   "cell_type": "code",
   "execution_count": 121,
   "id": "bbb7f87d-d1d7-49de-85e2-e42450d5cad8",
   "metadata": {},
   "outputs": [
    {
     "data": {
      "text/plain": [
       "MOVIE_TITLE                  0\n",
       "NUM_CRITIC_FOR_REVIEWS       0\n",
       "DURATION                     3\n",
       "DIRECTOR_FACEBOOK_LIKES      2\n",
       "ACTOR_3_FACEBOOK_LIKES       0\n",
       "ACTOR_1_FACEBOOK_LIKES       0\n",
       "GROSS                        0\n",
       "NUM_VOTED_USERS              1\n",
       "CAST_TOTAL_FACEBOOK_LIKES    2\n",
       "FACENUMBER_IN_POSTER         5\n",
       "NUM_USER_FOR_REVIEWS         0\n",
       "BUDGET                       0\n",
       "TITLE_YEAR                   0\n",
       "ACTOR_2_FACEBOOK_LIKES       1\n",
       "IMDB_SCORE                   0\n",
       "TITLE_YEAR.1                 7\n",
       "dtype: int64"
      ]
     },
     "execution_count": 121,
     "metadata": {},
     "output_type": "execute_result"
    }
   ],
   "source": [
    "# Columns with NAN using Integer\n",
    "df.isnull().sum()"
   ]
  },
  {
   "cell_type": "code",
   "execution_count": null,
   "id": "564aa9e0-5b31-4742-93c7-75e3573dd2c3",
   "metadata": {},
   "outputs": [],
   "source": []
  },
  {
   "cell_type": "code",
   "execution_count": 122,
   "id": "916f6ea7-5b0b-4d33-9933-c3a8de69b33d",
   "metadata": {
    "jupyter": {
     "source_hidden": true
    },
    "tags": []
   },
   "outputs": [
    {
     "data": {
      "text/plain": [
       "21"
      ]
     },
     "execution_count": 122,
     "metadata": {},
     "output_type": "execute_result"
    }
   ],
   "source": [
    "# Total Number of Missing Values\n",
    "df.isnull().sum().sum()"
   ]
  },
  {
   "cell_type": "markdown",
   "id": "27d8f02f-98b2-4e3e-8cfc-ab480be31e7f",
   "metadata": {},
   "source": [
    "## Adding A Default Value or Filling the Missing Data\n"
   ]
  },
  {
   "cell_type": "code",
   "execution_count": 123,
   "id": "56fb2f0c-5a3d-46e5-aafe-e040a6e28beb",
   "metadata": {},
   "outputs": [
    {
     "data": {
      "text/html": [
       "<div>\n",
       "<style scoped>\n",
       "    .dataframe tbody tr th:only-of-type {\n",
       "        vertical-align: middle;\n",
       "    }\n",
       "\n",
       "    .dataframe tbody tr th {\n",
       "        vertical-align: top;\n",
       "    }\n",
       "\n",
       "    .dataframe thead th {\n",
       "        text-align: right;\n",
       "    }\n",
       "</style>\n",
       "<table border=\"1\" class=\"dataframe\">\n",
       "  <thead>\n",
       "    <tr style=\"text-align: right;\">\n",
       "      <th></th>\n",
       "      <th>MOVIE_TITLE</th>\n",
       "      <th>NUM_CRITIC_FOR_REVIEWS</th>\n",
       "      <th>DURATION</th>\n",
       "      <th>DIRECTOR_FACEBOOK_LIKES</th>\n",
       "      <th>ACTOR_3_FACEBOOK_LIKES</th>\n",
       "      <th>ACTOR_1_FACEBOOK_LIKES</th>\n",
       "      <th>GROSS</th>\n",
       "      <th>NUM_VOTED_USERS</th>\n",
       "      <th>CAST_TOTAL_FACEBOOK_LIKES</th>\n",
       "      <th>FACENUMBER_IN_POSTER</th>\n",
       "      <th>NUM_USER_FOR_REVIEWS</th>\n",
       "      <th>BUDGET</th>\n",
       "      <th>TITLE_YEAR</th>\n",
       "      <th>ACTOR_2_FACEBOOK_LIKES</th>\n",
       "      <th>IMDB_SCORE</th>\n",
       "      <th>TITLE_YEAR.1</th>\n",
       "    </tr>\n",
       "  </thead>\n",
       "  <tbody>\n",
       "    <tr>\n",
       "      <th>0</th>\n",
       "      <td>Avatar?�</td>\n",
       "      <td>723</td>\n",
       "      <td>178.0</td>\n",
       "      <td>10</td>\n",
       "      <td>855</td>\n",
       "      <td>1000</td>\n",
       "      <td>760505847</td>\n",
       "      <td>886204.0</td>\n",
       "      <td>4834.0</td>\n",
       "      <td>NaN</td>\n",
       "      <td>3054</td>\n",
       "      <td>237000000</td>\n",
       "      <td>2009</td>\n",
       "      <td>936.0</td>\n",
       "      <td>7.9</td>\n",
       "      <td>2009.0</td>\n",
       "    </tr>\n",
       "    <tr>\n",
       "      <th>1</th>\n",
       "      <td>Pirates of the Caribbean: At World's End?�</td>\n",
       "      <td>302</td>\n",
       "      <td>NaN</td>\n",
       "      <td>563</td>\n",
       "      <td>1000</td>\n",
       "      <td>40000</td>\n",
       "      <td>309404152</td>\n",
       "      <td>471220.0</td>\n",
       "      <td>48350.0</td>\n",
       "      <td>NaN</td>\n",
       "      <td>1238</td>\n",
       "      <td>300000000</td>\n",
       "      <td>2007</td>\n",
       "      <td>5000.0</td>\n",
       "      <td>7.1</td>\n",
       "      <td>NaN</td>\n",
       "    </tr>\n",
       "    <tr>\n",
       "      <th>2</th>\n",
       "      <td>Spectre?�</td>\n",
       "      <td>602</td>\n",
       "      <td>148.0</td>\n",
       "      <td>20</td>\n",
       "      <td>161</td>\n",
       "      <td>11000</td>\n",
       "      <td>200074175</td>\n",
       "      <td>275868.0</td>\n",
       "      <td>11700.0</td>\n",
       "      <td>1.0</td>\n",
       "      <td>994</td>\n",
       "      <td>245000000</td>\n",
       "      <td>2015</td>\n",
       "      <td>393.0</td>\n",
       "      <td>6.8</td>\n",
       "      <td>2015.0</td>\n",
       "    </tr>\n",
       "    <tr>\n",
       "      <th>3</th>\n",
       "      <td>The Dark Knight Rises?�</td>\n",
       "      <td>813</td>\n",
       "      <td>NaN</td>\n",
       "      <td>22000</td>\n",
       "      <td>23000</td>\n",
       "      <td>27000</td>\n",
       "      <td>448130642</td>\n",
       "      <td>1144337.0</td>\n",
       "      <td>106759.0</td>\n",
       "      <td>NaN</td>\n",
       "      <td>2701</td>\n",
       "      <td>250000000</td>\n",
       "      <td>2012</td>\n",
       "      <td>23000.0</td>\n",
       "      <td>8.5</td>\n",
       "      <td>NaN</td>\n",
       "    </tr>\n",
       "    <tr>\n",
       "      <th>4</th>\n",
       "      <td>John Carter?�</td>\n",
       "      <td>462</td>\n",
       "      <td>132.0</td>\n",
       "      <td>\"475\"</td>\n",
       "      <td>530</td>\n",
       "      <td>640</td>\n",
       "      <td>73058679</td>\n",
       "      <td>212204.0</td>\n",
       "      <td>1873.0</td>\n",
       "      <td>1.0</td>\n",
       "      <td>738</td>\n",
       "      <td>263700000</td>\n",
       "      <td>2012</td>\n",
       "      <td>632.0</td>\n",
       "      <td>6.6</td>\n",
       "      <td>NaN</td>\n",
       "    </tr>\n",
       "  </tbody>\n",
       "</table>\n",
       "</div>"
      ],
      "text/plain": [
       "                                  MOVIE_TITLE  NUM_CRITIC_FOR_REVIEWS  \\\n",
       "0                                    Avatar?�                     723   \n",
       "1  Pirates of the Caribbean: At World's End?�                     302   \n",
       "2                                   Spectre?�                     602   \n",
       "3                     The Dark Knight Rises?�                     813   \n",
       "4                               John Carter?�                     462   \n",
       "\n",
       "   DURATION DIRECTOR_FACEBOOK_LIKES  ACTOR_3_FACEBOOK_LIKES  \\\n",
       "0     178.0                      10                     855   \n",
       "1       NaN                     563                    1000   \n",
       "2     148.0                      20                     161   \n",
       "3       NaN                   22000                   23000   \n",
       "4     132.0                   \"475\"                     530   \n",
       "\n",
       "   ACTOR_1_FACEBOOK_LIKES      GROSS  NUM_VOTED_USERS  \\\n",
       "0                    1000  760505847         886204.0   \n",
       "1                   40000  309404152         471220.0   \n",
       "2                   11000  200074175         275868.0   \n",
       "3                   27000  448130642        1144337.0   \n",
       "4                     640   73058679         212204.0   \n",
       "\n",
       "   CAST_TOTAL_FACEBOOK_LIKES  FACENUMBER_IN_POSTER  NUM_USER_FOR_REVIEWS  \\\n",
       "0                     4834.0                   NaN                  3054   \n",
       "1                    48350.0                   NaN                  1238   \n",
       "2                    11700.0                   1.0                   994   \n",
       "3                   106759.0                   NaN                  2701   \n",
       "4                     1873.0                   1.0                   738   \n",
       "\n",
       "      BUDGET  TITLE_YEAR  ACTOR_2_FACEBOOK_LIKES  IMDB_SCORE  TITLE_YEAR.1  \n",
       "0  237000000        2009                   936.0         7.9        2009.0  \n",
       "1  300000000        2007                  5000.0         7.1           NaN  \n",
       "2  245000000        2015                   393.0         6.8        2015.0  \n",
       "3  250000000        2012                 23000.0         8.5           NaN  \n",
       "4  263700000        2012                   632.0         6.6           NaN  "
      ]
     },
     "execution_count": 123,
     "metadata": {},
     "output_type": "execute_result"
    }
   ],
   "source": [
    "df.head()"
   ]
  },
  {
   "cell_type": "code",
   "execution_count": 124,
   "id": "f8a9fd27-8e21-4da8-b1fb-154921ac1e9a",
   "metadata": {},
   "outputs": [],
   "source": [
    "df_with_0 = df.fillna(0)"
   ]
  },
  {
   "cell_type": "code",
   "execution_count": 125,
   "id": "281e7ee6-a6da-4c9c-9746-1e39d8fcee9a",
   "metadata": {},
   "outputs": [
    {
     "data": {
      "text/html": [
       "<div>\n",
       "<style scoped>\n",
       "    .dataframe tbody tr th:only-of-type {\n",
       "        vertical-align: middle;\n",
       "    }\n",
       "\n",
       "    .dataframe tbody tr th {\n",
       "        vertical-align: top;\n",
       "    }\n",
       "\n",
       "    .dataframe thead th {\n",
       "        text-align: right;\n",
       "    }\n",
       "</style>\n",
       "<table border=\"1\" class=\"dataframe\">\n",
       "  <thead>\n",
       "    <tr style=\"text-align: right;\">\n",
       "      <th></th>\n",
       "      <th>MOVIE_TITLE</th>\n",
       "      <th>NUM_CRITIC_FOR_REVIEWS</th>\n",
       "      <th>DURATION</th>\n",
       "      <th>DIRECTOR_FACEBOOK_LIKES</th>\n",
       "      <th>ACTOR_3_FACEBOOK_LIKES</th>\n",
       "      <th>ACTOR_1_FACEBOOK_LIKES</th>\n",
       "      <th>GROSS</th>\n",
       "      <th>NUM_VOTED_USERS</th>\n",
       "      <th>CAST_TOTAL_FACEBOOK_LIKES</th>\n",
       "      <th>FACENUMBER_IN_POSTER</th>\n",
       "      <th>NUM_USER_FOR_REVIEWS</th>\n",
       "      <th>BUDGET</th>\n",
       "      <th>TITLE_YEAR</th>\n",
       "      <th>ACTOR_2_FACEBOOK_LIKES</th>\n",
       "      <th>IMDB_SCORE</th>\n",
       "      <th>TITLE_YEAR.1</th>\n",
       "    </tr>\n",
       "  </thead>\n",
       "  <tbody>\n",
       "    <tr>\n",
       "      <th>0</th>\n",
       "      <td>Avatar?�</td>\n",
       "      <td>723</td>\n",
       "      <td>178.0</td>\n",
       "      <td>10</td>\n",
       "      <td>855</td>\n",
       "      <td>1000</td>\n",
       "      <td>760505847</td>\n",
       "      <td>886204.0</td>\n",
       "      <td>4834.0</td>\n",
       "      <td>0.0</td>\n",
       "      <td>3054</td>\n",
       "      <td>237000000</td>\n",
       "      <td>2009</td>\n",
       "      <td>936.0</td>\n",
       "      <td>7.9</td>\n",
       "      <td>2009.0</td>\n",
       "    </tr>\n",
       "    <tr>\n",
       "      <th>1</th>\n",
       "      <td>Pirates of the Caribbean: At World's End?�</td>\n",
       "      <td>302</td>\n",
       "      <td>0.0</td>\n",
       "      <td>563</td>\n",
       "      <td>1000</td>\n",
       "      <td>40000</td>\n",
       "      <td>309404152</td>\n",
       "      <td>471220.0</td>\n",
       "      <td>48350.0</td>\n",
       "      <td>0.0</td>\n",
       "      <td>1238</td>\n",
       "      <td>300000000</td>\n",
       "      <td>2007</td>\n",
       "      <td>5000.0</td>\n",
       "      <td>7.1</td>\n",
       "      <td>0.0</td>\n",
       "    </tr>\n",
       "    <tr>\n",
       "      <th>2</th>\n",
       "      <td>Spectre?�</td>\n",
       "      <td>602</td>\n",
       "      <td>148.0</td>\n",
       "      <td>20</td>\n",
       "      <td>161</td>\n",
       "      <td>11000</td>\n",
       "      <td>200074175</td>\n",
       "      <td>275868.0</td>\n",
       "      <td>11700.0</td>\n",
       "      <td>1.0</td>\n",
       "      <td>994</td>\n",
       "      <td>245000000</td>\n",
       "      <td>2015</td>\n",
       "      <td>393.0</td>\n",
       "      <td>6.8</td>\n",
       "      <td>2015.0</td>\n",
       "    </tr>\n",
       "    <tr>\n",
       "      <th>3</th>\n",
       "      <td>The Dark Knight Rises?�</td>\n",
       "      <td>813</td>\n",
       "      <td>0.0</td>\n",
       "      <td>22000</td>\n",
       "      <td>23000</td>\n",
       "      <td>27000</td>\n",
       "      <td>448130642</td>\n",
       "      <td>1144337.0</td>\n",
       "      <td>106759.0</td>\n",
       "      <td>0.0</td>\n",
       "      <td>2701</td>\n",
       "      <td>250000000</td>\n",
       "      <td>2012</td>\n",
       "      <td>23000.0</td>\n",
       "      <td>8.5</td>\n",
       "      <td>0.0</td>\n",
       "    </tr>\n",
       "    <tr>\n",
       "      <th>4</th>\n",
       "      <td>John Carter?�</td>\n",
       "      <td>462</td>\n",
       "      <td>132.0</td>\n",
       "      <td>\"475\"</td>\n",
       "      <td>530</td>\n",
       "      <td>640</td>\n",
       "      <td>73058679</td>\n",
       "      <td>212204.0</td>\n",
       "      <td>1873.0</td>\n",
       "      <td>1.0</td>\n",
       "      <td>738</td>\n",
       "      <td>263700000</td>\n",
       "      <td>2012</td>\n",
       "      <td>632.0</td>\n",
       "      <td>6.6</td>\n",
       "      <td>0.0</td>\n",
       "    </tr>\n",
       "  </tbody>\n",
       "</table>\n",
       "</div>"
      ],
      "text/plain": [
       "                                  MOVIE_TITLE  NUM_CRITIC_FOR_REVIEWS  \\\n",
       "0                                    Avatar?�                     723   \n",
       "1  Pirates of the Caribbean: At World's End?�                     302   \n",
       "2                                   Spectre?�                     602   \n",
       "3                     The Dark Knight Rises?�                     813   \n",
       "4                               John Carter?�                     462   \n",
       "\n",
       "   DURATION DIRECTOR_FACEBOOK_LIKES  ACTOR_3_FACEBOOK_LIKES  \\\n",
       "0     178.0                      10                     855   \n",
       "1       0.0                     563                    1000   \n",
       "2     148.0                      20                     161   \n",
       "3       0.0                   22000                   23000   \n",
       "4     132.0                   \"475\"                     530   \n",
       "\n",
       "   ACTOR_1_FACEBOOK_LIKES      GROSS  NUM_VOTED_USERS  \\\n",
       "0                    1000  760505847         886204.0   \n",
       "1                   40000  309404152         471220.0   \n",
       "2                   11000  200074175         275868.0   \n",
       "3                   27000  448130642        1144337.0   \n",
       "4                     640   73058679         212204.0   \n",
       "\n",
       "   CAST_TOTAL_FACEBOOK_LIKES  FACENUMBER_IN_POSTER  NUM_USER_FOR_REVIEWS  \\\n",
       "0                     4834.0                   0.0                  3054   \n",
       "1                    48350.0                   0.0                  1238   \n",
       "2                    11700.0                   1.0                   994   \n",
       "3                   106759.0                   0.0                  2701   \n",
       "4                     1873.0                   1.0                   738   \n",
       "\n",
       "      BUDGET  TITLE_YEAR  ACTOR_2_FACEBOOK_LIKES  IMDB_SCORE  TITLE_YEAR.1  \n",
       "0  237000000        2009                   936.0         7.9        2009.0  \n",
       "1  300000000        2007                  5000.0         7.1           0.0  \n",
       "2  245000000        2015                   393.0         6.8        2015.0  \n",
       "3  250000000        2012                 23000.0         8.5           0.0  \n",
       "4  263700000        2012                   632.0         6.6           0.0  "
      ]
     },
     "execution_count": 125,
     "metadata": {},
     "output_type": "execute_result"
    }
   ],
   "source": [
    "df_with_0.head()"
   ]
  },
  {
   "cell_type": "code",
   "execution_count": 126,
   "id": "5ebe3e67-c010-4fe0-bf9c-e0b4edda569b",
   "metadata": {},
   "outputs": [
    {
     "data": {
      "text/plain": [
       "0     178.0\n",
       "1       NaN\n",
       "2     148.0\n",
       "3       NaN\n",
       "4     132.0\n",
       "5     156.0\n",
       "6       NaN\n",
       "7     141.0\n",
       "8     141.0\n",
       "9     153.0\n",
       "10    183.0\n",
       "11    169.0\n",
       "12    106.0\n",
       "13    151.0\n",
       "Name: DURATION, dtype: float64"
      ]
     },
     "execution_count": 126,
     "metadata": {},
     "output_type": "execute_result"
    }
   ],
   "source": [
    "# Fill it with mean\n",
    "df['DURATION']"
   ]
  },
  {
   "cell_type": "code",
   "execution_count": 127,
   "id": "09eff756-f6fd-43ef-ac0e-45c33bb102e5",
   "metadata": {},
   "outputs": [
    {
     "data": {
      "text/plain": [
       "150.72727272727272"
      ]
     },
     "execution_count": 127,
     "metadata": {},
     "output_type": "execute_result"
    }
   ],
   "source": [
    "df['DURATION'].mean()"
   ]
  },
  {
   "cell_type": "code",
   "execution_count": 128,
   "id": "79c4b6ff-0bde-49e9-89dc-7b83c195c384",
   "metadata": {},
   "outputs": [],
   "source": [
    "df_with_mean = df.DURATION.fillna(df['DURATION'].mean())"
   ]
  },
  {
   "cell_type": "code",
   "execution_count": 129,
   "id": "f4ec1c4b-63c8-4ee1-8884-8378bf04a9d9",
   "metadata": {},
   "outputs": [
    {
     "data": {
      "text/plain": [
       "0     178.000000\n",
       "1     150.727273\n",
       "2     148.000000\n",
       "3     150.727273\n",
       "4     132.000000\n",
       "5     156.000000\n",
       "6     150.727273\n",
       "7     141.000000\n",
       "8     141.000000\n",
       "9     153.000000\n",
       "10    183.000000\n",
       "11    169.000000\n",
       "12    106.000000\n",
       "13    151.000000\n",
       "Name: DURATION, dtype: float64"
      ]
     },
     "execution_count": 129,
     "metadata": {},
     "output_type": "execute_result"
    }
   ],
   "source": [
    "df_with_mean"
   ]
  },
  {
   "cell_type": "code",
   "execution_count": 130,
   "id": "1f9fdae4-2b85-4dcf-bcaa-0b41a2409a4c",
   "metadata": {},
   "outputs": [
    {
     "data": {
      "text/html": [
       "<div>\n",
       "<style scoped>\n",
       "    .dataframe tbody tr th:only-of-type {\n",
       "        vertical-align: middle;\n",
       "    }\n",
       "\n",
       "    .dataframe tbody tr th {\n",
       "        vertical-align: top;\n",
       "    }\n",
       "\n",
       "    .dataframe thead th {\n",
       "        text-align: right;\n",
       "    }\n",
       "</style>\n",
       "<table border=\"1\" class=\"dataframe\">\n",
       "  <thead>\n",
       "    <tr style=\"text-align: right;\">\n",
       "      <th></th>\n",
       "      <th>MOVIE_TITLE</th>\n",
       "      <th>NUM_CRITIC_FOR_REVIEWS</th>\n",
       "      <th>DURATION</th>\n",
       "      <th>DIRECTOR_FACEBOOK_LIKES</th>\n",
       "      <th>ACTOR_3_FACEBOOK_LIKES</th>\n",
       "      <th>ACTOR_1_FACEBOOK_LIKES</th>\n",
       "      <th>GROSS</th>\n",
       "      <th>NUM_VOTED_USERS</th>\n",
       "      <th>CAST_TOTAL_FACEBOOK_LIKES</th>\n",
       "      <th>FACENUMBER_IN_POSTER</th>\n",
       "      <th>NUM_USER_FOR_REVIEWS</th>\n",
       "      <th>BUDGET</th>\n",
       "      <th>TITLE_YEAR</th>\n",
       "      <th>ACTOR_2_FACEBOOK_LIKES</th>\n",
       "      <th>IMDB_SCORE</th>\n",
       "      <th>TITLE_YEAR.1</th>\n",
       "    </tr>\n",
       "  </thead>\n",
       "  <tbody>\n",
       "    <tr>\n",
       "      <th>0</th>\n",
       "      <td>Avatar?�</td>\n",
       "      <td>723</td>\n",
       "      <td>178.0</td>\n",
       "      <td>10</td>\n",
       "      <td>855</td>\n",
       "      <td>1000</td>\n",
       "      <td>760505847</td>\n",
       "      <td>886204.0</td>\n",
       "      <td>4834.0</td>\n",
       "      <td>NaN</td>\n",
       "      <td>3054</td>\n",
       "      <td>237000000</td>\n",
       "      <td>2009</td>\n",
       "      <td>936.0</td>\n",
       "      <td>7.9</td>\n",
       "      <td>2009.0</td>\n",
       "    </tr>\n",
       "    <tr>\n",
       "      <th>1</th>\n",
       "      <td>Pirates of the Caribbean: At World's End?�</td>\n",
       "      <td>302</td>\n",
       "      <td>NaN</td>\n",
       "      <td>563</td>\n",
       "      <td>1000</td>\n",
       "      <td>40000</td>\n",
       "      <td>309404152</td>\n",
       "      <td>471220.0</td>\n",
       "      <td>48350.0</td>\n",
       "      <td>NaN</td>\n",
       "      <td>1238</td>\n",
       "      <td>300000000</td>\n",
       "      <td>2007</td>\n",
       "      <td>5000.0</td>\n",
       "      <td>7.1</td>\n",
       "      <td>NaN</td>\n",
       "    </tr>\n",
       "    <tr>\n",
       "      <th>2</th>\n",
       "      <td>Spectre?�</td>\n",
       "      <td>602</td>\n",
       "      <td>148.0</td>\n",
       "      <td>20</td>\n",
       "      <td>161</td>\n",
       "      <td>11000</td>\n",
       "      <td>200074175</td>\n",
       "      <td>275868.0</td>\n",
       "      <td>11700.0</td>\n",
       "      <td>1.0</td>\n",
       "      <td>994</td>\n",
       "      <td>245000000</td>\n",
       "      <td>2015</td>\n",
       "      <td>393.0</td>\n",
       "      <td>6.8</td>\n",
       "      <td>2015.0</td>\n",
       "    </tr>\n",
       "    <tr>\n",
       "      <th>3</th>\n",
       "      <td>The Dark Knight Rises?�</td>\n",
       "      <td>813</td>\n",
       "      <td>NaN</td>\n",
       "      <td>22000</td>\n",
       "      <td>23000</td>\n",
       "      <td>27000</td>\n",
       "      <td>448130642</td>\n",
       "      <td>1144337.0</td>\n",
       "      <td>106759.0</td>\n",
       "      <td>NaN</td>\n",
       "      <td>2701</td>\n",
       "      <td>250000000</td>\n",
       "      <td>2012</td>\n",
       "      <td>23000.0</td>\n",
       "      <td>8.5</td>\n",
       "      <td>NaN</td>\n",
       "    </tr>\n",
       "    <tr>\n",
       "      <th>4</th>\n",
       "      <td>John Carter?�</td>\n",
       "      <td>462</td>\n",
       "      <td>132.0</td>\n",
       "      <td>\"475\"</td>\n",
       "      <td>530</td>\n",
       "      <td>640</td>\n",
       "      <td>73058679</td>\n",
       "      <td>212204.0</td>\n",
       "      <td>1873.0</td>\n",
       "      <td>1.0</td>\n",
       "      <td>738</td>\n",
       "      <td>263700000</td>\n",
       "      <td>2012</td>\n",
       "      <td>632.0</td>\n",
       "      <td>6.6</td>\n",
       "      <td>NaN</td>\n",
       "    </tr>\n",
       "  </tbody>\n",
       "</table>\n",
       "</div>"
      ],
      "text/plain": [
       "                                  MOVIE_TITLE  NUM_CRITIC_FOR_REVIEWS  \\\n",
       "0                                    Avatar?�                     723   \n",
       "1  Pirates of the Caribbean: At World's End?�                     302   \n",
       "2                                   Spectre?�                     602   \n",
       "3                     The Dark Knight Rises?�                     813   \n",
       "4                               John Carter?�                     462   \n",
       "\n",
       "   DURATION DIRECTOR_FACEBOOK_LIKES  ACTOR_3_FACEBOOK_LIKES  \\\n",
       "0     178.0                      10                     855   \n",
       "1       NaN                     563                    1000   \n",
       "2     148.0                      20                     161   \n",
       "3       NaN                   22000                   23000   \n",
       "4     132.0                   \"475\"                     530   \n",
       "\n",
       "   ACTOR_1_FACEBOOK_LIKES      GROSS  NUM_VOTED_USERS  \\\n",
       "0                    1000  760505847         886204.0   \n",
       "1                   40000  309404152         471220.0   \n",
       "2                   11000  200074175         275868.0   \n",
       "3                   27000  448130642        1144337.0   \n",
       "4                     640   73058679         212204.0   \n",
       "\n",
       "   CAST_TOTAL_FACEBOOK_LIKES  FACENUMBER_IN_POSTER  NUM_USER_FOR_REVIEWS  \\\n",
       "0                     4834.0                   NaN                  3054   \n",
       "1                    48350.0                   NaN                  1238   \n",
       "2                    11700.0                   1.0                   994   \n",
       "3                   106759.0                   NaN                  2701   \n",
       "4                     1873.0                   1.0                   738   \n",
       "\n",
       "      BUDGET  TITLE_YEAR  ACTOR_2_FACEBOOK_LIKES  IMDB_SCORE  TITLE_YEAR.1  \n",
       "0  237000000        2009                   936.0         7.9        2009.0  \n",
       "1  300000000        2007                  5000.0         7.1           NaN  \n",
       "2  245000000        2015                   393.0         6.8        2015.0  \n",
       "3  250000000        2012                 23000.0         8.5           NaN  \n",
       "4  263700000        2012                   632.0         6.6           NaN  "
      ]
     },
     "execution_count": 130,
     "metadata": {},
     "output_type": "execute_result"
    }
   ],
   "source": [
    "# Dropping NA\n",
    "df.head()"
   ]
  },
  {
   "cell_type": "code",
   "execution_count": 131,
   "id": "b3de2bea-527a-44e4-a21e-ca5d493bc590",
   "metadata": {},
   "outputs": [
    {
     "data": {
      "text/plain": [
       "21"
      ]
     },
     "execution_count": 131,
     "metadata": {},
     "output_type": "execute_result"
    }
   ],
   "source": [
    "df.isnull().sum().sum()"
   ]
  },
  {
   "cell_type": "code",
   "execution_count": 132,
   "id": "a88ad054-0db3-4a73-8a9a-1a2ab78b21cb",
   "metadata": {},
   "outputs": [
    {
     "data": {
      "text/plain": [
       "(14, 16)"
      ]
     },
     "execution_count": 132,
     "metadata": {},
     "output_type": "execute_result"
    }
   ],
   "source": [
    "df.shape"
   ]
  },
  {
   "cell_type": "code",
   "execution_count": 133,
   "id": "44b82236-a209-476f-bd54-734b03d62580",
   "metadata": {},
   "outputs": [],
   "source": [
    "df_drop = df.dropna()"
   ]
  },
  {
   "cell_type": "code",
   "execution_count": 134,
   "id": "efad2fd4-a6d1-4c51-9bea-33d63da34871",
   "metadata": {},
   "outputs": [
    {
     "data": {
      "text/plain": [
       "(4, 16)"
      ]
     },
     "execution_count": 134,
     "metadata": {},
     "output_type": "execute_result"
    }
   ],
   "source": [
    "df_drop.shape"
   ]
  },
  {
   "cell_type": "code",
   "execution_count": 135,
   "id": "92762841-3c50-4113-bc8c-54cd183cbd8a",
   "metadata": {},
   "outputs": [
    {
     "data": {
      "text/html": [
       "<div>\n",
       "<style scoped>\n",
       "    .dataframe tbody tr th:only-of-type {\n",
       "        vertical-align: middle;\n",
       "    }\n",
       "\n",
       "    .dataframe tbody tr th {\n",
       "        vertical-align: top;\n",
       "    }\n",
       "\n",
       "    .dataframe thead th {\n",
       "        text-align: right;\n",
       "    }\n",
       "</style>\n",
       "<table border=\"1\" class=\"dataframe\">\n",
       "  <thead>\n",
       "    <tr style=\"text-align: right;\">\n",
       "      <th></th>\n",
       "      <th>MOVIE_TITLE</th>\n",
       "      <th>NUM_CRITIC_FOR_REVIEWS</th>\n",
       "      <th>DURATION</th>\n",
       "      <th>DIRECTOR_FACEBOOK_LIKES</th>\n",
       "      <th>ACTOR_3_FACEBOOK_LIKES</th>\n",
       "      <th>ACTOR_1_FACEBOOK_LIKES</th>\n",
       "      <th>GROSS</th>\n",
       "      <th>NUM_VOTED_USERS</th>\n",
       "      <th>CAST_TOTAL_FACEBOOK_LIKES</th>\n",
       "      <th>FACENUMBER_IN_POSTER</th>\n",
       "      <th>NUM_USER_FOR_REVIEWS</th>\n",
       "      <th>BUDGET</th>\n",
       "      <th>TITLE_YEAR</th>\n",
       "      <th>ACTOR_2_FACEBOOK_LIKES</th>\n",
       "      <th>IMDB_SCORE</th>\n",
       "      <th>TITLE_YEAR.1</th>\n",
       "    </tr>\n",
       "  </thead>\n",
       "  <tbody>\n",
       "    <tr>\n",
       "      <th>2</th>\n",
       "      <td>Spectre?�</td>\n",
       "      <td>602</td>\n",
       "      <td>148.0</td>\n",
       "      <td>20</td>\n",
       "      <td>161</td>\n",
       "      <td>11000</td>\n",
       "      <td>200074175</td>\n",
       "      <td>275868.0</td>\n",
       "      <td>11700.0</td>\n",
       "      <td>1.0</td>\n",
       "      <td>994</td>\n",
       "      <td>245000000</td>\n",
       "      <td>2015</td>\n",
       "      <td>393.0</td>\n",
       "      <td>6.8</td>\n",
       "      <td>2015.0</td>\n",
       "    </tr>\n",
       "    <tr>\n",
       "      <th>8</th>\n",
       "      <td>Avengers: Age of Ultron?�</td>\n",
       "      <td>635</td>\n",
       "      <td>141.0</td>\n",
       "      <td>10</td>\n",
       "      <td>19000</td>\n",
       "      <td>26000</td>\n",
       "      <td>458991599</td>\n",
       "      <td>462669.0</td>\n",
       "      <td>92000.0</td>\n",
       "      <td>4.0</td>\n",
       "      <td>1117</td>\n",
       "      <td>250000000</td>\n",
       "      <td>2015</td>\n",
       "      <td>21000.0</td>\n",
       "      <td>7.5</td>\n",
       "      <td>2015.0</td>\n",
       "    </tr>\n",
       "    <tr>\n",
       "      <th>12</th>\n",
       "      <td>Quantum of Solace?�</td>\n",
       "      <td>403</td>\n",
       "      <td>106.0</td>\n",
       "      <td>395</td>\n",
       "      <td>393</td>\n",
       "      <td>451</td>\n",
       "      <td>168368427</td>\n",
       "      <td>330784.0</td>\n",
       "      <td>2023.0</td>\n",
       "      <td>1.0</td>\n",
       "      <td>1243</td>\n",
       "      <td>200000000</td>\n",
       "      <td>2008</td>\n",
       "      <td>412.0</td>\n",
       "      <td>6.7</td>\n",
       "      <td>2008.0</td>\n",
       "    </tr>\n",
       "    <tr>\n",
       "      <th>13</th>\n",
       "      <td>Pirates of the Caribbean: Dead Man's Chest?�</td>\n",
       "      <td>313</td>\n",
       "      <td>151.0</td>\n",
       "      <td>563</td>\n",
       "      <td>1000</td>\n",
       "      <td>40000</td>\n",
       "      <td>423032628</td>\n",
       "      <td>522040.0</td>\n",
       "      <td>48486.0</td>\n",
       "      <td>2.0</td>\n",
       "      <td>1832</td>\n",
       "      <td>225000000</td>\n",
       "      <td>2006</td>\n",
       "      <td>5000.0</td>\n",
       "      <td>7.3</td>\n",
       "      <td>2008.0</td>\n",
       "    </tr>\n",
       "  </tbody>\n",
       "</table>\n",
       "</div>"
      ],
      "text/plain": [
       "                                     MOVIE_TITLE  NUM_CRITIC_FOR_REVIEWS  \\\n",
       "2                                      Spectre?�                     602   \n",
       "8                      Avengers: Age of Ultron?�                     635   \n",
       "12                           Quantum of Solace?�                     403   \n",
       "13  Pirates of the Caribbean: Dead Man's Chest?�                     313   \n",
       "\n",
       "    DURATION DIRECTOR_FACEBOOK_LIKES  ACTOR_3_FACEBOOK_LIKES  \\\n",
       "2      148.0                      20                     161   \n",
       "8      141.0                      10                   19000   \n",
       "12     106.0                     395                     393   \n",
       "13     151.0                     563                    1000   \n",
       "\n",
       "    ACTOR_1_FACEBOOK_LIKES      GROSS  NUM_VOTED_USERS  \\\n",
       "2                    11000  200074175         275868.0   \n",
       "8                    26000  458991599         462669.0   \n",
       "12                     451  168368427         330784.0   \n",
       "13                   40000  423032628         522040.0   \n",
       "\n",
       "    CAST_TOTAL_FACEBOOK_LIKES  FACENUMBER_IN_POSTER  NUM_USER_FOR_REVIEWS  \\\n",
       "2                     11700.0                   1.0                   994   \n",
       "8                     92000.0                   4.0                  1117   \n",
       "12                     2023.0                   1.0                  1243   \n",
       "13                    48486.0                   2.0                  1832   \n",
       "\n",
       "       BUDGET  TITLE_YEAR  ACTOR_2_FACEBOOK_LIKES  IMDB_SCORE  TITLE_YEAR.1  \n",
       "2   245000000        2015                   393.0         6.8        2015.0  \n",
       "8   250000000        2015                 21000.0         7.5        2015.0  \n",
       "12  200000000        2008                   412.0         6.7        2008.0  \n",
       "13  225000000        2006                  5000.0         7.3        2008.0  "
      ]
     },
     "execution_count": 135,
     "metadata": {},
     "output_type": "execute_result"
    }
   ],
   "source": [
    "df_drop"
   ]
  },
  {
   "cell_type": "code",
   "execution_count": 136,
   "id": "058982d8-84c5-44d8-853c-16a74479229a",
   "metadata": {},
   "outputs": [
    {
     "data": {
      "text/plain": [
       "\u001b[1;31mSignature:\u001b[0m\n",
       "\u001b[0mdf\u001b[0m\u001b[1;33m.\u001b[0m\u001b[0mdropna\u001b[0m\u001b[1;33m(\u001b[0m\u001b[1;33m\n",
       "\u001b[0m    \u001b[0maxis\u001b[0m\u001b[1;33m:\u001b[0m \u001b[1;34m'Axis'\u001b[0m \u001b[1;33m=\u001b[0m \u001b[1;36m0\u001b[0m\u001b[1;33m,\u001b[0m\u001b[1;33m\n",
       "\u001b[0m    \u001b[0mhow\u001b[0m\u001b[1;33m:\u001b[0m \u001b[1;34m'str'\u001b[0m \u001b[1;33m=\u001b[0m \u001b[1;34m'any'\u001b[0m\u001b[1;33m,\u001b[0m\u001b[1;33m\n",
       "\u001b[0m    \u001b[0mthresh\u001b[0m\u001b[1;33m=\u001b[0m\u001b[1;32mNone\u001b[0m\u001b[1;33m,\u001b[0m\u001b[1;33m\n",
       "\u001b[0m    \u001b[0msubset\u001b[0m\u001b[1;33m=\u001b[0m\u001b[1;32mNone\u001b[0m\u001b[1;33m,\u001b[0m\u001b[1;33m\n",
       "\u001b[0m    \u001b[0minplace\u001b[0m\u001b[1;33m:\u001b[0m \u001b[1;34m'bool'\u001b[0m \u001b[1;33m=\u001b[0m \u001b[1;32mFalse\u001b[0m\u001b[1;33m,\u001b[0m\u001b[1;33m\n",
       "\u001b[0m\u001b[1;33m)\u001b[0m\u001b[1;33m\u001b[0m\u001b[1;33m\u001b[0m\u001b[0m\n",
       "\u001b[1;31mDocstring:\u001b[0m\n",
       "Remove missing values.\n",
       "\n",
       "See the :ref:`User Guide <missing_data>` for more on which values are\n",
       "considered missing, and how to work with missing data.\n",
       "\n",
       "Parameters\n",
       "----------\n",
       "axis : {0 or 'index', 1 or 'columns'}, default 0\n",
       "    Determine if rows or columns which contain missing values are\n",
       "    removed.\n",
       "\n",
       "    * 0, or 'index' : Drop rows which contain missing values.\n",
       "    * 1, or 'columns' : Drop columns which contain missing value.\n",
       "\n",
       "    .. versionchanged:: 1.0.0\n",
       "\n",
       "       Pass tuple or list to drop on multiple axes.\n",
       "       Only a single axis is allowed.\n",
       "\n",
       "how : {'any', 'all'}, default 'any'\n",
       "    Determine if row or column is removed from DataFrame, when we have\n",
       "    at least one NA or all NA.\n",
       "\n",
       "    * 'any' : If any NA values are present, drop that row or column.\n",
       "    * 'all' : If all values are NA, drop that row or column.\n",
       "\n",
       "thresh : int, optional\n",
       "    Require that many non-NA values.\n",
       "subset : array-like, optional\n",
       "    Labels along other axis to consider, e.g. if you are dropping rows\n",
       "    these would be a list of columns to include.\n",
       "inplace : bool, default False\n",
       "    If True, do operation inplace and return None.\n",
       "\n",
       "Returns\n",
       "-------\n",
       "DataFrame or None\n",
       "    DataFrame with NA entries dropped from it or None if ``inplace=True``.\n",
       "\n",
       "See Also\n",
       "--------\n",
       "DataFrame.isna: Indicate missing values.\n",
       "DataFrame.notna : Indicate existing (non-missing) values.\n",
       "DataFrame.fillna : Replace missing values.\n",
       "Series.dropna : Drop missing values.\n",
       "Index.dropna : Drop missing indices.\n",
       "\n",
       "Examples\n",
       "--------\n",
       ">>> df = pd.DataFrame({\"name\": ['Alfred', 'Batman', 'Catwoman'],\n",
       "...                    \"toy\": [np.nan, 'Batmobile', 'Bullwhip'],\n",
       "...                    \"born\": [pd.NaT, pd.Timestamp(\"1940-04-25\"),\n",
       "...                             pd.NaT]})\n",
       ">>> df\n",
       "       name        toy       born\n",
       "0    Alfred        NaN        NaT\n",
       "1    Batman  Batmobile 1940-04-25\n",
       "2  Catwoman   Bullwhip        NaT\n",
       "\n",
       "Drop the rows where at least one element is missing.\n",
       "\n",
       ">>> df.dropna()\n",
       "     name        toy       born\n",
       "1  Batman  Batmobile 1940-04-25\n",
       "\n",
       "Drop the columns where at least one element is missing.\n",
       "\n",
       ">>> df.dropna(axis='columns')\n",
       "       name\n",
       "0    Alfred\n",
       "1    Batman\n",
       "2  Catwoman\n",
       "\n",
       "Drop the rows where all elements are missing.\n",
       "\n",
       ">>> df.dropna(how='all')\n",
       "       name        toy       born\n",
       "0    Alfred        NaN        NaT\n",
       "1    Batman  Batmobile 1940-04-25\n",
       "2  Catwoman   Bullwhip        NaT\n",
       "\n",
       "Keep only the rows with at least 2 non-NA values.\n",
       "\n",
       ">>> df.dropna(thresh=2)\n",
       "       name        toy       born\n",
       "1    Batman  Batmobile 1940-04-25\n",
       "2  Catwoman   Bullwhip        NaT\n",
       "\n",
       "Define in which columns to look for missing values.\n",
       "\n",
       ">>> df.dropna(subset=['name', 'toy'])\n",
       "       name        toy       born\n",
       "1    Batman  Batmobile 1940-04-25\n",
       "2  Catwoman   Bullwhip        NaT\n",
       "\n",
       "Keep the DataFrame with valid entries in the same variable.\n",
       "\n",
       ">>> df.dropna(inplace=True)\n",
       ">>> df\n",
       "     name        toy       born\n",
       "1  Batman  Batmobile 1940-04-25\n",
       "\u001b[1;31mFile:\u001b[0m      c:\\anaconda\\lib\\site-packages\\pandas\\core\\frame.py\n",
       "\u001b[1;31mType:\u001b[0m      method\n"
      ]
     },
     "metadata": {},
     "output_type": "display_data"
    }
   ],
   "source": [
    "?df.dropna"
   ]
  },
  {
   "cell_type": "code",
   "execution_count": 137,
   "id": "7e4a199d-24e0-41be-a3af-32705d6b60ad",
   "metadata": {},
   "outputs": [
    {
     "data": {
      "text/plain": [
       "(14, 16)"
      ]
     },
     "execution_count": 137,
     "metadata": {},
     "output_type": "execute_result"
    }
   ],
   "source": [
    "df.shape"
   ]
  },
  {
   "cell_type": "code",
   "execution_count": 138,
   "id": "d072b7f9-d92e-4d6a-96be-49b6137f3919",
   "metadata": {},
   "outputs": [
    {
     "data": {
      "text/html": [
       "<div>\n",
       "<style scoped>\n",
       "    .dataframe tbody tr th:only-of-type {\n",
       "        vertical-align: middle;\n",
       "    }\n",
       "\n",
       "    .dataframe tbody tr th {\n",
       "        vertical-align: top;\n",
       "    }\n",
       "\n",
       "    .dataframe thead th {\n",
       "        text-align: right;\n",
       "    }\n",
       "</style>\n",
       "<table border=\"1\" class=\"dataframe\">\n",
       "  <thead>\n",
       "    <tr style=\"text-align: right;\">\n",
       "      <th></th>\n",
       "      <th>MOVIE_TITLE</th>\n",
       "      <th>NUM_CRITIC_FOR_REVIEWS</th>\n",
       "      <th>DURATION</th>\n",
       "      <th>DIRECTOR_FACEBOOK_LIKES</th>\n",
       "      <th>ACTOR_3_FACEBOOK_LIKES</th>\n",
       "      <th>ACTOR_1_FACEBOOK_LIKES</th>\n",
       "      <th>GROSS</th>\n",
       "      <th>NUM_VOTED_USERS</th>\n",
       "      <th>CAST_TOTAL_FACEBOOK_LIKES</th>\n",
       "      <th>FACENUMBER_IN_POSTER</th>\n",
       "      <th>NUM_USER_FOR_REVIEWS</th>\n",
       "      <th>BUDGET</th>\n",
       "      <th>TITLE_YEAR</th>\n",
       "      <th>ACTOR_2_FACEBOOK_LIKES</th>\n",
       "      <th>IMDB_SCORE</th>\n",
       "      <th>TITLE_YEAR.1</th>\n",
       "    </tr>\n",
       "  </thead>\n",
       "  <tbody>\n",
       "    <tr>\n",
       "      <th>0</th>\n",
       "      <td>Avatar?�</td>\n",
       "      <td>723</td>\n",
       "      <td>178.0</td>\n",
       "      <td>10</td>\n",
       "      <td>855</td>\n",
       "      <td>1000</td>\n",
       "      <td>760505847</td>\n",
       "      <td>886204.0</td>\n",
       "      <td>4834.0</td>\n",
       "      <td>NaN</td>\n",
       "      <td>3054</td>\n",
       "      <td>237000000</td>\n",
       "      <td>2009</td>\n",
       "      <td>936.0</td>\n",
       "      <td>7.9</td>\n",
       "      <td>2009.0</td>\n",
       "    </tr>\n",
       "    <tr>\n",
       "      <th>1</th>\n",
       "      <td>Pirates of the Caribbean: At World's End?�</td>\n",
       "      <td>302</td>\n",
       "      <td>NaN</td>\n",
       "      <td>563</td>\n",
       "      <td>1000</td>\n",
       "      <td>40000</td>\n",
       "      <td>309404152</td>\n",
       "      <td>471220.0</td>\n",
       "      <td>48350.0</td>\n",
       "      <td>NaN</td>\n",
       "      <td>1238</td>\n",
       "      <td>300000000</td>\n",
       "      <td>2007</td>\n",
       "      <td>5000.0</td>\n",
       "      <td>7.1</td>\n",
       "      <td>NaN</td>\n",
       "    </tr>\n",
       "    <tr>\n",
       "      <th>2</th>\n",
       "      <td>Spectre?�</td>\n",
       "      <td>602</td>\n",
       "      <td>148.0</td>\n",
       "      <td>20</td>\n",
       "      <td>161</td>\n",
       "      <td>11000</td>\n",
       "      <td>200074175</td>\n",
       "      <td>275868.0</td>\n",
       "      <td>11700.0</td>\n",
       "      <td>1.0</td>\n",
       "      <td>994</td>\n",
       "      <td>245000000</td>\n",
       "      <td>2015</td>\n",
       "      <td>393.0</td>\n",
       "      <td>6.8</td>\n",
       "      <td>2015.0</td>\n",
       "    </tr>\n",
       "    <tr>\n",
       "      <th>3</th>\n",
       "      <td>The Dark Knight Rises?�</td>\n",
       "      <td>813</td>\n",
       "      <td>NaN</td>\n",
       "      <td>22000</td>\n",
       "      <td>23000</td>\n",
       "      <td>27000</td>\n",
       "      <td>448130642</td>\n",
       "      <td>1144337.0</td>\n",
       "      <td>106759.0</td>\n",
       "      <td>NaN</td>\n",
       "      <td>2701</td>\n",
       "      <td>250000000</td>\n",
       "      <td>2012</td>\n",
       "      <td>23000.0</td>\n",
       "      <td>8.5</td>\n",
       "      <td>NaN</td>\n",
       "    </tr>\n",
       "    <tr>\n",
       "      <th>4</th>\n",
       "      <td>John Carter?�</td>\n",
       "      <td>462</td>\n",
       "      <td>132.0</td>\n",
       "      <td>\"475\"</td>\n",
       "      <td>530</td>\n",
       "      <td>640</td>\n",
       "      <td>73058679</td>\n",
       "      <td>212204.0</td>\n",
       "      <td>1873.0</td>\n",
       "      <td>1.0</td>\n",
       "      <td>738</td>\n",
       "      <td>263700000</td>\n",
       "      <td>2012</td>\n",
       "      <td>632.0</td>\n",
       "      <td>6.6</td>\n",
       "      <td>NaN</td>\n",
       "    </tr>\n",
       "  </tbody>\n",
       "</table>\n",
       "</div>"
      ],
      "text/plain": [
       "                                  MOVIE_TITLE  NUM_CRITIC_FOR_REVIEWS  \\\n",
       "0                                    Avatar?�                     723   \n",
       "1  Pirates of the Caribbean: At World's End?�                     302   \n",
       "2                                   Spectre?�                     602   \n",
       "3                     The Dark Knight Rises?�                     813   \n",
       "4                               John Carter?�                     462   \n",
       "\n",
       "   DURATION DIRECTOR_FACEBOOK_LIKES  ACTOR_3_FACEBOOK_LIKES  \\\n",
       "0     178.0                      10                     855   \n",
       "1       NaN                     563                    1000   \n",
       "2     148.0                      20                     161   \n",
       "3       NaN                   22000                   23000   \n",
       "4     132.0                   \"475\"                     530   \n",
       "\n",
       "   ACTOR_1_FACEBOOK_LIKES      GROSS  NUM_VOTED_USERS  \\\n",
       "0                    1000  760505847         886204.0   \n",
       "1                   40000  309404152         471220.0   \n",
       "2                   11000  200074175         275868.0   \n",
       "3                   27000  448130642        1144337.0   \n",
       "4                     640   73058679         212204.0   \n",
       "\n",
       "   CAST_TOTAL_FACEBOOK_LIKES  FACENUMBER_IN_POSTER  NUM_USER_FOR_REVIEWS  \\\n",
       "0                     4834.0                   NaN                  3054   \n",
       "1                    48350.0                   NaN                  1238   \n",
       "2                    11700.0                   1.0                   994   \n",
       "3                   106759.0                   NaN                  2701   \n",
       "4                     1873.0                   1.0                   738   \n",
       "\n",
       "      BUDGET  TITLE_YEAR  ACTOR_2_FACEBOOK_LIKES  IMDB_SCORE  TITLE_YEAR.1  \n",
       "0  237000000        2009                   936.0         7.9        2009.0  \n",
       "1  300000000        2007                  5000.0         7.1           NaN  \n",
       "2  245000000        2015                   393.0         6.8        2015.0  \n",
       "3  250000000        2012                 23000.0         8.5           NaN  \n",
       "4  263700000        2012                   632.0         6.6           NaN  "
      ]
     },
     "execution_count": 138,
     "metadata": {},
     "output_type": "execute_result"
    }
   ],
   "source": [
    "df.head()"
   ]
  },
  {
   "cell_type": "code",
   "execution_count": 139,
   "id": "b1757be2-9800-4bfc-8375-72c47fc24550",
   "metadata": {},
   "outputs": [],
   "source": [
    "df_with_condition = df.dropna()"
   ]
  },
  {
   "cell_type": "code",
   "execution_count": 140,
   "id": "90849ab4-0737-4def-9e7f-d336a3f9e1c8",
   "metadata": {},
   "outputs": [],
   "source": [
    "df_drop_with_condition = df.dropna(thresh=2)"
   ]
  },
  {
   "cell_type": "code",
   "execution_count": 141,
   "id": "aed2e801-e93b-4216-b39e-ad83886a81f1",
   "metadata": {},
   "outputs": [
    {
     "data": {
      "text/plain": [
       "(14, 16)"
      ]
     },
     "execution_count": 141,
     "metadata": {},
     "output_type": "execute_result"
    }
   ],
   "source": [
    "df_drop_with_condition.shape"
   ]
  },
  {
   "cell_type": "code",
   "execution_count": 142,
   "id": "326990ba-6925-4fa7-b161-bd8606c74130",
   "metadata": {},
   "outputs": [
    {
     "data": {
      "text/plain": [
       "(14, 16)"
      ]
     },
     "execution_count": 142,
     "metadata": {},
     "output_type": "execute_result"
    }
   ],
   "source": [
    "df.shape"
   ]
  },
  {
   "cell_type": "code",
   "execution_count": 143,
   "id": "e825f9d9-b421-4ae8-ae90-d590b28cb45d",
   "metadata": {},
   "outputs": [],
   "source": [
    "df_drop_column = df.dropna(axis=1)"
   ]
  },
  {
   "cell_type": "code",
   "execution_count": 144,
   "id": "5fa58a32-b5aa-4d06-994e-28469cb5f186",
   "metadata": {},
   "outputs": [
    {
     "data": {
      "text/plain": [
       "(14, 9)"
      ]
     },
     "execution_count": 144,
     "metadata": {},
     "output_type": "execute_result"
    }
   ],
   "source": [
    "df_drop_column.shape"
   ]
  },
  {
   "cell_type": "markdown",
   "id": "99b6d585-7438-4c3b-bee3-68cab744b684",
   "metadata": {},
   "source": [
    "## Data Cleaning In Python Practical Examples 3"
   ]
  },
  {
   "cell_type": "markdown",
   "id": "17de6028-6ebf-4377-b271-541c8507cbb7",
   "metadata": {},
   "source": [
    "##### *Working With Text Data\n",
    "##### *Split A Column Into Multiple Columns\n",
    "##### *Joining Two Columns\n",
    "##### *Removing Words, Expression\n",
    "##### *Searching For Strings and Expressions\n",
    "##### *Replacing Words"
   ]
  },
  {
   "cell_type": "code",
   "execution_count": 145,
   "id": "fbe14b15-9332-4baa-94a0-c692c7512f35",
   "metadata": {},
   "outputs": [],
   "source": [
    "# Load Dataset\n",
    "df = pd.read_csv(\"C:\\\\Users\\\\ifybe\\\\Downloads\\\\dataset.csv\")"
   ]
  },
  {
   "cell_type": "code",
   "execution_count": 146,
   "id": "16df9fff-0894-45a6-9b27-dabd8ced14e3",
   "metadata": {},
   "outputs": [
    {
     "data": {
      "text/html": [
       "<div>\n",
       "<style scoped>\n",
       "    .dataframe tbody tr th:only-of-type {\n",
       "        vertical-align: middle;\n",
       "    }\n",
       "\n",
       "    .dataframe tbody tr th {\n",
       "        vertical-align: top;\n",
       "    }\n",
       "\n",
       "    .dataframe thead th {\n",
       "        text-align: right;\n",
       "    }\n",
       "</style>\n",
       "<table border=\"1\" class=\"dataframe\">\n",
       "  <thead>\n",
       "    <tr style=\"text-align: right;\">\n",
       "      <th></th>\n",
       "      <th>id</th>\n",
       "      <th>Full Name</th>\n",
       "      <th>Date of Birth</th>\n",
       "      <th>email</th>\n",
       "      <th>gender</th>\n",
       "      <th>Job</th>\n",
       "      <th>Company</th>\n",
       "      <th>Country</th>\n",
       "      <th>Salary</th>\n",
       "      <th>Phone</th>\n",
       "      <th>Quote</th>\n",
       "      <th>Income</th>\n",
       "      <th>Income.1</th>\n",
       "    </tr>\n",
       "  </thead>\n",
       "  <tbody>\n",
       "    <tr>\n",
       "      <th>0</th>\n",
       "      <td>1</td>\n",
       "      <td>Salim Pound</td>\n",
       "      <td>2/12/2018</td>\n",
       "      <td>spound0@spotify.com</td>\n",
       "      <td>Male</td>\n",
       "      <td>Editor</td>\n",
       "      <td>Gigashots</td>\n",
       "      <td>Israel</td>\n",
       "      <td>19QtDp5HkyuZZqwwqzYPSSLuA7MXFCwfKL</td>\n",
       "      <td>610-741-3882</td>\n",
       "      <td>Compatible discrete leverage</td>\n",
       "      <td>46476.638080</td>\n",
       "      <td>$46476.6380809961</td>\n",
       "    </tr>\n",
       "    <tr>\n",
       "      <th>1</th>\n",
       "      <td>2</td>\n",
       "      <td>Madelene Lutas</td>\n",
       "      <td>9/20/2018</td>\n",
       "      <td>mlutas1@si.edu</td>\n",
       "      <td>Female</td>\n",
       "      <td>VP Marketing</td>\n",
       "      <td>Wikivu</td>\n",
       "      <td>Mongolia</td>\n",
       "      <td>17ADLE8HiTj7m1tTbzboLDn7eiZ4TjetzZ</td>\n",
       "      <td>221-725-8860</td>\n",
       "      <td>Grass-roots real-time algorithm</td>\n",
       "      <td>54174.687950</td>\n",
       "      <td>$54174.6879482406</td>\n",
       "    </tr>\n",
       "    <tr>\n",
       "      <th>2</th>\n",
       "      <td>3</td>\n",
       "      <td>Dolli Swanbourne</td>\n",
       "      <td>11/18/2018</td>\n",
       "      <td>dswanbourne2@istockphoto.com</td>\n",
       "      <td>Female</td>\n",
       "      <td>Associate Professor</td>\n",
       "      <td>Dabfeed</td>\n",
       "      <td>Vietnam</td>\n",
       "      <td>16ThVxH72YAXWiEBeBZB1WYtXcfJMwUtoB</td>\n",
       "      <td>303-720-8280</td>\n",
       "      <td>Innovative system-worthy definition</td>\n",
       "      <td>5449.873348</td>\n",
       "      <td>$5449.87334818567</td>\n",
       "    </tr>\n",
       "    <tr>\n",
       "      <th>3</th>\n",
       "      <td>4</td>\n",
       "      <td>Graeme Croisier</td>\n",
       "      <td>9/29/2018</td>\n",
       "      <td>gcroisier3@parallels.com</td>\n",
       "      <td>Male</td>\n",
       "      <td>Mechanical Systems Engineer</td>\n",
       "      <td>Trudoo</td>\n",
       "      <td>Bosnia and Herzegovina</td>\n",
       "      <td>1JLUVwmjHvxgh53C7Afie3pWbjrYxV9Fnx</td>\n",
       "      <td>673-794-9917</td>\n",
       "      <td>Customer-focused didactic extranet</td>\n",
       "      <td>46784.630880</td>\n",
       "      <td>$46784.6308786279</td>\n",
       "    </tr>\n",
       "    <tr>\n",
       "      <th>4</th>\n",
       "      <td>5</td>\n",
       "      <td>Jillana Physic</td>\n",
       "      <td>4/19/2018</td>\n",
       "      <td>jphysic4@yellowbook.com</td>\n",
       "      <td>Female</td>\n",
       "      <td>Account Executive</td>\n",
       "      <td>Buzzshare</td>\n",
       "      <td>China</td>\n",
       "      <td>1DaEUNoAWL68pnvThSM5eBYgQMTv9mKyFG</td>\n",
       "      <td>709-146-6263</td>\n",
       "      <td>Progressive dynamic model</td>\n",
       "      <td>57486.495560</td>\n",
       "      <td>$57486.4955595568</td>\n",
       "    </tr>\n",
       "  </tbody>\n",
       "</table>\n",
       "</div>"
      ],
      "text/plain": [
       "   id         Full Name Date of Birth                         email  gender  \\\n",
       "0   1       Salim Pound     2/12/2018           spound0@spotify.com    Male   \n",
       "1   2    Madelene Lutas     9/20/2018                mlutas1@si.edu  Female   \n",
       "2   3  Dolli Swanbourne    11/18/2018  dswanbourne2@istockphoto.com  Female   \n",
       "3   4   Graeme Croisier     9/29/2018      gcroisier3@parallels.com    Male   \n",
       "4   5    Jillana Physic     4/19/2018       jphysic4@yellowbook.com  Female   \n",
       "\n",
       "                           Job    Company                 Country  \\\n",
       "0                       Editor  Gigashots                  Israel   \n",
       "1                 VP Marketing     Wikivu                Mongolia   \n",
       "2          Associate Professor    Dabfeed                 Vietnam   \n",
       "3  Mechanical Systems Engineer     Trudoo  Bosnia and Herzegovina   \n",
       "4            Account Executive  Buzzshare                   China   \n",
       "\n",
       "                               Salary         Phone  \\\n",
       "0  19QtDp5HkyuZZqwwqzYPSSLuA7MXFCwfKL  610-741-3882   \n",
       "1  17ADLE8HiTj7m1tTbzboLDn7eiZ4TjetzZ  221-725-8860   \n",
       "2  16ThVxH72YAXWiEBeBZB1WYtXcfJMwUtoB  303-720-8280   \n",
       "3  1JLUVwmjHvxgh53C7Afie3pWbjrYxV9Fnx  673-794-9917   \n",
       "4  1DaEUNoAWL68pnvThSM5eBYgQMTv9mKyFG  709-146-6263   \n",
       "\n",
       "                                 Quote        Income           Income.1  \n",
       "0         Compatible discrete leverage  46476.638080  $46476.6380809961  \n",
       "1      Grass-roots real-time algorithm  54174.687950  $54174.6879482406  \n",
       "2  Innovative system-worthy definition   5449.873348  $5449.87334818567  \n",
       "3   Customer-focused didactic extranet  46784.630880  $46784.6308786279  \n",
       "4            Progressive dynamic model  57486.495560  $57486.4955595568  "
      ]
     },
     "execution_count": 146,
     "metadata": {},
     "output_type": "execute_result"
    }
   ],
   "source": [
    "df.head()"
   ]
  },
  {
   "cell_type": "code",
   "execution_count": 147,
   "id": "02e1239a-4f4e-4705-951c-c7439a9427a1",
   "metadata": {},
   "outputs": [
    {
     "data": {
      "text/plain": [
       "Index(['id', 'Full Name', 'Date of Birth', 'email', 'gender', 'Job', 'Company',\n",
       "       'Country', 'Salary', 'Phone', 'Quote', 'Income', 'Income.1'],\n",
       "      dtype='object')"
      ]
     },
     "execution_count": 147,
     "metadata": {},
     "output_type": "execute_result"
    }
   ],
   "source": [
    "df.columns"
   ]
  },
  {
   "cell_type": "code",
   "execution_count": 148,
   "id": "f43f3e47-ef1e-4914-af04-08093d9a8120",
   "metadata": {},
   "outputs": [
    {
     "data": {
      "text/plain": [
       "Index(['id', 'full name', 'date of birth', 'email', 'gender', 'job', 'company',\n",
       "       'country', 'salary', 'phone', 'quote', 'income', 'income.1'],\n",
       "      dtype='object')"
      ]
     },
     "execution_count": 148,
     "metadata": {},
     "output_type": "execute_result"
    }
   ],
   "source": [
    "df.columns.str.lower()"
   ]
  },
  {
   "cell_type": "code",
   "execution_count": 149,
   "id": "ebcd82d1-5101-4f0f-8b39-7077e06777a8",
   "metadata": {},
   "outputs": [],
   "source": [
    "df.columns = df.columns.str.lower()"
   ]
  },
  {
   "cell_type": "code",
   "execution_count": 150,
   "id": "cec7693f-f65a-48a7-b887-84db97a364c9",
   "metadata": {},
   "outputs": [
    {
     "data": {
      "text/html": [
       "<div>\n",
       "<style scoped>\n",
       "    .dataframe tbody tr th:only-of-type {\n",
       "        vertical-align: middle;\n",
       "    }\n",
       "\n",
       "    .dataframe tbody tr th {\n",
       "        vertical-align: top;\n",
       "    }\n",
       "\n",
       "    .dataframe thead th {\n",
       "        text-align: right;\n",
       "    }\n",
       "</style>\n",
       "<table border=\"1\" class=\"dataframe\">\n",
       "  <thead>\n",
       "    <tr style=\"text-align: right;\">\n",
       "      <th></th>\n",
       "      <th>id</th>\n",
       "      <th>full name</th>\n",
       "      <th>date of birth</th>\n",
       "      <th>email</th>\n",
       "      <th>gender</th>\n",
       "      <th>job</th>\n",
       "      <th>company</th>\n",
       "      <th>country</th>\n",
       "      <th>salary</th>\n",
       "      <th>phone</th>\n",
       "      <th>quote</th>\n",
       "      <th>income</th>\n",
       "      <th>income.1</th>\n",
       "    </tr>\n",
       "  </thead>\n",
       "  <tbody>\n",
       "    <tr>\n",
       "      <th>0</th>\n",
       "      <td>1</td>\n",
       "      <td>Salim Pound</td>\n",
       "      <td>2/12/2018</td>\n",
       "      <td>spound0@spotify.com</td>\n",
       "      <td>Male</td>\n",
       "      <td>Editor</td>\n",
       "      <td>Gigashots</td>\n",
       "      <td>Israel</td>\n",
       "      <td>19QtDp5HkyuZZqwwqzYPSSLuA7MXFCwfKL</td>\n",
       "      <td>610-741-3882</td>\n",
       "      <td>Compatible discrete leverage</td>\n",
       "      <td>46476.638080</td>\n",
       "      <td>$46476.6380809961</td>\n",
       "    </tr>\n",
       "    <tr>\n",
       "      <th>1</th>\n",
       "      <td>2</td>\n",
       "      <td>Madelene Lutas</td>\n",
       "      <td>9/20/2018</td>\n",
       "      <td>mlutas1@si.edu</td>\n",
       "      <td>Female</td>\n",
       "      <td>VP Marketing</td>\n",
       "      <td>Wikivu</td>\n",
       "      <td>Mongolia</td>\n",
       "      <td>17ADLE8HiTj7m1tTbzboLDn7eiZ4TjetzZ</td>\n",
       "      <td>221-725-8860</td>\n",
       "      <td>Grass-roots real-time algorithm</td>\n",
       "      <td>54174.687950</td>\n",
       "      <td>$54174.6879482406</td>\n",
       "    </tr>\n",
       "    <tr>\n",
       "      <th>2</th>\n",
       "      <td>3</td>\n",
       "      <td>Dolli Swanbourne</td>\n",
       "      <td>11/18/2018</td>\n",
       "      <td>dswanbourne2@istockphoto.com</td>\n",
       "      <td>Female</td>\n",
       "      <td>Associate Professor</td>\n",
       "      <td>Dabfeed</td>\n",
       "      <td>Vietnam</td>\n",
       "      <td>16ThVxH72YAXWiEBeBZB1WYtXcfJMwUtoB</td>\n",
       "      <td>303-720-8280</td>\n",
       "      <td>Innovative system-worthy definition</td>\n",
       "      <td>5449.873348</td>\n",
       "      <td>$5449.87334818567</td>\n",
       "    </tr>\n",
       "    <tr>\n",
       "      <th>3</th>\n",
       "      <td>4</td>\n",
       "      <td>Graeme Croisier</td>\n",
       "      <td>9/29/2018</td>\n",
       "      <td>gcroisier3@parallels.com</td>\n",
       "      <td>Male</td>\n",
       "      <td>Mechanical Systems Engineer</td>\n",
       "      <td>Trudoo</td>\n",
       "      <td>Bosnia and Herzegovina</td>\n",
       "      <td>1JLUVwmjHvxgh53C7Afie3pWbjrYxV9Fnx</td>\n",
       "      <td>673-794-9917</td>\n",
       "      <td>Customer-focused didactic extranet</td>\n",
       "      <td>46784.630880</td>\n",
       "      <td>$46784.6308786279</td>\n",
       "    </tr>\n",
       "    <tr>\n",
       "      <th>4</th>\n",
       "      <td>5</td>\n",
       "      <td>Jillana Physic</td>\n",
       "      <td>4/19/2018</td>\n",
       "      <td>jphysic4@yellowbook.com</td>\n",
       "      <td>Female</td>\n",
       "      <td>Account Executive</td>\n",
       "      <td>Buzzshare</td>\n",
       "      <td>China</td>\n",
       "      <td>1DaEUNoAWL68pnvThSM5eBYgQMTv9mKyFG</td>\n",
       "      <td>709-146-6263</td>\n",
       "      <td>Progressive dynamic model</td>\n",
       "      <td>57486.495560</td>\n",
       "      <td>$57486.4955595568</td>\n",
       "    </tr>\n",
       "    <tr>\n",
       "      <th>...</th>\n",
       "      <td>...</td>\n",
       "      <td>...</td>\n",
       "      <td>...</td>\n",
       "      <td>...</td>\n",
       "      <td>...</td>\n",
       "      <td>...</td>\n",
       "      <td>...</td>\n",
       "      <td>...</td>\n",
       "      <td>...</td>\n",
       "      <td>...</td>\n",
       "      <td>...</td>\n",
       "      <td>...</td>\n",
       "      <td>...</td>\n",
       "    </tr>\n",
       "    <tr>\n",
       "      <th>995</th>\n",
       "      <td>996</td>\n",
       "      <td>Willie Gravestone</td>\n",
       "      <td>1/17/2018</td>\n",
       "      <td>wgravestonern@typepad.com</td>\n",
       "      <td>Female</td>\n",
       "      <td>Junior Executive</td>\n",
       "      <td>Cogilith</td>\n",
       "      <td>China</td>\n",
       "      <td>1NhweMA6xVPvFfYyQfRvusazTkMvuP8kap</td>\n",
       "      <td>717-137-5667</td>\n",
       "      <td>Automated content-based superstructure</td>\n",
       "      <td>33868.404190</td>\n",
       "      <td>$33868.4041871395</td>\n",
       "    </tr>\n",
       "    <tr>\n",
       "      <th>996</th>\n",
       "      <td>997</td>\n",
       "      <td>Samara McRitchie</td>\n",
       "      <td>12/10/2018</td>\n",
       "      <td>smcritchiero@wikispaces.com</td>\n",
       "      <td>Female</td>\n",
       "      <td>Media Manager II</td>\n",
       "      <td>Edgewire</td>\n",
       "      <td>Philippines</td>\n",
       "      <td>1t9C9e457Z6efZCZ46Ywm84Xgw79WEBW9</td>\n",
       "      <td>583-849-4461</td>\n",
       "      <td>Proactive content-based throughput</td>\n",
       "      <td>46290.780360</td>\n",
       "      <td>$46290.7803582873</td>\n",
       "    </tr>\n",
       "    <tr>\n",
       "      <th>997</th>\n",
       "      <td>998</td>\n",
       "      <td>Joceline Josefowicz</td>\n",
       "      <td>10/18/2018</td>\n",
       "      <td>jjosefowiczrp@statcounter.com</td>\n",
       "      <td>Female</td>\n",
       "      <td>Design Engineer</td>\n",
       "      <td>Mynte</td>\n",
       "      <td>Puerto Rico</td>\n",
       "      <td>13pFvvCyTz5AFNhk7ugp9G6aYA89wVJFns</td>\n",
       "      <td>934-388-0702</td>\n",
       "      <td>Phased transitional monitoring</td>\n",
       "      <td>24202.032530</td>\n",
       "      <td>$24202.0325327311</td>\n",
       "    </tr>\n",
       "    <tr>\n",
       "      <th>998</th>\n",
       "      <td>999</td>\n",
       "      <td>Andrei Lestor</td>\n",
       "      <td>1/16/2018</td>\n",
       "      <td>alestorrq@storify.com</td>\n",
       "      <td>Female</td>\n",
       "      <td>Senior Editor</td>\n",
       "      <td>Reallinks</td>\n",
       "      <td>China</td>\n",
       "      <td>1CTz1ejJhKvKUvV7tMgQ97wCguJpRAVZan</td>\n",
       "      <td>706-201-1239</td>\n",
       "      <td>Organic dynamic strategy</td>\n",
       "      <td>54316.293830</td>\n",
       "      <td>$54316.2938322092</td>\n",
       "    </tr>\n",
       "    <tr>\n",
       "      <th>999</th>\n",
       "      <td>1000</td>\n",
       "      <td>Nikkie Langtry</td>\n",
       "      <td>10/30/2018</td>\n",
       "      <td>nlangtryrr@sciencedaily.com</td>\n",
       "      <td>Female</td>\n",
       "      <td>Financial Advisor</td>\n",
       "      <td>Linklinks</td>\n",
       "      <td>Armenia</td>\n",
       "      <td>1JFRCVhkbkR9TFrS2RKezc7HKoteeUHzR</td>\n",
       "      <td>612-915-7537</td>\n",
       "      <td>Managed solution-oriented implementation</td>\n",
       "      <td>56477.000000</td>\n",
       "      <td>$56477</td>\n",
       "    </tr>\n",
       "  </tbody>\n",
       "</table>\n",
       "<p>1000 rows × 13 columns</p>\n",
       "</div>"
      ],
      "text/plain": [
       "       id            full name date of birth                          email  \\\n",
       "0       1          Salim Pound     2/12/2018            spound0@spotify.com   \n",
       "1       2       Madelene Lutas     9/20/2018                 mlutas1@si.edu   \n",
       "2       3     Dolli Swanbourne    11/18/2018   dswanbourne2@istockphoto.com   \n",
       "3       4      Graeme Croisier     9/29/2018       gcroisier3@parallels.com   \n",
       "4       5       Jillana Physic     4/19/2018        jphysic4@yellowbook.com   \n",
       "..    ...                  ...           ...                            ...   \n",
       "995   996    Willie Gravestone     1/17/2018      wgravestonern@typepad.com   \n",
       "996   997     Samara McRitchie    12/10/2018    smcritchiero@wikispaces.com   \n",
       "997   998  Joceline Josefowicz    10/18/2018  jjosefowiczrp@statcounter.com   \n",
       "998   999        Andrei Lestor     1/16/2018          alestorrq@storify.com   \n",
       "999  1000       Nikkie Langtry    10/30/2018    nlangtryrr@sciencedaily.com   \n",
       "\n",
       "     gender                          job    company                 country  \\\n",
       "0      Male                       Editor  Gigashots                  Israel   \n",
       "1    Female                 VP Marketing     Wikivu                Mongolia   \n",
       "2    Female          Associate Professor    Dabfeed                 Vietnam   \n",
       "3      Male  Mechanical Systems Engineer     Trudoo  Bosnia and Herzegovina   \n",
       "4    Female            Account Executive  Buzzshare                   China   \n",
       "..      ...                          ...        ...                     ...   \n",
       "995  Female             Junior Executive   Cogilith                   China   \n",
       "996  Female             Media Manager II   Edgewire             Philippines   \n",
       "997  Female              Design Engineer      Mynte             Puerto Rico   \n",
       "998  Female                Senior Editor  Reallinks                   China   \n",
       "999  Female            Financial Advisor  Linklinks                 Armenia   \n",
       "\n",
       "                                 salary         phone  \\\n",
       "0    19QtDp5HkyuZZqwwqzYPSSLuA7MXFCwfKL  610-741-3882   \n",
       "1    17ADLE8HiTj7m1tTbzboLDn7eiZ4TjetzZ  221-725-8860   \n",
       "2    16ThVxH72YAXWiEBeBZB1WYtXcfJMwUtoB  303-720-8280   \n",
       "3    1JLUVwmjHvxgh53C7Afie3pWbjrYxV9Fnx  673-794-9917   \n",
       "4    1DaEUNoAWL68pnvThSM5eBYgQMTv9mKyFG  709-146-6263   \n",
       "..                                  ...           ...   \n",
       "995  1NhweMA6xVPvFfYyQfRvusazTkMvuP8kap  717-137-5667   \n",
       "996   1t9C9e457Z6efZCZ46Ywm84Xgw79WEBW9  583-849-4461   \n",
       "997  13pFvvCyTz5AFNhk7ugp9G6aYA89wVJFns  934-388-0702   \n",
       "998  1CTz1ejJhKvKUvV7tMgQ97wCguJpRAVZan  706-201-1239   \n",
       "999   1JFRCVhkbkR9TFrS2RKezc7HKoteeUHzR  612-915-7537   \n",
       "\n",
       "                                        quote        income           income.1  \n",
       "0                Compatible discrete leverage  46476.638080  $46476.6380809961  \n",
       "1             Grass-roots real-time algorithm  54174.687950  $54174.6879482406  \n",
       "2         Innovative system-worthy definition   5449.873348  $5449.87334818567  \n",
       "3          Customer-focused didactic extranet  46784.630880  $46784.6308786279  \n",
       "4                   Progressive dynamic model  57486.495560  $57486.4955595568  \n",
       "..                                        ...           ...                ...  \n",
       "995    Automated content-based superstructure  33868.404190  $33868.4041871395  \n",
       "996        Proactive content-based throughput  46290.780360  $46290.7803582873  \n",
       "997            Phased transitional monitoring  24202.032530  $24202.0325327311  \n",
       "998                  Organic dynamic strategy  54316.293830  $54316.2938322092  \n",
       "999  Managed solution-oriented implementation  56477.000000             $56477  \n",
       "\n",
       "[1000 rows x 13 columns]"
      ]
     },
     "execution_count": 150,
     "metadata": {},
     "output_type": "execute_result"
    }
   ],
   "source": [
    "df"
   ]
  },
  {
   "cell_type": "code",
   "execution_count": 151,
   "id": "a13953a1-3b86-4b1e-940f-f69ed729522d",
   "metadata": {},
   "outputs": [
    {
     "data": {
      "text/html": [
       "<div>\n",
       "<style scoped>\n",
       "    .dataframe tbody tr th:only-of-type {\n",
       "        vertical-align: middle;\n",
       "    }\n",
       "\n",
       "    .dataframe tbody tr th {\n",
       "        vertical-align: top;\n",
       "    }\n",
       "\n",
       "    .dataframe thead th {\n",
       "        text-align: right;\n",
       "    }\n",
       "</style>\n",
       "<table border=\"1\" class=\"dataframe\">\n",
       "  <thead>\n",
       "    <tr style=\"text-align: right;\">\n",
       "      <th></th>\n",
       "      <th>id</th>\n",
       "      <th>full_name</th>\n",
       "      <th>date_of_date</th>\n",
       "      <th>email</th>\n",
       "      <th>gender</th>\n",
       "      <th>job</th>\n",
       "      <th>company</th>\n",
       "      <th>country</th>\n",
       "      <th>salary</th>\n",
       "      <th>phone</th>\n",
       "      <th>quote</th>\n",
       "      <th>income</th>\n",
       "      <th>income.1</th>\n",
       "    </tr>\n",
       "  </thead>\n",
       "  <tbody>\n",
       "    <tr>\n",
       "      <th>0</th>\n",
       "      <td>1</td>\n",
       "      <td>Salim Pound</td>\n",
       "      <td>2/12/2018</td>\n",
       "      <td>spound0@spotify.com</td>\n",
       "      <td>Male</td>\n",
       "      <td>Editor</td>\n",
       "      <td>Gigashots</td>\n",
       "      <td>Israel</td>\n",
       "      <td>19QtDp5HkyuZZqwwqzYPSSLuA7MXFCwfKL</td>\n",
       "      <td>610-741-3882</td>\n",
       "      <td>Compatible discrete leverage</td>\n",
       "      <td>46476.638080</td>\n",
       "      <td>$46476.6380809961</td>\n",
       "    </tr>\n",
       "    <tr>\n",
       "      <th>1</th>\n",
       "      <td>2</td>\n",
       "      <td>Madelene Lutas</td>\n",
       "      <td>9/20/2018</td>\n",
       "      <td>mlutas1@si.edu</td>\n",
       "      <td>Female</td>\n",
       "      <td>VP Marketing</td>\n",
       "      <td>Wikivu</td>\n",
       "      <td>Mongolia</td>\n",
       "      <td>17ADLE8HiTj7m1tTbzboLDn7eiZ4TjetzZ</td>\n",
       "      <td>221-725-8860</td>\n",
       "      <td>Grass-roots real-time algorithm</td>\n",
       "      <td>54174.687950</td>\n",
       "      <td>$54174.6879482406</td>\n",
       "    </tr>\n",
       "    <tr>\n",
       "      <th>2</th>\n",
       "      <td>3</td>\n",
       "      <td>Dolli Swanbourne</td>\n",
       "      <td>11/18/2018</td>\n",
       "      <td>dswanbourne2@istockphoto.com</td>\n",
       "      <td>Female</td>\n",
       "      <td>Associate Professor</td>\n",
       "      <td>Dabfeed</td>\n",
       "      <td>Vietnam</td>\n",
       "      <td>16ThVxH72YAXWiEBeBZB1WYtXcfJMwUtoB</td>\n",
       "      <td>303-720-8280</td>\n",
       "      <td>Innovative system-worthy definition</td>\n",
       "      <td>5449.873348</td>\n",
       "      <td>$5449.87334818567</td>\n",
       "    </tr>\n",
       "    <tr>\n",
       "      <th>3</th>\n",
       "      <td>4</td>\n",
       "      <td>Graeme Croisier</td>\n",
       "      <td>9/29/2018</td>\n",
       "      <td>gcroisier3@parallels.com</td>\n",
       "      <td>Male</td>\n",
       "      <td>Mechanical Systems Engineer</td>\n",
       "      <td>Trudoo</td>\n",
       "      <td>Bosnia and Herzegovina</td>\n",
       "      <td>1JLUVwmjHvxgh53C7Afie3pWbjrYxV9Fnx</td>\n",
       "      <td>673-794-9917</td>\n",
       "      <td>Customer-focused didactic extranet</td>\n",
       "      <td>46784.630880</td>\n",
       "      <td>$46784.6308786279</td>\n",
       "    </tr>\n",
       "    <tr>\n",
       "      <th>4</th>\n",
       "      <td>5</td>\n",
       "      <td>Jillana Physic</td>\n",
       "      <td>4/19/2018</td>\n",
       "      <td>jphysic4@yellowbook.com</td>\n",
       "      <td>Female</td>\n",
       "      <td>Account Executive</td>\n",
       "      <td>Buzzshare</td>\n",
       "      <td>China</td>\n",
       "      <td>1DaEUNoAWL68pnvThSM5eBYgQMTv9mKyFG</td>\n",
       "      <td>709-146-6263</td>\n",
       "      <td>Progressive dynamic model</td>\n",
       "      <td>57486.495560</td>\n",
       "      <td>$57486.4955595568</td>\n",
       "    </tr>\n",
       "    <tr>\n",
       "      <th>...</th>\n",
       "      <td>...</td>\n",
       "      <td>...</td>\n",
       "      <td>...</td>\n",
       "      <td>...</td>\n",
       "      <td>...</td>\n",
       "      <td>...</td>\n",
       "      <td>...</td>\n",
       "      <td>...</td>\n",
       "      <td>...</td>\n",
       "      <td>...</td>\n",
       "      <td>...</td>\n",
       "      <td>...</td>\n",
       "      <td>...</td>\n",
       "    </tr>\n",
       "    <tr>\n",
       "      <th>995</th>\n",
       "      <td>996</td>\n",
       "      <td>Willie Gravestone</td>\n",
       "      <td>1/17/2018</td>\n",
       "      <td>wgravestonern@typepad.com</td>\n",
       "      <td>Female</td>\n",
       "      <td>Junior Executive</td>\n",
       "      <td>Cogilith</td>\n",
       "      <td>China</td>\n",
       "      <td>1NhweMA6xVPvFfYyQfRvusazTkMvuP8kap</td>\n",
       "      <td>717-137-5667</td>\n",
       "      <td>Automated content-based superstructure</td>\n",
       "      <td>33868.404190</td>\n",
       "      <td>$33868.4041871395</td>\n",
       "    </tr>\n",
       "    <tr>\n",
       "      <th>996</th>\n",
       "      <td>997</td>\n",
       "      <td>Samara McRitchie</td>\n",
       "      <td>12/10/2018</td>\n",
       "      <td>smcritchiero@wikispaces.com</td>\n",
       "      <td>Female</td>\n",
       "      <td>Media Manager II</td>\n",
       "      <td>Edgewire</td>\n",
       "      <td>Philippines</td>\n",
       "      <td>1t9C9e457Z6efZCZ46Ywm84Xgw79WEBW9</td>\n",
       "      <td>583-849-4461</td>\n",
       "      <td>Proactive content-based throughput</td>\n",
       "      <td>46290.780360</td>\n",
       "      <td>$46290.7803582873</td>\n",
       "    </tr>\n",
       "    <tr>\n",
       "      <th>997</th>\n",
       "      <td>998</td>\n",
       "      <td>Joceline Josefowicz</td>\n",
       "      <td>10/18/2018</td>\n",
       "      <td>jjosefowiczrp@statcounter.com</td>\n",
       "      <td>Female</td>\n",
       "      <td>Design Engineer</td>\n",
       "      <td>Mynte</td>\n",
       "      <td>Puerto Rico</td>\n",
       "      <td>13pFvvCyTz5AFNhk7ugp9G6aYA89wVJFns</td>\n",
       "      <td>934-388-0702</td>\n",
       "      <td>Phased transitional monitoring</td>\n",
       "      <td>24202.032530</td>\n",
       "      <td>$24202.0325327311</td>\n",
       "    </tr>\n",
       "    <tr>\n",
       "      <th>998</th>\n",
       "      <td>999</td>\n",
       "      <td>Andrei Lestor</td>\n",
       "      <td>1/16/2018</td>\n",
       "      <td>alestorrq@storify.com</td>\n",
       "      <td>Female</td>\n",
       "      <td>Senior Editor</td>\n",
       "      <td>Reallinks</td>\n",
       "      <td>China</td>\n",
       "      <td>1CTz1ejJhKvKUvV7tMgQ97wCguJpRAVZan</td>\n",
       "      <td>706-201-1239</td>\n",
       "      <td>Organic dynamic strategy</td>\n",
       "      <td>54316.293830</td>\n",
       "      <td>$54316.2938322092</td>\n",
       "    </tr>\n",
       "    <tr>\n",
       "      <th>999</th>\n",
       "      <td>1000</td>\n",
       "      <td>Nikkie Langtry</td>\n",
       "      <td>10/30/2018</td>\n",
       "      <td>nlangtryrr@sciencedaily.com</td>\n",
       "      <td>Female</td>\n",
       "      <td>Financial Advisor</td>\n",
       "      <td>Linklinks</td>\n",
       "      <td>Armenia</td>\n",
       "      <td>1JFRCVhkbkR9TFrS2RKezc7HKoteeUHzR</td>\n",
       "      <td>612-915-7537</td>\n",
       "      <td>Managed solution-oriented implementation</td>\n",
       "      <td>56477.000000</td>\n",
       "      <td>$56477</td>\n",
       "    </tr>\n",
       "  </tbody>\n",
       "</table>\n",
       "<p>1000 rows × 13 columns</p>\n",
       "</div>"
      ],
      "text/plain": [
       "       id            full_name date_of_date                          email  \\\n",
       "0       1          Salim Pound    2/12/2018            spound0@spotify.com   \n",
       "1       2       Madelene Lutas    9/20/2018                 mlutas1@si.edu   \n",
       "2       3     Dolli Swanbourne   11/18/2018   dswanbourne2@istockphoto.com   \n",
       "3       4      Graeme Croisier    9/29/2018       gcroisier3@parallels.com   \n",
       "4       5       Jillana Physic    4/19/2018        jphysic4@yellowbook.com   \n",
       "..    ...                  ...          ...                            ...   \n",
       "995   996    Willie Gravestone    1/17/2018      wgravestonern@typepad.com   \n",
       "996   997     Samara McRitchie   12/10/2018    smcritchiero@wikispaces.com   \n",
       "997   998  Joceline Josefowicz   10/18/2018  jjosefowiczrp@statcounter.com   \n",
       "998   999        Andrei Lestor    1/16/2018          alestorrq@storify.com   \n",
       "999  1000       Nikkie Langtry   10/30/2018    nlangtryrr@sciencedaily.com   \n",
       "\n",
       "     gender                          job    company                 country  \\\n",
       "0      Male                       Editor  Gigashots                  Israel   \n",
       "1    Female                 VP Marketing     Wikivu                Mongolia   \n",
       "2    Female          Associate Professor    Dabfeed                 Vietnam   \n",
       "3      Male  Mechanical Systems Engineer     Trudoo  Bosnia and Herzegovina   \n",
       "4    Female            Account Executive  Buzzshare                   China   \n",
       "..      ...                          ...        ...                     ...   \n",
       "995  Female             Junior Executive   Cogilith                   China   \n",
       "996  Female             Media Manager II   Edgewire             Philippines   \n",
       "997  Female              Design Engineer      Mynte             Puerto Rico   \n",
       "998  Female                Senior Editor  Reallinks                   China   \n",
       "999  Female            Financial Advisor  Linklinks                 Armenia   \n",
       "\n",
       "                                 salary         phone  \\\n",
       "0    19QtDp5HkyuZZqwwqzYPSSLuA7MXFCwfKL  610-741-3882   \n",
       "1    17ADLE8HiTj7m1tTbzboLDn7eiZ4TjetzZ  221-725-8860   \n",
       "2    16ThVxH72YAXWiEBeBZB1WYtXcfJMwUtoB  303-720-8280   \n",
       "3    1JLUVwmjHvxgh53C7Afie3pWbjrYxV9Fnx  673-794-9917   \n",
       "4    1DaEUNoAWL68pnvThSM5eBYgQMTv9mKyFG  709-146-6263   \n",
       "..                                  ...           ...   \n",
       "995  1NhweMA6xVPvFfYyQfRvusazTkMvuP8kap  717-137-5667   \n",
       "996   1t9C9e457Z6efZCZ46Ywm84Xgw79WEBW9  583-849-4461   \n",
       "997  13pFvvCyTz5AFNhk7ugp9G6aYA89wVJFns  934-388-0702   \n",
       "998  1CTz1ejJhKvKUvV7tMgQ97wCguJpRAVZan  706-201-1239   \n",
       "999   1JFRCVhkbkR9TFrS2RKezc7HKoteeUHzR  612-915-7537   \n",
       "\n",
       "                                        quote        income           income.1  \n",
       "0                Compatible discrete leverage  46476.638080  $46476.6380809961  \n",
       "1             Grass-roots real-time algorithm  54174.687950  $54174.6879482406  \n",
       "2         Innovative system-worthy definition   5449.873348  $5449.87334818567  \n",
       "3          Customer-focused didactic extranet  46784.630880  $46784.6308786279  \n",
       "4                   Progressive dynamic model  57486.495560  $57486.4955595568  \n",
       "..                                        ...           ...                ...  \n",
       "995    Automated content-based superstructure  33868.404190  $33868.4041871395  \n",
       "996        Proactive content-based throughput  46290.780360  $46290.7803582873  \n",
       "997            Phased transitional monitoring  24202.032530  $24202.0325327311  \n",
       "998                  Organic dynamic strategy  54316.293830  $54316.2938322092  \n",
       "999  Managed solution-oriented implementation  56477.000000             $56477  \n",
       "\n",
       "[1000 rows x 13 columns]"
      ]
     },
     "execution_count": 151,
     "metadata": {},
     "output_type": "execute_result"
    }
   ],
   "source": [
    "# Renaming\n",
    "df.rename(columns={'full name':'full_name','date of birth':'date_of_date'})"
   ]
  },
  {
   "cell_type": "code",
   "execution_count": 152,
   "id": "5dc2ff8f-cdde-4772-bedc-58e3636e5555",
   "metadata": {},
   "outputs": [
    {
     "data": {
      "text/plain": [
       "Index(['id', 'full name', 'date of birth', 'email', 'gender', 'job', 'company',\n",
       "       'country', 'salary', 'phone', 'quote', 'income', 'income.1'],\n",
       "      dtype='object')"
      ]
     },
     "execution_count": 152,
     "metadata": {},
     "output_type": "execute_result"
    }
   ],
   "source": [
    "df.columns"
   ]
  },
  {
   "cell_type": "code",
   "execution_count": 153,
   "id": "9f52564c-9f49-4ff5-85e7-3edb5d48d9ed",
   "metadata": {},
   "outputs": [],
   "source": [
    "df.rename(columns={'full name':'full_name','date of birth':'date_of_date'}, inplace = True)"
   ]
  },
  {
   "cell_type": "code",
   "execution_count": 154,
   "id": "522b1e1d-9236-4aac-8487-dbbe11ccc72f",
   "metadata": {},
   "outputs": [
    {
     "data": {
      "text/plain": [
       "Index(['id', 'full_name', 'date_of_date', 'email', 'gender', 'job', 'company',\n",
       "       'country', 'salary', 'phone', 'quote', 'income', 'income.1'],\n",
       "      dtype='object')"
      ]
     },
     "execution_count": 154,
     "metadata": {},
     "output_type": "execute_result"
    }
   ],
   "source": [
    "df.columns"
   ]
  },
  {
   "cell_type": "code",
   "execution_count": 155,
   "id": "4dc68f0a-2260-4a37-b74a-e8eb2ab80dad",
   "metadata": {},
   "outputs": [],
   "source": [
    "df.rename(columns={'full name':'full_name','date of birth':'date_of_birth'},inplace=True)"
   ]
  },
  {
   "cell_type": "code",
   "execution_count": 156,
   "id": "588567b1-e6e8-436c-9f97-5c6fbecc52d3",
   "metadata": {},
   "outputs": [
    {
     "data": {
      "text/plain": [
       "Index(['id', 'full_name', 'date_of_date', 'email', 'gender', 'job', 'company',\n",
       "       'country', 'salary', 'phone', 'quote', 'income', 'income.1'],\n",
       "      dtype='object')"
      ]
     },
     "execution_count": 156,
     "metadata": {},
     "output_type": "execute_result"
    }
   ],
   "source": [
    "df.columns"
   ]
  },
  {
   "cell_type": "markdown",
   "id": "bb67e4c6-a01c-4f96-ab75-150850277f8b",
   "metadata": {},
   "source": [
    "##### Spliting Column into Multiple Columns"
   ]
  },
  {
   "cell_type": "code",
   "execution_count": 157,
   "id": "7b1df558-121d-44ad-ad4c-39412dbf1114",
   "metadata": {},
   "outputs": [
    {
     "data": {
      "text/plain": [
       "0              Salim Pound\n",
       "1           Madelene Lutas\n",
       "2         Dolli Swanbourne\n",
       "3          Graeme Croisier\n",
       "4           Jillana Physic\n",
       "              ...         \n",
       "995      Willie Gravestone\n",
       "996       Samara McRitchie\n",
       "997    Joceline Josefowicz\n",
       "998          Andrei Lestor\n",
       "999         Nikkie Langtry\n",
       "Name: full_name, Length: 1000, dtype: object"
      ]
     },
     "execution_count": 157,
     "metadata": {},
     "output_type": "execute_result"
    }
   ],
   "source": [
    "# Method 1\n",
    "df.full_name"
   ]
  },
  {
   "cell_type": "code",
   "execution_count": 158,
   "id": "d18a108f-8c62-4186-b2ba-a39964d8c622",
   "metadata": {},
   "outputs": [
    {
     "data": {
      "text/plain": [
       "0              [Salim, Pound]\n",
       "1           [Madelene, Lutas]\n",
       "2         [Dolli, Swanbourne]\n",
       "3          [Graeme, Croisier]\n",
       "4           [Jillana, Physic]\n",
       "                ...          \n",
       "995      [Willie, Gravestone]\n",
       "996       [Samara, McRitchie]\n",
       "997    [Joceline, Josefowicz]\n",
       "998          [Andrei, Lestor]\n",
       "999         [Nikkie, Langtry]\n",
       "Name: full_name, Length: 1000, dtype: object"
      ]
     },
     "execution_count": 158,
     "metadata": {},
     "output_type": "execute_result"
    }
   ],
   "source": [
    "df.full_name.str.split(' ')"
   ]
  },
  {
   "cell_type": "code",
   "execution_count": 159,
   "id": "f024e33f-4320-4861-8e10-2d743001b0d5",
   "metadata": {},
   "outputs": [
    {
     "data": {
      "text/plain": [
       "['Salim', 'Pound']"
      ]
     },
     "execution_count": 159,
     "metadata": {},
     "output_type": "execute_result"
    }
   ],
   "source": [
    "df.full_name.str.split(' ')[0]"
   ]
  },
  {
   "cell_type": "code",
   "execution_count": 160,
   "id": "7955d429-6acc-4824-aeee-c2896363083a",
   "metadata": {},
   "outputs": [
    {
     "data": {
      "text/plain": [
       "0         Salim\n",
       "1      Madelene\n",
       "2         Dolli\n",
       "3        Graeme\n",
       "4       Jillana\n",
       "         ...   \n",
       "995      Willie\n",
       "996      Samara\n",
       "997    Joceline\n",
       "998      Andrei\n",
       "999      Nikkie\n",
       "Name: full_name, Length: 1000, dtype: object"
      ]
     },
     "execution_count": 160,
     "metadata": {},
     "output_type": "execute_result"
    }
   ],
   "source": [
    "df.full_name.str.split(' ').str.get(0)"
   ]
  },
  {
   "cell_type": "code",
   "execution_count": 177,
   "id": "a147ab16-7bfa-401d-adab-ec3868169401",
   "metadata": {},
   "outputs": [],
   "source": [
    "df['firstname'] =df.full_name.str.split(' ').str.get(0)"
   ]
  },
  {
   "cell_type": "code",
   "execution_count": 178,
   "id": "cf52a849-986d-476e-9865-c6e301960d94",
   "metadata": {},
   "outputs": [
    {
     "data": {
      "text/plain": [
       "0         Salim\n",
       "1      Madelene\n",
       "2         Dolli\n",
       "3        Graeme\n",
       "4       Jillana\n",
       "         ...   \n",
       "995      Willie\n",
       "996      Samara\n",
       "997    Joceline\n",
       "998      Andrei\n",
       "999      Nikkie\n",
       "Name: firstname, Length: 1000, dtype: object"
      ]
     },
     "execution_count": 178,
     "metadata": {},
     "output_type": "execute_result"
    }
   ],
   "source": [
    "df.firstname"
   ]
  },
  {
   "cell_type": "code",
   "execution_count": 179,
   "id": "5472b035-3677-4958-98de-d5cea6f0740c",
   "metadata": {},
   "outputs": [],
   "source": [
    "df['lastname'] = df.full_name.str.split(' ').str.get(1)"
   ]
  },
  {
   "cell_type": "code",
   "execution_count": 180,
   "id": "f98e3e26-8b95-497c-ad4a-671930073b2a",
   "metadata": {},
   "outputs": [
    {
     "data": {
      "text/plain": [
       "0           Pound\n",
       "1           Lutas\n",
       "2      Swanbourne\n",
       "3        Croisier\n",
       "4          Physic\n",
       "          ...    \n",
       "995    Gravestone\n",
       "996     McRitchie\n",
       "997    Josefowicz\n",
       "998        Lestor\n",
       "999       Langtry\n",
       "Name: lastname, Length: 1000, dtype: object"
      ]
     },
     "execution_count": 180,
     "metadata": {},
     "output_type": "execute_result"
    }
   ],
   "source": [
    "df.lastname"
   ]
  },
  {
   "cell_type": "code",
   "execution_count": 181,
   "id": "faaef9ae-e644-4434-a504-0b6056ab982f",
   "metadata": {},
   "outputs": [
    {
     "data": {
      "text/plain": [
       "0              Salim Pound\n",
       "1           Madelene Lutas\n",
       "2         Dolli Swanbourne\n",
       "3          Graeme Croisier\n",
       "4           Jillana Physic\n",
       "              ...         \n",
       "995      Willie Gravestone\n",
       "996       Samara McRitchie\n",
       "997    Joceline Josefowicz\n",
       "998          Andrei Lestor\n",
       "999         Nikkie Langtry\n",
       "Name: full_name, Length: 1000, dtype: object"
      ]
     },
     "execution_count": 181,
     "metadata": {},
     "output_type": "execute_result"
    }
   ],
   "source": [
    "# Method 2  Working with more than 2 names\n",
    "df.full_name"
   ]
  },
  {
   "cell_type": "code",
   "execution_count": 182,
   "id": "7a92d04f-039c-4568-b183-c39e8fde3e77",
   "metadata": {},
   "outputs": [],
   "source": [
    "df1 = df"
   ]
  },
  {
   "cell_type": "code",
   "execution_count": 183,
   "id": "1771a9c3-ebaf-428a-ae1e-4e75f395b403",
   "metadata": {},
   "outputs": [
    {
     "data": {
      "text/html": [
       "<div>\n",
       "<style scoped>\n",
       "    .dataframe tbody tr th:only-of-type {\n",
       "        vertical-align: middle;\n",
       "    }\n",
       "\n",
       "    .dataframe tbody tr th {\n",
       "        vertical-align: top;\n",
       "    }\n",
       "\n",
       "    .dataframe thead th {\n",
       "        text-align: right;\n",
       "    }\n",
       "</style>\n",
       "<table border=\"1\" class=\"dataframe\">\n",
       "  <thead>\n",
       "    <tr style=\"text-align: right;\">\n",
       "      <th></th>\n",
       "      <th>0</th>\n",
       "      <th>1</th>\n",
       "      <th>2</th>\n",
       "      <th>3</th>\n",
       "    </tr>\n",
       "  </thead>\n",
       "  <tbody>\n",
       "    <tr>\n",
       "      <th>0</th>\n",
       "      <td>Salim</td>\n",
       "      <td>Pound</td>\n",
       "      <td>None</td>\n",
       "      <td>None</td>\n",
       "    </tr>\n",
       "    <tr>\n",
       "      <th>1</th>\n",
       "      <td>Madelene</td>\n",
       "      <td>Lutas</td>\n",
       "      <td>None</td>\n",
       "      <td>None</td>\n",
       "    </tr>\n",
       "    <tr>\n",
       "      <th>2</th>\n",
       "      <td>Dolli</td>\n",
       "      <td>Swanbourne</td>\n",
       "      <td>None</td>\n",
       "      <td>None</td>\n",
       "    </tr>\n",
       "    <tr>\n",
       "      <th>3</th>\n",
       "      <td>Graeme</td>\n",
       "      <td>Croisier</td>\n",
       "      <td>None</td>\n",
       "      <td>None</td>\n",
       "    </tr>\n",
       "    <tr>\n",
       "      <th>4</th>\n",
       "      <td>Jillana</td>\n",
       "      <td>Physic</td>\n",
       "      <td>None</td>\n",
       "      <td>None</td>\n",
       "    </tr>\n",
       "    <tr>\n",
       "      <th>...</th>\n",
       "      <td>...</td>\n",
       "      <td>...</td>\n",
       "      <td>...</td>\n",
       "      <td>...</td>\n",
       "    </tr>\n",
       "    <tr>\n",
       "      <th>995</th>\n",
       "      <td>Willie</td>\n",
       "      <td>Gravestone</td>\n",
       "      <td>None</td>\n",
       "      <td>None</td>\n",
       "    </tr>\n",
       "    <tr>\n",
       "      <th>996</th>\n",
       "      <td>Samara</td>\n",
       "      <td>McRitchie</td>\n",
       "      <td>None</td>\n",
       "      <td>None</td>\n",
       "    </tr>\n",
       "    <tr>\n",
       "      <th>997</th>\n",
       "      <td>Joceline</td>\n",
       "      <td>Josefowicz</td>\n",
       "      <td>None</td>\n",
       "      <td>None</td>\n",
       "    </tr>\n",
       "    <tr>\n",
       "      <th>998</th>\n",
       "      <td>Andrei</td>\n",
       "      <td>Lestor</td>\n",
       "      <td>None</td>\n",
       "      <td>None</td>\n",
       "    </tr>\n",
       "    <tr>\n",
       "      <th>999</th>\n",
       "      <td>Nikkie</td>\n",
       "      <td>Langtry</td>\n",
       "      <td>None</td>\n",
       "      <td>None</td>\n",
       "    </tr>\n",
       "  </tbody>\n",
       "</table>\n",
       "<p>1000 rows × 4 columns</p>\n",
       "</div>"
      ],
      "text/plain": [
       "            0           1     2     3\n",
       "0       Salim       Pound  None  None\n",
       "1    Madelene       Lutas  None  None\n",
       "2       Dolli  Swanbourne  None  None\n",
       "3      Graeme    Croisier  None  None\n",
       "4     Jillana      Physic  None  None\n",
       "..        ...         ...   ...   ...\n",
       "995    Willie  Gravestone  None  None\n",
       "996    Samara   McRitchie  None  None\n",
       "997  Joceline  Josefowicz  None  None\n",
       "998    Andrei      Lestor  None  None\n",
       "999    Nikkie     Langtry  None  None\n",
       "\n",
       "[1000 rows x 4 columns]"
      ]
     },
     "execution_count": 183,
     "metadata": {},
     "output_type": "execute_result"
    }
   ],
   "source": [
    "df1.full_name.str.split(' ',expand = True)"
   ]
  },
  {
   "cell_type": "code",
   "execution_count": 186,
   "id": "b3271586-2878-4dd5-866b-2f54939bbb7d",
   "metadata": {},
   "outputs": [
    {
     "data": {
      "text/html": [
       "<div>\n",
       "<style scoped>\n",
       "    .dataframe tbody tr th:only-of-type {\n",
       "        vertical-align: middle;\n",
       "    }\n",
       "\n",
       "    .dataframe tbody tr th {\n",
       "        vertical-align: top;\n",
       "    }\n",
       "\n",
       "    .dataframe thead th {\n",
       "        text-align: right;\n",
       "    }\n",
       "</style>\n",
       "<table border=\"1\" class=\"dataframe\">\n",
       "  <thead>\n",
       "    <tr style=\"text-align: right;\">\n",
       "      <th></th>\n",
       "      <th>0</th>\n",
       "      <th>1</th>\n",
       "    </tr>\n",
       "  </thead>\n",
       "  <tbody>\n",
       "    <tr>\n",
       "      <th>0</th>\n",
       "      <td>Salim</td>\n",
       "      <td>Pound</td>\n",
       "    </tr>\n",
       "    <tr>\n",
       "      <th>1</th>\n",
       "      <td>Madelene</td>\n",
       "      <td>Lutas</td>\n",
       "    </tr>\n",
       "    <tr>\n",
       "      <th>2</th>\n",
       "      <td>Dolli</td>\n",
       "      <td>Swanbourne</td>\n",
       "    </tr>\n",
       "    <tr>\n",
       "      <th>3</th>\n",
       "      <td>Graeme</td>\n",
       "      <td>Croisier</td>\n",
       "    </tr>\n",
       "    <tr>\n",
       "      <th>4</th>\n",
       "      <td>Jillana</td>\n",
       "      <td>Physic</td>\n",
       "    </tr>\n",
       "    <tr>\n",
       "      <th>...</th>\n",
       "      <td>...</td>\n",
       "      <td>...</td>\n",
       "    </tr>\n",
       "    <tr>\n",
       "      <th>995</th>\n",
       "      <td>Willie</td>\n",
       "      <td>Gravestone</td>\n",
       "    </tr>\n",
       "    <tr>\n",
       "      <th>996</th>\n",
       "      <td>Samara</td>\n",
       "      <td>McRitchie</td>\n",
       "    </tr>\n",
       "    <tr>\n",
       "      <th>997</th>\n",
       "      <td>Joceline</td>\n",
       "      <td>Josefowicz</td>\n",
       "    </tr>\n",
       "    <tr>\n",
       "      <th>998</th>\n",
       "      <td>Andrei</td>\n",
       "      <td>Lestor</td>\n",
       "    </tr>\n",
       "    <tr>\n",
       "      <th>999</th>\n",
       "      <td>Nikkie</td>\n",
       "      <td>Langtry</td>\n",
       "    </tr>\n",
       "  </tbody>\n",
       "</table>\n",
       "<p>1000 rows × 2 columns</p>\n",
       "</div>"
      ],
      "text/plain": [
       "            0           1\n",
       "0       Salim       Pound\n",
       "1    Madelene       Lutas\n",
       "2       Dolli  Swanbourne\n",
       "3      Graeme    Croisier\n",
       "4     Jillana      Physic\n",
       "..        ...         ...\n",
       "995    Willie  Gravestone\n",
       "996    Samara   McRitchie\n",
       "997  Joceline  Josefowicz\n",
       "998    Andrei      Lestor\n",
       "999    Nikkie     Langtry\n",
       "\n",
       "[1000 rows x 2 columns]"
      ]
     },
     "execution_count": 186,
     "metadata": {},
     "output_type": "execute_result"
    }
   ],
   "source": [
    "#Spliting first name and leaving other names together\n",
    "\n",
    "df1.full_name.str.split(' ', n=1,expand = True)"
   ]
  },
  {
   "cell_type": "markdown",
   "id": "d9dff5bb-3ff8-4a35-871a-b1cf6551b52e",
   "metadata": {},
   "source": [
    "# df.head(3)"
   ]
  },
  {
   "cell_type": "code",
   "execution_count": null,
   "id": "13c23673-b392-499c-b6d0-44fedc57a554",
   "metadata": {},
   "outputs": [],
   "source": [
    "# Finding A String/Exp N Replace"
   ]
  },
  {
   "cell_type": "code",
   "execution_count": 188,
   "id": "41d80afb-bbc0-4430-978d-f00c94ce6b5e",
   "metadata": {},
   "outputs": [
    {
     "data": {
      "text/plain": [
       "0      $46476.6380809961\n",
       "1      $54174.6879482406\n",
       "2      $5449.87334818567\n",
       "3      $46784.6308786279\n",
       "4      $57486.4955595568\n",
       "             ...        \n",
       "995    $33868.4041871395\n",
       "996    $46290.7803582873\n",
       "997    $24202.0325327311\n",
       "998    $54316.2938322092\n",
       "999               $56477\n",
       "Name: income.1, Length: 1000, dtype: object"
      ]
     },
     "execution_count": 188,
     "metadata": {},
     "output_type": "execute_result"
    }
   ],
   "source": [
    "df['income.1']"
   ]
  },
  {
   "cell_type": "code",
   "execution_count": 190,
   "id": "d5b54d63-08fd-4ba1-8fc8-6399f58ab6d9",
   "metadata": {},
   "outputs": [
    {
     "data": {
      "text/plain": [
       "dtype('O')"
      ]
     },
     "execution_count": 190,
     "metadata": {},
     "output_type": "execute_result"
    }
   ],
   "source": [
    "df['income.1'].dtype"
   ]
  },
  {
   "cell_type": "code",
   "execution_count": 191,
   "id": "20e2f6d4-7eb5-4e65-8916-295fd373aa34",
   "metadata": {},
   "outputs": [
    {
     "name": "stderr",
     "output_type": "stream",
     "text": [
      "C:\\Users\\ifybe\\AppData\\Local\\Temp/ipykernel_140/3281159252.py:1: FutureWarning: The default value of regex will change from True to False in a future version. In addition, single character regular expressions will *not* be treated as literal strings when regex=True.\n",
      "  df['income.1'].str.replace('$', '')\n"
     ]
    },
    {
     "data": {
      "text/plain": [
       "0      46476.6380809961\n",
       "1      54174.6879482406\n",
       "2      5449.87334818567\n",
       "3      46784.6308786279\n",
       "4      57486.4955595568\n",
       "             ...       \n",
       "995    33868.4041871395\n",
       "996    46290.7803582873\n",
       "997    24202.0325327311\n",
       "998    54316.2938322092\n",
       "999               56477\n",
       "Name: income.1, Length: 1000, dtype: object"
      ]
     },
     "execution_count": 191,
     "metadata": {},
     "output_type": "execute_result"
    }
   ],
   "source": [
    "df['income.1'].str.replace('$', '')"
   ]
  },
  {
   "cell_type": "code",
   "execution_count": 194,
   "id": "68abd68d-3ca2-4258-9fe1-d89f0f938cb4",
   "metadata": {},
   "outputs": [
    {
     "name": "stderr",
     "output_type": "stream",
     "text": [
      "C:\\Users\\ifybe\\AppData\\Local\\Temp/ipykernel_140/2547068588.py:1: FutureWarning: The default value of regex will change from True to False in a future version. In addition, single character regular expressions will *not* be treated as literal strings when regex=True.\n",
      "  df['income.1'].str.replace('$', 'Euro')\n"
     ]
    },
    {
     "data": {
      "text/plain": [
       "0      Euro46476.6380809961\n",
       "1      Euro54174.6879482406\n",
       "2      Euro5449.87334818567\n",
       "3      Euro46784.6308786279\n",
       "4      Euro57486.4955595568\n",
       "               ...         \n",
       "995    Euro33868.4041871395\n",
       "996    Euro46290.7803582873\n",
       "997    Euro24202.0325327311\n",
       "998    Euro54316.2938322092\n",
       "999               Euro56477\n",
       "Name: income.1, Length: 1000, dtype: object"
      ]
     },
     "execution_count": 194,
     "metadata": {},
     "output_type": "execute_result"
    }
   ],
   "source": [
    "df['income.1'].str.replace('$', 'Euro')"
   ]
  },
  {
   "cell_type": "code",
   "execution_count": 195,
   "id": "5aa753f4-2d1c-4eb5-b9df-78b701987b2f",
   "metadata": {},
   "outputs": [
    {
     "data": {
      "text/html": [
       "<div>\n",
       "<style scoped>\n",
       "    .dataframe tbody tr th:only-of-type {\n",
       "        vertical-align: middle;\n",
       "    }\n",
       "\n",
       "    .dataframe tbody tr th {\n",
       "        vertical-align: top;\n",
       "    }\n",
       "\n",
       "    .dataframe thead th {\n",
       "        text-align: right;\n",
       "    }\n",
       "</style>\n",
       "<table border=\"1\" class=\"dataframe\">\n",
       "  <thead>\n",
       "    <tr style=\"text-align: right;\">\n",
       "      <th></th>\n",
       "      <th>id</th>\n",
       "      <th>full_name</th>\n",
       "      <th>date_of_date</th>\n",
       "      <th>email</th>\n",
       "      <th>gender</th>\n",
       "      <th>job</th>\n",
       "      <th>company</th>\n",
       "      <th>country</th>\n",
       "      <th>salary</th>\n",
       "      <th>phone</th>\n",
       "      <th>quote</th>\n",
       "      <th>income</th>\n",
       "      <th>income.1</th>\n",
       "      <th>lastname</th>\n",
       "      <th>Firstname</th>\n",
       "      <th>firstname</th>\n",
       "    </tr>\n",
       "  </thead>\n",
       "  <tbody>\n",
       "    <tr>\n",
       "      <th>0</th>\n",
       "      <td>1</td>\n",
       "      <td>Salim Pound</td>\n",
       "      <td>2/12/2018</td>\n",
       "      <td>spound0@spotify.com</td>\n",
       "      <td>Male</td>\n",
       "      <td>Editor</td>\n",
       "      <td>Gigashots</td>\n",
       "      <td>Israel</td>\n",
       "      <td>19QtDp5HkyuZZqwwqzYPSSLuA7MXFCwfKL</td>\n",
       "      <td>610-741-3882</td>\n",
       "      <td>Compatible discrete leverage</td>\n",
       "      <td>46476.638080</td>\n",
       "      <td>$46476.6380809961</td>\n",
       "      <td>Pound</td>\n",
       "      <td>Salim</td>\n",
       "      <td>Salim</td>\n",
       "    </tr>\n",
       "    <tr>\n",
       "      <th>1</th>\n",
       "      <td>2</td>\n",
       "      <td>Madelene Lutas</td>\n",
       "      <td>9/20/2018</td>\n",
       "      <td>mlutas1@si.edu</td>\n",
       "      <td>Female</td>\n",
       "      <td>VP Marketing</td>\n",
       "      <td>Wikivu</td>\n",
       "      <td>Mongolia</td>\n",
       "      <td>17ADLE8HiTj7m1tTbzboLDn7eiZ4TjetzZ</td>\n",
       "      <td>221-725-8860</td>\n",
       "      <td>Grass-roots real-time algorithm</td>\n",
       "      <td>54174.687950</td>\n",
       "      <td>$54174.6879482406</td>\n",
       "      <td>Lutas</td>\n",
       "      <td>Madelene</td>\n",
       "      <td>Madelene</td>\n",
       "    </tr>\n",
       "    <tr>\n",
       "      <th>2</th>\n",
       "      <td>3</td>\n",
       "      <td>Dolli Swanbourne</td>\n",
       "      <td>11/18/2018</td>\n",
       "      <td>dswanbourne2@istockphoto.com</td>\n",
       "      <td>Female</td>\n",
       "      <td>Associate Professor</td>\n",
       "      <td>Dabfeed</td>\n",
       "      <td>Vietnam</td>\n",
       "      <td>16ThVxH72YAXWiEBeBZB1WYtXcfJMwUtoB</td>\n",
       "      <td>303-720-8280</td>\n",
       "      <td>Innovative system-worthy definition</td>\n",
       "      <td>5449.873348</td>\n",
       "      <td>$5449.87334818567</td>\n",
       "      <td>Swanbourne</td>\n",
       "      <td>Dolli</td>\n",
       "      <td>Dolli</td>\n",
       "    </tr>\n",
       "    <tr>\n",
       "      <th>3</th>\n",
       "      <td>4</td>\n",
       "      <td>Graeme Croisier</td>\n",
       "      <td>9/29/2018</td>\n",
       "      <td>gcroisier3@parallels.com</td>\n",
       "      <td>Male</td>\n",
       "      <td>Mechanical Systems Engineer</td>\n",
       "      <td>Trudoo</td>\n",
       "      <td>Bosnia and Herzegovina</td>\n",
       "      <td>1JLUVwmjHvxgh53C7Afie3pWbjrYxV9Fnx</td>\n",
       "      <td>673-794-9917</td>\n",
       "      <td>Customer-focused didactic extranet</td>\n",
       "      <td>46784.630880</td>\n",
       "      <td>$46784.6308786279</td>\n",
       "      <td>Croisier</td>\n",
       "      <td>Graeme</td>\n",
       "      <td>Graeme</td>\n",
       "    </tr>\n",
       "    <tr>\n",
       "      <th>4</th>\n",
       "      <td>5</td>\n",
       "      <td>Jillana Physic</td>\n",
       "      <td>4/19/2018</td>\n",
       "      <td>jphysic4@yellowbook.com</td>\n",
       "      <td>Female</td>\n",
       "      <td>Account Executive</td>\n",
       "      <td>Buzzshare</td>\n",
       "      <td>China</td>\n",
       "      <td>1DaEUNoAWL68pnvThSM5eBYgQMTv9mKyFG</td>\n",
       "      <td>709-146-6263</td>\n",
       "      <td>Progressive dynamic model</td>\n",
       "      <td>57486.495560</td>\n",
       "      <td>$57486.4955595568</td>\n",
       "      <td>Physic</td>\n",
       "      <td>Jillana</td>\n",
       "      <td>Jillana</td>\n",
       "    </tr>\n",
       "  </tbody>\n",
       "</table>\n",
       "</div>"
      ],
      "text/plain": [
       "   id         full_name date_of_date                         email  gender  \\\n",
       "0   1       Salim Pound    2/12/2018           spound0@spotify.com    Male   \n",
       "1   2    Madelene Lutas    9/20/2018                mlutas1@si.edu  Female   \n",
       "2   3  Dolli Swanbourne   11/18/2018  dswanbourne2@istockphoto.com  Female   \n",
       "3   4   Graeme Croisier    9/29/2018      gcroisier3@parallels.com    Male   \n",
       "4   5    Jillana Physic    4/19/2018       jphysic4@yellowbook.com  Female   \n",
       "\n",
       "                           job    company                 country  \\\n",
       "0                       Editor  Gigashots                  Israel   \n",
       "1                 VP Marketing     Wikivu                Mongolia   \n",
       "2          Associate Professor    Dabfeed                 Vietnam   \n",
       "3  Mechanical Systems Engineer     Trudoo  Bosnia and Herzegovina   \n",
       "4            Account Executive  Buzzshare                   China   \n",
       "\n",
       "                               salary         phone  \\\n",
       "0  19QtDp5HkyuZZqwwqzYPSSLuA7MXFCwfKL  610-741-3882   \n",
       "1  17ADLE8HiTj7m1tTbzboLDn7eiZ4TjetzZ  221-725-8860   \n",
       "2  16ThVxH72YAXWiEBeBZB1WYtXcfJMwUtoB  303-720-8280   \n",
       "3  1JLUVwmjHvxgh53C7Afie3pWbjrYxV9Fnx  673-794-9917   \n",
       "4  1DaEUNoAWL68pnvThSM5eBYgQMTv9mKyFG  709-146-6263   \n",
       "\n",
       "                                 quote        income           income.1  \\\n",
       "0         Compatible discrete leverage  46476.638080  $46476.6380809961   \n",
       "1      Grass-roots real-time algorithm  54174.687950  $54174.6879482406   \n",
       "2  Innovative system-worthy definition   5449.873348  $5449.87334818567   \n",
       "3   Customer-focused didactic extranet  46784.630880  $46784.6308786279   \n",
       "4            Progressive dynamic model  57486.495560  $57486.4955595568   \n",
       "\n",
       "     lastname Firstname firstname  \n",
       "0       Pound     Salim     Salim  \n",
       "1       Lutas  Madelene  Madelene  \n",
       "2  Swanbourne     Dolli     Dolli  \n",
       "3    Croisier    Graeme    Graeme  \n",
       "4      Physic   Jillana   Jillana  "
      ]
     },
     "execution_count": 195,
     "metadata": {},
     "output_type": "execute_result"
    }
   ],
   "source": [
    "df.head()"
   ]
  },
  {
   "cell_type": "markdown",
   "id": "9a05e895-d39a-4e4a-a908-da3af018a8d3",
   "metadata": {},
   "source": [
    "### Finding A String/Expression\n",
    "##### * Str.contains\n",
    "##### * Filter\n",
    "##### * Str.match"
   ]
  },
  {
   "cell_type": "code",
   "execution_count": 197,
   "id": "cec1eb32-20ef-4960-9a43-2d4b70d7b46d",
   "metadata": {},
   "outputs": [
    {
     "data": {
      "text/plain": [
       "0      19QtDp5HkyuZZqwwqzYPSSLuA7MXFCwfKL\n",
       "1      17ADLE8HiTj7m1tTbzboLDn7eiZ4TjetzZ\n",
       "2      16ThVxH72YAXWiEBeBZB1WYtXcfJMwUtoB\n",
       "3      1JLUVwmjHvxgh53C7Afie3pWbjrYxV9Fnx\n",
       "4      1DaEUNoAWL68pnvThSM5eBYgQMTv9mKyFG\n",
       "                      ...                \n",
       "995    1NhweMA6xVPvFfYyQfRvusazTkMvuP8kap\n",
       "996     1t9C9e457Z6efZCZ46Ywm84Xgw79WEBW9\n",
       "997    13pFvvCyTz5AFNhk7ugp9G6aYA89wVJFns\n",
       "998    1CTz1ejJhKvKUvV7tMgQ97wCguJpRAVZan\n",
       "999     1JFRCVhkbkR9TFrS2RKezc7HKoteeUHzR\n",
       "Name: salary, Length: 1000, dtype: object"
      ]
     },
     "execution_count": 197,
     "metadata": {},
     "output_type": "execute_result"
    }
   ],
   "source": [
    "df.salary"
   ]
  },
  {
   "cell_type": "code",
   "execution_count": 196,
   "id": "f6dd934e-d51c-4904-a9ac-8ddb427600b4",
   "metadata": {},
   "outputs": [
    {
     "data": {
      "text/plain": [
       "0       True\n",
       "1      False\n",
       "2      False\n",
       "3      False\n",
       "4      False\n",
       "       ...  \n",
       "995    False\n",
       "996    False\n",
       "997    False\n",
       "998    False\n",
       "999    False\n",
       "Name: salary, Length: 1000, dtype: bool"
      ]
     },
     "execution_count": 196,
     "metadata": {},
     "output_type": "execute_result"
    }
   ],
   "source": [
    "# As Boolean\n",
    "\n",
    "df.salary.str.contains('19')"
   ]
  },
  {
   "cell_type": "code",
   "execution_count": 198,
   "id": "0dce29c2-6c39-406e-a620-3c116716e846",
   "metadata": {},
   "outputs": [
    {
     "data": {
      "text/html": [
       "<div>\n",
       "<style scoped>\n",
       "    .dataframe tbody tr th:only-of-type {\n",
       "        vertical-align: middle;\n",
       "    }\n",
       "\n",
       "    .dataframe tbody tr th {\n",
       "        vertical-align: top;\n",
       "    }\n",
       "\n",
       "    .dataframe thead th {\n",
       "        text-align: right;\n",
       "    }\n",
       "</style>\n",
       "<table border=\"1\" class=\"dataframe\">\n",
       "  <thead>\n",
       "    <tr style=\"text-align: right;\">\n",
       "      <th></th>\n",
       "      <th>id</th>\n",
       "      <th>full_name</th>\n",
       "      <th>date_of_date</th>\n",
       "      <th>email</th>\n",
       "      <th>gender</th>\n",
       "      <th>job</th>\n",
       "      <th>company</th>\n",
       "      <th>country</th>\n",
       "      <th>salary</th>\n",
       "      <th>phone</th>\n",
       "      <th>quote</th>\n",
       "      <th>income</th>\n",
       "      <th>income.1</th>\n",
       "      <th>lastname</th>\n",
       "      <th>Firstname</th>\n",
       "      <th>firstname</th>\n",
       "    </tr>\n",
       "  </thead>\n",
       "  <tbody>\n",
       "    <tr>\n",
       "      <th>0</th>\n",
       "      <td>1</td>\n",
       "      <td>Salim Pound</td>\n",
       "      <td>2/12/2018</td>\n",
       "      <td>spound0@spotify.com</td>\n",
       "      <td>Male</td>\n",
       "      <td>Editor</td>\n",
       "      <td>Gigashots</td>\n",
       "      <td>Israel</td>\n",
       "      <td>19QtDp5HkyuZZqwwqzYPSSLuA7MXFCwfKL</td>\n",
       "      <td>610-741-3882</td>\n",
       "      <td>Compatible discrete leverage</td>\n",
       "      <td>46476.638080</td>\n",
       "      <td>$46476.6380809961</td>\n",
       "      <td>Pound</td>\n",
       "      <td>Salim</td>\n",
       "      <td>Salim</td>\n",
       "    </tr>\n",
       "    <tr>\n",
       "      <th>20</th>\n",
       "      <td>21</td>\n",
       "      <td>Luther Patullo</td>\n",
       "      <td>12/23/2017</td>\n",
       "      <td>lpatullok@berkeley.edu</td>\n",
       "      <td>Male</td>\n",
       "      <td>Staff Accountant III</td>\n",
       "      <td>Realbridge</td>\n",
       "      <td>Tanzania</td>\n",
       "      <td>19cuF6DFRcVNZ8sCLrQm28WqxMrtN8iH1R</td>\n",
       "      <td>259-891-8172</td>\n",
       "      <td>Centralized client-server structure</td>\n",
       "      <td>14671.956540</td>\n",
       "      <td>$14671.9565416425</td>\n",
       "      <td>Patullo</td>\n",
       "      <td>Luther</td>\n",
       "      <td>Luther</td>\n",
       "    </tr>\n",
       "    <tr>\n",
       "      <th>38</th>\n",
       "      <td>39</td>\n",
       "      <td>Lissa Ballefant</td>\n",
       "      <td>5/5/2018</td>\n",
       "      <td>lballefant12@wsj.com</td>\n",
       "      <td>Female</td>\n",
       "      <td>Software Engineer I</td>\n",
       "      <td>Wordpedia</td>\n",
       "      <td>Philippines</td>\n",
       "      <td>19VeUFUHYiTVPJL61TY41ySzJ1Kvt21emk</td>\n",
       "      <td>718-582-6068</td>\n",
       "      <td>Exclusive disintermediate challenge</td>\n",
       "      <td>39199.865720</td>\n",
       "      <td>$39199.8657185583</td>\n",
       "      <td>Ballefant</td>\n",
       "      <td>Lissa</td>\n",
       "      <td>Lissa</td>\n",
       "    </tr>\n",
       "    <tr>\n",
       "      <th>64</th>\n",
       "      <td>65</td>\n",
       "      <td>Salli Reedman</td>\n",
       "      <td>7/22/2018</td>\n",
       "      <td>sreedman1s@imdb.com</td>\n",
       "      <td>Female</td>\n",
       "      <td>Registered Nurse</td>\n",
       "      <td>Realfire</td>\n",
       "      <td>Russia</td>\n",
       "      <td>19GSHk6D7AnmJ4YNXp2UrS6dgdaLvWtU9M</td>\n",
       "      <td>351-818-8151</td>\n",
       "      <td>Object-based mission-critical product</td>\n",
       "      <td>46326.181830</td>\n",
       "      <td>$46326.1818292795</td>\n",
       "      <td>Reedman</td>\n",
       "      <td>Salli</td>\n",
       "      <td>Salli</td>\n",
       "    </tr>\n",
       "    <tr>\n",
       "      <th>70</th>\n",
       "      <td>71</td>\n",
       "      <td>Neville Creak</td>\n",
       "      <td>4/13/2018</td>\n",
       "      <td>ncreak1y@drupal.org</td>\n",
       "      <td>Male</td>\n",
       "      <td>Web Developer III</td>\n",
       "      <td>Ooba</td>\n",
       "      <td>United States</td>\n",
       "      <td>19iBZGp3i77eGzYwEkdNvXmCp2r8sc79Um</td>\n",
       "      <td>818-341-7003</td>\n",
       "      <td>Switchable interactive parallelism</td>\n",
       "      <td>32093.020420</td>\n",
       "      <td>$32093.0204168828</td>\n",
       "      <td>Creak</td>\n",
       "      <td>Neville</td>\n",
       "      <td>Neville</td>\n",
       "    </tr>\n",
       "    <tr>\n",
       "      <th>81</th>\n",
       "      <td>82</td>\n",
       "      <td>Herschel Izac</td>\n",
       "      <td>12/6/2018</td>\n",
       "      <td>hizac29@usnews.com</td>\n",
       "      <td>Male</td>\n",
       "      <td>Data Coordiator</td>\n",
       "      <td>Avamm</td>\n",
       "      <td>Japan</td>\n",
       "      <td>19QuYFpFge3wV51Pmhkrfymuy8dhrMcNqD</td>\n",
       "      <td>665-422-7430</td>\n",
       "      <td>Enhanced methodical support</td>\n",
       "      <td>3180.639058</td>\n",
       "      <td>$3180.63905758843</td>\n",
       "      <td>Izac</td>\n",
       "      <td>Herschel</td>\n",
       "      <td>Herschel</td>\n",
       "    </tr>\n",
       "    <tr>\n",
       "      <th>99</th>\n",
       "      <td>100</td>\n",
       "      <td>Sheryl Sworder</td>\n",
       "      <td>1/17/2018</td>\n",
       "      <td>ssworder2r@uiuc.edu</td>\n",
       "      <td>Female</td>\n",
       "      <td>Administrative Assistant II</td>\n",
       "      <td>Flashspan</td>\n",
       "      <td>Sri Lanka</td>\n",
       "      <td>199P1RiCA82T3BQuAUSwVCMv9nXVogPQ75</td>\n",
       "      <td>414-779-3675</td>\n",
       "      <td>Persistent web-enabled functionalities</td>\n",
       "      <td>27570.482500</td>\n",
       "      <td>$27570.4824976348</td>\n",
       "      <td>Sworder</td>\n",
       "      <td>Sheryl</td>\n",
       "      <td>Sheryl</td>\n",
       "    </tr>\n",
       "    <tr>\n",
       "      <th>146</th>\n",
       "      <td>147</td>\n",
       "      <td>Lombard Crasswell</td>\n",
       "      <td>10/18/2018</td>\n",
       "      <td>lcrasswell42@wisc.edu</td>\n",
       "      <td>Male</td>\n",
       "      <td>Professor</td>\n",
       "      <td>Skibox</td>\n",
       "      <td>China</td>\n",
       "      <td>1Hz4L19ERh7LtYuLWWKD9RRSnVSyUyMrDH</td>\n",
       "      <td>105-887-6347</td>\n",
       "      <td>Reactive zero tolerance encoding</td>\n",
       "      <td>38799.829100</td>\n",
       "      <td>$38799.8290963469</td>\n",
       "      <td>Crasswell</td>\n",
       "      <td>Lombard</td>\n",
       "      <td>Lombard</td>\n",
       "    </tr>\n",
       "    <tr>\n",
       "      <th>152</th>\n",
       "      <td>153</td>\n",
       "      <td>Gun Winspear</td>\n",
       "      <td>12/14/2018</td>\n",
       "      <td>gwinspear48@uol.com.br</td>\n",
       "      <td>Male</td>\n",
       "      <td>Chemical Engineer</td>\n",
       "      <td>Meezzy</td>\n",
       "      <td>Russia</td>\n",
       "      <td>19E97wqMKcyNWStaWyfJDu2JYX2uNKcRHF</td>\n",
       "      <td>442-216-1240</td>\n",
       "      <td>Configurable optimizing orchestration</td>\n",
       "      <td>57376.751000</td>\n",
       "      <td>$57376.7509994811</td>\n",
       "      <td>Winspear</td>\n",
       "      <td>Gun</td>\n",
       "      <td>Gun</td>\n",
       "    </tr>\n",
       "    <tr>\n",
       "      <th>205</th>\n",
       "      <td>206</td>\n",
       "      <td>Shaylyn Mateu</td>\n",
       "      <td>2/9/2018</td>\n",
       "      <td>smateu5p@thetimes.co.uk</td>\n",
       "      <td>Female</td>\n",
       "      <td>Recruiter</td>\n",
       "      <td>Jaxspan</td>\n",
       "      <td>China</td>\n",
       "      <td>19Gut2jhyjNL9kyx96fuJtRsB5dkYhCetT</td>\n",
       "      <td>952-317-3195</td>\n",
       "      <td>Balanced web-enabled algorithm</td>\n",
       "      <td>56351.878410</td>\n",
       "      <td>$56351.8784142583</td>\n",
       "      <td>Mateu</td>\n",
       "      <td>Shaylyn</td>\n",
       "      <td>Shaylyn</td>\n",
       "    </tr>\n",
       "    <tr>\n",
       "      <th>218</th>\n",
       "      <td>219</td>\n",
       "      <td>Alvin Maryin</td>\n",
       "      <td>11/7/2018</td>\n",
       "      <td>amaryin62@boston.com</td>\n",
       "      <td>Male</td>\n",
       "      <td>Assistant Professor</td>\n",
       "      <td>Brainverse</td>\n",
       "      <td>China</td>\n",
       "      <td>19rYTFW9rySEeVrCrChcHxAZBmKfZLGRDq</td>\n",
       "      <td>944-449-5346</td>\n",
       "      <td>Customer-focused systematic open architecture</td>\n",
       "      <td>34785.302290</td>\n",
       "      <td>$34785.3022858364</td>\n",
       "      <td>Maryin</td>\n",
       "      <td>Alvin</td>\n",
       "      <td>Alvin</td>\n",
       "    </tr>\n",
       "    <tr>\n",
       "      <th>220</th>\n",
       "      <td>221</td>\n",
       "      <td>Adaline Clilverd</td>\n",
       "      <td>9/19/2018</td>\n",
       "      <td>aclilverd64@xing.com</td>\n",
       "      <td>Female</td>\n",
       "      <td>Media Manager III</td>\n",
       "      <td>Twitterworks</td>\n",
       "      <td>Nigeria</td>\n",
       "      <td>19CTD7F7CLxSsj7vNwZWPpKv5qUZXcyoHc</td>\n",
       "      <td>116-476-5906</td>\n",
       "      <td>Inverse actuating secured line</td>\n",
       "      <td>12623.981440</td>\n",
       "      <td>$12623.9814447462</td>\n",
       "      <td>Clilverd</td>\n",
       "      <td>Adaline</td>\n",
       "      <td>Adaline</td>\n",
       "    </tr>\n",
       "    <tr>\n",
       "      <th>230</th>\n",
       "      <td>231</td>\n",
       "      <td>Frannie Blythe</td>\n",
       "      <td>1/6/2018</td>\n",
       "      <td>fblythe6e@naver.com</td>\n",
       "      <td>Male</td>\n",
       "      <td>Product Engineer</td>\n",
       "      <td>Linkbridge</td>\n",
       "      <td>Philippines</td>\n",
       "      <td>17rSzh19PWTGVGEQAsLcSHv8GFnYJC2gfq</td>\n",
       "      <td>559-479-2966</td>\n",
       "      <td>Up-sized optimal support</td>\n",
       "      <td>8466.078677</td>\n",
       "      <td>$8466.07867671743</td>\n",
       "      <td>Blythe</td>\n",
       "      <td>Frannie</td>\n",
       "      <td>Frannie</td>\n",
       "    </tr>\n",
       "    <tr>\n",
       "      <th>275</th>\n",
       "      <td>276</td>\n",
       "      <td>Stepha Gensavage</td>\n",
       "      <td>9/7/2018</td>\n",
       "      <td>sgensavage7n@exblog.jp</td>\n",
       "      <td>Female</td>\n",
       "      <td>Paralegal</td>\n",
       "      <td>Quimm</td>\n",
       "      <td>Brazil</td>\n",
       "      <td>19FCY74yi5iSert8Q2SZwX1GjVmVFrbtTw</td>\n",
       "      <td>937-934-6619</td>\n",
       "      <td>Self-enabling holistic frame</td>\n",
       "      <td>43069.246500</td>\n",
       "      <td>$43069.246498001</td>\n",
       "      <td>Gensavage</td>\n",
       "      <td>Stepha</td>\n",
       "      <td>Stepha</td>\n",
       "    </tr>\n",
       "    <tr>\n",
       "      <th>277</th>\n",
       "      <td>278</td>\n",
       "      <td>Evered Guiducci</td>\n",
       "      <td>1/25/2018</td>\n",
       "      <td>eguiducci7p@alexa.com</td>\n",
       "      <td>Male</td>\n",
       "      <td>Food Chemist</td>\n",
       "      <td>Dabfeed</td>\n",
       "      <td>Brazil</td>\n",
       "      <td>19Kanj1SKfKq2HgFEU74fcBTDNdErRoBKB</td>\n",
       "      <td>496-612-7568</td>\n",
       "      <td>Grass-roots analyzing functionalities</td>\n",
       "      <td>57580.309460</td>\n",
       "      <td>$57580.3094576861</td>\n",
       "      <td>Guiducci</td>\n",
       "      <td>Evered</td>\n",
       "      <td>Evered</td>\n",
       "    </tr>\n",
       "    <tr>\n",
       "      <th>281</th>\n",
       "      <td>282</td>\n",
       "      <td>Ransell Vivians</td>\n",
       "      <td>1/17/2018</td>\n",
       "      <td>rvivians7t@yellowbook.com</td>\n",
       "      <td>Male</td>\n",
       "      <td>Social Worker</td>\n",
       "      <td>Quinu</td>\n",
       "      <td>France</td>\n",
       "      <td>192tKhqdqd6G3YEyjapaPYKPCasea56K4P</td>\n",
       "      <td>554-223-9306</td>\n",
       "      <td>Public-key transitional frame</td>\n",
       "      <td>12077.028720</td>\n",
       "      <td>$12077.0287179174</td>\n",
       "      <td>Vivians</td>\n",
       "      <td>Ransell</td>\n",
       "      <td>Ransell</td>\n",
       "    </tr>\n",
       "    <tr>\n",
       "      <th>289</th>\n",
       "      <td>290</td>\n",
       "      <td>Alley Nelle</td>\n",
       "      <td>11/11/2018</td>\n",
       "      <td>anelle81@nytimes.com</td>\n",
       "      <td>Male</td>\n",
       "      <td>Software Engineer I</td>\n",
       "      <td>Blogspan</td>\n",
       "      <td>Indonesia</td>\n",
       "      <td>19zAEeft7FbQW77B9L8Rxc13trcmUH56uo</td>\n",
       "      <td>446-346-7067</td>\n",
       "      <td>Optimized object-oriented project</td>\n",
       "      <td>36376.598410</td>\n",
       "      <td>$36376.5984069338</td>\n",
       "      <td>Nelle</td>\n",
       "      <td>Alley</td>\n",
       "      <td>Alley</td>\n",
       "    </tr>\n",
       "    <tr>\n",
       "      <th>308</th>\n",
       "      <td>309</td>\n",
       "      <td>Farley McAlinden</td>\n",
       "      <td>11/1/2018</td>\n",
       "      <td>fmcalinden8k@amazon.co.uk</td>\n",
       "      <td>Male</td>\n",
       "      <td>Electrical Engineer</td>\n",
       "      <td>Tagopia</td>\n",
       "      <td>Iran</td>\n",
       "      <td>19xcSdXCLwfSFRrgD9sguehCc6AHem1Auy</td>\n",
       "      <td>459-428-7733</td>\n",
       "      <td>Grass-roots client-server capability</td>\n",
       "      <td>23449.751270</td>\n",
       "      <td>$23449.7512741477</td>\n",
       "      <td>McAlinden</td>\n",
       "      <td>Farley</td>\n",
       "      <td>Farley</td>\n",
       "    </tr>\n",
       "    <tr>\n",
       "      <th>318</th>\n",
       "      <td>319</td>\n",
       "      <td>Theodosia Rignold</td>\n",
       "      <td>7/13/2018</td>\n",
       "      <td>trignold8u@list-manage.com</td>\n",
       "      <td>Female</td>\n",
       "      <td>Senior Developer</td>\n",
       "      <td>Kwimbee</td>\n",
       "      <td>China</td>\n",
       "      <td>19gHRWmbDizew4mpQ8p2vNwENB9deVfAJ6</td>\n",
       "      <td>791-420-1282</td>\n",
       "      <td>Centralized asymmetric access</td>\n",
       "      <td>27115.573600</td>\n",
       "      <td>$27115.5735953856</td>\n",
       "      <td>Rignold</td>\n",
       "      <td>Theodosia</td>\n",
       "      <td>Theodosia</td>\n",
       "    </tr>\n",
       "    <tr>\n",
       "      <th>335</th>\n",
       "      <td>336</td>\n",
       "      <td>Carine Knowlden</td>\n",
       "      <td>4/7/2018</td>\n",
       "      <td>cknowlden9b@springer.com</td>\n",
       "      <td>Female</td>\n",
       "      <td>Web Designer III</td>\n",
       "      <td>Mycat</td>\n",
       "      <td>Iran</td>\n",
       "      <td>19Ak7CmUU5be8wjALhqxnV6u7HhNFZWbga</td>\n",
       "      <td>252-711-5985</td>\n",
       "      <td>Assimilated uniform archive</td>\n",
       "      <td>5446.333201</td>\n",
       "      <td>$5446.33320108646</td>\n",
       "      <td>Knowlden</td>\n",
       "      <td>Carine</td>\n",
       "      <td>Carine</td>\n",
       "    </tr>\n",
       "    <tr>\n",
       "      <th>367</th>\n",
       "      <td>368</td>\n",
       "      <td>Dillie Bigglestone</td>\n",
       "      <td>7/2/2018</td>\n",
       "      <td>dbigglestonea7@webs.com</td>\n",
       "      <td>Male</td>\n",
       "      <td>Health Coach III</td>\n",
       "      <td>Blogpad</td>\n",
       "      <td>Finland</td>\n",
       "      <td>19ZPfBQ7FG76N9UJgaTSVQWkTE1BGKpEc</td>\n",
       "      <td>209-519-8227</td>\n",
       "      <td>Balanced well-modulated attitude</td>\n",
       "      <td>33647.144990</td>\n",
       "      <td>$33647.1449934385</td>\n",
       "      <td>Bigglestone</td>\n",
       "      <td>Dillie</td>\n",
       "      <td>Dillie</td>\n",
       "    </tr>\n",
       "    <tr>\n",
       "      <th>380</th>\n",
       "      <td>381</td>\n",
       "      <td>Giorgi Bosche</td>\n",
       "      <td>4/8/2018</td>\n",
       "      <td>gboscheak@miibeian.gov.cn</td>\n",
       "      <td>Male</td>\n",
       "      <td>Clinical Specialist</td>\n",
       "      <td>Tambee</td>\n",
       "      <td>Papua New Guinea</td>\n",
       "      <td>19BGJ4qNnST6nAboZJDRpgn5jnPLAhT7h9</td>\n",
       "      <td>224-570-9648</td>\n",
       "      <td>Versatile composite approach</td>\n",
       "      <td>33638.294630</td>\n",
       "      <td>$33638.2946256905</td>\n",
       "      <td>Bosche</td>\n",
       "      <td>Giorgi</td>\n",
       "      <td>Giorgi</td>\n",
       "    </tr>\n",
       "    <tr>\n",
       "      <th>386</th>\n",
       "      <td>387</td>\n",
       "      <td>Vyky Roads</td>\n",
       "      <td>10/12/2018</td>\n",
       "      <td>vroadsaq@goo.gl</td>\n",
       "      <td>Female</td>\n",
       "      <td>Database Administrator III</td>\n",
       "      <td>Trudeo</td>\n",
       "      <td>Brazil</td>\n",
       "      <td>191XmaxsY7FRnZhZYYtzPREgaMf3vThk29</td>\n",
       "      <td>667-711-3128</td>\n",
       "      <td>Fully-configurable well-modulated structure</td>\n",
       "      <td>10848.597670</td>\n",
       "      <td>$10848.5976744896</td>\n",
       "      <td>Roads</td>\n",
       "      <td>Vyky</td>\n",
       "      <td>Vyky</td>\n",
       "    </tr>\n",
       "    <tr>\n",
       "      <th>393</th>\n",
       "      <td>394</td>\n",
       "      <td>Chad Sesons</td>\n",
       "      <td>8/6/2018</td>\n",
       "      <td>csesonsax@blogs.com</td>\n",
       "      <td>Female</td>\n",
       "      <td>Sales Representative</td>\n",
       "      <td>Edgeblab</td>\n",
       "      <td>China</td>\n",
       "      <td>199RNkFJ6snHkexwntv73G26PEpoTmbZLt</td>\n",
       "      <td>903-659-1163</td>\n",
       "      <td>Phased intangible service-desk</td>\n",
       "      <td>10361.827450</td>\n",
       "      <td>$10361.8274483474</td>\n",
       "      <td>Sesons</td>\n",
       "      <td>Chad</td>\n",
       "      <td>Chad</td>\n",
       "    </tr>\n",
       "    <tr>\n",
       "      <th>415</th>\n",
       "      <td>416</td>\n",
       "      <td>Antonio Chastang</td>\n",
       "      <td>12/5/2018</td>\n",
       "      <td>achastangbj@harvard.edu</td>\n",
       "      <td>Male</td>\n",
       "      <td>Senior Cost Accountant</td>\n",
       "      <td>Thoughtbeat</td>\n",
       "      <td>China</td>\n",
       "      <td>199v4fsREMPYmgKP2mABEkeciBeGiLZKS2</td>\n",
       "      <td>694-361-3477</td>\n",
       "      <td>Extended eco-centric projection</td>\n",
       "      <td>39343.241680</td>\n",
       "      <td>$39343.2416760765</td>\n",
       "      <td>Chastang</td>\n",
       "      <td>Antonio</td>\n",
       "      <td>Antonio</td>\n",
       "    </tr>\n",
       "    <tr>\n",
       "      <th>416</th>\n",
       "      <td>417</td>\n",
       "      <td>Vernon McGilben</td>\n",
       "      <td>2/10/2018</td>\n",
       "      <td>vmcgilbenbk@nps.gov</td>\n",
       "      <td>Male</td>\n",
       "      <td>Payment Adjustment Coordinator</td>\n",
       "      <td>Realmix</td>\n",
       "      <td>China</td>\n",
       "      <td>19oNbmSk9Rj9hoCVZEhg252o8SwbCPVyTr</td>\n",
       "      <td>942-862-0375</td>\n",
       "      <td>Versatile client-server artificial intelligence</td>\n",
       "      <td>53967.589340</td>\n",
       "      <td>$53967.5893429365</td>\n",
       "      <td>McGilben</td>\n",
       "      <td>Vernon</td>\n",
       "      <td>Vernon</td>\n",
       "    </tr>\n",
       "    <tr>\n",
       "      <th>418</th>\n",
       "      <td>419</td>\n",
       "      <td>Artemas Compson</td>\n",
       "      <td>4/16/2018</td>\n",
       "      <td>acompsonbm@yellowbook.com</td>\n",
       "      <td>Male</td>\n",
       "      <td>Registered Nurse</td>\n",
       "      <td>Tekfly</td>\n",
       "      <td>Sweden</td>\n",
       "      <td>19WFvtTK5LNyzdr7rx4CwV2dgyxLVc1PRd</td>\n",
       "      <td>223-945-4100</td>\n",
       "      <td>User-centric responsive installation</td>\n",
       "      <td>22651.448100</td>\n",
       "      <td>$22651.4481032746</td>\n",
       "      <td>Compson</td>\n",
       "      <td>Artemas</td>\n",
       "      <td>Artemas</td>\n",
       "    </tr>\n",
       "    <tr>\n",
       "      <th>429</th>\n",
       "      <td>430</td>\n",
       "      <td>Woodman Challiner</td>\n",
       "      <td>7/14/2018</td>\n",
       "      <td>wchallinerbx@pcworld.com</td>\n",
       "      <td>Male</td>\n",
       "      <td>Project Manager</td>\n",
       "      <td>Trunyx</td>\n",
       "      <td>Philippines</td>\n",
       "      <td>1958qBbPo62bVNmYcbTCj6oMfKgFDAmGjS</td>\n",
       "      <td>514-742-2116</td>\n",
       "      <td>Monitored asymmetric ability</td>\n",
       "      <td>30151.249730</td>\n",
       "      <td>$30151.249732963</td>\n",
       "      <td>Challiner</td>\n",
       "      <td>Woodman</td>\n",
       "      <td>Woodman</td>\n",
       "    </tr>\n",
       "    <tr>\n",
       "      <th>430</th>\n",
       "      <td>431</td>\n",
       "      <td>Michaeline Bloxsome</td>\n",
       "      <td>4/15/2018</td>\n",
       "      <td>mbloxsomeby@twitter.com</td>\n",
       "      <td>Female</td>\n",
       "      <td>Graphic Designer</td>\n",
       "      <td>Rooxo</td>\n",
       "      <td>Peru</td>\n",
       "      <td>19RnmfhytxasgUWEwKxrtmLPmoMRLRa7kJ</td>\n",
       "      <td>515-690-2376</td>\n",
       "      <td>Phased bottom-line model</td>\n",
       "      <td>53294.961390</td>\n",
       "      <td>$53294.9613940855</td>\n",
       "      <td>Bloxsome</td>\n",
       "      <td>Michaeline</td>\n",
       "      <td>Michaeline</td>\n",
       "    </tr>\n",
       "    <tr>\n",
       "      <th>432</th>\n",
       "      <td>433</td>\n",
       "      <td>Aldis Juggings</td>\n",
       "      <td>1/28/2018</td>\n",
       "      <td>ajuggingsc0@java.com</td>\n",
       "      <td>Male</td>\n",
       "      <td>Geological Engineer</td>\n",
       "      <td>Yacero</td>\n",
       "      <td>Philippines</td>\n",
       "      <td>19smVfq1VYJMcjHA6b93N2MVeJ8L2rjaCV</td>\n",
       "      <td>314-294-6390</td>\n",
       "      <td>Networked disintermediate benchmark</td>\n",
       "      <td>39029.938660</td>\n",
       "      <td>$39029.938657796</td>\n",
       "      <td>Juggings</td>\n",
       "      <td>Aldis</td>\n",
       "      <td>Aldis</td>\n",
       "    </tr>\n",
       "    <tr>\n",
       "      <th>555</th>\n",
       "      <td>556</td>\n",
       "      <td>Lowell Blague</td>\n",
       "      <td>6/11/2018</td>\n",
       "      <td>lblagueff@ucla.edu</td>\n",
       "      <td>Male</td>\n",
       "      <td>Director of Sales</td>\n",
       "      <td>Skivee</td>\n",
       "      <td>Thailand</td>\n",
       "      <td>19hXd2pLSZpyym6KNukWs1vnxt5MBbdSun</td>\n",
       "      <td>538-753-9138</td>\n",
       "      <td>Object-based zero defect matrices</td>\n",
       "      <td>32985.137490</td>\n",
       "      <td>$32985.1374858852</td>\n",
       "      <td>Blague</td>\n",
       "      <td>Lowell</td>\n",
       "      <td>Lowell</td>\n",
       "    </tr>\n",
       "    <tr>\n",
       "      <th>577</th>\n",
       "      <td>578</td>\n",
       "      <td>Pauli Dagwell</td>\n",
       "      <td>3/22/2018</td>\n",
       "      <td>pdagwellg1@tumblr.com</td>\n",
       "      <td>Female</td>\n",
       "      <td>Software Engineer II</td>\n",
       "      <td>Jaloo</td>\n",
       "      <td>Russia</td>\n",
       "      <td>174aQBRay19V7XYPse7N7MkbUhhiDTmEQa</td>\n",
       "      <td>924-170-5456</td>\n",
       "      <td>Reduced content-based database</td>\n",
       "      <td>21146.885590</td>\n",
       "      <td>$21146.885586108</td>\n",
       "      <td>Dagwell</td>\n",
       "      <td>Pauli</td>\n",
       "      <td>Pauli</td>\n",
       "    </tr>\n",
       "    <tr>\n",
       "      <th>591</th>\n",
       "      <td>592</td>\n",
       "      <td>Morey Skittles</td>\n",
       "      <td>2/4/2018</td>\n",
       "      <td>mskittlesgf@amazon.de</td>\n",
       "      <td>Male</td>\n",
       "      <td>GIS Technical Architect</td>\n",
       "      <td>Twitterlist</td>\n",
       "      <td>China</td>\n",
       "      <td>19CpEtBk4phFmb3ruVG12sAw4p7YQ1MYQk</td>\n",
       "      <td>151-222-1166</td>\n",
       "      <td>Adaptive dedicated collaboration</td>\n",
       "      <td>23571.886350</td>\n",
       "      <td>$23571.8863490707</td>\n",
       "      <td>Skittles</td>\n",
       "      <td>Morey</td>\n",
       "      <td>Morey</td>\n",
       "    </tr>\n",
       "    <tr>\n",
       "      <th>609</th>\n",
       "      <td>610</td>\n",
       "      <td>Papagena Lanfear</td>\n",
       "      <td>1/2/2018</td>\n",
       "      <td>planfeargx@angelfire.com</td>\n",
       "      <td>Female</td>\n",
       "      <td>Biostatistician II</td>\n",
       "      <td>Ailane</td>\n",
       "      <td>Belgium</td>\n",
       "      <td>19x2uAf3bpLBUCmWfo6PkWK7LV8DnL7UNL</td>\n",
       "      <td>405-741-4928</td>\n",
       "      <td>Reactive explicit budgetary management</td>\n",
       "      <td>7943.906980</td>\n",
       "      <td>$7943.90697958312</td>\n",
       "      <td>Lanfear</td>\n",
       "      <td>Papagena</td>\n",
       "      <td>Papagena</td>\n",
       "    </tr>\n",
       "    <tr>\n",
       "      <th>611</th>\n",
       "      <td>612</td>\n",
       "      <td>Nealon Peerless</td>\n",
       "      <td>6/22/2018</td>\n",
       "      <td>npeerlessgz@cam.ac.uk</td>\n",
       "      <td>Male</td>\n",
       "      <td>Automation Specialist IV</td>\n",
       "      <td>Katz</td>\n",
       "      <td>Czech Republic</td>\n",
       "      <td>19J9vCmE2zKe15EWUurtdxhubYcknnGsP5</td>\n",
       "      <td>817-950-9976</td>\n",
       "      <td>User-centric contextually-based protocol</td>\n",
       "      <td>47935.178690</td>\n",
       "      <td>$47935.178685873</td>\n",
       "      <td>Peerless</td>\n",
       "      <td>Nealon</td>\n",
       "      <td>Nealon</td>\n",
       "    </tr>\n",
       "    <tr>\n",
       "      <th>617</th>\n",
       "      <td>618</td>\n",
       "      <td>Lynnea Frostdicke</td>\n",
       "      <td>9/16/2018</td>\n",
       "      <td>lfrostdickeh5@pagesperso-orange.fr</td>\n",
       "      <td>Female</td>\n",
       "      <td>Speech Pathologist</td>\n",
       "      <td>Twimm</td>\n",
       "      <td>Democratic Republic of the Congo</td>\n",
       "      <td>19e6dgQTNDTLjJE2LibAFPfpa748Q93ze6</td>\n",
       "      <td>147-895-1476</td>\n",
       "      <td>Polarised uniform knowledge user</td>\n",
       "      <td>34673.787650</td>\n",
       "      <td>$34673.7876522111</td>\n",
       "      <td>Frostdicke</td>\n",
       "      <td>Lynnea</td>\n",
       "      <td>Lynnea</td>\n",
       "    </tr>\n",
       "    <tr>\n",
       "      <th>618</th>\n",
       "      <td>619</td>\n",
       "      <td>Hailey Attlee</td>\n",
       "      <td>4/23/2018</td>\n",
       "      <td>hattleeh6@simplemachines.org</td>\n",
       "      <td>Male</td>\n",
       "      <td>Actuary</td>\n",
       "      <td>Skibox</td>\n",
       "      <td>Poland</td>\n",
       "      <td>1FXi3PaowPtmgcNX6919pq7G3fS1uvnxhP</td>\n",
       "      <td>101-913-0094</td>\n",
       "      <td>Team-oriented eco-centric algorithm</td>\n",
       "      <td>54833.155310</td>\n",
       "      <td>$54833.1553086947</td>\n",
       "      <td>Attlee</td>\n",
       "      <td>Hailey</td>\n",
       "      <td>Hailey</td>\n",
       "    </tr>\n",
       "    <tr>\n",
       "      <th>631</th>\n",
       "      <td>632</td>\n",
       "      <td>Nydia Ewbank</td>\n",
       "      <td>1/28/2018</td>\n",
       "      <td>newbankhj@wunderground.com</td>\n",
       "      <td>Female</td>\n",
       "      <td>Senior Editor</td>\n",
       "      <td>Trunyx</td>\n",
       "      <td>China</td>\n",
       "      <td>19pEtJqo5F8kdWHB1o6pkMDZpZUnvjUU72</td>\n",
       "      <td>278-370-3775</td>\n",
       "      <td>Customer-focused value-added approach</td>\n",
       "      <td>56633.320110</td>\n",
       "      <td>$56633.3201086459</td>\n",
       "      <td>Ewbank</td>\n",
       "      <td>Nydia</td>\n",
       "      <td>Nydia</td>\n",
       "    </tr>\n",
       "    <tr>\n",
       "      <th>655</th>\n",
       "      <td>656</td>\n",
       "      <td>Annmaria Dungee</td>\n",
       "      <td>12/5/2018</td>\n",
       "      <td>adungeei7@irs.gov</td>\n",
       "      <td>Female</td>\n",
       "      <td>Health Coach II</td>\n",
       "      <td>Skynoodle</td>\n",
       "      <td>China</td>\n",
       "      <td>19V5MYLbVHZhkAmsxSrHRaj1WZHGmsd1kc</td>\n",
       "      <td>730-966-2394</td>\n",
       "      <td>Down-sized explicit application</td>\n",
       "      <td>34794.152650</td>\n",
       "      <td>$34794.1526535844</td>\n",
       "      <td>Dungee</td>\n",
       "      <td>Annmaria</td>\n",
       "      <td>Annmaria</td>\n",
       "    </tr>\n",
       "    <tr>\n",
       "      <th>705</th>\n",
       "      <td>706</td>\n",
       "      <td>Clary Luckcock</td>\n",
       "      <td>10/10/2018</td>\n",
       "      <td>cluckcockjl@wiley.com</td>\n",
       "      <td>Female</td>\n",
       "      <td>Business Systems Development Analyst</td>\n",
       "      <td>Thoughtworks</td>\n",
       "      <td>Ivory Coast</td>\n",
       "      <td>1MzRuC19bXzA12TEAxNx9Jhz2gQYGNtSaG</td>\n",
       "      <td>591-918-1919</td>\n",
       "      <td>Multi-tiered high-level product</td>\n",
       "      <td>36095.156710</td>\n",
       "      <td>$36095.1567125462</td>\n",
       "      <td>Luckcock</td>\n",
       "      <td>Clary</td>\n",
       "      <td>Clary</td>\n",
       "    </tr>\n",
       "    <tr>\n",
       "      <th>717</th>\n",
       "      <td>718</td>\n",
       "      <td>Jacquelin de Cullip</td>\n",
       "      <td>3/4/2018</td>\n",
       "      <td>jdejx@vkontakte.ru</td>\n",
       "      <td>Female</td>\n",
       "      <td>Structural Engineer</td>\n",
       "      <td>Leexo</td>\n",
       "      <td>Peru</td>\n",
       "      <td>195fGWc4rWymhzSiEPTNNAVgaJpczr2pDS</td>\n",
       "      <td>898-431-6679</td>\n",
       "      <td>Persistent heuristic customer loyalty</td>\n",
       "      <td>41180.578020</td>\n",
       "      <td>$41180.5780205695</td>\n",
       "      <td>de</td>\n",
       "      <td>Jacquelin</td>\n",
       "      <td>Jacquelin</td>\n",
       "    </tr>\n",
       "    <tr>\n",
       "      <th>733</th>\n",
       "      <td>734</td>\n",
       "      <td>Jonas Craven</td>\n",
       "      <td>2/22/2018</td>\n",
       "      <td>jcravenkd@independent.co.uk</td>\n",
       "      <td>Male</td>\n",
       "      <td>Speech Pathologist</td>\n",
       "      <td>Kare</td>\n",
       "      <td>Liberia</td>\n",
       "      <td>193m6JgkXxp4Cv6CUz8btTXbLUvyqyQYEw</td>\n",
       "      <td>689-786-4265</td>\n",
       "      <td>Centralized mobile algorithm</td>\n",
       "      <td>36518.204290</td>\n",
       "      <td>$36518.2042909024</td>\n",
       "      <td>Craven</td>\n",
       "      <td>Jonas</td>\n",
       "      <td>Jonas</td>\n",
       "    </tr>\n",
       "    <tr>\n",
       "      <th>757</th>\n",
       "      <td>758</td>\n",
       "      <td>Felita Gallager</td>\n",
       "      <td>1/8/2018</td>\n",
       "      <td>fgallagerl1@slideshare.net</td>\n",
       "      <td>Female</td>\n",
       "      <td>Speech Pathologist</td>\n",
       "      <td>Talane</td>\n",
       "      <td>China</td>\n",
       "      <td>19rCc7VFEgXg8VH86upzek5Yff3FDS2iT4</td>\n",
       "      <td>922-817-0306</td>\n",
       "      <td>Diverse well-modulated access</td>\n",
       "      <td>51963.866080</td>\n",
       "      <td>$51963.8660847804</td>\n",
       "      <td>Gallager</td>\n",
       "      <td>Felita</td>\n",
       "      <td>Felita</td>\n",
       "    </tr>\n",
       "    <tr>\n",
       "      <th>779</th>\n",
       "      <td>780</td>\n",
       "      <td>Babb Diver</td>\n",
       "      <td>12/22/2017</td>\n",
       "      <td>bdiverln@mediafire.com</td>\n",
       "      <td>Female</td>\n",
       "      <td>Tax Accountant</td>\n",
       "      <td>Devpoint</td>\n",
       "      <td>Japan</td>\n",
       "      <td>19BPKxyHBd89kT2D2C7cmGAFjJ2dA98s3e</td>\n",
       "      <td>398-362-0099</td>\n",
       "      <td>Multi-tiered web-enabled workforce</td>\n",
       "      <td>52278.939180</td>\n",
       "      <td>$52278.9391766106</td>\n",
       "      <td>Diver</td>\n",
       "      <td>Babb</td>\n",
       "      <td>Babb</td>\n",
       "    </tr>\n",
       "    <tr>\n",
       "      <th>803</th>\n",
       "      <td>804</td>\n",
       "      <td>Yankee Huncote</td>\n",
       "      <td>11/26/2018</td>\n",
       "      <td>yhuncotemb@123-reg.co.uk</td>\n",
       "      <td>Male</td>\n",
       "      <td>Project Manager</td>\n",
       "      <td>Avaveo</td>\n",
       "      <td>Ecuador</td>\n",
       "      <td>19eGFEVCXFeSpx7Rv7QDaj7EsLprCnoenc</td>\n",
       "      <td>828-299-7073</td>\n",
       "      <td>Visionary regional protocol</td>\n",
       "      <td>48455.580310</td>\n",
       "      <td>$48455.5803094577</td>\n",
       "      <td>Huncote</td>\n",
       "      <td>Yankee</td>\n",
       "      <td>Yankee</td>\n",
       "    </tr>\n",
       "    <tr>\n",
       "      <th>820</th>\n",
       "      <td>821</td>\n",
       "      <td>Gaultiero Scrivinor</td>\n",
       "      <td>4/27/2018</td>\n",
       "      <td>gscrivinorms@usnews.com</td>\n",
       "      <td>Male</td>\n",
       "      <td>Programmer Analyst I</td>\n",
       "      <td>Gabcube</td>\n",
       "      <td>Ukraine</td>\n",
       "      <td>19VDWubMWndKzG7N1fqfGkPpsAvxkKEp2P</td>\n",
       "      <td>326-187-3038</td>\n",
       "      <td>Streamlined web-enabled access</td>\n",
       "      <td>7418.195135</td>\n",
       "      <td>$7418.19513534959</td>\n",
       "      <td>Scrivinor</td>\n",
       "      <td>Gaultiero</td>\n",
       "      <td>Gaultiero</td>\n",
       "    </tr>\n",
       "    <tr>\n",
       "      <th>835</th>\n",
       "      <td>836</td>\n",
       "      <td>Oren Butterfill</td>\n",
       "      <td>9/17/2018</td>\n",
       "      <td>obutterfilln7@bloglines.com</td>\n",
       "      <td>Male</td>\n",
       "      <td>Programmer Analyst I</td>\n",
       "      <td>Rooxo</td>\n",
       "      <td>Brazil</td>\n",
       "      <td>19nFjmnjJNLVejQaEq8ciXYbQWgXUmXuRN</td>\n",
       "      <td>187-866-1199</td>\n",
       "      <td>Self-enabling discrete leverage</td>\n",
       "      <td>46002.258370</td>\n",
       "      <td>$46002.2583697012</td>\n",
       "      <td>Butterfill</td>\n",
       "      <td>Oren</td>\n",
       "      <td>Oren</td>\n",
       "    </tr>\n",
       "    <tr>\n",
       "      <th>846</th>\n",
       "      <td>847</td>\n",
       "      <td>Arlen Done</td>\n",
       "      <td>2/4/2018</td>\n",
       "      <td>adoneni@cnn.com</td>\n",
       "      <td>Female</td>\n",
       "      <td>Software Engineer II</td>\n",
       "      <td>Youfeed</td>\n",
       "      <td>China</td>\n",
       "      <td>19HjqtgqS3aRe88b6hHC7PDxwCrCjLuUd2</td>\n",
       "      <td>464-315-3002</td>\n",
       "      <td>Triple-buffered fault-tolerant project</td>\n",
       "      <td>17390.789510</td>\n",
       "      <td>$17390.7895138401</td>\n",
       "      <td>Done</td>\n",
       "      <td>Arlen</td>\n",
       "      <td>Arlen</td>\n",
       "    </tr>\n",
       "    <tr>\n",
       "      <th>899</th>\n",
       "      <td>900</td>\n",
       "      <td>Rorie Lynn</td>\n",
       "      <td>10/15/2018</td>\n",
       "      <td>rlynnoz@bandcamp.com</td>\n",
       "      <td>Female</td>\n",
       "      <td>Mechanical Systems Engineer</td>\n",
       "      <td>Omba</td>\n",
       "      <td>China</td>\n",
       "      <td>191BifRRPdjvGNEPHWTVcFLtNwNGRQDF5Z</td>\n",
       "      <td>728-468-9505</td>\n",
       "      <td>Customer-focused cohesive encryption</td>\n",
       "      <td>51071.749020</td>\n",
       "      <td>$51071.749015778</td>\n",
       "      <td>Lynn</td>\n",
       "      <td>Rorie</td>\n",
       "      <td>Rorie</td>\n",
       "    </tr>\n",
       "    <tr>\n",
       "      <th>901</th>\n",
       "      <td>902</td>\n",
       "      <td>Joelle Fermor</td>\n",
       "      <td>10/9/2018</td>\n",
       "      <td>jfermorp1@imageshack.us</td>\n",
       "      <td>Female</td>\n",
       "      <td>Senior Editor</td>\n",
       "      <td>Pixoboo</td>\n",
       "      <td>Armenia</td>\n",
       "      <td>19gyWrKC6CWNCUk4cspYgFcvnnjJdYRnku</td>\n",
       "      <td>507-332-0156</td>\n",
       "      <td>Team-oriented value-added utilisation</td>\n",
       "      <td>41325.724050</td>\n",
       "      <td>$41325.7240516373</td>\n",
       "      <td>Fermor</td>\n",
       "      <td>Joelle</td>\n",
       "      <td>Joelle</td>\n",
       "    </tr>\n",
       "    <tr>\n",
       "      <th>903</th>\n",
       "      <td>904</td>\n",
       "      <td>Rhoda Speeding</td>\n",
       "      <td>5/27/2018</td>\n",
       "      <td>rspeedingp3@printfriendly.com</td>\n",
       "      <td>Female</td>\n",
       "      <td>Compensation Analyst</td>\n",
       "      <td>Fivespan</td>\n",
       "      <td>Japan</td>\n",
       "      <td>19T282CU1tSnTpP7RXpNpCJi5jvSUwqKAy</td>\n",
       "      <td>849-448-8593</td>\n",
       "      <td>Synergized uniform array</td>\n",
       "      <td>50186.712240</td>\n",
       "      <td>$50186.7122409741</td>\n",
       "      <td>Speeding</td>\n",
       "      <td>Rhoda</td>\n",
       "      <td>Rhoda</td>\n",
       "    </tr>\n",
       "    <tr>\n",
       "      <th>908</th>\n",
       "      <td>909</td>\n",
       "      <td>Jocko Amorts</td>\n",
       "      <td>1/21/2018</td>\n",
       "      <td>jamortsp8@intel.com</td>\n",
       "      <td>Male</td>\n",
       "      <td>Tax Accountant</td>\n",
       "      <td>Thoughtbeat</td>\n",
       "      <td>Indonesia</td>\n",
       "      <td>19NAwzMBgFD6LQ52xKDe5NGAeUQ7uXbv6F</td>\n",
       "      <td>983-403-5353</td>\n",
       "      <td>Secured optimal internet solution</td>\n",
       "      <td>46257.148960</td>\n",
       "      <td>$46257.1489608448</td>\n",
       "      <td>Amorts</td>\n",
       "      <td>Jocko</td>\n",
       "      <td>Jocko</td>\n",
       "    </tr>\n",
       "    <tr>\n",
       "      <th>939</th>\n",
       "      <td>940</td>\n",
       "      <td>Martie Brooksbie</td>\n",
       "      <td>1/5/2018</td>\n",
       "      <td>mbrooksbieq3@bing.com</td>\n",
       "      <td>Male</td>\n",
       "      <td>Web Developer I</td>\n",
       "      <td>Quamba</td>\n",
       "      <td>Poland</td>\n",
       "      <td>1P3W6bgmM7aXZXZPLABDfQT4Ze5mf193nU</td>\n",
       "      <td>317-416-2362</td>\n",
       "      <td>Versatile intangible hub</td>\n",
       "      <td>46366.893520</td>\n",
       "      <td>$46366.8935209204</td>\n",
       "      <td>Brooksbie</td>\n",
       "      <td>Martie</td>\n",
       "      <td>Martie</td>\n",
       "    </tr>\n",
       "    <tr>\n",
       "      <th>940</th>\n",
       "      <td>941</td>\n",
       "      <td>Xever Hubbold</td>\n",
       "      <td>5/9/2018</td>\n",
       "      <td>xhubboldq4@yale.edu</td>\n",
       "      <td>Male</td>\n",
       "      <td>Staff Scientist</td>\n",
       "      <td>Vidoo</td>\n",
       "      <td>Poland</td>\n",
       "      <td>19psKeKSYCcXeK4g4wz1oqF7zSCcnayTPW</td>\n",
       "      <td>785-652-9482</td>\n",
       "      <td>Adaptive local functionalities</td>\n",
       "      <td>9395.367290</td>\n",
       "      <td>$9395.36729026154</td>\n",
       "      <td>Hubbold</td>\n",
       "      <td>Xever</td>\n",
       "      <td>Xever</td>\n",
       "    </tr>\n",
       "    <tr>\n",
       "      <th>957</th>\n",
       "      <td>958</td>\n",
       "      <td>Doralyn Iskowitz</td>\n",
       "      <td>2/7/2018</td>\n",
       "      <td>diskowitzql@earthlink.net</td>\n",
       "      <td>Female</td>\n",
       "      <td>Database Administrator IV</td>\n",
       "      <td>Tekfly</td>\n",
       "      <td>Cuba</td>\n",
       "      <td>19nt2oDmG644xYtzMtS98aBjhMD5crA7k6</td>\n",
       "      <td>175-577-2016</td>\n",
       "      <td>Enterprise-wide client-driven methodology</td>\n",
       "      <td>39493.697930</td>\n",
       "      <td>$39493.6979277932</td>\n",
       "      <td>Iskowitz</td>\n",
       "      <td>Doralyn</td>\n",
       "      <td>Doralyn</td>\n",
       "    </tr>\n",
       "    <tr>\n",
       "      <th>961</th>\n",
       "      <td>962</td>\n",
       "      <td>Ianthe Persian</td>\n",
       "      <td>8/19/2018</td>\n",
       "      <td>ipersianqp@phoca.cz</td>\n",
       "      <td>Female</td>\n",
       "      <td>Systems Administrator III</td>\n",
       "      <td>Zoovu</td>\n",
       "      <td>Kenya</td>\n",
       "      <td>198WGj1XpE3TbDfU89hpWQyPKaT7oToY9g</td>\n",
       "      <td>413-520-2861</td>\n",
       "      <td>Business-focused next generation customer loyalty</td>\n",
       "      <td>52280.709250</td>\n",
       "      <td>$52280.7092501602</td>\n",
       "      <td>Persian</td>\n",
       "      <td>Ianthe</td>\n",
       "      <td>Ianthe</td>\n",
       "    </tr>\n",
       "    <tr>\n",
       "      <th>964</th>\n",
       "      <td>965</td>\n",
       "      <td>Emelia Edmonds</td>\n",
       "      <td>4/29/2018</td>\n",
       "      <td>eedmondsqs@squidoo.com</td>\n",
       "      <td>Female</td>\n",
       "      <td>Biostatistician III</td>\n",
       "      <td>Realcube</td>\n",
       "      <td>France</td>\n",
       "      <td>1DWEpwCnQFvWUmDHpAsBizDiQ19eUGzuy</td>\n",
       "      <td>852-650-9710</td>\n",
       "      <td>Diverse bi-directional hub</td>\n",
       "      <td>25819.879760</td>\n",
       "      <td>$25819.8797570727</td>\n",
       "      <td>Edmonds</td>\n",
       "      <td>Emelia</td>\n",
       "      <td>Emelia</td>\n",
       "    </tr>\n",
       "    <tr>\n",
       "      <th>982</th>\n",
       "      <td>983</td>\n",
       "      <td>Tomasine Dawnay</td>\n",
       "      <td>8/10/2018</td>\n",
       "      <td>tdawnayra@lycos.com</td>\n",
       "      <td>Female</td>\n",
       "      <td>Senior Editor</td>\n",
       "      <td>Edgewire</td>\n",
       "      <td>Brazil</td>\n",
       "      <td>1C19HDk2gAAgtN7jYkYbZxcK49KFLjJqa9</td>\n",
       "      <td>466-963-6253</td>\n",
       "      <td>Fully-configurable impactful initiative</td>\n",
       "      <td>NaN</td>\n",
       "      <td>$</td>\n",
       "      <td>Dawnay</td>\n",
       "      <td>Tomasine</td>\n",
       "      <td>Tomasine</td>\n",
       "    </tr>\n",
       "  </tbody>\n",
       "</table>\n",
       "</div>"
      ],
      "text/plain": [
       "      id            full_name date_of_date  \\\n",
       "0      1          Salim Pound    2/12/2018   \n",
       "20    21       Luther Patullo   12/23/2017   \n",
       "38    39      Lissa Ballefant     5/5/2018   \n",
       "64    65        Salli Reedman    7/22/2018   \n",
       "70    71        Neville Creak    4/13/2018   \n",
       "81    82        Herschel Izac    12/6/2018   \n",
       "99   100       Sheryl Sworder    1/17/2018   \n",
       "146  147    Lombard Crasswell   10/18/2018   \n",
       "152  153         Gun Winspear   12/14/2018   \n",
       "205  206        Shaylyn Mateu     2/9/2018   \n",
       "218  219         Alvin Maryin    11/7/2018   \n",
       "220  221     Adaline Clilverd    9/19/2018   \n",
       "230  231       Frannie Blythe     1/6/2018   \n",
       "275  276     Stepha Gensavage     9/7/2018   \n",
       "277  278      Evered Guiducci    1/25/2018   \n",
       "281  282      Ransell Vivians    1/17/2018   \n",
       "289  290          Alley Nelle   11/11/2018   \n",
       "308  309     Farley McAlinden    11/1/2018   \n",
       "318  319    Theodosia Rignold    7/13/2018   \n",
       "335  336      Carine Knowlden     4/7/2018   \n",
       "367  368   Dillie Bigglestone     7/2/2018   \n",
       "380  381        Giorgi Bosche     4/8/2018   \n",
       "386  387           Vyky Roads   10/12/2018   \n",
       "393  394          Chad Sesons     8/6/2018   \n",
       "415  416     Antonio Chastang    12/5/2018   \n",
       "416  417      Vernon McGilben    2/10/2018   \n",
       "418  419      Artemas Compson    4/16/2018   \n",
       "429  430    Woodman Challiner    7/14/2018   \n",
       "430  431  Michaeline Bloxsome    4/15/2018   \n",
       "432  433       Aldis Juggings    1/28/2018   \n",
       "555  556        Lowell Blague    6/11/2018   \n",
       "577  578        Pauli Dagwell    3/22/2018   \n",
       "591  592       Morey Skittles     2/4/2018   \n",
       "609  610     Papagena Lanfear     1/2/2018   \n",
       "611  612      Nealon Peerless    6/22/2018   \n",
       "617  618    Lynnea Frostdicke    9/16/2018   \n",
       "618  619        Hailey Attlee    4/23/2018   \n",
       "631  632         Nydia Ewbank    1/28/2018   \n",
       "655  656      Annmaria Dungee    12/5/2018   \n",
       "705  706       Clary Luckcock   10/10/2018   \n",
       "717  718  Jacquelin de Cullip     3/4/2018   \n",
       "733  734         Jonas Craven    2/22/2018   \n",
       "757  758      Felita Gallager     1/8/2018   \n",
       "779  780           Babb Diver   12/22/2017   \n",
       "803  804       Yankee Huncote   11/26/2018   \n",
       "820  821  Gaultiero Scrivinor    4/27/2018   \n",
       "835  836      Oren Butterfill    9/17/2018   \n",
       "846  847           Arlen Done     2/4/2018   \n",
       "899  900           Rorie Lynn   10/15/2018   \n",
       "901  902        Joelle Fermor    10/9/2018   \n",
       "903  904       Rhoda Speeding    5/27/2018   \n",
       "908  909         Jocko Amorts    1/21/2018   \n",
       "939  940     Martie Brooksbie     1/5/2018   \n",
       "940  941        Xever Hubbold     5/9/2018   \n",
       "957  958     Doralyn Iskowitz     2/7/2018   \n",
       "961  962       Ianthe Persian    8/19/2018   \n",
       "964  965       Emelia Edmonds    4/29/2018   \n",
       "982  983      Tomasine Dawnay    8/10/2018   \n",
       "\n",
       "                                  email  gender  \\\n",
       "0                   spound0@spotify.com    Male   \n",
       "20               lpatullok@berkeley.edu    Male   \n",
       "38                 lballefant12@wsj.com  Female   \n",
       "64                  sreedman1s@imdb.com  Female   \n",
       "70                  ncreak1y@drupal.org    Male   \n",
       "81                   hizac29@usnews.com    Male   \n",
       "99                  ssworder2r@uiuc.edu  Female   \n",
       "146               lcrasswell42@wisc.edu    Male   \n",
       "152              gwinspear48@uol.com.br    Male   \n",
       "205             smateu5p@thetimes.co.uk  Female   \n",
       "218                amaryin62@boston.com    Male   \n",
       "220                aclilverd64@xing.com  Female   \n",
       "230                 fblythe6e@naver.com    Male   \n",
       "275              sgensavage7n@exblog.jp  Female   \n",
       "277               eguiducci7p@alexa.com    Male   \n",
       "281           rvivians7t@yellowbook.com    Male   \n",
       "289                anelle81@nytimes.com    Male   \n",
       "308           fmcalinden8k@amazon.co.uk    Male   \n",
       "318          trignold8u@list-manage.com  Female   \n",
       "335            cknowlden9b@springer.com  Female   \n",
       "367             dbigglestonea7@webs.com    Male   \n",
       "380           gboscheak@miibeian.gov.cn    Male   \n",
       "386                     vroadsaq@goo.gl  Female   \n",
       "393                 csesonsax@blogs.com  Female   \n",
       "415             achastangbj@harvard.edu    Male   \n",
       "416                 vmcgilbenbk@nps.gov    Male   \n",
       "418           acompsonbm@yellowbook.com    Male   \n",
       "429            wchallinerbx@pcworld.com    Male   \n",
       "430             mbloxsomeby@twitter.com  Female   \n",
       "432                ajuggingsc0@java.com    Male   \n",
       "555                  lblagueff@ucla.edu    Male   \n",
       "577               pdagwellg1@tumblr.com  Female   \n",
       "591               mskittlesgf@amazon.de    Male   \n",
       "609            planfeargx@angelfire.com  Female   \n",
       "611               npeerlessgz@cam.ac.uk    Male   \n",
       "617  lfrostdickeh5@pagesperso-orange.fr  Female   \n",
       "618        hattleeh6@simplemachines.org    Male   \n",
       "631          newbankhj@wunderground.com  Female   \n",
       "655                   adungeei7@irs.gov  Female   \n",
       "705               cluckcockjl@wiley.com  Female   \n",
       "717                  jdejx@vkontakte.ru  Female   \n",
       "733         jcravenkd@independent.co.uk    Male   \n",
       "757          fgallagerl1@slideshare.net  Female   \n",
       "779              bdiverln@mediafire.com  Female   \n",
       "803            yhuncotemb@123-reg.co.uk    Male   \n",
       "820             gscrivinorms@usnews.com    Male   \n",
       "835         obutterfilln7@bloglines.com    Male   \n",
       "846                     adoneni@cnn.com  Female   \n",
       "899                rlynnoz@bandcamp.com  Female   \n",
       "901             jfermorp1@imageshack.us  Female   \n",
       "903       rspeedingp3@printfriendly.com  Female   \n",
       "908                 jamortsp8@intel.com    Male   \n",
       "939               mbrooksbieq3@bing.com    Male   \n",
       "940                 xhubboldq4@yale.edu    Male   \n",
       "957           diskowitzql@earthlink.net  Female   \n",
       "961                 ipersianqp@phoca.cz  Female   \n",
       "964              eedmondsqs@squidoo.com  Female   \n",
       "982                 tdawnayra@lycos.com  Female   \n",
       "\n",
       "                                      job       company  \\\n",
       "0                                  Editor     Gigashots   \n",
       "20                   Staff Accountant III    Realbridge   \n",
       "38                    Software Engineer I     Wordpedia   \n",
       "64                       Registered Nurse      Realfire   \n",
       "70                      Web Developer III          Ooba   \n",
       "81                        Data Coordiator         Avamm   \n",
       "99            Administrative Assistant II     Flashspan   \n",
       "146                             Professor        Skibox   \n",
       "152                     Chemical Engineer        Meezzy   \n",
       "205                             Recruiter       Jaxspan   \n",
       "218                   Assistant Professor    Brainverse   \n",
       "220                     Media Manager III  Twitterworks   \n",
       "230                      Product Engineer    Linkbridge   \n",
       "275                             Paralegal         Quimm   \n",
       "277                          Food Chemist       Dabfeed   \n",
       "281                         Social Worker         Quinu   \n",
       "289                   Software Engineer I      Blogspan   \n",
       "308                   Electrical Engineer       Tagopia   \n",
       "318                      Senior Developer       Kwimbee   \n",
       "335                      Web Designer III         Mycat   \n",
       "367                      Health Coach III       Blogpad   \n",
       "380                   Clinical Specialist        Tambee   \n",
       "386            Database Administrator III        Trudeo   \n",
       "393                  Sales Representative      Edgeblab   \n",
       "415                Senior Cost Accountant   Thoughtbeat   \n",
       "416        Payment Adjustment Coordinator       Realmix   \n",
       "418                      Registered Nurse        Tekfly   \n",
       "429                       Project Manager        Trunyx   \n",
       "430                      Graphic Designer         Rooxo   \n",
       "432                   Geological Engineer        Yacero   \n",
       "555                     Director of Sales        Skivee   \n",
       "577                  Software Engineer II         Jaloo   \n",
       "591               GIS Technical Architect   Twitterlist   \n",
       "609                    Biostatistician II        Ailane   \n",
       "611              Automation Specialist IV          Katz   \n",
       "617                    Speech Pathologist         Twimm   \n",
       "618                               Actuary        Skibox   \n",
       "631                         Senior Editor        Trunyx   \n",
       "655                       Health Coach II     Skynoodle   \n",
       "705  Business Systems Development Analyst  Thoughtworks   \n",
       "717                   Structural Engineer         Leexo   \n",
       "733                    Speech Pathologist          Kare   \n",
       "757                    Speech Pathologist        Talane   \n",
       "779                        Tax Accountant      Devpoint   \n",
       "803                       Project Manager        Avaveo   \n",
       "820                  Programmer Analyst I       Gabcube   \n",
       "835                  Programmer Analyst I         Rooxo   \n",
       "846                  Software Engineer II       Youfeed   \n",
       "899           Mechanical Systems Engineer          Omba   \n",
       "901                         Senior Editor       Pixoboo   \n",
       "903                  Compensation Analyst      Fivespan   \n",
       "908                        Tax Accountant   Thoughtbeat   \n",
       "939                       Web Developer I        Quamba   \n",
       "940                       Staff Scientist         Vidoo   \n",
       "957             Database Administrator IV        Tekfly   \n",
       "961             Systems Administrator III         Zoovu   \n",
       "964                   Biostatistician III      Realcube   \n",
       "982                         Senior Editor      Edgewire   \n",
       "\n",
       "                              country                              salary  \\\n",
       "0                              Israel  19QtDp5HkyuZZqwwqzYPSSLuA7MXFCwfKL   \n",
       "20                           Tanzania  19cuF6DFRcVNZ8sCLrQm28WqxMrtN8iH1R   \n",
       "38                        Philippines  19VeUFUHYiTVPJL61TY41ySzJ1Kvt21emk   \n",
       "64                             Russia  19GSHk6D7AnmJ4YNXp2UrS6dgdaLvWtU9M   \n",
       "70                      United States  19iBZGp3i77eGzYwEkdNvXmCp2r8sc79Um   \n",
       "81                              Japan  19QuYFpFge3wV51Pmhkrfymuy8dhrMcNqD   \n",
       "99                          Sri Lanka  199P1RiCA82T3BQuAUSwVCMv9nXVogPQ75   \n",
       "146                             China  1Hz4L19ERh7LtYuLWWKD9RRSnVSyUyMrDH   \n",
       "152                            Russia  19E97wqMKcyNWStaWyfJDu2JYX2uNKcRHF   \n",
       "205                             China  19Gut2jhyjNL9kyx96fuJtRsB5dkYhCetT   \n",
       "218                             China  19rYTFW9rySEeVrCrChcHxAZBmKfZLGRDq   \n",
       "220                           Nigeria  19CTD7F7CLxSsj7vNwZWPpKv5qUZXcyoHc   \n",
       "230                       Philippines  17rSzh19PWTGVGEQAsLcSHv8GFnYJC2gfq   \n",
       "275                            Brazil  19FCY74yi5iSert8Q2SZwX1GjVmVFrbtTw   \n",
       "277                            Brazil  19Kanj1SKfKq2HgFEU74fcBTDNdErRoBKB   \n",
       "281                            France  192tKhqdqd6G3YEyjapaPYKPCasea56K4P   \n",
       "289                         Indonesia  19zAEeft7FbQW77B9L8Rxc13trcmUH56uo   \n",
       "308                              Iran  19xcSdXCLwfSFRrgD9sguehCc6AHem1Auy   \n",
       "318                             China  19gHRWmbDizew4mpQ8p2vNwENB9deVfAJ6   \n",
       "335                              Iran  19Ak7CmUU5be8wjALhqxnV6u7HhNFZWbga   \n",
       "367                           Finland   19ZPfBQ7FG76N9UJgaTSVQWkTE1BGKpEc   \n",
       "380                  Papua New Guinea  19BGJ4qNnST6nAboZJDRpgn5jnPLAhT7h9   \n",
       "386                            Brazil  191XmaxsY7FRnZhZYYtzPREgaMf3vThk29   \n",
       "393                             China  199RNkFJ6snHkexwntv73G26PEpoTmbZLt   \n",
       "415                             China  199v4fsREMPYmgKP2mABEkeciBeGiLZKS2   \n",
       "416                             China  19oNbmSk9Rj9hoCVZEhg252o8SwbCPVyTr   \n",
       "418                            Sweden  19WFvtTK5LNyzdr7rx4CwV2dgyxLVc1PRd   \n",
       "429                       Philippines  1958qBbPo62bVNmYcbTCj6oMfKgFDAmGjS   \n",
       "430                              Peru  19RnmfhytxasgUWEwKxrtmLPmoMRLRa7kJ   \n",
       "432                       Philippines  19smVfq1VYJMcjHA6b93N2MVeJ8L2rjaCV   \n",
       "555                          Thailand  19hXd2pLSZpyym6KNukWs1vnxt5MBbdSun   \n",
       "577                            Russia  174aQBRay19V7XYPse7N7MkbUhhiDTmEQa   \n",
       "591                             China  19CpEtBk4phFmb3ruVG12sAw4p7YQ1MYQk   \n",
       "609                           Belgium  19x2uAf3bpLBUCmWfo6PkWK7LV8DnL7UNL   \n",
       "611                    Czech Republic  19J9vCmE2zKe15EWUurtdxhubYcknnGsP5   \n",
       "617  Democratic Republic of the Congo  19e6dgQTNDTLjJE2LibAFPfpa748Q93ze6   \n",
       "618                            Poland  1FXi3PaowPtmgcNX6919pq7G3fS1uvnxhP   \n",
       "631                             China  19pEtJqo5F8kdWHB1o6pkMDZpZUnvjUU72   \n",
       "655                             China  19V5MYLbVHZhkAmsxSrHRaj1WZHGmsd1kc   \n",
       "705                       Ivory Coast  1MzRuC19bXzA12TEAxNx9Jhz2gQYGNtSaG   \n",
       "717                              Peru  195fGWc4rWymhzSiEPTNNAVgaJpczr2pDS   \n",
       "733                           Liberia  193m6JgkXxp4Cv6CUz8btTXbLUvyqyQYEw   \n",
       "757                             China  19rCc7VFEgXg8VH86upzek5Yff3FDS2iT4   \n",
       "779                             Japan  19BPKxyHBd89kT2D2C7cmGAFjJ2dA98s3e   \n",
       "803                           Ecuador  19eGFEVCXFeSpx7Rv7QDaj7EsLprCnoenc   \n",
       "820                           Ukraine  19VDWubMWndKzG7N1fqfGkPpsAvxkKEp2P   \n",
       "835                            Brazil  19nFjmnjJNLVejQaEq8ciXYbQWgXUmXuRN   \n",
       "846                             China  19HjqtgqS3aRe88b6hHC7PDxwCrCjLuUd2   \n",
       "899                             China  191BifRRPdjvGNEPHWTVcFLtNwNGRQDF5Z   \n",
       "901                           Armenia  19gyWrKC6CWNCUk4cspYgFcvnnjJdYRnku   \n",
       "903                             Japan  19T282CU1tSnTpP7RXpNpCJi5jvSUwqKAy   \n",
       "908                         Indonesia  19NAwzMBgFD6LQ52xKDe5NGAeUQ7uXbv6F   \n",
       "939                            Poland  1P3W6bgmM7aXZXZPLABDfQT4Ze5mf193nU   \n",
       "940                            Poland  19psKeKSYCcXeK4g4wz1oqF7zSCcnayTPW   \n",
       "957                              Cuba  19nt2oDmG644xYtzMtS98aBjhMD5crA7k6   \n",
       "961                             Kenya  198WGj1XpE3TbDfU89hpWQyPKaT7oToY9g   \n",
       "964                            France   1DWEpwCnQFvWUmDHpAsBizDiQ19eUGzuy   \n",
       "982                            Brazil  1C19HDk2gAAgtN7jYkYbZxcK49KFLjJqa9   \n",
       "\n",
       "            phone                                              quote  \\\n",
       "0    610-741-3882                       Compatible discrete leverage   \n",
       "20   259-891-8172                Centralized client-server structure   \n",
       "38   718-582-6068                Exclusive disintermediate challenge   \n",
       "64   351-818-8151              Object-based mission-critical product   \n",
       "70   818-341-7003                 Switchable interactive parallelism   \n",
       "81   665-422-7430                        Enhanced methodical support   \n",
       "99   414-779-3675             Persistent web-enabled functionalities   \n",
       "146  105-887-6347                   Reactive zero tolerance encoding   \n",
       "152  442-216-1240              Configurable optimizing orchestration   \n",
       "205  952-317-3195                     Balanced web-enabled algorithm   \n",
       "218  944-449-5346      Customer-focused systematic open architecture   \n",
       "220  116-476-5906                     Inverse actuating secured line   \n",
       "230  559-479-2966                           Up-sized optimal support   \n",
       "275  937-934-6619                       Self-enabling holistic frame   \n",
       "277  496-612-7568              Grass-roots analyzing functionalities   \n",
       "281  554-223-9306                      Public-key transitional frame   \n",
       "289  446-346-7067                  Optimized object-oriented project   \n",
       "308  459-428-7733               Grass-roots client-server capability   \n",
       "318  791-420-1282                      Centralized asymmetric access   \n",
       "335  252-711-5985                        Assimilated uniform archive   \n",
       "367  209-519-8227                   Balanced well-modulated attitude   \n",
       "380  224-570-9648                       Versatile composite approach   \n",
       "386  667-711-3128        Fully-configurable well-modulated structure   \n",
       "393  903-659-1163                     Phased intangible service-desk   \n",
       "415  694-361-3477                    Extended eco-centric projection   \n",
       "416  942-862-0375    Versatile client-server artificial intelligence   \n",
       "418  223-945-4100               User-centric responsive installation   \n",
       "429  514-742-2116                       Monitored asymmetric ability   \n",
       "430  515-690-2376                           Phased bottom-line model   \n",
       "432  314-294-6390                Networked disintermediate benchmark   \n",
       "555  538-753-9138                  Object-based zero defect matrices   \n",
       "577  924-170-5456                     Reduced content-based database   \n",
       "591  151-222-1166                   Adaptive dedicated collaboration   \n",
       "609  405-741-4928             Reactive explicit budgetary management   \n",
       "611  817-950-9976           User-centric contextually-based protocol   \n",
       "617  147-895-1476                   Polarised uniform knowledge user   \n",
       "618  101-913-0094                Team-oriented eco-centric algorithm   \n",
       "631  278-370-3775              Customer-focused value-added approach   \n",
       "655  730-966-2394                    Down-sized explicit application   \n",
       "705  591-918-1919                    Multi-tiered high-level product   \n",
       "717  898-431-6679              Persistent heuristic customer loyalty   \n",
       "733  689-786-4265                       Centralized mobile algorithm   \n",
       "757  922-817-0306                      Diverse well-modulated access   \n",
       "779  398-362-0099                 Multi-tiered web-enabled workforce   \n",
       "803  828-299-7073                        Visionary regional protocol   \n",
       "820  326-187-3038                     Streamlined web-enabled access   \n",
       "835  187-866-1199                    Self-enabling discrete leverage   \n",
       "846  464-315-3002             Triple-buffered fault-tolerant project   \n",
       "899  728-468-9505               Customer-focused cohesive encryption   \n",
       "901  507-332-0156              Team-oriented value-added utilisation   \n",
       "903  849-448-8593                           Synergized uniform array   \n",
       "908  983-403-5353                  Secured optimal internet solution   \n",
       "939  317-416-2362                           Versatile intangible hub   \n",
       "940  785-652-9482                     Adaptive local functionalities   \n",
       "957  175-577-2016          Enterprise-wide client-driven methodology   \n",
       "961  413-520-2861  Business-focused next generation customer loyalty   \n",
       "964  852-650-9710                         Diverse bi-directional hub   \n",
       "982  466-963-6253            Fully-configurable impactful initiative   \n",
       "\n",
       "           income           income.1     lastname   Firstname   firstname  \n",
       "0    46476.638080  $46476.6380809961        Pound       Salim       Salim  \n",
       "20   14671.956540  $14671.9565416425      Patullo      Luther      Luther  \n",
       "38   39199.865720  $39199.8657185583    Ballefant       Lissa       Lissa  \n",
       "64   46326.181830  $46326.1818292795      Reedman       Salli       Salli  \n",
       "70   32093.020420  $32093.0204168828        Creak     Neville     Neville  \n",
       "81    3180.639058  $3180.63905758843         Izac    Herschel    Herschel  \n",
       "99   27570.482500  $27570.4824976348      Sworder      Sheryl      Sheryl  \n",
       "146  38799.829100  $38799.8290963469    Crasswell     Lombard     Lombard  \n",
       "152  57376.751000  $57376.7509994811     Winspear         Gun         Gun  \n",
       "205  56351.878410  $56351.8784142583        Mateu     Shaylyn     Shaylyn  \n",
       "218  34785.302290  $34785.3022858364       Maryin       Alvin       Alvin  \n",
       "220  12623.981440  $12623.9814447462     Clilverd     Adaline     Adaline  \n",
       "230   8466.078677  $8466.07867671743       Blythe     Frannie     Frannie  \n",
       "275  43069.246500   $43069.246498001    Gensavage      Stepha      Stepha  \n",
       "277  57580.309460  $57580.3094576861     Guiducci      Evered      Evered  \n",
       "281  12077.028720  $12077.0287179174      Vivians     Ransell     Ransell  \n",
       "289  36376.598410  $36376.5984069338        Nelle       Alley       Alley  \n",
       "308  23449.751270  $23449.7512741477    McAlinden      Farley      Farley  \n",
       "318  27115.573600  $27115.5735953856      Rignold   Theodosia   Theodosia  \n",
       "335   5446.333201  $5446.33320108646     Knowlden      Carine      Carine  \n",
       "367  33647.144990  $33647.1449934385  Bigglestone      Dillie      Dillie  \n",
       "380  33638.294630  $33638.2946256905       Bosche      Giorgi      Giorgi  \n",
       "386  10848.597670  $10848.5976744896        Roads        Vyky        Vyky  \n",
       "393  10361.827450  $10361.8274483474       Sesons        Chad        Chad  \n",
       "415  39343.241680  $39343.2416760765     Chastang     Antonio     Antonio  \n",
       "416  53967.589340  $53967.5893429365     McGilben      Vernon      Vernon  \n",
       "418  22651.448100  $22651.4481032746      Compson     Artemas     Artemas  \n",
       "429  30151.249730   $30151.249732963    Challiner     Woodman     Woodman  \n",
       "430  53294.961390  $53294.9613940855     Bloxsome  Michaeline  Michaeline  \n",
       "432  39029.938660   $39029.938657796     Juggings       Aldis       Aldis  \n",
       "555  32985.137490  $32985.1374858852       Blague      Lowell      Lowell  \n",
       "577  21146.885590   $21146.885586108      Dagwell       Pauli       Pauli  \n",
       "591  23571.886350  $23571.8863490707     Skittles       Morey       Morey  \n",
       "609   7943.906980  $7943.90697958312      Lanfear    Papagena    Papagena  \n",
       "611  47935.178690   $47935.178685873     Peerless      Nealon      Nealon  \n",
       "617  34673.787650  $34673.7876522111   Frostdicke      Lynnea      Lynnea  \n",
       "618  54833.155310  $54833.1553086947       Attlee      Hailey      Hailey  \n",
       "631  56633.320110  $56633.3201086459       Ewbank       Nydia       Nydia  \n",
       "655  34794.152650  $34794.1526535844       Dungee    Annmaria    Annmaria  \n",
       "705  36095.156710  $36095.1567125462     Luckcock       Clary       Clary  \n",
       "717  41180.578020  $41180.5780205695           de   Jacquelin   Jacquelin  \n",
       "733  36518.204290  $36518.2042909024       Craven       Jonas       Jonas  \n",
       "757  51963.866080  $51963.8660847804     Gallager      Felita      Felita  \n",
       "779  52278.939180  $52278.9391766106        Diver        Babb        Babb  \n",
       "803  48455.580310  $48455.5803094577      Huncote      Yankee      Yankee  \n",
       "820   7418.195135  $7418.19513534959    Scrivinor   Gaultiero   Gaultiero  \n",
       "835  46002.258370  $46002.2583697012   Butterfill        Oren        Oren  \n",
       "846  17390.789510  $17390.7895138401         Done       Arlen       Arlen  \n",
       "899  51071.749020   $51071.749015778         Lynn       Rorie       Rorie  \n",
       "901  41325.724050  $41325.7240516373       Fermor      Joelle      Joelle  \n",
       "903  50186.712240  $50186.7122409741     Speeding       Rhoda       Rhoda  \n",
       "908  46257.148960  $46257.1489608448       Amorts       Jocko       Jocko  \n",
       "939  46366.893520  $46366.8935209204    Brooksbie      Martie      Martie  \n",
       "940   9395.367290  $9395.36729026154      Hubbold       Xever       Xever  \n",
       "957  39493.697930  $39493.6979277932     Iskowitz     Doralyn     Doralyn  \n",
       "961  52280.709250  $52280.7092501602      Persian      Ianthe      Ianthe  \n",
       "964  25819.879760  $25819.8797570727      Edmonds      Emelia      Emelia  \n",
       "982           NaN                  $       Dawnay    Tomasine    Tomasine  "
      ]
     },
     "execution_count": 198,
     "metadata": {},
     "output_type": "execute_result"
    }
   ],
   "source": [
    "# Get the actual value\n",
    "\n",
    "df[df.salary.str.contains('19')]"
   ]
  },
  {
   "cell_type": "code",
   "execution_count": 200,
   "id": "8f3f58af-2058-4b05-bb60-5caccdfdc6bd",
   "metadata": {},
   "outputs": [
    {
     "data": {
      "text/plain": [
       "0       True\n",
       "1       True\n",
       "2      False\n",
       "3      False\n",
       "4      False\n",
       "       ...  \n",
       "995    False\n",
       "996    False\n",
       "997    False\n",
       "998    False\n",
       "999    False\n",
       "Name: salary, Length: 1000, dtype: bool"
      ]
     },
     "execution_count": 200,
     "metadata": {},
     "output_type": "execute_result"
    }
   ],
   "source": [
    "df.salary.str.contains('19|17')"
   ]
  },
  {
   "cell_type": "code",
   "execution_count": 201,
   "id": "4e2f130c-845e-4973-a7de-ff61d82c9bbb",
   "metadata": {},
   "outputs": [
    {
     "data": {
      "text/plain": [
       "0       True\n",
       "1       True\n",
       "2      False\n",
       "3      False\n",
       "4      False\n",
       "       ...  \n",
       "995    False\n",
       "996    False\n",
       "997    False\n",
       "998    False\n",
       "999    False\n",
       "Name: salary, Length: 1000, dtype: bool"
      ]
     },
     "execution_count": 201,
     "metadata": {},
     "output_type": "execute_result"
    }
   ],
   "source": [
    "df.salary.str.contains('19|17',regex = True)"
   ]
  },
  {
   "cell_type": "code",
   "execution_count": 203,
   "id": "e57ae29e-82fb-4526-a54d-af20e009b4bd",
   "metadata": {},
   "outputs": [
    {
     "data": {
      "text/plain": [
       "0       True\n",
       "1      False\n",
       "2      False\n",
       "3      False\n",
       "4      False\n",
       "       ...  \n",
       "995    False\n",
       "996    False\n",
       "997    False\n",
       "998    False\n",
       "999    False\n",
       "Name: salary, Length: 1000, dtype: bool"
      ]
     },
     "execution_count": 203,
     "metadata": {},
     "output_type": "execute_result"
    }
   ],
   "source": [
    "df.salary.str.match('19')"
   ]
  },
  {
   "cell_type": "code",
   "execution_count": 207,
   "id": "fbdc38e4-012b-4f7b-b10f-30ac53a001f1",
   "metadata": {},
   "outputs": [
    {
     "data": {
      "text/plain": [
       "0                  Compatible discrete leverage\n",
       "1               Grass-roots real-time algorithm\n",
       "2           Innovative system-worthy definition\n",
       "3            Customer-focused didactic extranet\n",
       "4                     Progressive dynamic model\n",
       "                         ...                   \n",
       "995      Automated content-based superstructure\n",
       "996          Proactive content-based throughput\n",
       "997              Phased transitional monitoring\n",
       "998                    Organic dynamic strategy\n",
       "999    Managed solution-oriented implementation\n",
       "Name: quote, Length: 1000, dtype: object"
      ]
     },
     "execution_count": 207,
     "metadata": {},
     "output_type": "execute_result"
    }
   ],
   "source": [
    "df.quote"
   ]
  },
  {
   "cell_type": "code",
   "execution_count": 208,
   "id": "a369b6cd-a865-4d63-8da4-93fca3ea64a5",
   "metadata": {},
   "outputs": [
    {
     "data": {
      "text/plain": [
       "0      False\n",
       "1      False\n",
       "2      False\n",
       "3      False\n",
       "4      False\n",
       "       ...  \n",
       "995    False\n",
       "996    False\n",
       "997    False\n",
       "998    False\n",
       "999    False\n",
       "Name: quote, Length: 1000, dtype: bool"
      ]
     },
     "execution_count": 208,
     "metadata": {},
     "output_type": "execute_result"
    }
   ],
   "source": [
    "df.quote.str.match('Operative')"
   ]
  },
  {
   "cell_type": "code",
   "execution_count": 209,
   "id": "ae23adc2-2016-4bbd-ae63-bae81d1d0e4d",
   "metadata": {},
   "outputs": [
    {
     "data": {
      "text/html": [
       "<div>\n",
       "<style scoped>\n",
       "    .dataframe tbody tr th:only-of-type {\n",
       "        vertical-align: middle;\n",
       "    }\n",
       "\n",
       "    .dataframe tbody tr th {\n",
       "        vertical-align: top;\n",
       "    }\n",
       "\n",
       "    .dataframe thead th {\n",
       "        text-align: right;\n",
       "    }\n",
       "</style>\n",
       "<table border=\"1\" class=\"dataframe\">\n",
       "  <thead>\n",
       "    <tr style=\"text-align: right;\">\n",
       "      <th></th>\n",
       "      <th>id</th>\n",
       "      <th>full_name</th>\n",
       "      <th>date_of_date</th>\n",
       "      <th>email</th>\n",
       "      <th>gender</th>\n",
       "      <th>job</th>\n",
       "      <th>company</th>\n",
       "      <th>country</th>\n",
       "      <th>salary</th>\n",
       "      <th>phone</th>\n",
       "      <th>quote</th>\n",
       "      <th>income</th>\n",
       "      <th>income.1</th>\n",
       "      <th>lastname</th>\n",
       "      <th>Firstname</th>\n",
       "      <th>firstname</th>\n",
       "    </tr>\n",
       "  </thead>\n",
       "  <tbody>\n",
       "    <tr>\n",
       "      <th>7</th>\n",
       "      <td>8</td>\n",
       "      <td>Melina Boon</td>\n",
       "      <td>12/18/2017</td>\n",
       "      <td>mboon7@weibo.com</td>\n",
       "      <td>Female</td>\n",
       "      <td>Assistant Manager</td>\n",
       "      <td>Kanoodle</td>\n",
       "      <td>Colombia</td>\n",
       "      <td>1BRHmiaJur3qG1H4H1WsU8VJLKHwxvqRwF</td>\n",
       "      <td>280-484-7263</td>\n",
       "      <td>Operative coherent frame</td>\n",
       "      <td>8528.031251</td>\n",
       "      <td>$8528.0312509537</td>\n",
       "      <td>Boon</td>\n",
       "      <td>Melina</td>\n",
       "      <td>Melina</td>\n",
       "    </tr>\n",
       "    <tr>\n",
       "      <th>110</th>\n",
       "      <td>111</td>\n",
       "      <td>Ema Buck</td>\n",
       "      <td>6/29/2018</td>\n",
       "      <td>ebuck32@g.co</td>\n",
       "      <td>Female</td>\n",
       "      <td>Civil Engineer</td>\n",
       "      <td>Linkbridge</td>\n",
       "      <td>China</td>\n",
       "      <td>1KaWubTcNW5yc9YvdSDcAsJ7AKCr3BbUXq</td>\n",
       "      <td>773-675-4907</td>\n",
       "      <td>Operative neutral open system</td>\n",
       "      <td>16302.194280</td>\n",
       "      <td>$16302.1942808313</td>\n",
       "      <td>Buck</td>\n",
       "      <td>Ema</td>\n",
       "      <td>Ema</td>\n",
       "    </tr>\n",
       "    <tr>\n",
       "      <th>138</th>\n",
       "      <td>139</td>\n",
       "      <td>Hunt Dockrill</td>\n",
       "      <td>10/11/2018</td>\n",
       "      <td>hdockrill3u@chron.com</td>\n",
       "      <td>Male</td>\n",
       "      <td>Chief Design Engineer</td>\n",
       "      <td>Dabvine</td>\n",
       "      <td>Iran</td>\n",
       "      <td>16rhNv6bDooDsyscw72Yq4YQDgbe9kHHn1</td>\n",
       "      <td>243-149-7140</td>\n",
       "      <td>Operative scalable concept</td>\n",
       "      <td>52431.165500</td>\n",
       "      <td>$52431.1655018769</td>\n",
       "      <td>Dockrill</td>\n",
       "      <td>Hunt</td>\n",
       "      <td>Hunt</td>\n",
       "    </tr>\n",
       "    <tr>\n",
       "      <th>164</th>\n",
       "      <td>165</td>\n",
       "      <td>Ron Matherson</td>\n",
       "      <td>9/18/2018</td>\n",
       "      <td>rmatherson4k@amazon.de</td>\n",
       "      <td>Male</td>\n",
       "      <td>Internal Auditor</td>\n",
       "      <td>Rooxo</td>\n",
       "      <td>Philippines</td>\n",
       "      <td>1PuoqLCBv7DNEzy9WxAg72jcKeZxYU1EXc</td>\n",
       "      <td>950-659-1921</td>\n",
       "      <td>Operative clear-thinking hierarchy</td>\n",
       "      <td>28921.048620</td>\n",
       "      <td>$28921.0486159856</td>\n",
       "      <td>Matherson</td>\n",
       "      <td>Ron</td>\n",
       "      <td>Ron</td>\n",
       "    </tr>\n",
       "    <tr>\n",
       "      <th>314</th>\n",
       "      <td>315</td>\n",
       "      <td>Cher Wetherhead</td>\n",
       "      <td>9/16/2018</td>\n",
       "      <td>cwetherhead8q@unblog.fr</td>\n",
       "      <td>Female</td>\n",
       "      <td>Chief Design Engineer</td>\n",
       "      <td>Oyoyo</td>\n",
       "      <td>Brazil</td>\n",
       "      <td>12Br8Ajzp8K4KULTCeowgvC2fU49MLywuf</td>\n",
       "      <td>265-511-6121</td>\n",
       "      <td>Operative tangible encryption</td>\n",
       "      <td>13850.642410</td>\n",
       "      <td>$13850.6424146245</td>\n",
       "      <td>Wetherhead</td>\n",
       "      <td>Cher</td>\n",
       "      <td>Cher</td>\n",
       "    </tr>\n",
       "    <tr>\n",
       "      <th>328</th>\n",
       "      <td>329</td>\n",
       "      <td>Alasdair Fronsek</td>\n",
       "      <td>10/10/2018</td>\n",
       "      <td>afronsek94@freewebs.com</td>\n",
       "      <td>Male</td>\n",
       "      <td>Human Resources Assistant IV</td>\n",
       "      <td>Topiclounge</td>\n",
       "      <td>Indonesia</td>\n",
       "      <td>1LhSdbYKcfFYUEfZNKpmHoVJ99kkoxqkE8</td>\n",
       "      <td>168-998-4173</td>\n",
       "      <td>Operative attitude-oriented firmware</td>\n",
       "      <td>38898.953220</td>\n",
       "      <td>$38898.953215125</td>\n",
       "      <td>Fronsek</td>\n",
       "      <td>Alasdair</td>\n",
       "      <td>Alasdair</td>\n",
       "    </tr>\n",
       "    <tr>\n",
       "      <th>552</th>\n",
       "      <td>553</td>\n",
       "      <td>Auria Saller</td>\n",
       "      <td>7/3/2018</td>\n",
       "      <td>asallerfc@census.gov</td>\n",
       "      <td>Female</td>\n",
       "      <td>Payment Adjustment Coordinator</td>\n",
       "      <td>Avavee</td>\n",
       "      <td>Dominican Republic</td>\n",
       "      <td>182UDif5TKzAFwwGjhfc9iS4RAwgor6cDG</td>\n",
       "      <td>575-916-0590</td>\n",
       "      <td>Operative systemic secured line</td>\n",
       "      <td>13817.011020</td>\n",
       "      <td>$13817.0110171819</td>\n",
       "      <td>Saller</td>\n",
       "      <td>Auria</td>\n",
       "      <td>Auria</td>\n",
       "    </tr>\n",
       "    <tr>\n",
       "      <th>565</th>\n",
       "      <td>566</td>\n",
       "      <td>Anna-maria Kingwell</td>\n",
       "      <td>2/1/2018</td>\n",
       "      <td>akingwellfp@amazon.com</td>\n",
       "      <td>Female</td>\n",
       "      <td>Research Assistant I</td>\n",
       "      <td>Linkbridge</td>\n",
       "      <td>Indonesia</td>\n",
       "      <td>1JdNGd1qhaHCQMqVoo5B3P7jxG3z6xcGQL</td>\n",
       "      <td>968-196-0429</td>\n",
       "      <td>Operative responsive website</td>\n",
       "      <td>45129.612110</td>\n",
       "      <td>$45129.6121097446</td>\n",
       "      <td>Kingwell</td>\n",
       "      <td>Anna-maria</td>\n",
       "      <td>Anna-maria</td>\n",
       "    </tr>\n",
       "    <tr>\n",
       "      <th>640</th>\n",
       "      <td>641</td>\n",
       "      <td>Vincents Loseke</td>\n",
       "      <td>6/9/2018</td>\n",
       "      <td>vlosekehs@wikia.com</td>\n",
       "      <td>Male</td>\n",
       "      <td>Financial Advisor</td>\n",
       "      <td>Innotype</td>\n",
       "      <td>Bulgaria</td>\n",
       "      <td>1QB6QprFNH3VP6BCNbcqKxH2bKsSrvds3H</td>\n",
       "      <td>206-112-4387</td>\n",
       "      <td>Operative bifurcated success</td>\n",
       "      <td>28120.975370</td>\n",
       "      <td>$28120.9753715629</td>\n",
       "      <td>Loseke</td>\n",
       "      <td>Vincents</td>\n",
       "      <td>Vincents</td>\n",
       "    </tr>\n",
       "    <tr>\n",
       "      <th>644</th>\n",
       "      <td>645</td>\n",
       "      <td>Giffard Barnfield</td>\n",
       "      <td>4/18/2018</td>\n",
       "      <td>gbarnfieldhw@google.com.hk</td>\n",
       "      <td>Male</td>\n",
       "      <td>Health Coach III</td>\n",
       "      <td>Dablist</td>\n",
       "      <td>Portugal</td>\n",
       "      <td>1Ex4y8V6hgfhZYFpE7JGYrjmCvRrDvAhkg</td>\n",
       "      <td>207-281-7839</td>\n",
       "      <td>Operative tangible challenge</td>\n",
       "      <td>20992.889190</td>\n",
       "      <td>$20992.8891872921</td>\n",
       "      <td>Barnfield</td>\n",
       "      <td>Giffard</td>\n",
       "      <td>Giffard</td>\n",
       "    </tr>\n",
       "    <tr>\n",
       "      <th>861</th>\n",
       "      <td>862</td>\n",
       "      <td>Jamesy Mathely</td>\n",
       "      <td>8/11/2018</td>\n",
       "      <td>jmathelynx@scientificamerican.com</td>\n",
       "      <td>Male</td>\n",
       "      <td>Internal Auditor</td>\n",
       "      <td>Blogtag</td>\n",
       "      <td>China</td>\n",
       "      <td>1LPBL8jPDLFHsNX4EvK6hGQmtjhiSSw5XK</td>\n",
       "      <td>868-552-4800</td>\n",
       "      <td>Operative mobile open architecture</td>\n",
       "      <td>8582.903531</td>\n",
       "      <td>$8582.90353099155</td>\n",
       "      <td>Mathely</td>\n",
       "      <td>Jamesy</td>\n",
       "      <td>Jamesy</td>\n",
       "    </tr>\n",
       "    <tr>\n",
       "      <th>928</th>\n",
       "      <td>929</td>\n",
       "      <td>Hube Aimeric</td>\n",
       "      <td>12/13/2018</td>\n",
       "      <td>haimericps@foxnews.com</td>\n",
       "      <td>Male</td>\n",
       "      <td>Quality Engineer</td>\n",
       "      <td>Voolia</td>\n",
       "      <td>United States</td>\n",
       "      <td>1AJAxc977EwqwTEHrgMjgwUS7QGaJxkUQG</td>\n",
       "      <td>914-801-7357</td>\n",
       "      <td>Operative hybrid project</td>\n",
       "      <td>10030.823690</td>\n",
       "      <td>$10030.8236945708</td>\n",
       "      <td>Aimeric</td>\n",
       "      <td>Hube</td>\n",
       "      <td>Hube</td>\n",
       "    </tr>\n",
       "  </tbody>\n",
       "</table>\n",
       "</div>"
      ],
      "text/plain": [
       "      id            full_name date_of_date                              email  \\\n",
       "7      8          Melina Boon   12/18/2017                   mboon7@weibo.com   \n",
       "110  111             Ema Buck    6/29/2018                       ebuck32@g.co   \n",
       "138  139        Hunt Dockrill   10/11/2018              hdockrill3u@chron.com   \n",
       "164  165        Ron Matherson    9/18/2018             rmatherson4k@amazon.de   \n",
       "314  315      Cher Wetherhead    9/16/2018            cwetherhead8q@unblog.fr   \n",
       "328  329     Alasdair Fronsek   10/10/2018            afronsek94@freewebs.com   \n",
       "552  553         Auria Saller     7/3/2018               asallerfc@census.gov   \n",
       "565  566  Anna-maria Kingwell     2/1/2018             akingwellfp@amazon.com   \n",
       "640  641      Vincents Loseke     6/9/2018                vlosekehs@wikia.com   \n",
       "644  645    Giffard Barnfield    4/18/2018         gbarnfieldhw@google.com.hk   \n",
       "861  862       Jamesy Mathely    8/11/2018  jmathelynx@scientificamerican.com   \n",
       "928  929         Hube Aimeric   12/13/2018             haimericps@foxnews.com   \n",
       "\n",
       "     gender                             job      company             country  \\\n",
       "7    Female               Assistant Manager     Kanoodle            Colombia   \n",
       "110  Female                  Civil Engineer   Linkbridge               China   \n",
       "138    Male           Chief Design Engineer      Dabvine                Iran   \n",
       "164    Male                Internal Auditor        Rooxo         Philippines   \n",
       "314  Female           Chief Design Engineer        Oyoyo              Brazil   \n",
       "328    Male    Human Resources Assistant IV  Topiclounge           Indonesia   \n",
       "552  Female  Payment Adjustment Coordinator       Avavee  Dominican Republic   \n",
       "565  Female            Research Assistant I   Linkbridge           Indonesia   \n",
       "640    Male               Financial Advisor     Innotype            Bulgaria   \n",
       "644    Male                Health Coach III      Dablist            Portugal   \n",
       "861    Male                Internal Auditor      Blogtag               China   \n",
       "928    Male                Quality Engineer       Voolia       United States   \n",
       "\n",
       "                                 salary         phone  \\\n",
       "7    1BRHmiaJur3qG1H4H1WsU8VJLKHwxvqRwF  280-484-7263   \n",
       "110  1KaWubTcNW5yc9YvdSDcAsJ7AKCr3BbUXq  773-675-4907   \n",
       "138  16rhNv6bDooDsyscw72Yq4YQDgbe9kHHn1  243-149-7140   \n",
       "164  1PuoqLCBv7DNEzy9WxAg72jcKeZxYU1EXc  950-659-1921   \n",
       "314  12Br8Ajzp8K4KULTCeowgvC2fU49MLywuf  265-511-6121   \n",
       "328  1LhSdbYKcfFYUEfZNKpmHoVJ99kkoxqkE8  168-998-4173   \n",
       "552  182UDif5TKzAFwwGjhfc9iS4RAwgor6cDG  575-916-0590   \n",
       "565  1JdNGd1qhaHCQMqVoo5B3P7jxG3z6xcGQL  968-196-0429   \n",
       "640  1QB6QprFNH3VP6BCNbcqKxH2bKsSrvds3H  206-112-4387   \n",
       "644  1Ex4y8V6hgfhZYFpE7JGYrjmCvRrDvAhkg  207-281-7839   \n",
       "861  1LPBL8jPDLFHsNX4EvK6hGQmtjhiSSw5XK  868-552-4800   \n",
       "928  1AJAxc977EwqwTEHrgMjgwUS7QGaJxkUQG  914-801-7357   \n",
       "\n",
       "                                    quote        income           income.1  \\\n",
       "7                Operative coherent frame   8528.031251   $8528.0312509537   \n",
       "110         Operative neutral open system  16302.194280  $16302.1942808313   \n",
       "138            Operative scalable concept  52431.165500  $52431.1655018769   \n",
       "164    Operative clear-thinking hierarchy  28921.048620  $28921.0486159856   \n",
       "314         Operative tangible encryption  13850.642410  $13850.6424146245   \n",
       "328  Operative attitude-oriented firmware  38898.953220   $38898.953215125   \n",
       "552       Operative systemic secured line  13817.011020  $13817.0110171819   \n",
       "565          Operative responsive website  45129.612110  $45129.6121097446   \n",
       "640          Operative bifurcated success  28120.975370  $28120.9753715629   \n",
       "644          Operative tangible challenge  20992.889190  $20992.8891872921   \n",
       "861    Operative mobile open architecture   8582.903531  $8582.90353099155   \n",
       "928              Operative hybrid project  10030.823690  $10030.8236945708   \n",
       "\n",
       "       lastname   Firstname   firstname  \n",
       "7          Boon      Melina      Melina  \n",
       "110        Buck         Ema         Ema  \n",
       "138    Dockrill        Hunt        Hunt  \n",
       "164   Matherson         Ron         Ron  \n",
       "314  Wetherhead        Cher        Cher  \n",
       "328     Fronsek    Alasdair    Alasdair  \n",
       "552      Saller       Auria       Auria  \n",
       "565    Kingwell  Anna-maria  Anna-maria  \n",
       "640      Loseke    Vincents    Vincents  \n",
       "644   Barnfield     Giffard     Giffard  \n",
       "861     Mathely      Jamesy      Jamesy  \n",
       "928     Aimeric        Hube        Hube  "
      ]
     },
     "execution_count": 209,
     "metadata": {},
     "output_type": "execute_result"
    }
   ],
   "source": [
    "df[df.quote.str.match('Operative')]"
   ]
  },
  {
   "cell_type": "code",
   "execution_count": 211,
   "id": "22d13bb6-e70c-4bc8-8cd4-57954b521a50",
   "metadata": {},
   "outputs": [
    {
     "data": {
      "text/plain": [
       "18     1MHrrY7pFbXDxNa411ePxRe3vgnYs9yTFH\n",
       "118    1AwpwF96DD6Z2sys5cYr1d8Bug9in2vMyC\n",
       "180    12bU7LbQptqzzWfH1ByMHJZSRGQeAY4uDn\n",
       "181    16w3ofbq4pVY7ZozedKFtqcsMRNKfNQ9FN\n",
       "182    17JDB9m51q3VUP6JcH378A4mfKc7zZr84h\n",
       "183    1Fc69FUykHCUDiAbPTBdY7gYpHCFaPF92H\n",
       "184    16hjmTDM9AqymMqw347i1UHyKbkFVu8usP\n",
       "185     1WN1eFpNnCSLdKxihzBqymmQt9trZ7zy4\n",
       "186    1BLeNSt4JaA6SQ3zctur8n1ghGYm6uumWW\n",
       "187    16pM7yBa8K9uTYfsHkDdRT4HEc2mpk7ayt\n",
       "188    16UMARArn5LBMUQFMbCCB1spgDPbxVNtV1\n",
       "189    1EnThyx9SiKspr2kpU9UimL54qack5FmRE\n",
       "218    19rYTFW9rySEeVrCrChcHxAZBmKfZLGRDq\n",
       "318    19gHRWmbDizew4mpQ8p2vNwENB9deVfAJ6\n",
       "418    19WFvtTK5LNyzdr7rx4CwV2dgyxLVc1PRd\n",
       "518    1HuWE8PqqPhxvqafKQkbeqh9gqj13nsNFq\n",
       "618    1FXi3PaowPtmgcNX6919pq7G3fS1uvnxhP\n",
       "718    1PTV4YaMmrG7EC5eGoNHsoZYooxiNLFz9E\n",
       "818    1CGEV9RM2LipNssS9na2KyZdHaEq9Dj8Sk\n",
       "918    1K4msXtEXTyZAqTb3P8spTwpSLboHReoeS\n",
       "Name: salary, dtype: object"
      ]
     },
     "execution_count": 211,
     "metadata": {},
     "output_type": "execute_result"
    }
   ],
   "source": [
    "# Finding An Index\n",
    "df.salary.filter(regex='18',axis=0)"
   ]
  },
  {
   "cell_type": "code",
   "execution_count": 212,
   "id": "8917d0a8-d88c-4d64-95e3-6047534606af",
   "metadata": {},
   "outputs": [
    {
     "data": {
      "text/html": [
       "<div>\n",
       "<style scoped>\n",
       "    .dataframe tbody tr th:only-of-type {\n",
       "        vertical-align: middle;\n",
       "    }\n",
       "\n",
       "    .dataframe tbody tr th {\n",
       "        vertical-align: top;\n",
       "    }\n",
       "\n",
       "    .dataframe thead th {\n",
       "        text-align: right;\n",
       "    }\n",
       "</style>\n",
       "<table border=\"1\" class=\"dataframe\">\n",
       "  <thead>\n",
       "    <tr style=\"text-align: right;\">\n",
       "      <th></th>\n",
       "      <th>id</th>\n",
       "      <th>full_name</th>\n",
       "      <th>date_of_date</th>\n",
       "      <th>email</th>\n",
       "      <th>gender</th>\n",
       "      <th>job</th>\n",
       "      <th>company</th>\n",
       "      <th>country</th>\n",
       "      <th>salary</th>\n",
       "      <th>phone</th>\n",
       "      <th>quote</th>\n",
       "      <th>income</th>\n",
       "      <th>income.1</th>\n",
       "      <th>lastname</th>\n",
       "      <th>Firstname</th>\n",
       "      <th>firstname</th>\n",
       "    </tr>\n",
       "  </thead>\n",
       "  <tbody>\n",
       "    <tr>\n",
       "      <th>0</th>\n",
       "      <td>1</td>\n",
       "      <td>Salim Pound</td>\n",
       "      <td>2/12/2018</td>\n",
       "      <td>spound0@spotify.com</td>\n",
       "      <td>Male</td>\n",
       "      <td>Editor</td>\n",
       "      <td>Gigashots</td>\n",
       "      <td>Israel</td>\n",
       "      <td>19QtDp5HkyuZZqwwqzYPSSLuA7MXFCwfKL</td>\n",
       "      <td>610-741-3882</td>\n",
       "      <td>Compatible discrete leverage</td>\n",
       "      <td>46476.638080</td>\n",
       "      <td>$46476.6380809961</td>\n",
       "      <td>Pound</td>\n",
       "      <td>Salim</td>\n",
       "      <td>Salim</td>\n",
       "    </tr>\n",
       "    <tr>\n",
       "      <th>1</th>\n",
       "      <td>2</td>\n",
       "      <td>Madelene Lutas</td>\n",
       "      <td>9/20/2018</td>\n",
       "      <td>mlutas1@si.edu</td>\n",
       "      <td>Female</td>\n",
       "      <td>VP Marketing</td>\n",
       "      <td>Wikivu</td>\n",
       "      <td>Mongolia</td>\n",
       "      <td>17ADLE8HiTj7m1tTbzboLDn7eiZ4TjetzZ</td>\n",
       "      <td>221-725-8860</td>\n",
       "      <td>Grass-roots real-time algorithm</td>\n",
       "      <td>54174.687950</td>\n",
       "      <td>$54174.6879482406</td>\n",
       "      <td>Lutas</td>\n",
       "      <td>Madelene</td>\n",
       "      <td>Madelene</td>\n",
       "    </tr>\n",
       "    <tr>\n",
       "      <th>2</th>\n",
       "      <td>3</td>\n",
       "      <td>Dolli Swanbourne</td>\n",
       "      <td>11/18/2018</td>\n",
       "      <td>dswanbourne2@istockphoto.com</td>\n",
       "      <td>Female</td>\n",
       "      <td>Associate Professor</td>\n",
       "      <td>Dabfeed</td>\n",
       "      <td>Vietnam</td>\n",
       "      <td>16ThVxH72YAXWiEBeBZB1WYtXcfJMwUtoB</td>\n",
       "      <td>303-720-8280</td>\n",
       "      <td>Innovative system-worthy definition</td>\n",
       "      <td>5449.873348</td>\n",
       "      <td>$5449.87334818567</td>\n",
       "      <td>Swanbourne</td>\n",
       "      <td>Dolli</td>\n",
       "      <td>Dolli</td>\n",
       "    </tr>\n",
       "    <tr>\n",
       "      <th>3</th>\n",
       "      <td>4</td>\n",
       "      <td>Graeme Croisier</td>\n",
       "      <td>9/29/2018</td>\n",
       "      <td>gcroisier3@parallels.com</td>\n",
       "      <td>Male</td>\n",
       "      <td>Mechanical Systems Engineer</td>\n",
       "      <td>Trudoo</td>\n",
       "      <td>Bosnia and Herzegovina</td>\n",
       "      <td>1JLUVwmjHvxgh53C7Afie3pWbjrYxV9Fnx</td>\n",
       "      <td>673-794-9917</td>\n",
       "      <td>Customer-focused didactic extranet</td>\n",
       "      <td>46784.630880</td>\n",
       "      <td>$46784.6308786279</td>\n",
       "      <td>Croisier</td>\n",
       "      <td>Graeme</td>\n",
       "      <td>Graeme</td>\n",
       "    </tr>\n",
       "    <tr>\n",
       "      <th>4</th>\n",
       "      <td>5</td>\n",
       "      <td>Jillana Physic</td>\n",
       "      <td>4/19/2018</td>\n",
       "      <td>jphysic4@yellowbook.com</td>\n",
       "      <td>Female</td>\n",
       "      <td>Account Executive</td>\n",
       "      <td>Buzzshare</td>\n",
       "      <td>China</td>\n",
       "      <td>1DaEUNoAWL68pnvThSM5eBYgQMTv9mKyFG</td>\n",
       "      <td>709-146-6263</td>\n",
       "      <td>Progressive dynamic model</td>\n",
       "      <td>57486.495560</td>\n",
       "      <td>$57486.4955595568</td>\n",
       "      <td>Physic</td>\n",
       "      <td>Jillana</td>\n",
       "      <td>Jillana</td>\n",
       "    </tr>\n",
       "  </tbody>\n",
       "</table>\n",
       "</div>"
      ],
      "text/plain": [
       "   id         full_name date_of_date                         email  gender  \\\n",
       "0   1       Salim Pound    2/12/2018           spound0@spotify.com    Male   \n",
       "1   2    Madelene Lutas    9/20/2018                mlutas1@si.edu  Female   \n",
       "2   3  Dolli Swanbourne   11/18/2018  dswanbourne2@istockphoto.com  Female   \n",
       "3   4   Graeme Croisier    9/29/2018      gcroisier3@parallels.com    Male   \n",
       "4   5    Jillana Physic    4/19/2018       jphysic4@yellowbook.com  Female   \n",
       "\n",
       "                           job    company                 country  \\\n",
       "0                       Editor  Gigashots                  Israel   \n",
       "1                 VP Marketing     Wikivu                Mongolia   \n",
       "2          Associate Professor    Dabfeed                 Vietnam   \n",
       "3  Mechanical Systems Engineer     Trudoo  Bosnia and Herzegovina   \n",
       "4            Account Executive  Buzzshare                   China   \n",
       "\n",
       "                               salary         phone  \\\n",
       "0  19QtDp5HkyuZZqwwqzYPSSLuA7MXFCwfKL  610-741-3882   \n",
       "1  17ADLE8HiTj7m1tTbzboLDn7eiZ4TjetzZ  221-725-8860   \n",
       "2  16ThVxH72YAXWiEBeBZB1WYtXcfJMwUtoB  303-720-8280   \n",
       "3  1JLUVwmjHvxgh53C7Afie3pWbjrYxV9Fnx  673-794-9917   \n",
       "4  1DaEUNoAWL68pnvThSM5eBYgQMTv9mKyFG  709-146-6263   \n",
       "\n",
       "                                 quote        income           income.1  \\\n",
       "0         Compatible discrete leverage  46476.638080  $46476.6380809961   \n",
       "1      Grass-roots real-time algorithm  54174.687950  $54174.6879482406   \n",
       "2  Innovative system-worthy definition   5449.873348  $5449.87334818567   \n",
       "3   Customer-focused didactic extranet  46784.630880  $46784.6308786279   \n",
       "4            Progressive dynamic model  57486.495560  $57486.4955595568   \n",
       "\n",
       "     lastname Firstname firstname  \n",
       "0       Pound     Salim     Salim  \n",
       "1       Lutas  Madelene  Madelene  \n",
       "2  Swanbourne     Dolli     Dolli  \n",
       "3    Croisier    Graeme    Graeme  \n",
       "4      Physic   Jillana   Jillana  "
      ]
     },
     "execution_count": 212,
     "metadata": {},
     "output_type": "execute_result"
    }
   ],
   "source": [
    "# Joining Columns Together\n",
    "df.head()"
   ]
  },
  {
   "cell_type": "code",
   "execution_count": 213,
   "id": "1271233b-da0a-4474-8d15-7fbd053eba56",
   "metadata": {},
   "outputs": [
    {
     "data": {
      "text/plain": [
       "0                   Salimspound0@spotify.com\n",
       "1                     Madelenemlutas1@si.edu\n",
       "2          Dollidswanbourne2@istockphoto.com\n",
       "3             Graemegcroisier3@parallels.com\n",
       "4             Jillanajphysic4@yellowbook.com\n",
       "                       ...                  \n",
       "995          Williewgravestonern@typepad.com\n",
       "996        Samarasmcritchiero@wikispaces.com\n",
       "997    Jocelinejjosefowiczrp@statcounter.com\n",
       "998              Andreialestorrq@storify.com\n",
       "999        Nikkienlangtryrr@sciencedaily.com\n",
       "Length: 1000, dtype: object"
      ]
     },
     "execution_count": 213,
     "metadata": {},
     "output_type": "execute_result"
    }
   ],
   "source": [
    "# Method 1\n",
    "df.firstname + df.email"
   ]
  },
  {
   "cell_type": "code",
   "execution_count": 215,
   "id": "2831d1bc-024b-41c1-828c-7dad2826c008",
   "metadata": {},
   "outputs": [
    {
     "data": {
      "text/plain": [
       "0                   Salim_spound0@spotify.com\n",
       "1                     Madelene_mlutas1@si.edu\n",
       "2          Dolli_dswanbourne2@istockphoto.com\n",
       "3             Graeme_gcroisier3@parallels.com\n",
       "4             Jillana_jphysic4@yellowbook.com\n",
       "                        ...                  \n",
       "995          Willie_wgravestonern@typepad.com\n",
       "996        Samara_smcritchiero@wikispaces.com\n",
       "997    Joceline_jjosefowiczrp@statcounter.com\n",
       "998              Andrei_alestorrq@storify.com\n",
       "999        Nikkie_nlangtryrr@sciencedaily.com\n",
       "Length: 1000, dtype: object"
      ]
     },
     "execution_count": 215,
     "metadata": {},
     "output_type": "execute_result"
    }
   ],
   "source": [
    "# Method 1\n",
    "df.firstname +'_'+ df.email"
   ]
  },
  {
   "cell_type": "code",
   "execution_count": 216,
   "id": "794b48b5-25df-49e5-8b37-ba905378636b",
   "metadata": {},
   "outputs": [],
   "source": [
    "# Method 2\n",
    "dfall = df[['firstname','email']].apply('_'.join,axis=1)"
   ]
  },
  {
   "cell_type": "code",
   "execution_count": 217,
   "id": "d419f478-1202-4ada-9a3d-9c80757fbaef",
   "metadata": {},
   "outputs": [
    {
     "data": {
      "text/plain": [
       "0                   Salim_spound0@spotify.com\n",
       "1                     Madelene_mlutas1@si.edu\n",
       "2          Dolli_dswanbourne2@istockphoto.com\n",
       "3             Graeme_gcroisier3@parallels.com\n",
       "4             Jillana_jphysic4@yellowbook.com\n",
       "                        ...                  \n",
       "995          Willie_wgravestonern@typepad.com\n",
       "996        Samara_smcritchiero@wikispaces.com\n",
       "997    Joceline_jjosefowiczrp@statcounter.com\n",
       "998              Andrei_alestorrq@storify.com\n",
       "999        Nikkie_nlangtryrr@sciencedaily.com\n",
       "Length: 1000, dtype: object"
      ]
     },
     "execution_count": 217,
     "metadata": {},
     "output_type": "execute_result"
    }
   ],
   "source": [
    "dfall"
   ]
  },
  {
   "cell_type": "code",
   "execution_count": 218,
   "id": "36ac7c59-5b00-42aa-ae7f-d5174df3e046",
   "metadata": {},
   "outputs": [
    {
     "data": {
      "text/plain": [
       "0                  Compatible discrete leverage\n",
       "1               Grass-roots real-time algorithm\n",
       "2           Innovative system-worthy definition\n",
       "3            Customer-focused didactic extranet\n",
       "4                     Progressive dynamic model\n",
       "                         ...                   \n",
       "995      Automated content-based superstructure\n",
       "996          Proactive content-based throughput\n",
       "997              Phased transitional monitoring\n",
       "998                    Organic dynamic strategy\n",
       "999    Managed solution-oriented implementation\n",
       "Name: quote, Length: 1000, dtype: object"
      ]
     },
     "execution_count": 218,
     "metadata": {},
     "output_type": "execute_result"
    }
   ],
   "source": [
    "# Counting Stings in A Column\n",
    "df.quote"
   ]
  },
  {
   "cell_type": "code",
   "execution_count": 221,
   "id": "5ad9b51d-8736-4319-8167-d5a8b4aeb54b",
   "metadata": {},
   "outputs": [
    {
     "data": {
      "text/plain": [
       "0      3\n",
       "1      3\n",
       "2      3\n",
       "3      3\n",
       "4      3\n",
       "      ..\n",
       "995    3\n",
       "996    3\n",
       "997    3\n",
       "998    3\n",
       "999    3\n",
       "Name: quote, Length: 1000, dtype: int64"
      ]
     },
     "execution_count": 221,
     "metadata": {},
     "output_type": "execute_result"
    }
   ],
   "source": [
    "#Method 1 \n",
    "df.quote.str.count(' ') + 1"
   ]
  },
  {
   "cell_type": "code",
   "execution_count": 224,
   "id": "2d48cafd-6740-4c24-bae2-6335d4e67ed3",
   "metadata": {},
   "outputs": [
    {
     "data": {
      "text/plain": [
       "0      3\n",
       "1      3\n",
       "2      3\n",
       "3      3\n",
       "4      3\n",
       "      ..\n",
       "995    3\n",
       "996    3\n",
       "997    3\n",
       "998    3\n",
       "999    3\n",
       "Name: quote, Length: 1000, dtype: int64"
      ]
     },
     "execution_count": 224,
     "metadata": {},
     "output_type": "execute_result"
    }
   ],
   "source": [
    "# Method 2\n",
    "df.quote.str.split().str.len()"
   ]
  },
  {
   "cell_type": "code",
   "execution_count": 225,
   "id": "07887f08-6755-48ee-8135-b2666c962bd0",
   "metadata": {},
   "outputs": [
    {
     "data": {
      "text/plain": [
       "0      3\n",
       "1      3\n",
       "2      3\n",
       "3      3\n",
       "4      3\n",
       "      ..\n",
       "995    3\n",
       "996    3\n",
       "997    3\n",
       "998    3\n",
       "999    3\n",
       "Name: quote, Length: 1000, dtype: int64"
      ]
     },
     "execution_count": 225,
     "metadata": {},
     "output_type": "execute_result"
    }
   ],
   "source": [
    "# Method 3\n",
    "df.quote.str.split().map(len)"
   ]
  },
  {
   "cell_type": "code",
   "execution_count": 226,
   "id": "85834299-abda-4fd3-8a12-97d9faa2adb9",
   "metadata": {},
   "outputs": [
    {
     "data": {
      "text/plain": [
       "0      3\n",
       "1      3\n",
       "2      3\n",
       "3      3\n",
       "4      3\n",
       "      ..\n",
       "995    3\n",
       "996    3\n",
       "997    3\n",
       "998    3\n",
       "999    3\n",
       "Name: quote, Length: 1000, dtype: int64"
      ]
     },
     "execution_count": 226,
     "metadata": {},
     "output_type": "execute_result"
    }
   ],
   "source": [
    "# Method 4\n",
    "df.quote.str.split().apply(len)"
   ]
  },
  {
   "cell_type": "code",
   "execution_count": 227,
   "id": "8b9e2827-118b-4cd6-9b26-90c47b917409",
   "metadata": {},
   "outputs": [
    {
     "data": {
      "text/plain": [
       "3    744\n",
       "4    209\n",
       "5     44\n",
       "6      3\n",
       "Name: quote, dtype: int64"
      ]
     },
     "execution_count": 227,
     "metadata": {},
     "output_type": "execute_result"
    }
   ],
   "source": [
    "df.quote.str.split().apply(len).value_counts()"
   ]
  },
  {
   "cell_type": "code",
   "execution_count": null,
   "id": "2ce2dae1-bbf0-47b0-93e2-12200b14c636",
   "metadata": {},
   "outputs": [],
   "source": []
  }
 ],
 "metadata": {
  "kernelspec": {
   "display_name": "Python 3 (ipykernel)",
   "language": "python",
   "name": "python3"
  },
  "language_info": {
   "codemirror_mode": {
    "name": "ipython",
    "version": 3
   },
   "file_extension": ".py",
   "mimetype": "text/x-python",
   "name": "python",
   "nbconvert_exporter": "python",
   "pygments_lexer": "ipython3",
   "version": "3.9.7"
  }
 },
 "nbformat": 4,
 "nbformat_minor": 5
}
